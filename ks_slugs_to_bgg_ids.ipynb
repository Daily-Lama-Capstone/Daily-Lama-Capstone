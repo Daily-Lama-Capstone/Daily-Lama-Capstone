{
 "cells": [
  {
   "cell_type": "markdown",
   "metadata": {},
   "source": [
    "# Goal is to create a table that connects unique BGG ids and KS slugs"
   ]
  },
  {
   "cell_type": "markdown",
   "metadata": {},
   "source": [
    "### I get the tables from the Database"
   ]
  },
  {
   "cell_type": "code",
   "execution_count": 1,
   "metadata": {},
   "outputs": [],
   "source": [
    "import pandas as pd\n",
    "import sql_functions as sf\n",
    "import Capstone_functions as cp\n",
    "from IPython.display import clear_output\n",
    "\n",
    "engine = sf.get_engine()\n",
    " \n",
    "schema = \"bgg_data\""
   ]
  },
  {
   "cell_type": "code",
   "execution_count": 8,
   "metadata": {},
   "outputs": [],
   "source": [
    "sql = f'''SELECT * FROM {schema}.kickstarter_bgg;\n",
    "      '''\n",
    "df_ks_bgg = sf.get_dataframe(sql)"
   ]
  },
  {
   "cell_type": "code",
   "execution_count": 2,
   "metadata": {},
   "outputs": [],
   "source": [
    "sql = f'''SELECT * FROM {schema}.publisher;\n",
    "      '''\n",
    "df_publ = sf.get_dataframe(sql)"
   ]
  },
  {
   "cell_type": "code",
   "execution_count": 30,
   "metadata": {},
   "outputs": [],
   "source": [
    "sql = f'''SELECT * FROM {schema}.unique_publisher;\n",
    "      '''\n",
    "df_upubl = sf.get_dataframe(sql)"
   ]
  },
  {
   "cell_type": "code",
   "execution_count": 3,
   "metadata": {},
   "outputs": [],
   "source": [
    "sql = f'''SELECT * FROM {schema}.designer;\n",
    "      '''\n",
    "df_designer = sf.get_dataframe(sql)"
   ]
  },
  {
   "cell_type": "code",
   "execution_count": 26,
   "metadata": {},
   "outputs": [],
   "source": [
    "sql = f'''SELECT * FROM {schema}.unique_designer;\n",
    "      '''\n",
    "df_udesigner = sf.get_dataframe(sql)"
   ]
  },
  {
   "cell_type": "markdown",
   "metadata": {},
   "source": [
    "### I merge again the publisher and designer tables to uniques to get publisher and designer names"
   ]
  },
  {
   "cell_type": "code",
   "execution_count": 31,
   "metadata": {},
   "outputs": [],
   "source": [
    "df_publisher_complete = pd.merge(df_publ,df_upubl,on='publisher_id')\n",
    "df_designer_complete = pd.merge(df_designer,df_udesigner,on='designer_id')"
   ]
  },
  {
   "cell_type": "code",
   "execution_count": 32,
   "metadata": {},
   "outputs": [
    {
     "data": {
      "text/html": [
       "<div>\n",
       "<style scoped>\n",
       "    .dataframe tbody tr th:only-of-type {\n",
       "        vertical-align: middle;\n",
       "    }\n",
       "\n",
       "    .dataframe tbody tr th {\n",
       "        vertical-align: top;\n",
       "    }\n",
       "\n",
       "    .dataframe thead th {\n",
       "        text-align: right;\n",
       "    }\n",
       "</style>\n",
       "<table border=\"1\" class=\"dataframe\">\n",
       "  <thead>\n",
       "    <tr style=\"text-align: right;\">\n",
       "      <th></th>\n",
       "      <th>id</th>\n",
       "      <th>designer_id</th>\n",
       "      <th>designer</th>\n",
       "    </tr>\n",
       "  </thead>\n",
       "  <tbody>\n",
       "    <tr>\n",
       "      <th>0</th>\n",
       "      <td>98401</td>\n",
       "      <td>42353</td>\n",
       "      <td>Sean Howard</td>\n",
       "    </tr>\n",
       "    <tr>\n",
       "      <th>1</th>\n",
       "      <td>98377</td>\n",
       "      <td>42353</td>\n",
       "      <td>Sean Howard</td>\n",
       "    </tr>\n",
       "    <tr>\n",
       "      <th>2</th>\n",
       "      <td>203170</td>\n",
       "      <td>42353</td>\n",
       "      <td>Sean Howard</td>\n",
       "    </tr>\n",
       "    <tr>\n",
       "      <th>3</th>\n",
       "      <td>157435</td>\n",
       "      <td>42353</td>\n",
       "      <td>Sean Howard</td>\n",
       "    </tr>\n",
       "    <tr>\n",
       "      <th>4</th>\n",
       "      <td>98868</td>\n",
       "      <td>42353</td>\n",
       "      <td>Sean Howard</td>\n",
       "    </tr>\n",
       "    <tr>\n",
       "      <th>...</th>\n",
       "      <td>...</td>\n",
       "      <td>...</td>\n",
       "      <td>...</td>\n",
       "    </tr>\n",
       "    <tr>\n",
       "      <th>147944</th>\n",
       "      <td>298137</td>\n",
       "      <td>123647</td>\n",
       "      <td>Elliot Kruszynski</td>\n",
       "    </tr>\n",
       "    <tr>\n",
       "      <th>147945</th>\n",
       "      <td>298176</td>\n",
       "      <td>123548</td>\n",
       "      <td>David M Palmquist</td>\n",
       "    </tr>\n",
       "    <tr>\n",
       "      <th>147946</th>\n",
       "      <td>298176</td>\n",
       "      <td>123549</td>\n",
       "      <td>Joyce Stallfort Williamson</td>\n",
       "    </tr>\n",
       "    <tr>\n",
       "      <th>147947</th>\n",
       "      <td>298191</td>\n",
       "      <td>123709</td>\n",
       "      <td>Carlos Guevara Moscol</td>\n",
       "    </tr>\n",
       "    <tr>\n",
       "      <th>147948</th>\n",
       "      <td>298191</td>\n",
       "      <td>123707</td>\n",
       "      <td>David Vilchez García</td>\n",
       "    </tr>\n",
       "  </tbody>\n",
       "</table>\n",
       "<p>147949 rows × 3 columns</p>\n",
       "</div>"
      ],
      "text/plain": [
       "            id  designer_id                    designer\n",
       "0        98401        42353                 Sean Howard\n",
       "1        98377        42353                 Sean Howard\n",
       "2       203170        42353                 Sean Howard\n",
       "3       157435        42353                 Sean Howard\n",
       "4        98868        42353                 Sean Howard\n",
       "...        ...          ...                         ...\n",
       "147944  298137       123647           Elliot Kruszynski\n",
       "147945  298176       123548           David M Palmquist\n",
       "147946  298176       123549  Joyce Stallfort Williamson\n",
       "147947  298191       123709       Carlos Guevara Moscol\n",
       "147948  298191       123707        David Vilchez García\n",
       "\n",
       "[147949 rows x 3 columns]"
      ]
     },
     "execution_count": 32,
     "metadata": {},
     "output_type": "execute_result"
    }
   ],
   "source": [
    "df_designer_complete"
   ]
  },
  {
   "cell_type": "code",
   "execution_count": 33,
   "metadata": {},
   "outputs": [],
   "source": [
    "df_publisher_designer_complete = pd.merge(df_publisher_complete, df_designer_complete, on='id',how='outer')"
   ]
  },
  {
   "cell_type": "markdown",
   "metadata": {},
   "source": [
    "### Here I drop some columns, that I don't need for this cleaning task"
   ]
  },
  {
   "cell_type": "code",
   "execution_count": 34,
   "metadata": {},
   "outputs": [],
   "source": [
    "df_publisher_designer_complete.drop(['publisher_id','designer_id'],inplace=True,axis=1)"
   ]
  },
  {
   "cell_type": "code",
   "execution_count": 35,
   "metadata": {},
   "outputs": [
    {
     "data": {
      "text/html": [
       "<div>\n",
       "<style scoped>\n",
       "    .dataframe tbody tr th:only-of-type {\n",
       "        vertical-align: middle;\n",
       "    }\n",
       "\n",
       "    .dataframe tbody tr th {\n",
       "        vertical-align: top;\n",
       "    }\n",
       "\n",
       "    .dataframe thead th {\n",
       "        text-align: right;\n",
       "    }\n",
       "</style>\n",
       "<table border=\"1\" class=\"dataframe\">\n",
       "  <thead>\n",
       "    <tr style=\"text-align: right;\">\n",
       "      <th></th>\n",
       "      <th>id</th>\n",
       "      <th>publisher_name</th>\n",
       "      <th>designer</th>\n",
       "    </tr>\n",
       "  </thead>\n",
       "  <tbody>\n",
       "    <tr>\n",
       "      <th>0</th>\n",
       "      <td>98401</td>\n",
       "      <td>The Game Crafter, LLC</td>\n",
       "      <td>Sean Howard</td>\n",
       "    </tr>\n",
       "    <tr>\n",
       "      <th>1</th>\n",
       "      <td>98401</td>\n",
       "      <td>Knight's Crest Games</td>\n",
       "      <td>Sean Howard</td>\n",
       "    </tr>\n",
       "    <tr>\n",
       "      <th>2</th>\n",
       "      <td>173051</td>\n",
       "      <td>The Game Crafter, LLC</td>\n",
       "      <td>Michael Cofer</td>\n",
       "    </tr>\n",
       "    <tr>\n",
       "      <th>3</th>\n",
       "      <td>173120</td>\n",
       "      <td>The Game Crafter, LLC</td>\n",
       "      <td>Topias Uotila</td>\n",
       "    </tr>\n",
       "    <tr>\n",
       "      <th>4</th>\n",
       "      <td>173120</td>\n",
       "      <td>(Web published)</td>\n",
       "      <td>Topias Uotila</td>\n",
       "    </tr>\n",
       "    <tr>\n",
       "      <th>...</th>\n",
       "      <td>...</td>\n",
       "      <td>...</td>\n",
       "      <td>...</td>\n",
       "    </tr>\n",
       "    <tr>\n",
       "      <th>267493</th>\n",
       "      <td>333565</td>\n",
       "      <td>NaN</td>\n",
       "      <td>Ryan Hitt</td>\n",
       "    </tr>\n",
       "    <tr>\n",
       "      <th>267494</th>\n",
       "      <td>302660</td>\n",
       "      <td>NaN</td>\n",
       "      <td>Leonice Brown-Young Jr</td>\n",
       "    </tr>\n",
       "    <tr>\n",
       "      <th>267495</th>\n",
       "      <td>255206</td>\n",
       "      <td>NaN</td>\n",
       "      <td>Estefania Rodriguez</td>\n",
       "    </tr>\n",
       "    <tr>\n",
       "      <th>267496</th>\n",
       "      <td>60517</td>\n",
       "      <td>NaN</td>\n",
       "      <td>Peter Keuls</td>\n",
       "    </tr>\n",
       "    <tr>\n",
       "      <th>267497</th>\n",
       "      <td>208179</td>\n",
       "      <td>NaN</td>\n",
       "      <td>Filip Baranowski</td>\n",
       "    </tr>\n",
       "  </tbody>\n",
       "</table>\n",
       "<p>267498 rows × 3 columns</p>\n",
       "</div>"
      ],
      "text/plain": [
       "            id         publisher_name                designer\n",
       "0        98401  The Game Crafter, LLC             Sean Howard\n",
       "1        98401   Knight's Crest Games             Sean Howard\n",
       "2       173051  The Game Crafter, LLC           Michael Cofer\n",
       "3       173120  The Game Crafter, LLC           Topias Uotila\n",
       "4       173120        (Web published)           Topias Uotila\n",
       "...        ...                    ...                     ...\n",
       "267493  333565                    NaN               Ryan Hitt\n",
       "267494  302660                    NaN  Leonice Brown-Young Jr\n",
       "267495  255206                    NaN     Estefania Rodriguez\n",
       "267496   60517                    NaN             Peter Keuls\n",
       "267497  208179                    NaN        Filip Baranowski\n",
       "\n",
       "[267498 rows x 3 columns]"
      ]
     },
     "execution_count": 35,
     "metadata": {},
     "output_type": "execute_result"
    }
   ],
   "source": [
    "df_publisher_designer_complete"
   ]
  },
  {
   "cell_type": "markdown",
   "metadata": {},
   "source": [
    "## BGG-ids and KS-slugs"
   ]
  },
  {
   "cell_type": "markdown",
   "metadata": {},
   "source": [
    "I first identifiy the unique relationship between BGG ids and KS slugs"
   ]
  },
  {
   "cell_type": "code",
   "execution_count": 36,
   "metadata": {},
   "outputs": [],
   "source": [
    "df_ks_bgg_unique_slugs = df_ks_bgg[['slug','bgg_id']].drop_duplicates()"
   ]
  },
  {
   "cell_type": "code",
   "execution_count": 37,
   "metadata": {},
   "outputs": [
    {
     "data": {
      "text/html": [
       "<div>\n",
       "<style scoped>\n",
       "    .dataframe tbody tr th:only-of-type {\n",
       "        vertical-align: middle;\n",
       "    }\n",
       "\n",
       "    .dataframe tbody tr th {\n",
       "        vertical-align: top;\n",
       "    }\n",
       "\n",
       "    .dataframe thead th {\n",
       "        text-align: right;\n",
       "    }\n",
       "</style>\n",
       "<table border=\"1\" class=\"dataframe\">\n",
       "  <thead>\n",
       "    <tr style=\"text-align: right;\">\n",
       "      <th></th>\n",
       "      <th>slug</th>\n",
       "      <th>bgg_id</th>\n",
       "    </tr>\n",
       "  </thead>\n",
       "  <tbody>\n",
       "    <tr>\n",
       "      <th>0</th>\n",
       "      <td>relic</td>\n",
       "      <td>128442</td>\n",
       "    </tr>\n",
       "    <tr>\n",
       "      <th>1</th>\n",
       "      <td>stormsunder-heirs-of-ruin</td>\n",
       "      <td>302679</td>\n",
       "    </tr>\n",
       "    <tr>\n",
       "      <th>2</th>\n",
       "      <td>crazy-taco</td>\n",
       "      <td>289397</td>\n",
       "    </tr>\n",
       "    <tr>\n",
       "      <th>3</th>\n",
       "      <td>fray</td>\n",
       "      <td>303430</td>\n",
       "    </tr>\n",
       "    <tr>\n",
       "      <th>4</th>\n",
       "      <td>doomsday-bots</td>\n",
       "      <td>253683</td>\n",
       "    </tr>\n",
       "    <tr>\n",
       "      <th>...</th>\n",
       "      <td>...</td>\n",
       "      <td>...</td>\n",
       "    </tr>\n",
       "    <tr>\n",
       "      <th>8807</th>\n",
       "      <td>roll-camera-the-filmmaking-board-game</td>\n",
       "      <td>298102</td>\n",
       "    </tr>\n",
       "    <tr>\n",
       "      <th>8810</th>\n",
       "      <td>dark-venture-battle-of-the-ancients</td>\n",
       "      <td>298163</td>\n",
       "    </tr>\n",
       "    <tr>\n",
       "      <th>8811</th>\n",
       "      <td>dilemma</td>\n",
       "      <td>244239</td>\n",
       "    </tr>\n",
       "    <tr>\n",
       "      <th>8813</th>\n",
       "      <td>rhetorical-oracle-0</td>\n",
       "      <td>298189</td>\n",
       "    </tr>\n",
       "    <tr>\n",
       "      <th>8814</th>\n",
       "      <td>beezarre-games-fox-on-the-run</td>\n",
       "      <td>298193</td>\n",
       "    </tr>\n",
       "  </tbody>\n",
       "</table>\n",
       "<p>5322 rows × 2 columns</p>\n",
       "</div>"
      ],
      "text/plain": [
       "                                       slug  bgg_id\n",
       "0                                     relic  128442\n",
       "1                 stormsunder-heirs-of-ruin  302679\n",
       "2                                crazy-taco  289397\n",
       "3                                      fray  303430\n",
       "4                             doomsday-bots  253683\n",
       "...                                     ...     ...\n",
       "8807  roll-camera-the-filmmaking-board-game  298102\n",
       "8810    dark-venture-battle-of-the-ancients  298163\n",
       "8811                                dilemma  244239\n",
       "8813                    rhetorical-oracle-0  298189\n",
       "8814          beezarre-games-fox-on-the-run  298193\n",
       "\n",
       "[5322 rows x 2 columns]"
      ]
     },
     "execution_count": 37,
     "metadata": {},
     "output_type": "execute_result"
    }
   ],
   "source": [
    "df_ks_bgg_unique_slugs # I get 5322 rows"
   ]
  },
  {
   "cell_type": "markdown",
   "metadata": {},
   "source": [
    "Using the groupby attribute I count how many ids has each unique slug. The goal is to assign to a slug only one BGG id."
   ]
  },
  {
   "cell_type": "code",
   "execution_count": 39,
   "metadata": {},
   "outputs": [],
   "source": [
    "df_slug_count = df_ks_bgg_unique_slugs.groupby('slug').count()"
   ]
  },
  {
   "cell_type": "code",
   "execution_count": 40,
   "metadata": {},
   "outputs": [
    {
     "data": {
      "text/html": [
       "<div>\n",
       "<style scoped>\n",
       "    .dataframe tbody tr th:only-of-type {\n",
       "        vertical-align: middle;\n",
       "    }\n",
       "\n",
       "    .dataframe tbody tr th {\n",
       "        vertical-align: top;\n",
       "    }\n",
       "\n",
       "    .dataframe thead th {\n",
       "        text-align: right;\n",
       "    }\n",
       "</style>\n",
       "<table border=\"1\" class=\"dataframe\">\n",
       "  <thead>\n",
       "    <tr style=\"text-align: right;\">\n",
       "      <th></th>\n",
       "      <th>bgg_id</th>\n",
       "    </tr>\n",
       "    <tr>\n",
       "      <th>slug</th>\n",
       "      <th></th>\n",
       "    </tr>\n",
       "  </thead>\n",
       "  <tbody>\n",
       "    <tr>\n",
       "      <th>robin-hood</th>\n",
       "      <td>14</td>\n",
       "    </tr>\n",
       "    <tr>\n",
       "      <th>speculation</th>\n",
       "      <td>10</td>\n",
       "    </tr>\n",
       "    <tr>\n",
       "      <th>totem-1</th>\n",
       "      <td>10</td>\n",
       "    </tr>\n",
       "    <tr>\n",
       "      <th>jackpot-1</th>\n",
       "      <td>9</td>\n",
       "    </tr>\n",
       "    <tr>\n",
       "      <th>treasure-island-1</th>\n",
       "      <td>9</td>\n",
       "    </tr>\n",
       "    <tr>\n",
       "      <th>...</th>\n",
       "      <td>...</td>\n",
       "    </tr>\n",
       "    <tr>\n",
       "      <th>fossilis</th>\n",
       "      <td>1</td>\n",
       "    </tr>\n",
       "    <tr>\n",
       "      <th>foundations</th>\n",
       "      <td>1</td>\n",
       "    </tr>\n",
       "    <tr>\n",
       "      <th>foundations-of-rome</th>\n",
       "      <td>1</td>\n",
       "    </tr>\n",
       "    <tr>\n",
       "      <th>founders-of-gloomhaven</th>\n",
       "      <td>1</td>\n",
       "    </tr>\n",
       "    <tr>\n",
       "      <th>zpocalypse-2-defend-the-burbs</th>\n",
       "      <td>1</td>\n",
       "    </tr>\n",
       "  </tbody>\n",
       "</table>\n",
       "<p>4743 rows × 1 columns</p>\n",
       "</div>"
      ],
      "text/plain": [
       "                               bgg_id\n",
       "slug                                 \n",
       "robin-hood                         14\n",
       "speculation                        10\n",
       "totem-1                            10\n",
       "jackpot-1                           9\n",
       "treasure-island-1                   9\n",
       "...                               ...\n",
       "fossilis                            1\n",
       "foundations                         1\n",
       "foundations-of-rome                 1\n",
       "founders-of-gloomhaven              1\n",
       "zpocalypse-2-defend-the-burbs       1\n",
       "\n",
       "[4743 rows x 1 columns]"
      ]
     },
     "execution_count": 40,
     "metadata": {},
     "output_type": "execute_result"
    }
   ],
   "source": [
    "df_slug_count.sort_values('bgg_id',ascending=False) # There are some KS slugs with more BGG id"
   ]
  },
  {
   "cell_type": "markdown",
   "metadata": {},
   "source": [
    "## Filter slugs with more than 1 BGG Id"
   ]
  },
  {
   "cell_type": "code",
   "execution_count": 41,
   "metadata": {},
   "outputs": [],
   "source": [
    "mask = df_slug_count['bgg_id'] > 1"
   ]
  },
  {
   "cell_type": "code",
   "execution_count": 42,
   "metadata": {},
   "outputs": [],
   "source": [
    "df_slug_count_filt = df_slug_count.loc[mask,:]"
   ]
  },
  {
   "cell_type": "code",
   "execution_count": 43,
   "metadata": {},
   "outputs": [
    {
     "data": {
      "text/html": [
       "<div>\n",
       "<style scoped>\n",
       "    .dataframe tbody tr th:only-of-type {\n",
       "        vertical-align: middle;\n",
       "    }\n",
       "\n",
       "    .dataframe tbody tr th {\n",
       "        vertical-align: top;\n",
       "    }\n",
       "\n",
       "    .dataframe thead th {\n",
       "        text-align: right;\n",
       "    }\n",
       "</style>\n",
       "<table border=\"1\" class=\"dataframe\">\n",
       "  <thead>\n",
       "    <tr style=\"text-align: right;\">\n",
       "      <th></th>\n",
       "      <th>bgg_id</th>\n",
       "    </tr>\n",
       "    <tr>\n",
       "      <th>slug</th>\n",
       "      <th></th>\n",
       "    </tr>\n",
       "  </thead>\n",
       "  <tbody>\n",
       "    <tr>\n",
       "      <th>2-kings-relaunch</th>\n",
       "      <td>2</td>\n",
       "    </tr>\n",
       "    <tr>\n",
       "      <th>2kings</th>\n",
       "      <td>2</td>\n",
       "    </tr>\n",
       "    <tr>\n",
       "      <th>4-letter-words</th>\n",
       "      <td>2</td>\n",
       "    </tr>\n",
       "    <tr>\n",
       "      <th>9-lives</th>\n",
       "      <td>2</td>\n",
       "    </tr>\n",
       "    <tr>\n",
       "      <th>adorable-monsters</th>\n",
       "      <td>2</td>\n",
       "    </tr>\n",
       "    <tr>\n",
       "      <th>...</th>\n",
       "      <td>...</td>\n",
       "    </tr>\n",
       "    <tr>\n",
       "      <th>witchs-brew</th>\n",
       "      <td>2</td>\n",
       "    </tr>\n",
       "    <tr>\n",
       "      <th>wordos</th>\n",
       "      <td>2</td>\n",
       "    </tr>\n",
       "    <tr>\n",
       "      <th>world-cup</th>\n",
       "      <td>4</td>\n",
       "    </tr>\n",
       "    <tr>\n",
       "      <th>xerxes</th>\n",
       "      <td>2</td>\n",
       "    </tr>\n",
       "    <tr>\n",
       "      <th>yucatan</th>\n",
       "      <td>3</td>\n",
       "    </tr>\n",
       "  </tbody>\n",
       "</table>\n",
       "<p>325 rows × 1 columns</p>\n",
       "</div>"
      ],
      "text/plain": [
       "                   bgg_id\n",
       "slug                     \n",
       "2-kings-relaunch        2\n",
       "2kings                  2\n",
       "4-letter-words          2\n",
       "9-lives                 2\n",
       "adorable-monsters       2\n",
       "...                   ...\n",
       "witchs-brew             2\n",
       "wordos                  2\n",
       "world-cup               4\n",
       "xerxes                  2\n",
       "yucatan                 3\n",
       "\n",
       "[325 rows x 1 columns]"
      ]
     },
     "execution_count": 43,
     "metadata": {},
     "output_type": "execute_result"
    }
   ],
   "source": [
    "df_slug_count_filt # 325 slugs have more then one BGG id"
   ]
  },
  {
   "cell_type": "code",
   "execution_count": 44,
   "metadata": {},
   "outputs": [],
   "source": [
    "df_slug_count_filt = df_slug_count_filt.reset_index()"
   ]
  },
  {
   "cell_type": "code",
   "execution_count": 45,
   "metadata": {},
   "outputs": [],
   "source": [
    "slugs_to_control = df_slug_count_filt['slug']"
   ]
  },
  {
   "cell_type": "markdown",
   "metadata": {},
   "source": [
    "I create a Pandas Series with only the slugs name that have more than one BGG Id assigned."
   ]
  },
  {
   "cell_type": "code",
   "execution_count": 46,
   "metadata": {},
   "outputs": [
    {
     "data": {
      "text/plain": [
       "0       2-kings-relaunch\n",
       "1                 2kings\n",
       "2         4-letter-words\n",
       "3                9-lives\n",
       "4      adorable-monsters\n",
       "             ...        \n",
       "320          witchs-brew\n",
       "321               wordos\n",
       "322            world-cup\n",
       "323               xerxes\n",
       "324              yucatan\n",
       "Name: slug, Length: 325, dtype: object"
      ]
     },
     "execution_count": 46,
     "metadata": {},
     "output_type": "execute_result"
    }
   ],
   "source": [
    "slugs_to_control"
   ]
  },
  {
   "cell_type": "markdown",
   "metadata": {},
   "source": [
    "## Manually check the multiple BGG ids for each KS slug"
   ]
  },
  {
   "cell_type": "markdown",
   "metadata": {},
   "source": [
    "I have to create first a dataframe that connects the KS values to BGG publishers and designers"
   ]
  },
  {
   "cell_type": "code",
   "execution_count": 64,
   "metadata": {},
   "outputs": [],
   "source": [
    "df_ks_creator = pd.merge(df_ks_bgg,df_publisher_designer_complete,left_on='bgg_id',right_on='id')"
   ]
  },
  {
   "cell_type": "code",
   "execution_count": 65,
   "metadata": {},
   "outputs": [],
   "source": [
    "df_ks_creator_filter = df_ks_creator[['bgg_id','game_name','slug','creator_name','publisher_name','designer']] # I need only some columns"
   ]
  },
  {
   "cell_type": "markdown",
   "metadata": {},
   "source": [
    "I iterate through the list of KS slugs that have more than one BGG id assigned.\n",
    "For each step I show the dataframe that connect the KS slugs to BGG id, publisher and designers.\n",
    "You have to enter the row id for the correct BGG id.\n",
    "There results will be stored in a dictionary with KS slug as key and selected BGG id as value"
   ]
  },
  {
   "cell_type": "code",
   "execution_count": 148,
   "metadata": {},
   "outputs": [
    {
     "ename": "StopIteration",
     "evalue": "",
     "output_type": "error",
     "traceback": [
      "\u001b[0;31m---------------------------------------------------------------------------\u001b[0m",
      "\u001b[0;31mStopIteration\u001b[0m                             Traceback (most recent call last)",
      "\u001b[1;32m/Users/salvatore/neuefische/capstone-project/Daily-Lama-Capstone/bgg_successful.ipynb Cell 24'\u001b[0m in \u001b[0;36m<cell line: 6>\u001b[0;34m()\u001b[0m\n\u001b[1;32m      <a href='vscode-notebook-cell:/Users/salvatore/neuefische/capstone-project/Daily-Lama-Capstone/bgg_successful.ipynb#ch0000028?line=3'>4</a>\u001b[0m cleaning_dict \u001b[39m=\u001b[39m \u001b[39mdict\u001b[39m()\n\u001b[1;32m      <a href='vscode-notebook-cell:/Users/salvatore/neuefische/capstone-project/Daily-Lama-Capstone/bgg_successful.ipynb#ch0000028?line=5'>6</a>\u001b[0m \u001b[39mwhile\u001b[39;00m choice \u001b[39m!=\u001b[39m \u001b[39m\"\u001b[39m\u001b[39mexit\u001b[39m\u001b[39m\"\u001b[39m: \n\u001b[0;32m----> <a href='vscode-notebook-cell:/Users/salvatore/neuefische/capstone-project/Daily-Lama-Capstone/bgg_successful.ipynb#ch0000028?line=6'>7</a>\u001b[0m     mask_check \u001b[39m=\u001b[39m df_ks_creator_filter[\u001b[39m\"\u001b[39m\u001b[39mslug\u001b[39m\u001b[39m\"\u001b[39m]\u001b[39m.\u001b[39misin([\u001b[39mnext\u001b[39;49m(slug_iter)])\n\u001b[1;32m      <a href='vscode-notebook-cell:/Users/salvatore/neuefische/capstone-project/Daily-Lama-Capstone/bgg_successful.ipynb#ch0000028?line=7'>8</a>\u001b[0m     display(df_ks_creator_filter\u001b[39m.\u001b[39mloc[mask_check, :]\u001b[39m.\u001b[39mreset_index())\n\u001b[1;32m     <a href='vscode-notebook-cell:/Users/salvatore/neuefische/capstone-project/Daily-Lama-Capstone/bgg_successful.ipynb#ch0000028?line=9'>10</a>\u001b[0m     choice \u001b[39m=\u001b[39m \u001b[39minput\u001b[39m(\u001b[39m\"\u001b[39m\u001b[39mWhat would you like to do\u001b[39m\u001b[39m\"\u001b[39m)\n",
      "\u001b[0;31mStopIteration\u001b[0m: "
     ]
    }
   ],
   "source": [
    "slug_iter = iter(slugs_to_control)\n",
    "i = 0\n",
    "choice = \"\"\n",
    "cleaning_dict = dict()\n",
    "\n",
    "while choice != \"exit\": \n",
    "    mask_check = df_ks_creator_filter[\"slug\"].isin([next(slug_iter)])\n",
    "    display(df_ks_creator_filter.loc[mask_check, :].reset_index())\n",
    "    \n",
    "    choice = input(\"select the row with the correct BGG ID\")\n",
    "    if choice.isnumeric():\n",
    "        cleaning_dict[next(slug_iter)] = df_ks_creator_filter.loc[mask_check, :].iat[int(choice),0] \n",
    "\n",
    "    clear_output(wait=True)    "
   ]
  },
  {
   "cell_type": "markdown",
   "metadata": {},
   "source": [
    "### Here are the saved dictionary with the saved manual BGG ids/KS Slugs pairs"
   ]
  },
  {
   "cell_type": "code",
   "execution_count": null,
   "metadata": {},
   "outputs": [],
   "source": [
    "cleaning_dict_save = {\n",
    " '2kings': 319727,\n",
    " '9-lives': 267618,\n",
    " 'adorable-monsters-0': 231388,\n",
    " 'aftermath-5': 231388,\n",
    " 'alibi': 209538,\n",
    " 'aurora-2': 134567,\n",
    " 'baby-blues': 348554,\n",
    " 'battle-of-thermopylae': 204003,\n",
    " 'bingo-dice': 217430,\n",
    " 'black-swan-0': 301946,\n",
    " 'cabal': 255928,\n",
    " 'cancan': 284646,\n",
    " 'cash': 290236,\n",
    " 'catacombs-0': 150485,\n",
    " 'charge': 331747,\n",
    " 'conan': 264982,\n",
    " 'conspiracy-theory': 176306,\n",
    " 'crack-the-code': 197944,\n",
    " 'crimes-in-history-h-h-holmes-murder-castle': 266937,\n",
    " 'cube-0': 250442,\n",
    " 'cursed-0': 329002,\n",
    " 'dear-leader': 98443,\n",
    " 'dice-towers': 173059,\n",
    " 'dilemma': 325491,\n",
    " 'dive-1': 221194,\n",
    " 'domination': 158435,\n",
    " 'dragons-hoard': 157083,\n",
    " 'dungeon-escape': 310636,\n",
    " 'dynamite': 193483,\n",
    " 'elevator-0': 191199,\n",
    " 'endangered-1': 220133,\n",
    " 'exploration': 155703,\n",
    " 'face-to-face': 233673,\n",
    " 'filibuster-0': 229836,\n",
    " 'four-2': 184672,\n",
    " 'freedom-4': 348303,\n",
    " 'galaxy-command': 197443,\n",
    " 'giant-0': 282475,\n",
    " 'give-and-take-0': 254498,\n",
    " 'glory-0': 229714,\n",
    " 'glyph-1': 226835,\n",
    " 'greed': 317118,\n",
    " 'gulp': 256317,\n",
    " 'hammers-and-anvils': 290795,\n",
    " 'high-noon-reloaded': 274442,\n",
    " 'historia': 254888,\n",
    " 'hyperspace': 318185,\n",
    " 'import-export': 348602,\n",
    " 'inferno-4': 207310,\n",
    " 'jabberwocky-0': 136385,\n",
    " 'jungla': 135835,\n",
    " 'kaos-0': 98350,\n",
    " 'lancer': 288605,\n",
    " 'leviathan': 244506,\n",
    " 'maharaja': 202667,\n",
    " 'matches': 148074,\n",
    " 'medieval': 46,\n",
    " 'megalomania': 322549,\n",
    " 'monkey-business': 165020,\n",
    " 'monster-combat': 152868,\n",
    " 'monster-mania': 236885,\n",
    " 'monster-trap': 143520,\n",
    " 'napoleon-0': 260228,\n",
    " 'on-the-rocks-3': 286294,\n",
    " 'onslaught-0': 269418,\n",
    " 'overlord-a-boss-monster-adventure': 245060,\n",
    " 'papillon': 216013,\n",
    " 'paris-0': 241066,\n",
    " 'pirate-attack-2': 198077,\n",
    " 'planetarium': 309665,\n",
    " 'pocket-landship': 232201,\n",
    " 'prism-1': 249500,\n",
    " 'project-elite': 145496,\n",
    " 'quarantine-0': 256999,\n",
    " 'realm-0': 312959,\n",
    " 'regency': 320294,\n",
    " 'reload': 307002,\n",
    " 'ritual': 170604,\n",
    " 'royalty-0': 258137,\n",
    " 'rumble-0': 276856,\n",
    " 'russian-and-roulette-the-edge-of-your-seat-dice-ga': 118315,\n",
    " 'sakura': 252854,\n",
    " 'serpents': 295126,\n",
    " 'shelter-0': 274157,\n",
    " 'shiver-me-timbers-0': 239175,\n",
    " 'snapshot-0': 176071,\n",
    " 'space-time': 175510,\n",
    " 'spin-2': 1036,\n",
    " 'starlight-2': 193577,\n",
    " 'super-chess': 184439,\n",
    " 'sweet-tooth': 336120,\n",
    " 'the-battle-of-armageddon': 236250,\n",
    " 'the-brain-game': 226445,\n",
    " 'the-great-debate': 159492,\n",
    " 'the-marble-game': 173105,\n",
    " 'the-road-a-solo-card-game-of-survival': 229223,\n",
    " 'the-wonderful-wizard-of-oz': 313016,\n",
    " 'this-war-without-an-enemy': 30869,\n",
    " 'titan-0': 250725,\n",
    " 'tontine-0': 188301,\n",
    " 'tortuga-2199': 153939,\n",
    " 'treasure-hunter': 316335,\n",
    " 'vabanque': 179172,\n",
    " 'victory-in-europe': 145872,\n",
    " 'virus-2': 265369,\n",
    " 'werewolf': 262543,\n",
    " 'wild-cards': 230769,\n",
    " 'yucatan': 259501\n",
    "}"
   ]
  },
  {
   "cell_type": "code",
   "execution_count": 47,
   "metadata": {},
   "outputs": [
    {
     "ename": "NameError",
     "evalue": "name 'cleaning_dict' is not defined",
     "output_type": "error",
     "traceback": [
      "\u001b[0;31m---------------------------------------------------------------------------\u001b[0m",
      "\u001b[0;31mNameError\u001b[0m                                 Traceback (most recent call last)",
      "\u001b[1;32m/Users/salvatore/neuefische/capstone-project/Daily-Lama-Capstone/ks_slugs_to_bgg_ids.ipynb Cell 39'\u001b[0m in \u001b[0;36m<cell line: 1>\u001b[0;34m()\u001b[0m\n\u001b[0;32m----> <a href='vscode-notebook-cell:/Users/salvatore/neuefische/capstone-project/Daily-Lama-Capstone/ks_slugs_to_bgg_ids.ipynb#ch0000036?line=0'>1</a>\u001b[0m bggidks_slugs_manual \u001b[39m=\u001b[39m cleaning_dict\u001b[39m.\u001b[39mcopy()\n",
      "\u001b[0;31mNameError\u001b[0m: name 'cleaning_dict' is not defined"
     ]
    }
   ],
   "source": [
    "bggidks_slugs_manual = cleaning_dict.copy()"
   ]
  },
  {
   "cell_type": "code",
   "execution_count": 48,
   "metadata": {},
   "outputs": [
    {
     "ename": "NameError",
     "evalue": "name 'bggidks_slugs_manual' is not defined",
     "output_type": "error",
     "traceback": [
      "\u001b[0;31m---------------------------------------------------------------------------\u001b[0m",
      "\u001b[0;31mNameError\u001b[0m                                 Traceback (most recent call last)",
      "\u001b[1;32m/Users/salvatore/neuefische/capstone-project/Daily-Lama-Capstone/ks_slugs_to_bgg_ids.ipynb Cell 40'\u001b[0m in \u001b[0;36m<cell line: 1>\u001b[0;34m()\u001b[0m\n\u001b[0;32m----> <a href='vscode-notebook-cell:/Users/salvatore/neuefische/capstone-project/Daily-Lama-Capstone/ks_slugs_to_bgg_ids.ipynb#ch0000037?line=0'>1</a>\u001b[0m bggidks_slugs_manual\n",
      "\u001b[0;31mNameError\u001b[0m: name 'bggidks_slugs_manual' is not defined"
     ]
    }
   ],
   "source": [
    "bggidks_slugs_manual"
   ]
  },
  {
   "cell_type": "markdown",
   "metadata": {},
   "source": [
    "## Concat the dictionary values with the KS-slugs and BGG-ids table"
   ]
  },
  {
   "cell_type": "code",
   "execution_count": 49,
   "metadata": {},
   "outputs": [],
   "source": [
    "mask = ~df_ks_bgg_unique_slugs['slug'].isin(slugs_to_control) # ~ invert the bool values\n",
    "\n",
    "df_ks_bgg_unique_slugs_only = df_ks_bgg_unique_slugs.loc[mask,:]"
   ]
  },
  {
   "cell_type": "code",
   "execution_count": 50,
   "metadata": {},
   "outputs": [
    {
     "data": {
      "text/html": [
       "<div>\n",
       "<style scoped>\n",
       "    .dataframe tbody tr th:only-of-type {\n",
       "        vertical-align: middle;\n",
       "    }\n",
       "\n",
       "    .dataframe tbody tr th {\n",
       "        vertical-align: top;\n",
       "    }\n",
       "\n",
       "    .dataframe thead th {\n",
       "        text-align: right;\n",
       "    }\n",
       "</style>\n",
       "<table border=\"1\" class=\"dataframe\">\n",
       "  <thead>\n",
       "    <tr style=\"text-align: right;\">\n",
       "      <th></th>\n",
       "      <th>slug</th>\n",
       "      <th>bgg_id</th>\n",
       "    </tr>\n",
       "  </thead>\n",
       "  <tbody>\n",
       "    <tr>\n",
       "      <th>0</th>\n",
       "      <td>relic</td>\n",
       "      <td>128442</td>\n",
       "    </tr>\n",
       "    <tr>\n",
       "      <th>1</th>\n",
       "      <td>stormsunder-heirs-of-ruin</td>\n",
       "      <td>302679</td>\n",
       "    </tr>\n",
       "    <tr>\n",
       "      <th>2</th>\n",
       "      <td>crazy-taco</td>\n",
       "      <td>289397</td>\n",
       "    </tr>\n",
       "    <tr>\n",
       "      <th>3</th>\n",
       "      <td>fray</td>\n",
       "      <td>303430</td>\n",
       "    </tr>\n",
       "    <tr>\n",
       "      <th>4</th>\n",
       "      <td>doomsday-bots</td>\n",
       "      <td>253683</td>\n",
       "    </tr>\n",
       "    <tr>\n",
       "      <th>...</th>\n",
       "      <td>...</td>\n",
       "      <td>...</td>\n",
       "    </tr>\n",
       "    <tr>\n",
       "      <th>8802</th>\n",
       "      <td>coalitions</td>\n",
       "      <td>331317</td>\n",
       "    </tr>\n",
       "    <tr>\n",
       "      <th>8807</th>\n",
       "      <td>roll-camera-the-filmmaking-board-game</td>\n",
       "      <td>298102</td>\n",
       "    </tr>\n",
       "    <tr>\n",
       "      <th>8810</th>\n",
       "      <td>dark-venture-battle-of-the-ancients</td>\n",
       "      <td>298163</td>\n",
       "    </tr>\n",
       "    <tr>\n",
       "      <th>8813</th>\n",
       "      <td>rhetorical-oracle-0</td>\n",
       "      <td>298189</td>\n",
       "    </tr>\n",
       "    <tr>\n",
       "      <th>8814</th>\n",
       "      <td>beezarre-games-fox-on-the-run</td>\n",
       "      <td>298193</td>\n",
       "    </tr>\n",
       "  </tbody>\n",
       "</table>\n",
       "<p>4418 rows × 2 columns</p>\n",
       "</div>"
      ],
      "text/plain": [
       "                                       slug  bgg_id\n",
       "0                                     relic  128442\n",
       "1                 stormsunder-heirs-of-ruin  302679\n",
       "2                                crazy-taco  289397\n",
       "3                                      fray  303430\n",
       "4                             doomsday-bots  253683\n",
       "...                                     ...     ...\n",
       "8802                             coalitions  331317\n",
       "8807  roll-camera-the-filmmaking-board-game  298102\n",
       "8810    dark-venture-battle-of-the-ancients  298163\n",
       "8813                    rhetorical-oracle-0  298189\n",
       "8814          beezarre-games-fox-on-the-run  298193\n",
       "\n",
       "[4418 rows x 2 columns]"
      ]
     },
     "execution_count": 50,
     "metadata": {},
     "output_type": "execute_result"
    }
   ],
   "source": [
    "df_ks_bgg_unique_slugs_only\n"
   ]
  },
  {
   "cell_type": "code",
   "execution_count": 51,
   "metadata": {},
   "outputs": [
    {
     "ename": "NameError",
     "evalue": "name 'bggidks_slugs_manual' is not defined",
     "output_type": "error",
     "traceback": [
      "\u001b[0;31m---------------------------------------------------------------------------\u001b[0m",
      "\u001b[0;31mNameError\u001b[0m                                 Traceback (most recent call last)",
      "\u001b[1;32m/Users/salvatore/neuefische/capstone-project/Daily-Lama-Capstone/ks_slugs_to_bgg_ids.ipynb Cell 44'\u001b[0m in \u001b[0;36m<cell line: 1>\u001b[0;34m()\u001b[0m\n\u001b[0;32m----> <a href='vscode-notebook-cell:/Users/salvatore/neuefische/capstone-project/Daily-Lama-Capstone/ks_slugs_to_bgg_ids.ipynb#ch0000041?line=0'>1</a>\u001b[0m df_slugs_bgg_manual \u001b[39m=\u001b[39m pd\u001b[39m.\u001b[39mDataFrame([bggidks_slugs_manual])\u001b[39m.\u001b[39mT\n\u001b[1;32m      <a href='vscode-notebook-cell:/Users/salvatore/neuefische/capstone-project/Daily-Lama-Capstone/ks_slugs_to_bgg_ids.ipynb#ch0000041?line=4'>5</a>\u001b[0m df_slugs_bgg_manual \u001b[39m=\u001b[39m df_slugs_bgg_manual\u001b[39m.\u001b[39mreset_index()\n\u001b[1;32m      <a href='vscode-notebook-cell:/Users/salvatore/neuefische/capstone-project/Daily-Lama-Capstone/ks_slugs_to_bgg_ids.ipynb#ch0000041?line=7'>8</a>\u001b[0m df_slugs_bgg_manual\u001b[39m.\u001b[39mcolumns \u001b[39m=\u001b[39m [\u001b[39m'\u001b[39m\u001b[39mslug\u001b[39m\u001b[39m'\u001b[39m,\u001b[39m'\u001b[39m\u001b[39mbgg_id\u001b[39m\u001b[39m'\u001b[39m]\n",
      "\u001b[0;31mNameError\u001b[0m: name 'bggidks_slugs_manual' is not defined"
     ]
    }
   ],
   "source": [
    "df_slugs_bgg_manual = pd.DataFrame([bggidks_slugs_manual]).T\n",
    "\n",
    "\n",
    "\n",
    "df_slugs_bgg_manual = df_slugs_bgg_manual.reset_index()\n",
    "\n",
    "\n",
    "df_slugs_bgg_manual.columns = ['slug','bgg_id']\n",
    "\n",
    "\n",
    "\n",
    "df_slug_bgg_last = pd.concat([df_slugs_bgg_manual,df_ks_bgg_unique_slugs_only],axis=0)"
   ]
  },
  {
   "cell_type": "markdown",
   "metadata": {},
   "source": [
    "I have successfully recovered more then 100 KS slugs"
   ]
  },
  {
   "cell_type": "markdown",
   "metadata": {},
   "source": [
    "### Put the table on SQL server"
   ]
  },
  {
   "cell_type": "code",
   "execution_count": 204,
   "metadata": {},
   "outputs": [
    {
     "name": "stdout",
     "output_type": "stream",
     "text": [
      "The unique-slug-bgg-id table was imported successfully.\n"
     ]
    }
   ],
   "source": [
    "sf.build_table(engine=engine,table_name=\"unique-slug-bgg-id\",dataframe=df_slug_bgg_last,schema=schema)"
   ]
  },
  {
   "cell_type": "code",
   "execution_count": 52,
   "metadata": {},
   "outputs": [],
   "source": [
    "sql = f'''SELECT * FROM {schema}.unique_slug_bgg_id;\n",
    "      '''\n",
    "      "
   ]
  },
  {
   "cell_type": "code",
   "execution_count": 53,
   "metadata": {},
   "outputs": [],
   "source": [
    "df = sf.get_dataframe(sql)"
   ]
  },
  {
   "cell_type": "markdown",
   "metadata": {},
   "source": [
    "## There are some BGG ids that are assigned to more Slugs"
   ]
  },
  {
   "cell_type": "markdown",
   "metadata": {},
   "source": [
    "I want to count how much BGG ids have more than 1 KS slug assigned."
   ]
  },
  {
   "cell_type": "code",
   "execution_count": 88,
   "metadata": {},
   "outputs": [],
   "source": [
    "df_too_much_slugs = df.groupby('bgg_id').count().sort_values('slug',ascending=False)"
   ]
  },
  {
   "cell_type": "code",
   "execution_count": 91,
   "metadata": {},
   "outputs": [],
   "source": [
    "df_too_much_slugs = df_too_much_slugs.reset_index()"
   ]
  },
  {
   "cell_type": "code",
   "execution_count": 100,
   "metadata": {},
   "outputs": [
    {
     "data": {
      "text/html": [
       "<div>\n",
       "<style scoped>\n",
       "    .dataframe tbody tr th:only-of-type {\n",
       "        vertical-align: middle;\n",
       "    }\n",
       "\n",
       "    .dataframe tbody tr th {\n",
       "        vertical-align: top;\n",
       "    }\n",
       "\n",
       "    .dataframe thead th {\n",
       "        text-align: right;\n",
       "    }\n",
       "</style>\n",
       "<table border=\"1\" class=\"dataframe\">\n",
       "  <thead>\n",
       "    <tr style=\"text-align: right;\">\n",
       "      <th></th>\n",
       "      <th>bgg_id</th>\n",
       "      <th>slug</th>\n",
       "    </tr>\n",
       "  </thead>\n",
       "  <tbody>\n",
       "    <tr>\n",
       "      <th>0</th>\n",
       "      <td>331754</td>\n",
       "      <td>3</td>\n",
       "    </tr>\n",
       "    <tr>\n",
       "      <th>1</th>\n",
       "      <td>241829</td>\n",
       "      <td>2</td>\n",
       "    </tr>\n",
       "    <tr>\n",
       "      <th>2</th>\n",
       "      <td>263665</td>\n",
       "      <td>2</td>\n",
       "    </tr>\n",
       "    <tr>\n",
       "      <th>3</th>\n",
       "      <td>319271</td>\n",
       "      <td>2</td>\n",
       "    </tr>\n",
       "    <tr>\n",
       "      <th>4</th>\n",
       "      <td>224594</td>\n",
       "      <td>2</td>\n",
       "    </tr>\n",
       "    <tr>\n",
       "      <th>...</th>\n",
       "      <td>...</td>\n",
       "      <td>...</td>\n",
       "    </tr>\n",
       "    <tr>\n",
       "      <th>4400</th>\n",
       "      <td>208543</td>\n",
       "      <td>1</td>\n",
       "    </tr>\n",
       "    <tr>\n",
       "      <th>4401</th>\n",
       "      <td>208568</td>\n",
       "      <td>1</td>\n",
       "    </tr>\n",
       "    <tr>\n",
       "      <th>4402</th>\n",
       "      <td>208569</td>\n",
       "      <td>1</td>\n",
       "    </tr>\n",
       "    <tr>\n",
       "      <th>4403</th>\n",
       "      <td>208700</td>\n",
       "      <td>1</td>\n",
       "    </tr>\n",
       "    <tr>\n",
       "      <th>4404</th>\n",
       "      <td>365503</td>\n",
       "      <td>1</td>\n",
       "    </tr>\n",
       "  </tbody>\n",
       "</table>\n",
       "<p>4405 rows × 2 columns</p>\n",
       "</div>"
      ],
      "text/plain": [
       "      bgg_id  slug\n",
       "0     331754     3\n",
       "1     241829     2\n",
       "2     263665     2\n",
       "3     319271     2\n",
       "4     224594     2\n",
       "...      ...   ...\n",
       "4400  208543     1\n",
       "4401  208568     1\n",
       "4402  208569     1\n",
       "4403  208700     1\n",
       "4404  365503     1\n",
       "\n",
       "[4405 rows x 2 columns]"
      ]
     },
     "execution_count": 100,
     "metadata": {},
     "output_type": "execute_result"
    }
   ],
   "source": [
    "df_too_much_slugs"
   ]
  },
  {
   "cell_type": "code",
   "execution_count": 106,
   "metadata": {},
   "outputs": [
    {
     "name": "stdout",
     "output_type": "stream",
     "text": [
      "<class 'pandas.core.series.Series'>\n",
      "Int64Index: 120 entries, 0 to 119\n",
      "Series name: bgg_id\n",
      "Non-Null Count  Dtype\n",
      "--------------  -----\n",
      "120 non-null    int64\n",
      "dtypes: int64(1)\n",
      "memory usage: 1.9 KB\n"
     ]
    }
   ],
   "source": [
    "mask = df_too_much_slugs['slug'] > 1\n",
    "too_much_slugs = df_too_much_slugs.loc[mask,'bgg_id']\n",
    "\n",
    "too_much_slugs.info()\n"
   ]
  },
  {
   "cell_type": "markdown",
   "metadata": {},
   "source": [
    "I iterate through the list with BGG ids with more then I slug to see in detail why it is happening."
   ]
  },
  {
   "cell_type": "code",
   "execution_count": 112,
   "metadata": {},
   "outputs": [
    {
     "ename": "StopIteration",
     "evalue": "",
     "output_type": "error",
     "traceback": [
      "\u001b[0;31m---------------------------------------------------------------------------\u001b[0m",
      "\u001b[0;31mStopIteration\u001b[0m                             Traceback (most recent call last)",
      "\u001b[1;32m/Users/salvatore/neuefische/capstone-project/Daily-Lama-Capstone/ks_slugs_to_bgg_ids.ipynb Cell 57'\u001b[0m in \u001b[0;36m<cell line: 4>\u001b[0;34m()\u001b[0m\n\u001b[1;32m      <a href='vscode-notebook-cell:/Users/salvatore/neuefische/capstone-project/Daily-Lama-Capstone/ks_slugs_to_bgg_ids.ipynb#ch0000058?line=4'>5</a>\u001b[0m choice \u001b[39m=\u001b[39m \u001b[39minput\u001b[39m(\u001b[39m\"\u001b[39m\u001b[39mselect the row with the correct BGG ID\u001b[39m\u001b[39m\"\u001b[39m)\n\u001b[1;32m      <a href='vscode-notebook-cell:/Users/salvatore/neuefische/capstone-project/Daily-Lama-Capstone/ks_slugs_to_bgg_ids.ipynb#ch0000058?line=5'>6</a>\u001b[0m \u001b[39mif\u001b[39;00m choice \u001b[39m==\u001b[39m \u001b[39m'\u001b[39m\u001b[39m'\u001b[39m:\n\u001b[0;32m----> <a href='vscode-notebook-cell:/Users/salvatore/neuefische/capstone-project/Daily-Lama-Capstone/ks_slugs_to_bgg_ids.ipynb#ch0000058?line=6'>7</a>\u001b[0m     mask_check \u001b[39m=\u001b[39m df_ks_bgg[\u001b[39m\"\u001b[39m\u001b[39mbgg_id\u001b[39m\u001b[39m\"\u001b[39m]\u001b[39m.\u001b[39misin([\u001b[39mnext\u001b[39;49m(slug_iter)])\n\u001b[1;32m      <a href='vscode-notebook-cell:/Users/salvatore/neuefische/capstone-project/Daily-Lama-Capstone/ks_slugs_to_bgg_ids.ipynb#ch0000058?line=7'>8</a>\u001b[0m     display(df_ks_bgg\u001b[39m.\u001b[39mloc[mask_check, :]\u001b[39m.\u001b[39mreset_index())\n\u001b[1;32m     <a href='vscode-notebook-cell:/Users/salvatore/neuefische/capstone-project/Daily-Lama-Capstone/ks_slugs_to_bgg_ids.ipynb#ch0000058?line=9'>10</a>\u001b[0m \u001b[39m# bellum-0 = 217430 -- added manually in SQL table\u001b[39;00m\n",
      "\u001b[0;31mStopIteration\u001b[0m: "
     ]
    }
   ],
   "source": [
    "slug_iter = iter(too_much_slugs)\n",
    "choice = \"\"\n",
    "\n",
    "while choice != \"exit\": \n",
    "    choice = input(\"select the row with the correct BGG ID\")\n",
    "    if choice == '':\n",
    "        mask_check = df_ks_bgg[\"bgg_id\"].isin([next(slug_iter)])\n",
    "        display(df_ks_bgg.loc[mask_check, :].reset_index())\n",
    "    \n",
    "    # bellum-0 = 217430 -- added manually in SQL table\n",
    "\n",
    "    # adorable-monsters = 241279 added manually in SQL table\n",
    "\n",
    "\n",
    "    clear_output(wait=True)    "
   ]
  },
  {
   "cell_type": "markdown",
   "metadata": {},
   "source": [
    "There are some creators that start more Kickstarter campaigns with the same game and they usually do it because the first one fails, so they start again with a lower goal."
   ]
  },
  {
   "cell_type": "markdown",
   "metadata": {},
   "source": [
    "## Remove manual check double BGG IDs"
   ]
  },
  {
   "cell_type": "markdown",
   "metadata": {},
   "source": [
    "Some games were automatically assigned to th fake BGG id. I need to delete the connection. I have done this directly on DBeaver."
   ]
  },
  {
   "cell_type": "code",
   "execution_count": 113,
   "metadata": {},
   "outputs": [],
   "source": [
    "    # captains-log-0 __ ID has to be cancelled\n",
    "    # alternate-souls-arena-card-game-0 __ ID has to be cancelled\n",
    "    # maquis-0 __ ID has to be cancelled\n",
    "    # king-of-indecision __ ID has to be cancelled\n",
    "    # the_outlaws-0 __ ID has to be cancelled\n",
    "    # monkeys-on-your-back-0 __ ID has to be cancelled\n",
    "    # champions-of-hara - ID has to be cancelled\n"
   ]
  }
 ],
 "metadata": {
  "kernelspec": {
   "display_name": "Python 3.9.12 ('neesql')",
   "language": "python",
   "name": "python3"
  },
  "language_info": {
   "codemirror_mode": {
    "name": "ipython",
    "version": 3
   },
   "file_extension": ".py",
   "mimetype": "text/x-python",
   "name": "python",
   "nbconvert_exporter": "python",
   "pygments_lexer": "ipython3",
   "version": "3.9.12"
  },
  "orig_nbformat": 4,
  "vscode": {
   "interpreter": {
    "hash": "93d4e68d14dafe92e85b564fcffe2f10b012fa4b4f297d685e500cc70b9ea34f"
   }
  }
 },
 "nbformat": 4,
 "nbformat_minor": 2
}
