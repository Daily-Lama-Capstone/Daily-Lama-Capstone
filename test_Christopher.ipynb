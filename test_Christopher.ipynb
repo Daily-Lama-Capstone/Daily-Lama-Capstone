{
 "cells": [
  {
   "cell_type": "code",
   "execution_count": 11,
   "metadata": {},
   "outputs": [],
   "source": [
    "# Import all necessary libraries\n",
    "import pandas as pd\n",
    "import numpy as np\n",
    "import psycopg2 # needed to get database exception errors when uploading dataframe\n",
    "import requests # package for getting data from the web\n",
    "from sql_functions import get_engine\n",
    "\n",
    "\n",
    "from datetime import datetime\n",
    "import dataclasses\n",
    "import json\n",
    "import typing\n",
    "\n",
    "import lxml.etree\n",
    "import urllib3\n",
    "\n"
   ]
  },
  {
   "cell_type": "code",
   "execution_count": 10,
   "metadata": {},
   "outputs": [],
   "source": [
    "max_url_length = 2000\n",
    "max_id = 20000\n",
    "stepsize_list = [x for x in range(0,max_id + 1,200)]\n",
    "\n",
    "df = pd.DataFrame()\n",
    "df_list = [df]\n",
    "\n",
    "for idx in range(len(stepsize_list)-1):\n",
    "    range_str = \"\"\n",
    "    for i in range(stepsize_list[idx],stepsize_list[idx +1]):\n",
    "        range_str += str(i) + \",\"\n",
    "    range_str = range_str[:-1]\n",
    "    url = f\"http://boardgamegeek.com/xmlapi/boardgame/{range_str}\"\n",
    "    df = pd.concat([df,pd.read_xml(url)],ignore_index=True)\n",
    "\n",
    "#df_list\n"
   ]
  },
  {
   "cell_type": "code",
   "execution_count": null,
   "metadata": {},
   "outputs": [],
   "source": [
    "df.info()\n",
    "\n"
   ]
  },
  {
   "cell_type": "code",
   "execution_count": null,
   "metadata": {},
   "outputs": [],
   "source": [
    "path = \"data/\"\n",
    "filename = \"boardgames_first_20000.xml\"\n",
    "xml_data = df.to_xml()\n",
    "with open(f\"{path}{filename}\", 'w') as f:  # Writing in XML file\n",
    "    for line in xml_data:\n",
    "        f.write(line)"
   ]
  },
  {
   "cell_type": "code",
   "execution_count": 29,
   "metadata": {},
   "outputs": [],
   "source": [
    "base_url = \"https://boardgamegeek.com/xmlapi2/thing\"\n",
    "\n",
    "params = {\n",
    "    'id' : 1,\n",
    "    'type' : 'boardgame',\n",
    "    'stats' : 1\n",
    "}\n",
    "\n"
   ]
  },
  {
   "cell_type": "code",
   "execution_count": 30,
   "metadata": {},
   "outputs": [],
   "source": [
    "status_set = {202, 408, 409, 413, 425, 429, 500, 502, 503, 504, 521, 598, 599}\n",
    "retries = urllib3.util.retry.Retry(backoff_factor=60, status_forcelist=status_set)\n",
    "http = urllib3.PoolManager(retries=retries)\n",
    "\n",
    "parser = lxml.etree.XMLParser(remove_blank_text=True)"
   ]
  },
  {
   "cell_type": "code",
   "execution_count": 31,
   "metadata": {},
   "outputs": [
    {
     "name": "stdout",
     "output_type": "stream",
     "text": [
      "Reponse status: 200\n"
     ]
    }
   ],
   "source": [
    "fields = {\n",
    "    **params,\n",
    "    'subtype': 'boardgame',\n",
    "    'excludesubtype': 'boardgameexpansion'\n",
    "}\n",
    "resp = http.request('GET', base_url, fields=fields)\n",
    "\n",
    "print('Reponse status:', resp.status)\n",
    "\n",
    "with open('data/game_1.xml', 'wb') as fp:\n",
    "    fp.write(resp.data)\n",
    "\n"
   ]
  },
  {
   "cell_type": "code",
   "execution_count": 25,
   "metadata": {},
   "outputs": [
    {
     "name": "stdout",
     "output_type": "stream",
     "text": [
      "Reponse status: 200\n",
      "Reponse status: 200\n",
      "Reponse status: 200\n",
      "Reponse status: 200\n",
      "Reponse status: 200\n"
     ]
    }
   ],
   "source": [
    "base_url = \"https://boardgamegeek.com/xmlapi2/thing\"\n",
    "params = {'type' : 'boardgame', 'stats' : 1}\n",
    "folder = \"data/\"\n",
    "\n",
    "nums = np.arange(0,1001,200)\n",
    "path = \"data/boardgames.xml\"\n",
    "\n",
    "for idx in np.arange(len(nums)-1):\n",
    "    rg = str(np.arange(nums[idx],nums[idx+1]))[:-1]\n",
    "    fields = {**params, 'id' : rg, 'excludesubtype': 'boardgameexpansion'}\n",
    "    resp = http.request('GET', base_url, fields=fields)\n",
    "    print('Reponse status:', resp.status)\n",
    "    filename = f\"games_id_{nums[idx]}.xml\"\n",
    "    path = f\"{folder}{filename}\"\n",
    "    with open(path, 'wb') as fp:\n",
    "        fp.write(resp.data)"
   ]
  }
 ],
 "metadata": {
  "kernelspec": {
   "display_name": "Python 3.9.12 ('nf_sql')",
   "language": "python",
   "name": "python3"
  },
  "language_info": {
   "codemirror_mode": {
    "name": "ipython",
    "version": 3
   },
   "file_extension": ".py",
   "mimetype": "text/x-python",
   "name": "python",
   "nbconvert_exporter": "python",
   "pygments_lexer": "ipython3",
   "version": "3.9.12"
  },
  "orig_nbformat": 4,
  "vscode": {
   "interpreter": {
    "hash": "a81d278bed5b5b59425dcb5a82ce505657686243c184b4a6b67e69d01c4d432e"
   }
  }
 },
 "nbformat": 4,
 "nbformat_minor": 2
}
