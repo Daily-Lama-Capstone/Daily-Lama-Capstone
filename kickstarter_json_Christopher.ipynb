{
 "cells": [
  {
   "cell_type": "code",
   "execution_count": 3,
   "metadata": {},
   "outputs": [],
   "source": [
    "import pandas as pd\n",
    "import numpy as np\n",
    "import json\n",
    "import os\n",
    "import capstone_json_functions as cjf"
   ]
  },
  {
   "cell_type": "code",
   "execution_count": 4,
   "metadata": {},
   "outputs": [],
   "source": [
    "directory = \"data/kickstarter_json/\"\n",
    "filename = \"2022-06-09.json\"\n",
    "file_path = f\"{directory}{filename}\"\n",
    "keys_to_keep = [\"name\",\n",
    "            \"blurb\",\n",
    "            \"goal\",\n",
    "            \"pledged\",\n",
    "            \"state\",\n",
    "            \"slug\",\n",
    "            \"disable_communication\",\n",
    "            \"country\",\n",
    "            \"country_displayable_name\",\n",
    "            \"currency\",\n",
    "            \"currency_trailing_code\",\n",
    "            \"deadline\",\n",
    "            \"state_changed_at\",\n",
    "            \"created_at\",\n",
    "            \"launched_at\",\n",
    "            \"backers_count\",\n",
    "            \"static_usd_rate\",\n",
    "            \"usd_pledged\",\n",
    "            \"converted_pledged_amount\",\n",
    "            \"fx_rate\",\n",
    "            \"usd_exchange_rate\",\n",
    "            \"current_currency\",\n",
    "            \"usd_type\",\n",
    "            \"creator\",\n",
    "            \"location\",\n",
    "            \"category\",\n",
    "            \"profile\",\n",
    "            \"spotlight\",\n",
    "            #\"urls\",\n",
    "            \"rewards\"]"
   ]
  },
  {
   "cell_type": "code",
   "execution_count": 5,
   "metadata": {},
   "outputs": [
    {
     "ename": "TypeError",
     "evalue": "tuple indices must be integers or slices, not str",
     "output_type": "error",
     "traceback": [
      "\u001b[0;31m---------------------------------------------------------------------------\u001b[0m",
      "\u001b[0;31mTypeError\u001b[0m                                 Traceback (most recent call last)",
      "\u001b[1;32m/Users/ruperthufnagel/DailyLama/Daily-Lama-Capstone/kickstarter_json_Christopher.ipynb Cell 3'\u001b[0m in \u001b[0;36m<cell line: 1>\u001b[0;34m()\u001b[0m\n\u001b[0;32m----> <a href='vscode-notebook-cell:/Users/ruperthufnagel/DailyLama/Daily-Lama-Capstone/kickstarter_json_Christopher.ipynb#ch0000007?line=0'>1</a>\u001b[0m df \u001b[39m=\u001b[39m cjf\u001b[39m.\u001b[39;49mdf_from_json(file_path,keys_to_keep)\n",
      "File \u001b[0;32m~/DailyLama/Daily-Lama-Capstone/capstone_json_functions.py:10\u001b[0m, in \u001b[0;36mdf_from_json\u001b[0;34m(filepath, keys_to_keep)\u001b[0m\n\u001b[1;32m      8\u001b[0m \u001b[39mfor\u001b[39;00m idx,row \u001b[39min\u001b[39;00m json_df\u001b[39m.\u001b[39miterrows():\n\u001b[1;32m      9\u001b[0m     keys_to_pop \u001b[39m=\u001b[39m []\n\u001b[0;32m---> 10\u001b[0m     this_row \u001b[39m=\u001b[39m \u001b[39mdict\u001b[39m(row[\u001b[39m\"\u001b[39m\u001b[39mdata\u001b[39m\u001b[39m\"\u001b[39m])\n\u001b[1;32m     11\u001b[0m     \u001b[39mfor\u001b[39;00m key \u001b[39min\u001b[39;00m this_row\u001b[39m.\u001b[39mkeys():\n\u001b[1;32m     12\u001b[0m         \u001b[39mif\u001b[39;00m key \u001b[39mnot\u001b[39;00m \u001b[39min\u001b[39;00m keys_to_keep:\n",
      "\u001b[0;31mTypeError\u001b[0m: tuple indices must be integers or slices, not str"
     ]
    }
   ],
   "source": [
    "df = cjf.df_from_json(file_path,keys_to_keep)"
   ]
  },
  {
   "cell_type": "code",
   "execution_count": null,
   "metadata": {},
   "outputs": [],
   "source": [
    "\n",
    "json_df= pd.read_json(file_path,lines=True)"
   ]
  },
  {
   "cell_type": "code",
   "execution_count": null,
   "metadata": {},
   "outputs": [],
   "source": [
    "json_df.drop([\"table_id\",\"robot_id\", \"run_id\"],axis=1,inplace=True)"
   ]
  },
  {
   "cell_type": "code",
   "execution_count": null,
   "metadata": {},
   "outputs": [],
   "source": [
    "json_df.head()"
   ]
  },
  {
   "cell_type": "code",
   "execution_count": null,
   "metadata": {},
   "outputs": [],
   "source": [
    "keys_to_keep = [\"name\",\n",
    "            \"blurb\",\n",
    "            \"goal\",\n",
    "            \"pledged\",\n",
    "            \"state\",\n",
    "            \"slug\",\n",
    "            \"disable_communication\",\n",
    "            \"country\",\n",
    "            \"country_displayable_name\",\n",
    "            \"currency\",\n",
    "            \"currency_trailing_code\",\n",
    "            \"deadline\",\n",
    "            \"state_changed_at\",\n",
    "            \"created_at\",\n",
    "            \"launched_at\",\n",
    "            \"backers_count\",\n",
    "            \"static_usd_rate\",\n",
    "            \"usd_pledged\",\n",
    "            \"converted_pledged_amount\",\n",
    "            \"fx_rate\",\n",
    "            \"usd_exchange_rate\",\n",
    "            \"current_currency\",\n",
    "            \"usd_type\",\n",
    "            \"creator\",\n",
    "            \"location\",\n",
    "            \"category\",\n",
    "            \"profile\",\n",
    "            \"spotlight\",\n",
    "            \"urls\",\n",
    "            \"rewards\"]"
   ]
  },
  {
   "cell_type": "code",
   "execution_count": null,
   "metadata": {},
   "outputs": [],
   "source": [
    "df = pd.DataFrame()\n",
    "\n",
    "for idx,row in json_df.iterrows():\n",
    "    keys_to_pop = []\n",
    "    this_row = dict(row[\"data\"])\n",
    "    for key in this_row.keys():\n",
    "        if key not in keys_to_keep:\n",
    "            keys_to_pop.append(key)\n",
    "    for trash_keys in keys_to_pop:\n",
    "        this_row.pop(trash_keys)\n",
    "    #print(this_row)\n",
    "    if dict(this_row[\"category\"])[\"id\"] == 34:\n",
    "        df_temp = pd.json_normalize(this_row,sep='_')\n",
    "        df = pd.concat([df,df_temp])\n",
    "    #print(df_temp.info())\n"
   ]
  },
  {
   "cell_type": "code",
   "execution_count": null,
   "metadata": {},
   "outputs": [],
   "source": [
    "data = [json.loads(line)\n",
    "        for line in open(file_path)]"
   ]
  },
  {
   "cell_type": "code",
   "execution_count": null,
   "metadata": {},
   "outputs": [],
   "source": [
    "data_normalized = pd.json_normalize(data,record_path='data',sep='_',record_prefix='data_')"
   ]
  },
  {
   "cell_type": "code",
   "execution_count": null,
   "metadata": {},
   "outputs": [],
   "source": [
    "data_df = pd.DataFrame()\n",
    "for entry in data:\n",
    "    data_dict = entry.copy()\n",
    "    df = pd.DataFrame(data_dict)\n",
    "    df.drop([\"table_id\",'run_id','robot_id'],axis=1,inplace=True)\n",
    "    df = df.T\n",
    "    if \": 34,\" in df[\"category\"].to_string():\n",
    "        data_df = pd.concat([data_df,df])\n",
    "    else:\n",
    "        continue"
   ]
  },
  {
   "cell_type": "code",
   "execution_count": null,
   "metadata": {},
   "outputs": [],
   "source": [
    "df = pd.DataFrame()\n",
    "for line in open(file_path):\n",
    "    data_temp = json.loads(line)\n",
    "    df_temp = pd.json_normalize(data_temp,sep='_')\n",
    "    df = pd.concat([df,df_temp])\n"
   ]
  },
  {
   "cell_type": "code",
   "execution_count": null,
   "metadata": {},
   "outputs": [],
   "source": [
    "data_df.head()"
   ]
  },
  {
   "cell_type": "code",
   "execution_count": null,
   "metadata": {},
   "outputs": [],
   "source": [
    "data_dict = data[0].copy()\n"
   ]
  },
  {
   "cell_type": "code",
   "execution_count": null,
   "metadata": {},
   "outputs": [],
   "source": [
    "del data_dict[\"table_id\"]\n",
    "del data_dict[\"run_id\"]\n",
    "del data_dict[\"robot_id\"]"
   ]
  },
  {
   "cell_type": "code",
   "execution_count": null,
   "metadata": {},
   "outputs": [],
   "source": [
    "df = pd.DataFrame(data_dict)"
   ]
  },
  {
   "cell_type": "code",
   "execution_count": null,
   "metadata": {},
   "outputs": [],
   "source": [
    "df.drop([\"table_id\",'run_id','robot_id'],axis=1,inplace=True)"
   ]
  },
  {
   "cell_type": "code",
   "execution_count": null,
   "metadata": {},
   "outputs": [],
   "source": [
    "df = df.T"
   ]
  },
  {
   "cell_type": "code",
   "execution_count": null,
   "metadata": {},
   "outputs": [],
   "source": [
    "df[\"category\"].to_string()"
   ]
  },
  {
   "cell_type": "code",
   "execution_count": null,
   "metadata": {},
   "outputs": [],
   "source": [
    "with open(file_path) as fp:\n",
    "    json_object = json.load(fp)"
   ]
  }
 ],
 "metadata": {
  "kernelspec": {
   "display_name": "Python 3.9.12 ('nf_sql')",
   "language": "python",
   "name": "python3"
  },
  "language_info": {
   "codemirror_mode": {
    "name": "ipython",
    "version": 3
   },
   "file_extension": ".py",
   "mimetype": "text/x-python",
   "name": "python",
   "nbconvert_exporter": "python",
   "pygments_lexer": "ipython3",
   "version": "3.9.12"
  },
  "orig_nbformat": 4,
  "vscode": {
   "interpreter": {
    "hash": "a81d278bed5b5b59425dcb5a82ce505657686243c184b4a6b67e69d01c4d432e"
   }
  }
 },
 "nbformat": 4,
 "nbformat_minor": 2
}
