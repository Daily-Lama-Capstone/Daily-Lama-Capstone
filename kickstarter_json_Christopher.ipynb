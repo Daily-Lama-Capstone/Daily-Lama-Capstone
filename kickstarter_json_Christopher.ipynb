{
 "cells": [
  {
   "cell_type": "code",
   "execution_count": 1,
   "metadata": {},
   "outputs": [],
   "source": [
    "import pandas as pd\n",
    "import numpy as np\n",
    "import json\n",
    "import os\n",
    "import capstone_json_functions as cjf"
   ]
  },
  {
   "cell_type": "code",
   "execution_count": 2,
   "metadata": {},
   "outputs": [],
   "source": [
    "directory = \"data/kickstarter_json/\"\n",
    "filename = \"2022-06-09.json\"\n",
    "file_path = f\"{directory}{filename}\""
   ]
  },
  {
   "cell_type": "code",
   "execution_count": 19,
   "metadata": {},
   "outputs": [],
   "source": [
    "with open(file_path) as fp:\n",
    "    lines = fp.readlines()\n"
   ]
  },
  {
   "cell_type": "code",
   "execution_count": 45,
   "metadata": {},
   "outputs": [],
   "source": [
    "df = pd.DataFrame()\n",
    "category_dict = dict()\n",
    "for line in lines:\n",
    "    line_dict = json.loads(line[line.index('{\"id\":'):-2])\n",
    "    category_dict[line_dict[\"category\"][\"id\"]] = (line_dict[\"category\"][\"name\"],line_dict[\"category\"][\"analytics_name\"],line_dict[\"category\"][\"slug\"])\n",
    "    #print(line_dict[\"category\"])\n",
    "    #print(category_dict)\n",
    "    # df_temp = pd.json_normalize(line_dict[\"data\"],sep='_')\n",
    "    # if df_temp[\"data_category_id\"]\n",
    "    # df = pd.concat([df,df_temp])\n",
    "    # break"
   ]
  },
  {
   "cell_type": "code",
   "execution_count": 56,
   "metadata": {},
   "outputs": [],
   "source": [
    "list_of_categories = []\n",
    "for key, value in category_dict.items():\n",
    "    list_of_categories.append([key,value])\n",
    "    #print(f\"id: {key} ---> {value}\")\n",
    "list_of_categories.sort()\n",
    "with open(\"kickstarter_categories.txt\",\"w\") as fp:\n",
    "    for item in list_of_categories:\n",
    "        #print(f\"id: {item[0]} ---> {item[1]}\")\n",
    "        fp.writelines(f\"id: {item[0]} ---> {item[1]}\\n\")"
   ]
  },
  {
   "cell_type": "code",
   "execution_count": null,
   "metadata": {},
   "outputs": [],
   "source": [
    "df_test.head()"
   ]
  },
  {
   "cell_type": "code",
   "execution_count": null,
   "metadata": {},
   "outputs": [],
   "source": [
    "df_temp = cjf.create_json_df(file_path)"
   ]
  },
  {
   "cell_type": "code",
   "execution_count": null,
   "metadata": {},
   "outputs": [],
   "source": [
    "df2 = cjf.df_from_json(df_temp)"
   ]
  },
  {
   "cell_type": "code",
   "execution_count": null,
   "metadata": {},
   "outputs": [],
   "source": [
    "df2[[\"currency\",\"currency_trailing_code\",\"static_usd_rate\",\n",
    "            \"usd_pledged\",\n",
    "            \"converted_pledged_amount\",\"slug\",\"name\"]]"
   ]
  },
  {
   "cell_type": "code",
   "execution_count": null,
   "metadata": {},
   "outputs": [],
   "source": [
    "df2.head()"
   ]
  },
  {
   "cell_type": "code",
   "execution_count": null,
   "metadata": {},
   "outputs": [],
   "source": [
    "df_without_profile = df2.loc[:,df2.columns.str.contains(\"category\")]"
   ]
  },
  {
   "cell_type": "code",
   "execution_count": null,
   "metadata": {},
   "outputs": [],
   "source": [
    "df_without_profile.drop_duplicates()"
   ]
  },
  {
   "cell_type": "code",
   "execution_count": null,
   "metadata": {},
   "outputs": [],
   "source": [
    "df = pd.DataFrame()\n",
    "\n",
    "for idx,row in json_df.iterrows():\n",
    "    keys_to_pop = []\n",
    "    this_row = dict(row[\"data\"])\n",
    "    for key in this_row.keys():\n",
    "        if key not in keys_to_keep:\n",
    "            keys_to_pop.append(key)\n",
    "    for trash_keys in keys_to_pop:\n",
    "        this_row.pop(trash_keys)\n",
    "    #print(this_row)\n",
    "    if dict(this_row[\"category\"])[\"id\"] == 34:\n",
    "        df_temp = pd.json_normalize(this_row,sep='_')\n",
    "        df = pd.concat([df,df_temp])\n",
    "    #print(df_temp.info())\n"
   ]
  },
  {
   "cell_type": "code",
   "execution_count": null,
   "metadata": {},
   "outputs": [],
   "source": [
    "data = [json.loads(line)\n",
    "        for line in open(file_path)]"
   ]
  },
  {
   "cell_type": "code",
   "execution_count": null,
   "metadata": {},
   "outputs": [],
   "source": [
    "data_normalized = pd.json_normalize(data,record_path='data',sep='_',record_prefix='data_')"
   ]
  },
  {
   "cell_type": "code",
   "execution_count": null,
   "metadata": {},
   "outputs": [],
   "source": [
    "data_df = pd.DataFrame()\n",
    "for entry in data:\n",
    "    data_dict = entry.copy()\n",
    "    df = pd.DataFrame(data_dict)\n",
    "    df.drop([\"table_id\",'run_id','robot_id'],axis=1,inplace=True)\n",
    "    df = df.T\n",
    "    if \": 34,\" in df[\"category\"].to_string():\n",
    "        data_df = pd.concat([data_df,df])\n",
    "    else:\n",
    "        continue"
   ]
  },
  {
   "cell_type": "code",
   "execution_count": null,
   "metadata": {},
   "outputs": [],
   "source": [
    "df = pd.DataFrame()\n",
    "for line in open(file_path):\n",
    "    data_temp = json.loads(line)\n",
    "    df_temp = pd.json_normalize(data_temp,sep='_')\n",
    "    df = pd.concat([df,df_temp])\n"
   ]
  }
 ],
 "metadata": {
  "kernelspec": {
   "display_name": "Python 3.9.12 ('nf_sql')",
   "language": "python",
   "name": "python3"
  },
  "language_info": {
   "codemirror_mode": {
    "name": "ipython",
    "version": 3
   },
   "file_extension": ".py",
   "mimetype": "text/x-python",
   "name": "python",
   "nbconvert_exporter": "python",
   "pygments_lexer": "ipython3",
   "version": "3.9.12"
  },
  "orig_nbformat": 4,
  "vscode": {
   "interpreter": {
    "hash": "a81d278bed5b5b59425dcb5a82ce505657686243c184b4a6b67e69d01c4d432e"
   }
  }
 },
 "nbformat": 4,
 "nbformat_minor": 2
}
