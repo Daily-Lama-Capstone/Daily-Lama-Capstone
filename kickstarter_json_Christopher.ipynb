{
 "cells": [
  {
   "cell_type": "code",
   "execution_count": 1,
   "metadata": {},
   "outputs": [],
   "source": [
    "import pandas as pd\n",
    "import numpy as np\n",
    "import json\n",
    "import os\n",
    "import Capstone_functions as cf\n",
    "import capstone_json_functions as cjf\n",
    "import sql_functions as sf\n",
    "from pathlib import Path\n",
    "import re\n"
   ]
  },
  {
   "cell_type": "code",
   "execution_count": 16,
   "metadata": {},
   "outputs": [],
   "source": [
    "directory = \"data/kickstarter_json/\"\n",
    "schema = 'kickstarter_bg'\n",
    "table_name = 'boardgames'\n",
    "engine = sf.get_engine()\n"
   ]
  },
  {
   "cell_type": "markdown",
   "metadata": {},
   "source": [
    "## First try for one file\n",
    "Rename files, if they start with \"Kickstarter...\""
   ]
  },
  {
   "cell_type": "code",
   "execution_count": null,
   "metadata": {},
   "outputs": [],
   "source": [
    "cjf.rename_kickstarter_files(directory)"
   ]
  },
  {
   "cell_type": "markdown",
   "metadata": {},
   "source": [
    "Read the file and store it into a list called \"lines\""
   ]
  },
  {
   "cell_type": "code",
   "execution_count": null,
   "metadata": {},
   "outputs": [],
   "source": [
    "# lines is a list of strings\n",
    "filename = \"2022-06-09.json\"\n",
    "file_path = f\"{directory}{filename}\"\n",
    "lines = cjf.list_of_lines(file_path)"
   ]
  },
  {
   "cell_type": "markdown",
   "metadata": {},
   "source": [
    "build a dictionairy by looking at the \"category\""
   ]
  },
  {
   "cell_type": "code",
   "execution_count": null,
   "metadata": {},
   "outputs": [],
   "source": [
    "#list_of_categories = cjf.list_of_categories(file_path)"
   ]
  },
  {
   "cell_type": "markdown",
   "metadata": {},
   "source": [
    "Build the dataframe"
   ]
  },
  {
   "cell_type": "code",
   "execution_count": null,
   "metadata": {},
   "outputs": [],
   "source": [
    "df = cjf.build_df_from_lines_list(lines)"
   ]
  },
  {
   "cell_type": "markdown",
   "metadata": {},
   "source": [
    "List of Columns to keep"
   ]
  },
  {
   "cell_type": "code",
   "execution_count": 3,
   "metadata": {},
   "outputs": [],
   "source": [
    "columns_to_keep = cjf.columns_to_keep"
   ]
  },
  {
   "cell_type": "code",
   "execution_count": 4,
   "metadata": {},
   "outputs": [],
   "source": [
    "columns_to_keep[0] = 'game_name'"
   ]
  },
  {
   "cell_type": "code",
   "execution_count": 5,
   "metadata": {},
   "outputs": [
    {
     "data": {
      "text/plain": [
       "['game_name',\n",
       " 'goal',\n",
       " 'pledged',\n",
       " 'state',\n",
       " 'slug',\n",
       " 'country',\n",
       " 'currency',\n",
       " 'deadline',\n",
       " 'created_at',\n",
       " 'launched_at',\n",
       " 'backers_count',\n",
       " 'usd_pledged',\n",
       " 'creator_name',\n",
       " 'state_changed_at']"
      ]
     },
     "execution_count": 5,
     "metadata": {},
     "output_type": "execute_result"
    }
   ],
   "source": [
    "columns_to_keep"
   ]
  },
  {
   "cell_type": "markdown",
   "metadata": {},
   "source": [
    "Overwrite the df with itself with the chosen columns"
   ]
  },
  {
   "cell_type": "code",
   "execution_count": null,
   "metadata": {},
   "outputs": [],
   "source": [
    "df = df[columns_to_keep]"
   ]
  },
  {
   "cell_type": "markdown",
   "metadata": {},
   "source": [
    "Convert Unix timestamp to pandas datetime"
   ]
  },
  {
   "cell_type": "code",
   "execution_count": null,
   "metadata": {},
   "outputs": [],
   "source": [
    "df = cjf.unix_to_datetime(df)"
   ]
  },
  {
   "cell_type": "markdown",
   "metadata": {},
   "source": [
    "# And now with all the json files in the folder data/kickstarter_json"
   ]
  },
  {
   "cell_type": "code",
   "execution_count": null,
   "metadata": {},
   "outputs": [],
   "source": [
    "pathlist = Path(directory).glob('**/*.json')\n",
    "df_all = pd.DataFrame()\n",
    "counter = 0\n",
    "for path in pathlist:\n",
    "    file_path = str(path)\n",
    "    print(file_path)\n",
    "    lines = cjf.list_of_lines(file_path)\n",
    "    df_temp = cjf.build_df_from_lines_list(lines)\n",
    "    df_all = pd.concat([df_all, df_temp])\n",
    "    counter += 1\n",
    "print(f\"{counter} files have been dataframed\")\n"
   ]
  },
  {
   "cell_type": "code",
   "execution_count": 17,
   "metadata": {},
   "outputs": [
    {
     "name": "stderr",
     "output_type": "stream",
     "text": [
      "/Users/ruperthufnagel/DailyLama/Daily-Lama-Capstone/capstone_json_functions.py:32: SettingWithCopyWarning: \n",
      "A value is trying to be set on a copy of a slice from a DataFrame.\n",
      "Try using .loc[row_indexer,col_indexer] = value instead\n",
      "\n",
      "See the caveats in the documentation: https://pandas.pydata.org/pandas-docs/stable/user_guide/indexing.html#returning-a-view-versus-a-copy\n",
      "  for col in columns_to_change:\n",
      "/Users/ruperthufnagel/DailyLama/Daily-Lama-Capstone/capstone_json_functions.py:32: SettingWithCopyWarning: \n",
      "A value is trying to be set on a copy of a slice from a DataFrame.\n",
      "Try using .loc[row_indexer,col_indexer] = value instead\n",
      "\n",
      "See the caveats in the documentation: https://pandas.pydata.org/pandas-docs/stable/user_guide/indexing.html#returning-a-view-versus-a-copy\n",
      "  for col in columns_to_change:\n",
      "/Users/ruperthufnagel/DailyLama/Daily-Lama-Capstone/capstone_json_functions.py:32: SettingWithCopyWarning: \n",
      "A value is trying to be set on a copy of a slice from a DataFrame.\n",
      "Try using .loc[row_indexer,col_indexer] = value instead\n",
      "\n",
      "See the caveats in the documentation: https://pandas.pydata.org/pandas-docs/stable/user_guide/indexing.html#returning-a-view-versus-a-copy\n",
      "  for col in columns_to_change:\n",
      "/Users/ruperthufnagel/DailyLama/Daily-Lama-Capstone/capstone_json_functions.py:32: SettingWithCopyWarning: \n",
      "A value is trying to be set on a copy of a slice from a DataFrame.\n",
      "Try using .loc[row_indexer,col_indexer] = value instead\n",
      "\n",
      "See the caveats in the documentation: https://pandas.pydata.org/pandas-docs/stable/user_guide/indexing.html#returning-a-view-versus-a-copy\n",
      "  for col in columns_to_change:\n",
      "/var/folders/kb/wqf78x2d06z43w0nwzbclk3m0000gn/T/ipykernel_840/407431687.py:4: SettingWithCopyWarning: \n",
      "A value is trying to be set on a copy of a slice from a DataFrame\n",
      "\n",
      "See the caveats in the documentation: https://pandas.pydata.org/pandas-docs/stable/user_guide/indexing.html#returning-a-view-versus-a-copy\n",
      "  df_all.rename({\"name\":\"game_name\"},axis=1,inplace=True)\n",
      "/var/folders/kb/wqf78x2d06z43w0nwzbclk3m0000gn/T/ipykernel_840/407431687.py:6: FutureWarning: The default value of regex will change from True to False in a future version.\n",
      "  df_all['game_name'] =  df_all['game_name'].str.findall(r'\\w|\\s').str.join('').str.replace(r\"\\s+\",\"_\").str.lower()\n"
     ]
    }
   ],
   "source": [
    "columns_to_keep = cjf.columns_to_keep\n",
    "df_all = df_all[columns_to_keep]\n",
    "df_all = cjf.unix_to_datetime(df_all)\n",
    "df_all.rename({\"name\":\"game_name\"},axis=1,inplace=True)\n",
    "df_all = df_all.astype({'usd_pledged': f\"{'float64'}\"}).round(2)\n",
    "df_all['game_name'] =  df_all['game_name'].str.findall(r'\\w|\\s').str.join('').str.replace(r\"\\s+\",\"_\").str.lower()\n"
   ]
  },
  {
   "cell_type": "code",
   "execution_count": 31,
   "metadata": {},
   "outputs": [
    {
     "data": {
      "text/plain": [
       "218684"
      ]
     },
     "execution_count": 31,
     "metadata": {},
     "output_type": "execute_result"
    }
   ],
   "source": [
    "df_all"
   ]
  },
  {
   "cell_type": "code",
   "execution_count": 32,
   "metadata": {},
   "outputs": [],
   "source": [
    "df_without_duplicated = df_all.drop_duplicates()"
   ]
  },
  {
   "cell_type": "code",
   "execution_count": 35,
   "metadata": {},
   "outputs": [],
   "source": [
    "schema = 'bgg_data'\n",
    "main_table_name = 'main'\n",
    "name_table = 'game_names_masked'"
   ]
  },
  {
   "cell_type": "code",
   "execution_count": 36,
   "metadata": {},
   "outputs": [],
   "source": [
    "main_query = f\"SELECT * FROM {schema}.{main_table_name};\"\n",
    "name_query = f\"SELECT * FROM {schema}.{name_table};\""
   ]
  },
  {
   "cell_type": "code",
   "execution_count": 37,
   "metadata": {},
   "outputs": [],
   "source": [
    "df_main_bgg = sf.get_dataframe(main_query)\n",
    "df_name_bgg = sf.get_dataframe(name_query)"
   ]
  },
  {
   "cell_type": "code",
   "execution_count": 38,
   "metadata": {},
   "outputs": [
    {
     "name": "stdout",
     "output_type": "stream",
     "text": [
      "<class 'pandas.core.frame.DataFrame'>\n",
      "RangeIndex: 206089 entries, 0 to 206088\n",
      "Data columns (total 3 columns):\n",
      " #   Column        Non-Null Count   Dtype \n",
      "---  ------        --------------   ----- \n",
      " 0   id            206089 non-null  int64 \n",
      " 1   game_name     206088 non-null  object\n",
      " 2   primary_bool  206089 non-null  int64 \n",
      "dtypes: int64(2), object(1)\n",
      "memory usage: 4.7+ MB\n"
     ]
    }
   ],
   "source": [
    "df_ks_"
   ]
  }
 ],
 "metadata": {
  "kernelspec": {
   "display_name": "Python 3.9.12 ('nf_sql')",
   "language": "python",
   "name": "python3"
  },
  "language_info": {
   "codemirror_mode": {
    "name": "ipython",
    "version": 3
   },
   "file_extension": ".py",
   "mimetype": "text/x-python",
   "name": "python",
   "nbconvert_exporter": "python",
   "pygments_lexer": "ipython3",
   "version": "3.9.12"
  },
  "orig_nbformat": 4,
  "vscode": {
   "interpreter": {
    "hash": "a81d278bed5b5b59425dcb5a82ce505657686243c184b4a6b67e69d01c4d432e"
   }
  }
 },
 "nbformat": 4,
 "nbformat_minor": 2
}
