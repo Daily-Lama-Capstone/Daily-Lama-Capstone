{
 "cells": [
  {
   "cell_type": "code",
   "execution_count": 1,
   "metadata": {},
   "outputs": [],
   "source": [
    "import pandas as pd\n",
    "import numpy as np\n",
    "import json\n",
    "import os\n",
    "import capstone_functions as cf\n",
    "import capstone_json_functions as cjf\n",
    "import sql_functions as sf\n",
    "from pathlib import Path\n",
    "import re\n"
   ]
  },
  {
   "cell_type": "code",
   "execution_count": 2,
   "metadata": {},
   "outputs": [],
   "source": [
    "directory = \"data/kickstarter_json/\"\n",
    "filename = \"2022-06-09.json\"\n",
    "file_path = f\"{directory}{filename}\"\n",
    "schema = 'kickstarter_bg'\n",
    "table_name = 'boardgames'\n",
    "engine = sf.get_engine()\n"
   ]
  },
  {
   "cell_type": "markdown",
   "metadata": {},
   "source": [
    "Rename files, if they start with \"Kickstarter...\""
   ]
  },
  {
   "cell_type": "code",
   "execution_count": null,
   "metadata": {},
   "outputs": [],
   "source": [
    "cjf.rename_kickstarter_files(directory)"
   ]
  },
  {
   "cell_type": "markdown",
   "metadata": {},
   "source": [
    "Read the file and store it into a list called \"lines\""
   ]
  },
  {
   "cell_type": "code",
   "execution_count": null,
   "metadata": {},
   "outputs": [],
   "source": [
    "# lines is a list of strings\n",
    "lines = cjf.list_of_lines(file_path)"
   ]
  },
  {
   "cell_type": "markdown",
   "metadata": {},
   "source": [
    "build a dictionairy by looking at the \"category\""
   ]
  },
  {
   "cell_type": "code",
   "execution_count": null,
   "metadata": {},
   "outputs": [],
   "source": [
    "list_of_categories = cjf.list_of_categories(file_path)"
   ]
  },
  {
   "cell_type": "markdown",
   "metadata": {},
   "source": [
    "Build the dataframe"
   ]
  },
  {
   "cell_type": "code",
   "execution_count": null,
   "metadata": {},
   "outputs": [],
   "source": [
    "df = cjf.build_df_from_lines_list(lines)"
   ]
  },
  {
   "cell_type": "markdown",
   "metadata": {},
   "source": [
    "List of Columns to keep"
   ]
  },
  {
   "cell_type": "code",
   "execution_count": 14,
   "metadata": {},
   "outputs": [],
   "source": [
    "columns_to_keep = cjf.columns_to_keep"
   ]
  },
  {
   "cell_type": "code",
   "execution_count": 17,
   "metadata": {},
   "outputs": [],
   "source": [
    "columns_to_keep[0] = 'game_name'"
   ]
  },
  {
   "cell_type": "code",
   "execution_count": 18,
   "metadata": {},
   "outputs": [
    {
     "data": {
      "text/plain": [
       "['game_name',\n",
       " 'goal',\n",
       " 'pledged',\n",
       " 'state',\n",
       " 'slug',\n",
       " 'country',\n",
       " 'currency',\n",
       " 'deadline',\n",
       " 'created_at',\n",
       " 'launched_at',\n",
       " 'backers_count',\n",
       " 'usd_pledged',\n",
       " 'creator_name',\n",
       " 'state_changed_at']"
      ]
     },
     "execution_count": 18,
     "metadata": {},
     "output_type": "execute_result"
    }
   ],
   "source": [
    "columns_to_keep"
   ]
  },
  {
   "cell_type": "markdown",
   "metadata": {},
   "source": [
    "Overwrite the df with itself with the chosen columns"
   ]
  },
  {
   "cell_type": "code",
   "execution_count": null,
   "metadata": {},
   "outputs": [],
   "source": [
    "df = df[columns_to_keep]"
   ]
  },
  {
   "cell_type": "markdown",
   "metadata": {},
   "source": [
    "Convert Unix timestamp to pandas datetime"
   ]
  },
  {
   "cell_type": "code",
   "execution_count": null,
   "metadata": {},
   "outputs": [],
   "source": [
    "df = cjf.unix_to_datetime(df)"
   ]
  },
  {
   "cell_type": "markdown",
   "metadata": {},
   "source": [
    "# And now with all the json files"
   ]
  },
  {
   "cell_type": "code",
   "execution_count": 3,
   "metadata": {},
   "outputs": [
    {
     "name": "stdout",
     "output_type": "stream",
     "text": [
      "data/kickstarter_json/2019-04-18.json\n",
      "data/kickstarter_json/2018-09-13.json\n",
      "data/kickstarter_json/2017-09-15.json\n",
      "data/kickstarter_json/2021-05-13.json\n",
      "data/kickstarter_json/2018-03-15.json\n",
      "data/kickstarter_json/2016-06-15.json\n",
      "data/kickstarter_json/2019-06-13.json\n",
      "data/kickstarter_json/2019-01-17.json\n",
      "data/kickstarter_json/2017-10-15.json\n",
      "data/kickstarter_json/2020-10-15.json\n",
      "data/kickstarter_json/2018-01-12.json\n",
      "data/kickstarter_json/2021-07-15.json\n",
      "data/kickstarter_json/2020-03-12.json\n",
      "data/kickstarter_json/2016-07-15.json\n",
      "data/kickstarter_json/2018-02-15.json\n",
      "data/kickstarter_json/2020-04-16.json\n",
      "data/kickstarter_json/2019-10-17.json\n",
      "data/kickstarter_json/2020-02-13.json\n",
      "data/kickstarter_json/2017-11-15.json\n",
      "data/kickstarter_json/2017-01-15.json\n",
      "data/kickstarter_json/2017-08-15.json\n",
      "data/kickstarter_json/2020-11-12.json\n",
      "data/kickstarter_json/2016-05-15.json\n",
      "data/kickstarter_json/2021-02-11.json\n",
      "data/kickstarter_json/2017-03-15.json\n",
      "data/kickstarter_json/2022-04-21.json\n",
      "data/kickstarter_json/2019-07-18.json\n",
      "data/kickstarter_json/2021-09-16.json\n",
      "data/kickstarter_json/2020-08-13.json\n",
      "data/kickstarter_json/2018-10-18.json\n",
      "data/kickstarter_json/2015-10-22.json\n",
      "data/kickstarter_json/2018-11-15.json\n",
      "data/kickstarter_json/2020-07-16.json\n",
      "data/kickstarter_json/2021-04-15.json\n",
      "data/kickstarter_json/2016-04-15.json\n",
      "data/kickstarter_json/2018-05-17.json\n",
      "data/kickstarter_json/2018-12-13.json\n",
      "data/kickstarter_json/2022-03-24.json\n",
      "data/kickstarter_json/2017-12-15.json\n",
      "data/kickstarter_json/2017-02-15.json\n",
      "data/kickstarter_json/2017-07-15.json\n",
      "data/kickstarter_json/2014-08-13.json\n",
      "data/kickstarter_json/2021-10-14.json\n",
      "data/kickstarter_json/2022-01-20.json\n",
      "data/kickstarter_json/2019-03-14.json\n",
      "data/kickstarter_json/2022-02-10.json\n",
      "data/kickstarter_json/2014-12-03.json\n",
      "data/kickstarter_json/2018-08-16.json\n",
      "data/kickstarter_json/2014-10-28.json\n",
      "data/kickstarter_json/2015-06-12.json\n",
      "data/kickstarter_json/2021-12-09.json\n",
      "data/kickstarter_json/2020-06-18.json\n",
      "data/kickstarter_json/2019-09-12.json\n",
      "data/kickstarter_json/2016-08-15.json\n",
      "data/kickstarter_json/2021-11-18.json\n",
      "data/kickstarter_json/2015-04-02.json\n",
      "data/kickstarter_json/2015-08-21.json\n",
      "data/kickstarter_json/2016-09-15.json\n",
      "data/kickstarter_json/2015-11-01.json\n",
      "data/kickstarter_json/2018-07-12.json\n",
      "data/kickstarter_json/2017-06-15.json\n",
      "data/kickstarter_json/2021-01-14.json\n",
      "data/kickstarter_json/2020-12-17.json\n",
      "data/kickstarter_json/2016-10-15.json\n",
      "data/kickstarter_json/2022-05-19.json\n",
      "data/kickstarter_json/2019-02-14.json\n",
      "data/kickstarter_json/2022-06-09.json\n",
      "data/kickstarter_json/2014-08-04.json\n",
      "data/kickstarter_json/2019-08-15.json\n",
      "data/kickstarter_json/2021-03-18.json\n",
      "data/kickstarter_json/2020-09-17.json\n",
      "data/kickstarter_json/2016-03-22.json\n",
      "data/kickstarter_json/2018-06-14.json\n",
      "data/kickstarter_json/2017-04-15.json\n",
      "data/kickstarter_json/2021-06-17.json\n",
      "data/kickstarter_json/2020-05-14.json\n",
      "data/kickstarter_json/2016-12-15.json\n",
      "data/kickstarter_json/2020-01-16.json\n",
      "data/kickstarter_json/2017-05-15.json\n",
      "data/kickstarter_json/2016-11-12.json\n",
      "data/kickstarter_json/2018-04-12.json\n",
      "data/kickstarter_json/2019-11-14.json\n",
      "data/kickstarter_json/2019-12-12.json\n",
      "data/kickstarter_json/2019-05-16.json\n",
      "data/kickstarter_json/2016-01-28.json\n",
      "data/kickstarter_json/2021-08-12.json\n",
      "data/kickstarter_json/2015-12-17.json\n",
      "87 files have been dataframed\n"
     ]
    }
   ],
   "source": [
    "pathlist = Path(directory).glob('**/*.json')\n",
    "df_all = pd.DataFrame()\n",
    "counter = 0\n",
    "for path in pathlist:\n",
    "    file_path = str(path)\n",
    "    print(file_path)\n",
    "    lines = cjf.list_of_lines(file_path)\n",
    "    df_temp = cjf.build_df_from_lines_list(lines)\n",
    "    df_all = pd.concat([df_all, df_temp])\n",
    "    counter += 1\n",
    "print(f\"{counter} files have been dataframed\")\n"
   ]
  },
  {
   "cell_type": "code",
   "execution_count": null,
   "metadata": {},
   "outputs": [],
   "source": []
  },
  {
   "cell_type": "code",
   "execution_count": 19,
   "metadata": {},
   "outputs": [],
   "source": [
    "df_all = df_all[columns_to_keep]"
   ]
  },
  {
   "cell_type": "code",
   "execution_count": 20,
   "metadata": {},
   "outputs": [
    {
     "name": "stderr",
     "output_type": "stream",
     "text": [
      "/Users/ruperthufnagel/DailyLama/Daily-Lama-Capstone/capstone_json_functions.py:32: SettingWithCopyWarning: \n",
      "A value is trying to be set on a copy of a slice from a DataFrame.\n",
      "Try using .loc[row_indexer,col_indexer] = value instead\n",
      "\n",
      "See the caveats in the documentation: https://pandas.pydata.org/pandas-docs/stable/user_guide/indexing.html#returning-a-view-versus-a-copy\n",
      "  df[col] = pd.to_datetime(df[col],unit='s')\n",
      "/Users/ruperthufnagel/DailyLama/Daily-Lama-Capstone/capstone_json_functions.py:32: SettingWithCopyWarning: \n",
      "A value is trying to be set on a copy of a slice from a DataFrame.\n",
      "Try using .loc[row_indexer,col_indexer] = value instead\n",
      "\n",
      "See the caveats in the documentation: https://pandas.pydata.org/pandas-docs/stable/user_guide/indexing.html#returning-a-view-versus-a-copy\n",
      "  df[col] = pd.to_datetime(df[col],unit='s')\n",
      "/Users/ruperthufnagel/DailyLama/Daily-Lama-Capstone/capstone_json_functions.py:32: SettingWithCopyWarning: \n",
      "A value is trying to be set on a copy of a slice from a DataFrame.\n",
      "Try using .loc[row_indexer,col_indexer] = value instead\n",
      "\n",
      "See the caveats in the documentation: https://pandas.pydata.org/pandas-docs/stable/user_guide/indexing.html#returning-a-view-versus-a-copy\n",
      "  df[col] = pd.to_datetime(df[col],unit='s')\n",
      "/Users/ruperthufnagel/DailyLama/Daily-Lama-Capstone/capstone_json_functions.py:32: SettingWithCopyWarning: \n",
      "A value is trying to be set on a copy of a slice from a DataFrame.\n",
      "Try using .loc[row_indexer,col_indexer] = value instead\n",
      "\n",
      "See the caveats in the documentation: https://pandas.pydata.org/pandas-docs/stable/user_guide/indexing.html#returning-a-view-versus-a-copy\n",
      "  df[col] = pd.to_datetime(df[col],unit='s')\n"
     ]
    }
   ],
   "source": [
    "df_all = cjf.unix_to_datetime(df_all)"
   ]
  },
  {
   "cell_type": "code",
   "execution_count": 5,
   "metadata": {},
   "outputs": [],
   "source": [
    "df_all.rename({\"name\":\"game_name\"},axis=1,inplace=True)"
   ]
  },
  {
   "cell_type": "code",
   "execution_count": 21,
   "metadata": {},
   "outputs": [],
   "source": [
    "df2 = df_all.astype({'usd_pledged': f\"{'float64'}\"}).round(2)"
   ]
  },
  {
   "cell_type": "code",
   "execution_count": 22,
   "metadata": {},
   "outputs": [
    {
     "name": "stderr",
     "output_type": "stream",
     "text": [
      "/var/folders/kb/wqf78x2d06z43w0nwzbclk3m0000gn/T/ipykernel_4084/3414864267.py:1: FutureWarning: The default value of regex will change from True to False in a future version.\n",
      "  df2['game_name'] =  df2['game_name'].str.findall(r'\\w|\\s').str.join('').str.replace(r\"\\s+\",\"_\").str.lower()\n"
     ]
    }
   ],
   "source": [
    "df2['game_name'] =  df2['game_name'].str.findall(r'\\w|\\s').str.join('').str.replace(r\"\\s+\",\"_\").str.lower()"
   ]
  },
  {
   "cell_type": "code",
   "execution_count": 23,
   "metadata": {},
   "outputs": [
    {
     "name": "stdout",
     "output_type": "stream",
     "text": [
      "<class 'pandas.core.frame.DataFrame'>\n",
      "Int64Index: 260659 entries, 0 to 0\n",
      "Data columns (total 14 columns):\n",
      " #   Column            Non-Null Count   Dtype         \n",
      "---  ------            --------------   -----         \n",
      " 0   game_name         260659 non-null  object        \n",
      " 1   goal              260659 non-null  int64         \n",
      " 2   pledged           260659 non-null  float64       \n",
      " 3   state             260659 non-null  object        \n",
      " 4   slug              260659 non-null  object        \n",
      " 5   country           260659 non-null  object        \n",
      " 6   currency          260659 non-null  object        \n",
      " 7   deadline          260659 non-null  datetime64[ns]\n",
      " 8   created_at        260659 non-null  datetime64[ns]\n",
      " 9   launched_at       260659 non-null  datetime64[ns]\n",
      " 10  backers_count     260659 non-null  int64         \n",
      " 11  usd_pledged       260659 non-null  float64       \n",
      " 12  creator_name      260659 non-null  object        \n",
      " 13  state_changed_at  260659 non-null  datetime64[ns]\n",
      "dtypes: datetime64[ns](4), float64(2), int64(2), object(6)\n",
      "memory usage: 29.8+ MB\n"
     ]
    }
   ],
   "source": [
    "df2.info()"
   ]
  },
  {
   "cell_type": "code",
   "execution_count": null,
   "metadata": {},
   "outputs": [],
   "source": [
    "df2.drop_duplicates(inplace=True)"
   ]
  },
  {
   "cell_type": "code",
   "execution_count": 1,
   "metadata": {},
   "outputs": [],
   "source": [
    "schema = 'bgg_data'\n",
    "main_table_name = 'main'\n",
    "name_table = 'game_names'\n",
    "kickstarter_table = 'kickstarter_temp'"
   ]
  },
  {
   "cell_type": "code",
   "execution_count": 26,
   "metadata": {},
   "outputs": [],
   "source": [
    "main_query = f\"SELECT * FROM {schema}.{main_table_name};\"\n",
    "name_query = f\"SELECT * FROM {schema}.{name_table};\"\n",
    "kickstarter_query = f\"SELECT * FROM {schema}.{kickstarter_temp};\""
   ]
  },
  {
   "cell_type": "code",
   "execution_count": 27,
   "metadata": {},
   "outputs": [],
   "source": [
    "df_main_bgg = sf.get_dataframe(main_query)\n",
    "df_name_bgg = sf.get_dataframe(name_query)"
   ]
  },
  {
   "cell_type": "code",
   "execution_count": 42,
   "metadata": {},
   "outputs": [
    {
     "name": "stdout",
     "output_type": "stream",
     "text": [
      "<class 'pandas.core.frame.DataFrame'>\n",
      "RangeIndex: 137153 entries, 0 to 137152\n",
      "Data columns (total 8 columns):\n",
      " #   Column         Non-Null Count   Dtype\n",
      "---  ------         --------------   -----\n",
      " 0   id             137153 non-null  int64\n",
      " 1   yearpublished  137153 non-null  int64\n",
      " 2   min_players    137153 non-null  int64\n",
      " 3   max_players    137153 non-null  int64\n",
      " 4   playtime       137153 non-null  int64\n",
      " 5   min_playtime   137153 non-null  int64\n",
      " 6   max_playtime   137153 non-null  int64\n",
      " 7   min_age        137153 non-null  int64\n",
      "dtypes: int64(8)\n",
      "memory usage: 8.4 MB\n"
     ]
    }
   ],
   "source": [
    "df_main_bgg.info()"
   ]
  },
  {
   "cell_type": "code",
   "execution_count": 28,
   "metadata": {},
   "outputs": [],
   "source": [
    "df_name_main_bgg = pd.merge(df_main_bgg,df_name_bgg,how='inner',on='id')"
   ]
  },
  {
   "cell_type": "code",
   "execution_count": 30,
   "metadata": {},
   "outputs": [
    {
     "name": "stderr",
     "output_type": "stream",
     "text": [
      "/Users/ruperthufnagel/DailyLama/Daily-Lama-Capstone/capstone_functions.py:128: FutureWarning: The default value of regex will change from True to False in a future version.\n",
      "  df[column_name] =  df[column_name].str.findall(r'\\w|\\s').str.join('').str.replace(r\"\\s+\",\"_\").str.lower()\n"
     ]
    }
   ],
   "source": [
    "df_name_main_bgg = cf.rename_game_names(df_name_main_bgg,column_name='game_name')"
   ]
  },
  {
   "cell_type": "code",
   "execution_count": 41,
   "metadata": {},
   "outputs": [
    {
     "name": "stdout",
     "output_type": "stream",
     "text": [
      "<class 'pandas.core.frame.DataFrame'>\n",
      "Int64Index: 206097 entries, 0 to 206096\n",
      "Data columns (total 10 columns):\n",
      " #   Column         Non-Null Count   Dtype \n",
      "---  ------         --------------   ----- \n",
      " 0   id             206097 non-null  int64 \n",
      " 1   yearpublished  206097 non-null  int64 \n",
      " 2   min_players    206097 non-null  int64 \n",
      " 3   max_players    206097 non-null  int64 \n",
      " 4   playtime       206097 non-null  int64 \n",
      " 5   min_playtime   206097 non-null  int64 \n",
      " 6   max_playtime   206097 non-null  int64 \n",
      " 7   min_age        206097 non-null  int64 \n",
      " 8   game_name      206096 non-null  object\n",
      " 9   primary_bool   206097 non-null  int64 \n",
      "dtypes: int64(9), object(1)\n",
      "memory usage: 17.3+ MB\n"
     ]
    }
   ],
   "source": [
    "df_name_main_bgg.info()"
   ]
  },
  {
   "cell_type": "code",
   "execution_count": 43,
   "metadata": {},
   "outputs": [],
   "source": [
    "df2.drop_duplicates(inplace=True)"
   ]
  },
  {
   "cell_type": "code",
   "execution_count": 40,
   "metadata": {},
   "outputs": [
    {
     "data": {
      "text/html": [
       "<div>\n",
       "<style scoped>\n",
       "    .dataframe tbody tr th:only-of-type {\n",
       "        vertical-align: middle;\n",
       "    }\n",
       "\n",
       "    .dataframe tbody tr th {\n",
       "        vertical-align: top;\n",
       "    }\n",
       "\n",
       "    .dataframe thead th {\n",
       "        text-align: right;\n",
       "    }\n",
       "</style>\n",
       "<table border=\"1\" class=\"dataframe\">\n",
       "  <thead>\n",
       "    <tr style=\"text-align: right;\">\n",
       "      <th></th>\n",
       "      <th>id</th>\n",
       "      <th>yearpublished</th>\n",
       "      <th>min_players</th>\n",
       "      <th>max_players</th>\n",
       "      <th>playtime</th>\n",
       "      <th>min_playtime</th>\n",
       "      <th>max_playtime</th>\n",
       "      <th>min_age</th>\n",
       "      <th>game_name</th>\n",
       "      <th>primary_bool</th>\n",
       "      <th>...</th>\n",
       "      <th>slug</th>\n",
       "      <th>country</th>\n",
       "      <th>currency</th>\n",
       "      <th>deadline</th>\n",
       "      <th>created_at</th>\n",
       "      <th>launched_at</th>\n",
       "      <th>backers_count</th>\n",
       "      <th>usd_pledged</th>\n",
       "      <th>creator_name</th>\n",
       "      <th>state_changed_at</th>\n",
       "    </tr>\n",
       "  </thead>\n",
       "  <tbody>\n",
       "    <tr>\n",
       "      <th>0</th>\n",
       "      <td>98443</td>\n",
       "      <td>2012</td>\n",
       "      <td>1</td>\n",
       "      <td>4</td>\n",
       "      <td>90</td>\n",
       "      <td>90</td>\n",
       "      <td>90</td>\n",
       "      <td>10</td>\n",
       "      <td>dark_horse</td>\n",
       "      <td>1</td>\n",
       "      <td>...</td>\n",
       "      <td>dark-horse</td>\n",
       "      <td>US</td>\n",
       "      <td>USD</td>\n",
       "      <td>2011-06-21 19:49:09</td>\n",
       "      <td>2011-04-19 01:36:55</td>\n",
       "      <td>2011-05-07 19:49:09</td>\n",
       "      <td>148</td>\n",
       "      <td>9696.03</td>\n",
       "      <td>Knight Works</td>\n",
       "      <td>2011-06-21 19:49:10</td>\n",
       "    </tr>\n",
       "    <tr>\n",
       "      <th>1</th>\n",
       "      <td>98443</td>\n",
       "      <td>2012</td>\n",
       "      <td>1</td>\n",
       "      <td>4</td>\n",
       "      <td>90</td>\n",
       "      <td>90</td>\n",
       "      <td>90</td>\n",
       "      <td>10</td>\n",
       "      <td>dark_horse</td>\n",
       "      <td>1</td>\n",
       "      <td>...</td>\n",
       "      <td>dark-horse</td>\n",
       "      <td>US</td>\n",
       "      <td>USD</td>\n",
       "      <td>2011-06-21 19:49:09</td>\n",
       "      <td>2011-04-19 01:36:55</td>\n",
       "      <td>2011-05-07 19:49:09</td>\n",
       "      <td>148</td>\n",
       "      <td>9696.03</td>\n",
       "      <td>Knight Works</td>\n",
       "      <td>2011-06-21 19:49:10</td>\n",
       "    </tr>\n",
       "    <tr>\n",
       "      <th>2</th>\n",
       "      <td>98443</td>\n",
       "      <td>2012</td>\n",
       "      <td>1</td>\n",
       "      <td>4</td>\n",
       "      <td>90</td>\n",
       "      <td>90</td>\n",
       "      <td>90</td>\n",
       "      <td>10</td>\n",
       "      <td>dark_horse</td>\n",
       "      <td>1</td>\n",
       "      <td>...</td>\n",
       "      <td>dark-horse</td>\n",
       "      <td>US</td>\n",
       "      <td>USD</td>\n",
       "      <td>2011-06-21 19:49:09</td>\n",
       "      <td>2011-04-19 01:36:55</td>\n",
       "      <td>2011-05-07 19:49:09</td>\n",
       "      <td>148</td>\n",
       "      <td>9696.03</td>\n",
       "      <td>Knight Works</td>\n",
       "      <td>2011-06-21 19:49:10</td>\n",
       "    </tr>\n",
       "    <tr>\n",
       "      <th>3</th>\n",
       "      <td>98443</td>\n",
       "      <td>2012</td>\n",
       "      <td>1</td>\n",
       "      <td>4</td>\n",
       "      <td>90</td>\n",
       "      <td>90</td>\n",
       "      <td>90</td>\n",
       "      <td>10</td>\n",
       "      <td>dark_horse</td>\n",
       "      <td>1</td>\n",
       "      <td>...</td>\n",
       "      <td>dark-horse</td>\n",
       "      <td>US</td>\n",
       "      <td>USD</td>\n",
       "      <td>2011-06-21 19:49:09</td>\n",
       "      <td>2011-04-19 01:36:55</td>\n",
       "      <td>2011-05-07 19:49:09</td>\n",
       "      <td>148</td>\n",
       "      <td>9696.03</td>\n",
       "      <td>Knight Works</td>\n",
       "      <td>2011-06-21 19:49:10</td>\n",
       "    </tr>\n",
       "    <tr>\n",
       "      <th>4</th>\n",
       "      <td>98443</td>\n",
       "      <td>2012</td>\n",
       "      <td>1</td>\n",
       "      <td>4</td>\n",
       "      <td>90</td>\n",
       "      <td>90</td>\n",
       "      <td>90</td>\n",
       "      <td>10</td>\n",
       "      <td>dark_horse</td>\n",
       "      <td>1</td>\n",
       "      <td>...</td>\n",
       "      <td>dark-horse</td>\n",
       "      <td>US</td>\n",
       "      <td>USD</td>\n",
       "      <td>2011-06-21 19:49:09</td>\n",
       "      <td>2011-04-19 01:36:55</td>\n",
       "      <td>2011-05-07 19:49:09</td>\n",
       "      <td>148</td>\n",
       "      <td>9696.03</td>\n",
       "      <td>Knight Works</td>\n",
       "      <td>2011-06-21 19:49:10</td>\n",
       "    </tr>\n",
       "    <tr>\n",
       "      <th>...</th>\n",
       "      <td>...</td>\n",
       "      <td>...</td>\n",
       "      <td>...</td>\n",
       "      <td>...</td>\n",
       "      <td>...</td>\n",
       "      <td>...</td>\n",
       "      <td>...</td>\n",
       "      <td>...</td>\n",
       "      <td>...</td>\n",
       "      <td>...</td>\n",
       "      <td>...</td>\n",
       "      <td>...</td>\n",
       "      <td>...</td>\n",
       "      <td>...</td>\n",
       "      <td>...</td>\n",
       "      <td>...</td>\n",
       "      <td>...</td>\n",
       "      <td>...</td>\n",
       "      <td>...</td>\n",
       "      <td>...</td>\n",
       "      <td>...</td>\n",
       "    </tr>\n",
       "    <tr>\n",
       "      <th>195</th>\n",
       "      <td>173093</td>\n",
       "      <td>2016</td>\n",
       "      <td>2</td>\n",
       "      <td>4</td>\n",
       "      <td>120</td>\n",
       "      <td>60</td>\n",
       "      <td>120</td>\n",
       "      <td>14</td>\n",
       "      <td>warquest</td>\n",
       "      <td>1</td>\n",
       "      <td>...</td>\n",
       "      <td>warquest</td>\n",
       "      <td>US</td>\n",
       "      <td>USD</td>\n",
       "      <td>2015-05-28 22:00:00</td>\n",
       "      <td>2015-04-22 23:48:42</td>\n",
       "      <td>2015-05-05 13:53:03</td>\n",
       "      <td>363</td>\n",
       "      <td>84506.00</td>\n",
       "      <td>Mr. B. Games</td>\n",
       "      <td>2015-05-28 22:00:12</td>\n",
       "    </tr>\n",
       "    <tr>\n",
       "      <th>196</th>\n",
       "      <td>173093</td>\n",
       "      <td>2016</td>\n",
       "      <td>2</td>\n",
       "      <td>4</td>\n",
       "      <td>120</td>\n",
       "      <td>60</td>\n",
       "      <td>120</td>\n",
       "      <td>14</td>\n",
       "      <td>warquest</td>\n",
       "      <td>1</td>\n",
       "      <td>...</td>\n",
       "      <td>warquest</td>\n",
       "      <td>US</td>\n",
       "      <td>USD</td>\n",
       "      <td>2015-05-28 22:00:00</td>\n",
       "      <td>2015-04-22 23:48:42</td>\n",
       "      <td>2015-05-05 13:53:03</td>\n",
       "      <td>363</td>\n",
       "      <td>84506.00</td>\n",
       "      <td>Mr. B. Games</td>\n",
       "      <td>2015-05-28 22:00:12</td>\n",
       "    </tr>\n",
       "    <tr>\n",
       "      <th>197</th>\n",
       "      <td>173093</td>\n",
       "      <td>2016</td>\n",
       "      <td>2</td>\n",
       "      <td>4</td>\n",
       "      <td>120</td>\n",
       "      <td>60</td>\n",
       "      <td>120</td>\n",
       "      <td>14</td>\n",
       "      <td>warquest</td>\n",
       "      <td>1</td>\n",
       "      <td>...</td>\n",
       "      <td>warquest</td>\n",
       "      <td>US</td>\n",
       "      <td>USD</td>\n",
       "      <td>2015-05-28 22:00:00</td>\n",
       "      <td>2015-04-22 23:48:42</td>\n",
       "      <td>2015-05-05 13:53:03</td>\n",
       "      <td>363</td>\n",
       "      <td>84506.00</td>\n",
       "      <td>Mr. B. Games</td>\n",
       "      <td>2015-05-28 22:00:12</td>\n",
       "    </tr>\n",
       "    <tr>\n",
       "      <th>198</th>\n",
       "      <td>173093</td>\n",
       "      <td>2016</td>\n",
       "      <td>2</td>\n",
       "      <td>4</td>\n",
       "      <td>120</td>\n",
       "      <td>60</td>\n",
       "      <td>120</td>\n",
       "      <td>14</td>\n",
       "      <td>warquest</td>\n",
       "      <td>1</td>\n",
       "      <td>...</td>\n",
       "      <td>warquest</td>\n",
       "      <td>US</td>\n",
       "      <td>USD</td>\n",
       "      <td>2015-05-28 22:00:00</td>\n",
       "      <td>2015-04-22 23:48:42</td>\n",
       "      <td>2015-05-05 13:53:03</td>\n",
       "      <td>363</td>\n",
       "      <td>84506.00</td>\n",
       "      <td>Mr. B. Games</td>\n",
       "      <td>2015-05-28 22:00:12</td>\n",
       "    </tr>\n",
       "    <tr>\n",
       "      <th>199</th>\n",
       "      <td>173093</td>\n",
       "      <td>2016</td>\n",
       "      <td>2</td>\n",
       "      <td>4</td>\n",
       "      <td>120</td>\n",
       "      <td>60</td>\n",
       "      <td>120</td>\n",
       "      <td>14</td>\n",
       "      <td>warquest</td>\n",
       "      <td>1</td>\n",
       "      <td>...</td>\n",
       "      <td>warquest</td>\n",
       "      <td>US</td>\n",
       "      <td>USD</td>\n",
       "      <td>2015-05-28 22:00:00</td>\n",
       "      <td>2015-04-22 23:48:42</td>\n",
       "      <td>2015-05-05 13:53:03</td>\n",
       "      <td>363</td>\n",
       "      <td>84506.00</td>\n",
       "      <td>Mr. B. Games</td>\n",
       "      <td>2015-05-28 22:00:12</td>\n",
       "    </tr>\n",
       "  </tbody>\n",
       "</table>\n",
       "<p>200 rows × 23 columns</p>\n",
       "</div>"
      ],
      "text/plain": [
       "         id  yearpublished  min_players  max_players  playtime  min_playtime  \\\n",
       "0     98443           2012            1            4        90            90   \n",
       "1     98443           2012            1            4        90            90   \n",
       "2     98443           2012            1            4        90            90   \n",
       "3     98443           2012            1            4        90            90   \n",
       "4     98443           2012            1            4        90            90   \n",
       "..      ...            ...          ...          ...       ...           ...   \n",
       "195  173093           2016            2            4       120            60   \n",
       "196  173093           2016            2            4       120            60   \n",
       "197  173093           2016            2            4       120            60   \n",
       "198  173093           2016            2            4       120            60   \n",
       "199  173093           2016            2            4       120            60   \n",
       "\n",
       "     max_playtime  min_age   game_name  primary_bool  ...        slug  \\\n",
       "0              90       10  dark_horse             1  ...  dark-horse   \n",
       "1              90       10  dark_horse             1  ...  dark-horse   \n",
       "2              90       10  dark_horse             1  ...  dark-horse   \n",
       "3              90       10  dark_horse             1  ...  dark-horse   \n",
       "4              90       10  dark_horse             1  ...  dark-horse   \n",
       "..            ...      ...         ...           ...  ...         ...   \n",
       "195           120       14    warquest             1  ...    warquest   \n",
       "196           120       14    warquest             1  ...    warquest   \n",
       "197           120       14    warquest             1  ...    warquest   \n",
       "198           120       14    warquest             1  ...    warquest   \n",
       "199           120       14    warquest             1  ...    warquest   \n",
       "\n",
       "     country currency            deadline          created_at  \\\n",
       "0         US      USD 2011-06-21 19:49:09 2011-04-19 01:36:55   \n",
       "1         US      USD 2011-06-21 19:49:09 2011-04-19 01:36:55   \n",
       "2         US      USD 2011-06-21 19:49:09 2011-04-19 01:36:55   \n",
       "3         US      USD 2011-06-21 19:49:09 2011-04-19 01:36:55   \n",
       "4         US      USD 2011-06-21 19:49:09 2011-04-19 01:36:55   \n",
       "..       ...      ...                 ...                 ...   \n",
       "195       US      USD 2015-05-28 22:00:00 2015-04-22 23:48:42   \n",
       "196       US      USD 2015-05-28 22:00:00 2015-04-22 23:48:42   \n",
       "197       US      USD 2015-05-28 22:00:00 2015-04-22 23:48:42   \n",
       "198       US      USD 2015-05-28 22:00:00 2015-04-22 23:48:42   \n",
       "199       US      USD 2015-05-28 22:00:00 2015-04-22 23:48:42   \n",
       "\n",
       "            launched_at backers_count usd_pledged  creator_name  \\\n",
       "0   2011-05-07 19:49:09           148     9696.03  Knight Works   \n",
       "1   2011-05-07 19:49:09           148     9696.03  Knight Works   \n",
       "2   2011-05-07 19:49:09           148     9696.03  Knight Works   \n",
       "3   2011-05-07 19:49:09           148     9696.03  Knight Works   \n",
       "4   2011-05-07 19:49:09           148     9696.03  Knight Works   \n",
       "..                  ...           ...         ...           ...   \n",
       "195 2015-05-05 13:53:03           363    84506.00  Mr. B. Games   \n",
       "196 2015-05-05 13:53:03           363    84506.00  Mr. B. Games   \n",
       "197 2015-05-05 13:53:03           363    84506.00  Mr. B. Games   \n",
       "198 2015-05-05 13:53:03           363    84506.00  Mr. B. Games   \n",
       "199 2015-05-05 13:53:03           363    84506.00  Mr. B. Games   \n",
       "\n",
       "       state_changed_at  \n",
       "0   2011-06-21 19:49:10  \n",
       "1   2011-06-21 19:49:10  \n",
       "2   2011-06-21 19:49:10  \n",
       "3   2011-06-21 19:49:10  \n",
       "4   2011-06-21 19:49:10  \n",
       "..                  ...  \n",
       "195 2015-05-28 22:00:12  \n",
       "196 2015-05-28 22:00:12  \n",
       "197 2015-05-28 22:00:12  \n",
       "198 2015-05-28 22:00:12  \n",
       "199 2015-05-28 22:00:12  \n",
       "\n",
       "[200 rows x 23 columns]"
      ]
     },
     "execution_count": 40,
     "metadata": {},
     "output_type": "execute_result"
    }
   ],
   "source": []
  },
  {
   "cell_type": "code",
   "execution_count": 32,
   "metadata": {},
   "outputs": [
    {
     "ename": "ValueError",
     "evalue": "Can only compare identically-labeled Series objects",
     "output_type": "error",
     "traceback": [
      "\u001b[0;31m---------------------------------------------------------------------------\u001b[0m",
      "\u001b[0;31mValueError\u001b[0m                                Traceback (most recent call last)",
      "\u001b[1;32m/Users/ruperthufnagel/DailyLama/Daily-Lama-Capstone/kickstarter_json_Christopher.ipynb Cell 33'\u001b[0m in \u001b[0;36m<cell line: 1>\u001b[0;34m()\u001b[0m\n\u001b[0;32m----> <a href='vscode-notebook-cell:/Users/ruperthufnagel/DailyLama/Daily-Lama-Capstone/kickstarter_json_Christopher.ipynb#ch0000045?line=0'>1</a>\u001b[0m df2[\u001b[39m\"\u001b[39m\u001b[39mbgg_game_name_id\u001b[39m\u001b[39m\"\u001b[39m] \u001b[39m=\u001b[39m df_name_main_bgg[\u001b[39m\"\u001b[39m\u001b[39mid\u001b[39m\u001b[39m\"\u001b[39m]\u001b[39m.\u001b[39mloc[df_name_main_bgg[\u001b[39m\"\u001b[39;49m\u001b[39mgame_name\u001b[39;49m\u001b[39m\"\u001b[39;49m] \u001b[39m==\u001b[39;49m df2[\u001b[39m\"\u001b[39;49m\u001b[39mgame_name\u001b[39;49m\u001b[39m\"\u001b[39;49m]]\n",
      "File \u001b[0;32m/opt/homebrew/Caskroom/miniconda/base/envs/nf_sql/lib/python3.9/site-packages/pandas/core/ops/common.py:70\u001b[0m, in \u001b[0;36m_unpack_zerodim_and_defer.<locals>.new_method\u001b[0;34m(self, other)\u001b[0m\n\u001b[1;32m     66\u001b[0m             \u001b[39mreturn\u001b[39;00m \u001b[39mNotImplemented\u001b[39m\n\u001b[1;32m     68\u001b[0m other \u001b[39m=\u001b[39m item_from_zerodim(other)\n\u001b[0;32m---> 70\u001b[0m \u001b[39mreturn\u001b[39;00m method(\u001b[39mself\u001b[39;49m, other)\n",
      "File \u001b[0;32m/opt/homebrew/Caskroom/miniconda/base/envs/nf_sql/lib/python3.9/site-packages/pandas/core/arraylike.py:40\u001b[0m, in \u001b[0;36mOpsMixin.__eq__\u001b[0;34m(self, other)\u001b[0m\n\u001b[1;32m     38\u001b[0m \u001b[39m@unpack_zerodim_and_defer\u001b[39m(\u001b[39m\"\u001b[39m\u001b[39m__eq__\u001b[39m\u001b[39m\"\u001b[39m)\n\u001b[1;32m     39\u001b[0m \u001b[39mdef\u001b[39;00m \u001b[39m__eq__\u001b[39m(\u001b[39mself\u001b[39m, other):\n\u001b[0;32m---> 40\u001b[0m     \u001b[39mreturn\u001b[39;00m \u001b[39mself\u001b[39;49m\u001b[39m.\u001b[39;49m_cmp_method(other, operator\u001b[39m.\u001b[39;49meq)\n",
      "File \u001b[0;32m/opt/homebrew/Caskroom/miniconda/base/envs/nf_sql/lib/python3.9/site-packages/pandas/core/series.py:5617\u001b[0m, in \u001b[0;36mSeries._cmp_method\u001b[0;34m(self, other, op)\u001b[0m\n\u001b[1;32m   5614\u001b[0m res_name \u001b[39m=\u001b[39m ops\u001b[39m.\u001b[39mget_op_result_name(\u001b[39mself\u001b[39m, other)\n\u001b[1;32m   5616\u001b[0m \u001b[39mif\u001b[39;00m \u001b[39misinstance\u001b[39m(other, Series) \u001b[39mand\u001b[39;00m \u001b[39mnot\u001b[39;00m \u001b[39mself\u001b[39m\u001b[39m.\u001b[39m_indexed_same(other):\n\u001b[0;32m-> 5617\u001b[0m     \u001b[39mraise\u001b[39;00m \u001b[39mValueError\u001b[39;00m(\u001b[39m\"\u001b[39m\u001b[39mCan only compare identically-labeled Series objects\u001b[39m\u001b[39m\"\u001b[39m)\n\u001b[1;32m   5619\u001b[0m lvalues \u001b[39m=\u001b[39m \u001b[39mself\u001b[39m\u001b[39m.\u001b[39m_values\n\u001b[1;32m   5620\u001b[0m rvalues \u001b[39m=\u001b[39m extract_array(other, extract_numpy\u001b[39m=\u001b[39m\u001b[39mTrue\u001b[39;00m, extract_range\u001b[39m=\u001b[39m\u001b[39mTrue\u001b[39;00m)\n",
      "\u001b[0;31mValueError\u001b[0m: Can only compare identically-labeled Series objects"
     ]
    }
   ],
   "source": [
    "df2[\"bgg_game_name_id\"] = df_name_main_bgg[\"id\"].loc[df_name_main_bgg[\"game_name\"] == df2[\"game_name\"]]"
   ]
  },
  {
   "cell_type": "code",
   "execution_count": 44,
   "metadata": {},
   "outputs": [
    {
     "name": "stdout",
     "output_type": "stream",
     "text": [
      "The kickstarter_temp table was imported successfully.\n"
     ]
    }
   ],
   "source": [
    "tablename = 'kickstarter_temp'\n",
    "sf.build_table(engine, tablename, df2, schema)\n"
   ]
  }
 ],
 "metadata": {
  "kernelspec": {
   "display_name": "Python 3.9.12 ('nf_sql')",
   "language": "python",
   "name": "python3"
  },
  "language_info": {
   "codemirror_mode": {
    "name": "ipython",
    "version": 3
   },
   "file_extension": ".py",
   "mimetype": "text/x-python",
   "name": "python",
   "nbconvert_exporter": "python",
   "pygments_lexer": "ipython3",
   "version": "3.9.12"
  },
  "orig_nbformat": 4,
  "vscode": {
   "interpreter": {
    "hash": "a81d278bed5b5b59425dcb5a82ce505657686243c184b4a6b67e69d01c4d432e"
   }
  }
 },
 "nbformat": 4,
 "nbformat_minor": 2
}
