{
 "cells": [
  {
   "cell_type": "code",
   "execution_count": 23,
   "metadata": {},
   "outputs": [],
   "source": [
    "import pandas as pd\n",
    "import numpy as np\n",
    "import json\n",
    "import os\n",
    "import capstone_functions as cf\n",
    "import capstone_json_functions as cjf\n",
    "import sql_functions as sf\n",
    "from pathlib import Path\n",
    "import re\n"
   ]
  },
  {
   "cell_type": "code",
   "execution_count": 24,
   "metadata": {},
   "outputs": [],
   "source": [
    "directory = \"data/kickstarter_json/\"\n",
    "filename = \"2022-06-09.json\"\n",
    "file_path = f\"{directory}{filename}\"\n",
    "schema = 'kickstarter_bg'\n",
    "table_name = 'boardgames'\n",
    "engine = sf.get_engine()\n"
   ]
  },
  {
   "cell_type": "markdown",
   "metadata": {},
   "source": [
    "Rename files, if they start with \"Kickstarter...\""
   ]
  },
  {
   "cell_type": "code",
   "execution_count": 15,
   "metadata": {},
   "outputs": [],
   "source": [
    "cjf.rename_kickstarter_files(directory)\n"
   ]
  },
  {
   "cell_type": "markdown",
   "metadata": {},
   "source": [
    "Read the file and store it into a list called \"lines\""
   ]
  },
  {
   "cell_type": "code",
   "execution_count": 16,
   "metadata": {},
   "outputs": [],
   "source": [
    "# lines is a list of strings\n",
    "lines = cjf.list_of_lines(file_path)\n"
   ]
  },
  {
   "cell_type": "markdown",
   "metadata": {},
   "source": [
    "build a dictionairy by looking at the \"category\""
   ]
  },
  {
   "cell_type": "code",
   "execution_count": null,
   "metadata": {},
   "outputs": [],
   "source": [
    "list_of_categories = cjf.list_of_categories(file_path)\n"
   ]
  },
  {
   "cell_type": "markdown",
   "metadata": {},
   "source": [
    "Build the dataframe"
   ]
  },
  {
   "cell_type": "code",
   "execution_count": 17,
   "metadata": {},
   "outputs": [],
   "source": [
    "df = cjf.build_df_from_lines_list(lines)\n"
   ]
  },
  {
   "cell_type": "code",
   "execution_count": 19,
   "metadata": {},
   "outputs": [
    {
     "name": "stdout",
     "output_type": "stream",
     "text": [
      "<class 'pandas.core.frame.DataFrame'>\n",
      "Int64Index: 4129 entries, 0 to 0\n",
      "Data columns (total 39 columns):\n",
      " #   Column                      Non-Null Count  Dtype  \n",
      "---  ------                      --------------  -----  \n",
      " 0   friends                     64 non-null     object \n",
      " 1   is_starred                  64 non-null     object \n",
      " 2   is_backing                  64 non-null     object \n",
      " 3   permissions                 64 non-null     object \n",
      " 4   name                        4129 non-null   object \n",
      " 5   goal                        4129 non-null   int64  \n",
      " 6   pledged                     4129 non-null   float64\n",
      " 7   state                       4129 non-null   object \n",
      " 8   slug                        4129 non-null   object \n",
      " 9   country                     4129 non-null   object \n",
      " 10  country_displayable_name    4129 non-null   object \n",
      " 11  currency                    4129 non-null   object \n",
      " 12  deadline                    4129 non-null   int64  \n",
      " 13  created_at                  4129 non-null   int64  \n",
      " 14  launched_at                 4129 non-null   int64  \n",
      " 15  backers_count               4129 non-null   int64  \n",
      " 16  usd_pledged                 4129 non-null   object \n",
      " 17  current_currency            4129 non-null   object \n",
      " 18  creator_id                  4129 non-null   int64  \n",
      " 19  creator_name                4129 non-null   object \n",
      " 20  creator_slug                3602 non-null   object \n",
      " 21  creator_is_registered       0 non-null      object \n",
      " 22  creator_is_email_verified   0 non-null      object \n",
      " 23  creator_chosen_currency     0 non-null      object \n",
      " 24  creator_is_superbacker      0 non-null      object \n",
      " 25  creator_avatar_thumb        4129 non-null   object \n",
      " 26  creator_avatar_small        4129 non-null   object \n",
      " 27  creator_avatar_medium       4129 non-null   object \n",
      " 28  creator_urls_web_user       4129 non-null   object \n",
      " 29  creator_urls_api_user       4129 non-null   object \n",
      " 30  category_id                 4129 non-null   int64  \n",
      " 31  category_name               4129 non-null   object \n",
      " 32  category_analytics_name     4129 non-null   object \n",
      " 33  category_slug               4129 non-null   object \n",
      " 34  category_position           4129 non-null   int64  \n",
      " 35  category_parent_id          4129 non-null   int64  \n",
      " 36  category_parent_name        4129 non-null   object \n",
      " 37  category_color              4129 non-null   int64  \n",
      " 38  category_urls_web_discover  4129 non-null   object \n",
      "dtypes: float64(1), int64(10), object(28)\n",
      "memory usage: 1.3+ MB\n"
     ]
    }
   ],
   "source": [
    "df.info()"
   ]
  },
  {
   "cell_type": "markdown",
   "metadata": {},
   "source": [
    "List of Columns to keep"
   ]
  },
  {
   "cell_type": "code",
   "execution_count": 25,
   "metadata": {},
   "outputs": [],
   "source": [
    "columns_to_keep = cjf.columns_to_keep"
   ]
  },
  {
   "cell_type": "markdown",
   "metadata": {},
   "source": [
    "Overwrite the df with itself with the chosen columns"
   ]
  },
  {
   "cell_type": "code",
   "execution_count": 26,
   "metadata": {},
   "outputs": [],
   "source": [
    "df = df[columns_to_keep]\n"
   ]
  },
  {
   "cell_type": "code",
   "execution_count": 27,
   "metadata": {},
   "outputs": [
    {
     "name": "stdout",
     "output_type": "stream",
     "text": [
      "<class 'pandas.core.frame.DataFrame'>\n",
      "Int64Index: 4129 entries, 0 to 0\n",
      "Data columns (total 21 columns):\n",
      " #   Column                    Non-Null Count  Dtype  \n",
      "---  ------                    --------------  -----  \n",
      " 0   name                      4129 non-null   object \n",
      " 1   goal                      4129 non-null   int64  \n",
      " 2   pledged                   4129 non-null   float64\n",
      " 3   state                     4129 non-null   object \n",
      " 4   slug                      4129 non-null   object \n",
      " 5   country                   4129 non-null   object \n",
      " 6   country_displayable_name  4129 non-null   object \n",
      " 7   currency                  4129 non-null   object \n",
      " 8   deadline                  4129 non-null   int64  \n",
      " 9   created_at                4129 non-null   int64  \n",
      " 10  launched_at               4129 non-null   int64  \n",
      " 11  backers_count             4129 non-null   int64  \n",
      " 12  usd_pledged               4129 non-null   object \n",
      " 13  current_currency          4129 non-null   object \n",
      " 14  creator_id                4129 non-null   int64  \n",
      " 15  creator_name              4129 non-null   object \n",
      " 16  creator_slug              3602 non-null   object \n",
      " 17  category_id               4129 non-null   int64  \n",
      " 18  category_name             4129 non-null   object \n",
      " 19  category_analytics_name   4129 non-null   object \n",
      " 20  category_slug             4129 non-null   object \n",
      "dtypes: float64(1), int64(7), object(13)\n",
      "memory usage: 709.7+ KB\n"
     ]
    }
   ],
   "source": [
    "df.info()\n"
   ]
  },
  {
   "cell_type": "markdown",
   "metadata": {},
   "source": [
    "# And now with all the json files"
   ]
  },
  {
   "cell_type": "code",
   "execution_count": null,
   "metadata": {},
   "outputs": [],
   "source": [
    "pathlist = Path(directory).glob('**/*.json')\n",
    "df_all = pd.DataFrame()\n",
    "counter = 0\n",
    "for path in pathlist:\n",
    "    file_path = str(path)\n",
    "    print(file_path)\n",
    "    lines = cjf.list_of_lines(file_path)\n",
    "    df_temp = cjf.build_df_from_lines_list(lines)\n",
    "    df_all = pd.concat([df_all, df_temp])\n",
    "    counter += 1\n",
    "print(f\"{counter} files are dataframed\")\n"
   ]
  },
  {
   "cell_type": "code",
   "execution_count": null,
   "metadata": {},
   "outputs": [],
   "source": [
    "df_all.drop_duplicates(\"name\").info()\n"
   ]
  },
  {
   "cell_type": "code",
   "execution_count": 7,
   "metadata": {},
   "outputs": [
    {
     "ename": "NameError",
     "evalue": "name 'columns_to_keep' is not defined",
     "output_type": "error",
     "traceback": [
      "\u001b[0;31m---------------------------------------------------------------------------\u001b[0m",
      "\u001b[0;31mNameError\u001b[0m                                 Traceback (most recent call last)",
      "\u001b[1;32m/Users/ruperthufnagel/DailyLama/Daily-Lama-Capstone/kickstarter_json_Christopher.ipynb Cell 20'\u001b[0m in \u001b[0;36m<cell line: 1>\u001b[0;34m()\u001b[0m\n\u001b[0;32m----> <a href='vscode-notebook-cell:/Users/ruperthufnagel/DailyLama/Daily-Lama-Capstone/kickstarter_json_Christopher.ipynb#ch0000019?line=0'>1</a>\u001b[0m df_all \u001b[39m=\u001b[39m df_all[columns_to_keep]\n",
      "\u001b[0;31mNameError\u001b[0m: name 'columns_to_keep' is not defined"
     ]
    }
   ],
   "source": [
    "df_all = df_all[columns_to_keep]\n"
   ]
  },
  {
   "cell_type": "code",
   "execution_count": 15,
   "metadata": {},
   "outputs": [
    {
     "name": "stdout",
     "output_type": "stream",
     "text": [
      "The boardgames table was imported successfully.\n"
     ]
    }
   ],
   "source": [
    "sf.build_table(engine, table_name, df_all, schema)\n"
   ]
  },
  {
   "cell_type": "code",
   "execution_count": 16,
   "metadata": {},
   "outputs": [],
   "source": [
    "forbidden_characters = [',', ';', '.', ':', '-', '+', '*', \"#\", \"'\", '!', '\"',\n",
    "                        '§', '$', '%%', '%', '&', '/', '[', ']', '{', '}', '\\\\', '=', '?', '`', '´']\n"
   ]
  },
  {
   "cell_type": "code",
   "execution_count": 18,
   "metadata": {},
   "outputs": [
    {
     "data": {
      "text/html": [
       "<div>\n",
       "<style scoped>\n",
       "    .dataframe tbody tr th:only-of-type {\n",
       "        vertical-align: middle;\n",
       "    }\n",
       "\n",
       "    .dataframe tbody tr th {\n",
       "        vertical-align: top;\n",
       "    }\n",
       "\n",
       "    .dataframe thead th {\n",
       "        text-align: right;\n",
       "    }\n",
       "</style>\n",
       "<table border=\"1\" class=\"dataframe\">\n",
       "  <thead>\n",
       "    <tr style=\"text-align: right;\">\n",
       "      <th></th>\n",
       "      <th>name</th>\n",
       "      <th>goal</th>\n",
       "      <th>pledged</th>\n",
       "      <th>state</th>\n",
       "      <th>slug</th>\n",
       "      <th>country</th>\n",
       "      <th>country_displayable_name</th>\n",
       "      <th>currency</th>\n",
       "      <th>deadline</th>\n",
       "      <th>created_at</th>\n",
       "      <th>launched_at</th>\n",
       "      <th>backers_count</th>\n",
       "      <th>usd_pledged</th>\n",
       "      <th>current_currency</th>\n",
       "      <th>creator_id</th>\n",
       "      <th>creator_name</th>\n",
       "      <th>category_id</th>\n",
       "      <th>category_name</th>\n",
       "      <th>category_analytics_name</th>\n",
       "      <th>category_slug</th>\n",
       "    </tr>\n",
       "  </thead>\n",
       "  <tbody>\n",
       "    <tr>\n",
       "      <th>0</th>\n",
       "      <td>Beyond Mission to Planet Hexx! Expansion for t...</td>\n",
       "      <td>5000</td>\n",
       "      <td>3537.0</td>\n",
       "      <td>live</td>\n",
       "      <td>beyond-mission-to-planet-hexx-expansion-for-th...</td>\n",
       "      <td>US</td>\n",
       "      <td>the United States</td>\n",
       "      <td>USD</td>\n",
       "      <td>1657288803</td>\n",
       "      <td>1651326234</td>\n",
       "      <td>1654696803</td>\n",
       "      <td>108</td>\n",
       "      <td>3537.0</td>\n",
       "      <td>USD</td>\n",
       "      <td>1476262695</td>\n",
       "      <td>JAMES A FITZPATRICK III</td>\n",
       "      <td>34</td>\n",
       "      <td>Tabletop Games</td>\n",
       "      <td>Tabletop Games</td>\n",
       "      <td>games/tabletop games</td>\n",
       "    </tr>\n",
       "    <tr>\n",
       "      <th>0</th>\n",
       "      <td>HERO'S JOURNEY FANTASY COLLECTION (STL) -1-</td>\n",
       "      <td>100</td>\n",
       "      <td>139.0</td>\n",
       "      <td>live</td>\n",
       "      <td>heros-journey-fantasy-collection-stl-1</td>\n",
       "      <td>ES</td>\n",
       "      <td>Spain</td>\n",
       "      <td>EUR</td>\n",
       "      <td>1656422746</td>\n",
       "      <td>1651092804</td>\n",
       "      <td>1654694746</td>\n",
       "      <td>12</td>\n",
       "      <td>148.47556189</td>\n",
       "      <td>USD</td>\n",
       "      <td>595822799</td>\n",
       "      <td>Luis Moreno</td>\n",
       "      <td>34</td>\n",
       "      <td>Tabletop Games</td>\n",
       "      <td>Tabletop Games</td>\n",
       "      <td>games/tabletop games</td>\n",
       "    </tr>\n",
       "    <tr>\n",
       "      <th>0</th>\n",
       "      <td>Dinositters! 🦕</td>\n",
       "      <td>20000</td>\n",
       "      <td>11663.0</td>\n",
       "      <td>live</td>\n",
       "      <td>dinositters</td>\n",
       "      <td>US</td>\n",
       "      <td>the United States</td>\n",
       "      <td>USD</td>\n",
       "      <td>1656434107</td>\n",
       "      <td>1648324277</td>\n",
       "      <td>1654619707</td>\n",
       "      <td>253</td>\n",
       "      <td>11663.0</td>\n",
       "      <td>USD</td>\n",
       "      <td>228767892</td>\n",
       "      <td>Joel Bodkin</td>\n",
       "      <td>34</td>\n",
       "      <td>Tabletop Games</td>\n",
       "      <td>Tabletop Games</td>\n",
       "      <td>games/tabletop games</td>\n",
       "    </tr>\n",
       "    <tr>\n",
       "      <th>0</th>\n",
       "      <td>Space Bug Prairie</td>\n",
       "      <td>2000</td>\n",
       "      <td>3485.0</td>\n",
       "      <td>live</td>\n",
       "      <td>space-bug-prairie</td>\n",
       "      <td>US</td>\n",
       "      <td>the United States</td>\n",
       "      <td>USD</td>\n",
       "      <td>1656431988</td>\n",
       "      <td>1652019192</td>\n",
       "      <td>1654617588</td>\n",
       "      <td>205</td>\n",
       "      <td>3485.0</td>\n",
       "      <td>USD</td>\n",
       "      <td>1589402866</td>\n",
       "      <td>Aether Studios</td>\n",
       "      <td>34</td>\n",
       "      <td>Tabletop Games</td>\n",
       "      <td>Tabletop Games</td>\n",
       "      <td>games/tabletop games</td>\n",
       "    </tr>\n",
       "    <tr>\n",
       "      <th>0</th>\n",
       "      <td>Till Death Do Us Part</td>\n",
       "      <td>8200</td>\n",
       "      <td>10402.0</td>\n",
       "      <td>live</td>\n",
       "      <td>till-death-do-us-part-1</td>\n",
       "      <td>US</td>\n",
       "      <td>the United States</td>\n",
       "      <td>USD</td>\n",
       "      <td>1655780400</td>\n",
       "      <td>1653059764</td>\n",
       "      <td>1654614000</td>\n",
       "      <td>335</td>\n",
       "      <td>10402.0</td>\n",
       "      <td>USD</td>\n",
       "      <td>2101297466</td>\n",
       "      <td>Douglas H. Cole</td>\n",
       "      <td>34</td>\n",
       "      <td>Tabletop Games</td>\n",
       "      <td>Tabletop Games</td>\n",
       "      <td>games/tabletop games</td>\n",
       "    </tr>\n",
       "  </tbody>\n",
       "</table>\n",
       "</div>"
      ],
      "text/plain": [
       "                                                name   goal  pledged state  \\\n",
       "0  Beyond Mission to Planet Hexx! Expansion for t...   5000   3537.0  live   \n",
       "0        HERO'S JOURNEY FANTASY COLLECTION (STL) -1-    100    139.0  live   \n",
       "0                                     Dinositters! 🦕  20000  11663.0  live   \n",
       "0                                  Space Bug Prairie   2000   3485.0  live   \n",
       "0                              Till Death Do Us Part   8200  10402.0  live   \n",
       "\n",
       "                                                slug country  \\\n",
       "0  beyond-mission-to-planet-hexx-expansion-for-th...      US   \n",
       "0             heros-journey-fantasy-collection-stl-1      ES   \n",
       "0                                        dinositters      US   \n",
       "0                                  space-bug-prairie      US   \n",
       "0                            till-death-do-us-part-1      US   \n",
       "\n",
       "  country_displayable_name currency    deadline  created_at  launched_at  \\\n",
       "0        the United States      USD  1657288803  1651326234   1654696803   \n",
       "0                    Spain      EUR  1656422746  1651092804   1654694746   \n",
       "0        the United States      USD  1656434107  1648324277   1654619707   \n",
       "0        the United States      USD  1656431988  1652019192   1654617588   \n",
       "0        the United States      USD  1655780400  1653059764   1654614000   \n",
       "\n",
       "   backers_count   usd_pledged current_currency  creator_id  \\\n",
       "0            108        3537.0              USD  1476262695   \n",
       "0             12  148.47556189              USD   595822799   \n",
       "0            253       11663.0              USD   228767892   \n",
       "0            205        3485.0              USD  1589402866   \n",
       "0            335       10402.0              USD  2101297466   \n",
       "\n",
       "              creator_name  category_id   category_name  \\\n",
       "0  JAMES A FITZPATRICK III           34  Tabletop Games   \n",
       "0              Luis Moreno           34  Tabletop Games   \n",
       "0              Joel Bodkin           34  Tabletop Games   \n",
       "0           Aether Studios           34  Tabletop Games   \n",
       "0          Douglas H. Cole           34  Tabletop Games   \n",
       "\n",
       "  category_analytics_name         category_slug  \n",
       "0          Tabletop Games  games/tabletop games  \n",
       "0          Tabletop Games  games/tabletop games  \n",
       "0          Tabletop Games  games/tabletop games  \n",
       "0          Tabletop Games  games/tabletop games  \n",
       "0          Tabletop Games  games/tabletop games  "
      ]
     },
     "execution_count": 18,
     "metadata": {},
     "output_type": "execute_result"
    }
   ],
   "source": [
    "df.head()\n"
   ]
  },
  {
   "cell_type": "code",
   "execution_count": null,
   "metadata": {},
   "outputs": [],
   "source": [
    "forbidden_dict = dict()\n",
    "for entry in forbidden_characters:\n",
    "    forbidden_dict[entry] = ''\n",
    "\n",
    "forbidden_dict\n"
   ]
  },
  {
   "cell_type": "code",
   "execution_count": 23,
   "metadata": {},
   "outputs": [
    {
     "ename": "TypeError",
     "evalue": "replace() missing 1 required positional argument: 'repl'",
     "output_type": "error",
     "traceback": [
      "\u001b[0;31m---------------------------------------------------------------------------\u001b[0m",
      "\u001b[0;31mTypeError\u001b[0m                                 Traceback (most recent call last)",
      "\u001b[1;32m/Users/ruperthufnagel/DailyLama/Daily-Lama-Capstone/kickstarter_json_Christopher.ipynb Cell 25'\u001b[0m in \u001b[0;36m<cell line: 1>\u001b[0;34m()\u001b[0m\n\u001b[0;32m----> <a href='vscode-notebook-cell:/Users/ruperthufnagel/DailyLama/Daily-Lama-Capstone/kickstarter_json_Christopher.ipynb#ch0000024?line=0'>1</a>\u001b[0m df[\u001b[39m\"\u001b[39m\u001b[39mname\u001b[39m\u001b[39m\"\u001b[39m]\u001b[39m=\u001b[39mdf[\u001b[39m\"\u001b[39;49m\u001b[39mname\u001b[39;49m\u001b[39m\"\u001b[39;49m]\u001b[39m.\u001b[39;49mstr\u001b[39m.\u001b[39;49mreplace(forbidden_dict)\n",
      "File \u001b[0;32m/opt/homebrew/Caskroom/miniconda/base/envs/nf_sql/lib/python3.9/site-packages/pandas/core/strings/accessor.py:125\u001b[0m, in \u001b[0;36mforbid_nonstring_types.<locals>._forbid_nonstring_types.<locals>.wrapper\u001b[0;34m(self, *args, **kwargs)\u001b[0m\n\u001b[1;32m    120\u001b[0m     msg \u001b[39m=\u001b[39m (\n\u001b[1;32m    121\u001b[0m         \u001b[39mf\u001b[39m\u001b[39m\"\u001b[39m\u001b[39mCannot use .str.\u001b[39m\u001b[39m{\u001b[39;00mfunc_name\u001b[39m}\u001b[39;00m\u001b[39m with values of \u001b[39m\u001b[39m\"\u001b[39m\n\u001b[1;32m    122\u001b[0m         \u001b[39mf\u001b[39m\u001b[39m\"\u001b[39m\u001b[39minferred dtype \u001b[39m\u001b[39m'\u001b[39m\u001b[39m{\u001b[39;00m\u001b[39mself\u001b[39m\u001b[39m.\u001b[39m_inferred_dtype\u001b[39m}\u001b[39;00m\u001b[39m'\u001b[39m\u001b[39m.\u001b[39m\u001b[39m\"\u001b[39m\n\u001b[1;32m    123\u001b[0m     )\n\u001b[1;32m    124\u001b[0m     \u001b[39mraise\u001b[39;00m \u001b[39mTypeError\u001b[39;00m(msg)\n\u001b[0;32m--> 125\u001b[0m \u001b[39mreturn\u001b[39;00m func(\u001b[39mself\u001b[39;49m, \u001b[39m*\u001b[39;49margs, \u001b[39m*\u001b[39;49m\u001b[39m*\u001b[39;49mkwargs)\n",
      "\u001b[0;31mTypeError\u001b[0m: replace() missing 1 required positional argument: 'repl'"
     ]
    }
   ],
   "source": [
    "df[\"name\"] = df[\"name\"]replace(forbidden_dict)\n"
   ]
  },
  {
   "cell_type": "code",
   "execution_count": 22,
   "metadata": {},
   "outputs": [
    {
     "data": {
      "text/html": [
       "<div>\n",
       "<style scoped>\n",
       "    .dataframe tbody tr th:only-of-type {\n",
       "        vertical-align: middle;\n",
       "    }\n",
       "\n",
       "    .dataframe tbody tr th {\n",
       "        vertical-align: top;\n",
       "    }\n",
       "\n",
       "    .dataframe thead th {\n",
       "        text-align: right;\n",
       "    }\n",
       "</style>\n",
       "<table border=\"1\" class=\"dataframe\">\n",
       "  <thead>\n",
       "    <tr style=\"text-align: right;\">\n",
       "      <th></th>\n",
       "      <th>name</th>\n",
       "      <th>goal</th>\n",
       "      <th>pledged</th>\n",
       "      <th>state</th>\n",
       "      <th>slug</th>\n",
       "      <th>country</th>\n",
       "      <th>country_displayable_name</th>\n",
       "      <th>currency</th>\n",
       "      <th>deadline</th>\n",
       "      <th>created_at</th>\n",
       "      <th>launched_at</th>\n",
       "      <th>backers_count</th>\n",
       "      <th>usd_pledged</th>\n",
       "      <th>current_currency</th>\n",
       "      <th>creator_id</th>\n",
       "      <th>creator_name</th>\n",
       "      <th>category_id</th>\n",
       "      <th>category_name</th>\n",
       "      <th>category_analytics_name</th>\n",
       "      <th>category_slug</th>\n",
       "    </tr>\n",
       "  </thead>\n",
       "  <tbody>\n",
       "    <tr>\n",
       "      <th>0</th>\n",
       "      <td>Beyond Mission to Planet Hexx! Expansion for t...</td>\n",
       "      <td>5000</td>\n",
       "      <td>3537.0</td>\n",
       "      <td>live</td>\n",
       "      <td>beyond-mission-to-planet-hexx-expansion-for-th...</td>\n",
       "      <td>US</td>\n",
       "      <td>the United States</td>\n",
       "      <td>USD</td>\n",
       "      <td>1657288803</td>\n",
       "      <td>1651326234</td>\n",
       "      <td>1654696803</td>\n",
       "      <td>108</td>\n",
       "      <td>3537.0</td>\n",
       "      <td>USD</td>\n",
       "      <td>1476262695</td>\n",
       "      <td>JAMES A FITZPATRICK III</td>\n",
       "      <td>34</td>\n",
       "      <td>Tabletop Games</td>\n",
       "      <td>Tabletop Games</td>\n",
       "      <td>games/tabletop games</td>\n",
       "    </tr>\n",
       "    <tr>\n",
       "      <th>0</th>\n",
       "      <td>HERO'S JOURNEY FANTASY COLLECTION (STL) -1-</td>\n",
       "      <td>100</td>\n",
       "      <td>139.0</td>\n",
       "      <td>live</td>\n",
       "      <td>heros-journey-fantasy-collection-stl-1</td>\n",
       "      <td>ES</td>\n",
       "      <td>Spain</td>\n",
       "      <td>EUR</td>\n",
       "      <td>1656422746</td>\n",
       "      <td>1651092804</td>\n",
       "      <td>1654694746</td>\n",
       "      <td>12</td>\n",
       "      <td>148.47556189</td>\n",
       "      <td>USD</td>\n",
       "      <td>595822799</td>\n",
       "      <td>Luis Moreno</td>\n",
       "      <td>34</td>\n",
       "      <td>Tabletop Games</td>\n",
       "      <td>Tabletop Games</td>\n",
       "      <td>games/tabletop games</td>\n",
       "    </tr>\n",
       "    <tr>\n",
       "      <th>0</th>\n",
       "      <td>Dinositters! 🦕</td>\n",
       "      <td>20000</td>\n",
       "      <td>11663.0</td>\n",
       "      <td>live</td>\n",
       "      <td>dinositters</td>\n",
       "      <td>US</td>\n",
       "      <td>the United States</td>\n",
       "      <td>USD</td>\n",
       "      <td>1656434107</td>\n",
       "      <td>1648324277</td>\n",
       "      <td>1654619707</td>\n",
       "      <td>253</td>\n",
       "      <td>11663.0</td>\n",
       "      <td>USD</td>\n",
       "      <td>228767892</td>\n",
       "      <td>Joel Bodkin</td>\n",
       "      <td>34</td>\n",
       "      <td>Tabletop Games</td>\n",
       "      <td>Tabletop Games</td>\n",
       "      <td>games/tabletop games</td>\n",
       "    </tr>\n",
       "    <tr>\n",
       "      <th>0</th>\n",
       "      <td>Space Bug Prairie</td>\n",
       "      <td>2000</td>\n",
       "      <td>3485.0</td>\n",
       "      <td>live</td>\n",
       "      <td>space-bug-prairie</td>\n",
       "      <td>US</td>\n",
       "      <td>the United States</td>\n",
       "      <td>USD</td>\n",
       "      <td>1656431988</td>\n",
       "      <td>1652019192</td>\n",
       "      <td>1654617588</td>\n",
       "      <td>205</td>\n",
       "      <td>3485.0</td>\n",
       "      <td>USD</td>\n",
       "      <td>1589402866</td>\n",
       "      <td>Aether Studios</td>\n",
       "      <td>34</td>\n",
       "      <td>Tabletop Games</td>\n",
       "      <td>Tabletop Games</td>\n",
       "      <td>games/tabletop games</td>\n",
       "    </tr>\n",
       "    <tr>\n",
       "      <th>0</th>\n",
       "      <td>Till Death Do Us Part</td>\n",
       "      <td>8200</td>\n",
       "      <td>10402.0</td>\n",
       "      <td>live</td>\n",
       "      <td>till-death-do-us-part-1</td>\n",
       "      <td>US</td>\n",
       "      <td>the United States</td>\n",
       "      <td>USD</td>\n",
       "      <td>1655780400</td>\n",
       "      <td>1653059764</td>\n",
       "      <td>1654614000</td>\n",
       "      <td>335</td>\n",
       "      <td>10402.0</td>\n",
       "      <td>USD</td>\n",
       "      <td>2101297466</td>\n",
       "      <td>Douglas H. Cole</td>\n",
       "      <td>34</td>\n",
       "      <td>Tabletop Games</td>\n",
       "      <td>Tabletop Games</td>\n",
       "      <td>games/tabletop games</td>\n",
       "    </tr>\n",
       "  </tbody>\n",
       "</table>\n",
       "</div>"
      ],
      "text/plain": [
       "                                                name   goal  pledged state  \\\n",
       "0  Beyond Mission to Planet Hexx! Expansion for t...   5000   3537.0  live   \n",
       "0        HERO'S JOURNEY FANTASY COLLECTION (STL) -1-    100    139.0  live   \n",
       "0                                     Dinositters! 🦕  20000  11663.0  live   \n",
       "0                                  Space Bug Prairie   2000   3485.0  live   \n",
       "0                              Till Death Do Us Part   8200  10402.0  live   \n",
       "\n",
       "                                                slug country  \\\n",
       "0  beyond-mission-to-planet-hexx-expansion-for-th...      US   \n",
       "0             heros-journey-fantasy-collection-stl-1      ES   \n",
       "0                                        dinositters      US   \n",
       "0                                  space-bug-prairie      US   \n",
       "0                            till-death-do-us-part-1      US   \n",
       "\n",
       "  country_displayable_name currency    deadline  created_at  launched_at  \\\n",
       "0        the United States      USD  1657288803  1651326234   1654696803   \n",
       "0                    Spain      EUR  1656422746  1651092804   1654694746   \n",
       "0        the United States      USD  1656434107  1648324277   1654619707   \n",
       "0        the United States      USD  1656431988  1652019192   1654617588   \n",
       "0        the United States      USD  1655780400  1653059764   1654614000   \n",
       "\n",
       "   backers_count   usd_pledged current_currency  creator_id  \\\n",
       "0            108        3537.0              USD  1476262695   \n",
       "0             12  148.47556189              USD   595822799   \n",
       "0            253       11663.0              USD   228767892   \n",
       "0            205        3485.0              USD  1589402866   \n",
       "0            335       10402.0              USD  2101297466   \n",
       "\n",
       "              creator_name  category_id   category_name  \\\n",
       "0  JAMES A FITZPATRICK III           34  Tabletop Games   \n",
       "0              Luis Moreno           34  Tabletop Games   \n",
       "0              Joel Bodkin           34  Tabletop Games   \n",
       "0           Aether Studios           34  Tabletop Games   \n",
       "0          Douglas H. Cole           34  Tabletop Games   \n",
       "\n",
       "  category_analytics_name         category_slug  \n",
       "0          Tabletop Games  games/tabletop games  \n",
       "0          Tabletop Games  games/tabletop games  \n",
       "0          Tabletop Games  games/tabletop games  \n",
       "0          Tabletop Games  games/tabletop games  \n",
       "0          Tabletop Games  games/tabletop games  "
      ]
     },
     "execution_count": 22,
     "metadata": {},
     "output_type": "execute_result"
    }
   ],
   "source": [
    "df.head()\n"
   ]
  }
 ],
 "metadata": {
  "kernelspec": {
   "display_name": "Python 3.9.12 ('nf_sql')",
   "language": "python",
   "name": "python3"
  },
  "language_info": {
   "codemirror_mode": {
    "name": "ipython",
    "version": 3
   },
   "file_extension": ".py",
   "mimetype": "text/x-python",
   "name": "python",
   "nbconvert_exporter": "python",
   "pygments_lexer": "ipython3",
   "version": "3.9.12"
  },
  "orig_nbformat": 4,
  "vscode": {
   "interpreter": {
    "hash": "a81d278bed5b5b59425dcb5a82ce505657686243c184b4a6b67e69d01c4d432e"
   }
  }
 },
 "nbformat": 4,
 "nbformat_minor": 2
}
