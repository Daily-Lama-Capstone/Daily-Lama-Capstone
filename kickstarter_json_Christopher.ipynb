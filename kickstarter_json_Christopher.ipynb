{
 "cells": [
  {
   "cell_type": "code",
   "execution_count": 11,
   "metadata": {},
   "outputs": [],
   "source": [
    "import pandas as pd\n",
    "import numpy as np\n",
    "import json\n",
    "import os\n",
    "import capstone_functions as cf\n",
    "import capstone_json_functions as cjf\n",
    "import sql_functions as sf\n",
    "from pathlib import Path"
   ]
  },
  {
   "cell_type": "code",
   "execution_count": 16,
   "metadata": {},
   "outputs": [],
   "source": [
    "directory = \"data/kickstarter_json/\"\n",
    "filename = \"2021-07-15.json\"\n",
    "file_path = f\"{directory}{filename}\"\n",
    "schema = 'kickstarter_bg'\n",
    "table_name = 'boardgames'\n",
    "engine = sf.get_engine()"
   ]
  },
  {
   "cell_type": "markdown",
   "metadata": {},
   "source": [
    "Rename files, if they start with \"Kickstarter...\""
   ]
  },
  {
   "cell_type": "code",
   "execution_count": null,
   "metadata": {},
   "outputs": [],
   "source": [
    "cjf.rename_kickstarter_files(directory)    "
   ]
  },
  {
   "cell_type": "markdown",
   "metadata": {},
   "source": [
    "Read the file and store it into a list called \"lines\""
   ]
  },
  {
   "cell_type": "code",
   "execution_count": null,
   "metadata": {},
   "outputs": [],
   "source": [
    "# lines is a list of strings\n",
    "lines = cjf.list_of_lines(file_path)"
   ]
  },
  {
   "cell_type": "markdown",
   "metadata": {},
   "source": [
    "build a dictionairy by looking at the \"category\""
   ]
  },
  {
   "cell_type": "code",
   "execution_count": null,
   "metadata": {},
   "outputs": [],
   "source": [
    "list_of_categories = cjf.list_of_categories(file_path)"
   ]
  },
  {
   "cell_type": "markdown",
   "metadata": {},
   "source": [
    "Build the dataframe"
   ]
  },
  {
   "cell_type": "code",
   "execution_count": null,
   "metadata": {},
   "outputs": [],
   "source": [
    "df = cjf.build_df_from_lines_list(lines)"
   ]
  },
  {
   "cell_type": "code",
   "execution_count": null,
   "metadata": {},
   "outputs": [],
   "source": [
    "df.info()"
   ]
  },
  {
   "cell_type": "markdown",
   "metadata": {},
   "source": [
    "List of Columns to keep"
   ]
  },
  {
   "cell_type": "code",
   "execution_count": 6,
   "metadata": {},
   "outputs": [],
   "source": [
    "columns_to_keep = ['name',\n",
    "       'goal', 'pledged', 'state', 'slug', 'country',\n",
    "       'country_displayable_name', 'currency', 'deadline', 'created_at',\n",
    "       'launched_at', 'backers_count', 'usd_pledged', 'current_currency',\n",
    "       'creator_id', 'creator_name','category_id',\n",
    "       'category_name', 'category_analytics_name', 'category_slug']"
   ]
  },
  {
   "cell_type": "markdown",
   "metadata": {},
   "source": [
    "Overwrite the df with itself with the chosen columns"
   ]
  },
  {
   "cell_type": "code",
   "execution_count": null,
   "metadata": {},
   "outputs": [],
   "source": [
    "df = df[columns_to_keep]"
   ]
  },
  {
   "cell_type": "code",
   "execution_count": null,
   "metadata": {},
   "outputs": [],
   "source": [
    "df.info()"
   ]
  },
  {
   "cell_type": "markdown",
   "metadata": {},
   "source": [
    "# And now with all the json files"
   ]
  },
  {
   "cell_type": "code",
   "execution_count": 4,
   "metadata": {},
   "outputs": [
    {
     "name": "stdout",
     "output_type": "stream",
     "text": [
      "data/kickstarter_json/2019-04-18.json\n",
      "data/kickstarter_json/2018-09-13.json\n",
      "data/kickstarter_json/2017-09-15.json\n",
      "data/kickstarter_json/2021-05-13.json\n",
      "data/kickstarter_json/2018-03-15.json\n",
      "data/kickstarter_json/2016-06-15.json\n",
      "data/kickstarter_json/2019-06-13.json\n",
      "data/kickstarter_json/2019-01-17.json\n",
      "data/kickstarter_json/2017-10-15.json\n",
      "data/kickstarter_json/2020-10-15.json\n",
      "data/kickstarter_json/2018-01-12.json\n",
      "data/kickstarter_json/2021-07-15.json\n",
      "data/kickstarter_json/2020-03-12.json\n",
      "data/kickstarter_json/2016-07-15.json\n",
      "data/kickstarter_json/2018-02-15.json\n",
      "data/kickstarter_json/2020-04-16.json\n",
      "data/kickstarter_json/2019-10-17.json\n",
      "data/kickstarter_json/2020-02-13.json\n",
      "data/kickstarter_json/2017-11-15.json\n",
      "data/kickstarter_json/2017-01-15.json\n",
      "data/kickstarter_json/2017-08-15.json\n",
      "data/kickstarter_json/2020-11-12.json\n",
      "data/kickstarter_json/2016-05-15.json\n",
      "data/kickstarter_json/2021-02-11.json\n",
      "data/kickstarter_json/2017-03-15.json\n",
      "data/kickstarter_json/2022-04-21.json\n",
      "data/kickstarter_json/2019-07-18.json\n",
      "data/kickstarter_json/2021-09-16.json\n",
      "data/kickstarter_json/2020-08-13.json\n",
      "data/kickstarter_json/2018-10-18.json\n",
      "data/kickstarter_json/2015-10-22.json\n",
      "data/kickstarter_json/2018-11-15.json\n",
      "data/kickstarter_json/2020-07-16.json\n",
      "data/kickstarter_json/2021-04-15.json\n",
      "data/kickstarter_json/2016-04-15.json\n",
      "data/kickstarter_json/2018-05-17.json\n",
      "data/kickstarter_json/2018-12-13.json\n",
      "data/kickstarter_json/2022-03-24.json\n",
      "data/kickstarter_json/2017-12-15.json\n",
      "data/kickstarter_json/2017-02-15.json\n",
      "data/kickstarter_json/2017-07-15.json\n",
      "data/kickstarter_json/2021-10-14.json\n",
      "data/kickstarter_json/2022-01-20.json\n",
      "data/kickstarter_json/2019-03-14.json\n",
      "data/kickstarter_json/2022-02-10.json\n",
      "data/kickstarter_json/2018-08-16.json\n",
      "data/kickstarter_json/2021-12-09.json\n",
      "data/kickstarter_json/2020-06-18.json\n",
      "data/kickstarter_json/2019-09-12.json\n",
      "data/kickstarter_json/2016-08-15.json\n",
      "data/kickstarter_json/2021-11-18.json\n",
      "data/kickstarter_json/2016-09-15.json\n",
      "data/kickstarter_json/2015-11-01.json\n",
      "data/kickstarter_json/2018-07-12.json\n",
      "data/kickstarter_json/2017-06-15.json\n",
      "data/kickstarter_json/2021-01-14.json\n",
      "data/kickstarter_json/2020-12-17.json\n",
      "data/kickstarter_json/2016-10-15.json\n",
      "data/kickstarter_json/2022-05-19.json\n",
      "data/kickstarter_json/2019-02-14.json\n",
      "data/kickstarter_json/2022-06-09.json\n",
      "data/kickstarter_json/2019-08-15.json\n",
      "data/kickstarter_json/2021-03-18.json\n",
      "data/kickstarter_json/2020-09-17.json\n",
      "data/kickstarter_json/2016-03-22.json\n",
      "data/kickstarter_json/2018-06-14.json\n",
      "data/kickstarter_json/2017-04-15.json\n",
      "data/kickstarter_json/2021-06-17.json\n",
      "data/kickstarter_json/2020-05-14.json\n",
      "data/kickstarter_json/2016-12-15.json\n",
      "data/kickstarter_json/2020-01-16.json\n",
      "data/kickstarter_json/2017-05-15.json\n",
      "data/kickstarter_json/2016-11-12.json\n",
      "data/kickstarter_json/2018-04-12.json\n",
      "data/kickstarter_json/2019-11-14.json\n",
      "data/kickstarter_json/2019-12-12.json\n",
      "data/kickstarter_json/2019-05-16.json\n",
      "data/kickstarter_json/2016-01-28.json\n",
      "data/kickstarter_json/2021-08-12.json\n",
      "data/kickstarter_json/2015-12-17.json\n",
      "80 files are dataframed\n"
     ]
    }
   ],
   "source": [
    "pathlist = Path(directory).glob('**/*.json')\n",
    "df_all = pd.DataFrame()\n",
    "counter = 0\n",
    "for path in pathlist:\n",
    "     file_path = str(path)\n",
    "     print(file_path)\n",
    "     lines = cjf.list_of_lines(file_path)\n",
    "     df_temp = cjf.build_df_from_lines_list(lines)\n",
    "     df_all = pd.concat([df_all,df_temp])\n",
    "     counter += 1\n",
    "print(f\"{counter} files are dataframed\")\n"
   ]
  },
  {
   "cell_type": "code",
   "execution_count": 5,
   "metadata": {},
   "outputs": [
    {
     "name": "stdout",
     "output_type": "stream",
     "text": [
      "<class 'pandas.core.frame.DataFrame'>\n",
      "Int64Index: 260659 entries, 0 to 0\n",
      "Data columns (total 39 columns):\n",
      " #   Column                      Non-Null Count   Dtype  \n",
      "---  ------                      --------------   -----  \n",
      " 0   name                        260659 non-null  object \n",
      " 1   goal                        260659 non-null  int64  \n",
      " 2   pledged                     260659 non-null  float64\n",
      " 3   state                       260659 non-null  object \n",
      " 4   slug                        260659 non-null  object \n",
      " 5   country                     260659 non-null  object \n",
      " 6   currency                    260659 non-null  object \n",
      " 7   deadline                    260659 non-null  int64  \n",
      " 8   created_at                  260659 non-null  int64  \n",
      " 9   launched_at                 260659 non-null  int64  \n",
      " 10  backers_count               260659 non-null  int64  \n",
      " 11  usd_pledged                 260659 non-null  object \n",
      " 12  current_currency            175442 non-null  object \n",
      " 13  creator_id                  260659 non-null  int64  \n",
      " 14  creator_name                260659 non-null  object \n",
      " 15  creator_slug                151916 non-null  object \n",
      " 16  creator_is_registered       71999 non-null   object \n",
      " 17  creator_chosen_currency     504 non-null     object \n",
      " 18  creator_avatar_thumb        260659 non-null  object \n",
      " 19  creator_avatar_small        260659 non-null  object \n",
      " 20  creator_avatar_medium       260659 non-null  object \n",
      " 21  creator_urls_web_user       260659 non-null  object \n",
      " 22  creator_urls_api_user       260659 non-null  object \n",
      " 23  category_id                 260659 non-null  int64  \n",
      " 24  category_name               260659 non-null  object \n",
      " 25  category_slug               260659 non-null  object \n",
      " 26  category_position           260659 non-null  int64  \n",
      " 27  category_parent_id          260659 non-null  int64  \n",
      " 28  category_color              260659 non-null  int64  \n",
      " 29  category_urls_web_discover  260659 non-null  object \n",
      " 30  friends                     5101 non-null    object \n",
      " 31  is_starred                  5101 non-null    object \n",
      " 32  is_backing                  5101 non-null    object \n",
      " 33  permissions                 4861 non-null    object \n",
      " 34  country_displayable_name    86758 non-null   object \n",
      " 35  creator_is_email_verified   0 non-null       object \n",
      " 36  creator_is_superbacker      0 non-null       object \n",
      " 37  category_analytics_name     18163 non-null   object \n",
      " 38  category_parent_name        74674 non-null   object \n",
      "dtypes: float64(1), int64(10), object(28)\n",
      "memory usage: 79.5+ MB\n"
     ]
    }
   ],
   "source": [
    "df_all.info()"
   ]
  },
  {
   "cell_type": "code",
   "execution_count": 8,
   "metadata": {},
   "outputs": [],
   "source": [
    "df_all = df_all[columns_to_keep]"
   ]
  },
  {
   "cell_type": "code",
   "execution_count": 15,
   "metadata": {},
   "outputs": [
    {
     "name": "stdout",
     "output_type": "stream",
     "text": [
      "The boardgames table was imported successfully.\n"
     ]
    }
   ],
   "source": [
    "sf.build_table(engine,table_name,df_all,schema)"
   ]
  }
 ],
 "metadata": {
  "kernelspec": {
   "display_name": "Python 3.9.12 ('nf_sql')",
   "language": "python",
   "name": "python3"
  },
  "language_info": {
   "codemirror_mode": {
    "name": "ipython",
    "version": 3
   },
   "file_extension": ".py",
   "mimetype": "text/x-python",
   "name": "python",
   "nbconvert_exporter": "python",
   "pygments_lexer": "ipython3",
   "version": "3.9.12"
  },
  "orig_nbformat": 4,
  "vscode": {
   "interpreter": {
    "hash": "a81d278bed5b5b59425dcb5a82ce505657686243c184b4a6b67e69d01c4d432e"
   }
  }
 },
 "nbformat": 4,
 "nbformat_minor": 2
}
