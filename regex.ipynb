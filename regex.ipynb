{
 "cells": [
  {
   "cell_type": "code",
   "execution_count": 1,
   "metadata": {},
   "outputs": [],
   "source": [
    "import pandas as pd\n",
    "import re"
   ]
  },
  {
   "cell_type": "code",
   "execution_count": 93,
   "metadata": {},
   "outputs": [
    {
     "name": "stderr",
     "output_type": "stream",
     "text": [
      "/var/folders/rb/p48bcgy90nn3g9bz4kw5bh4w0000gn/T/ipykernel_19285/3677129380.py:8: FutureWarning: The default value of regex will change from True to False in a future version.\n",
      "  df['sdd'] =  df['sdd'].str.findall(r'\\w|\\s').str.join('').str.replace(r\"\\s+\",\"_\").str.lower()\n"
     ]
    },
    {
     "data": {
      "text/html": [
       "<div>\n",
       "<style scoped>\n",
       "    .dataframe tbody tr th:only-of-type {\n",
       "        vertical-align: middle;\n",
       "    }\n",
       "\n",
       "    .dataframe tbody tr th {\n",
       "        vertical-align: top;\n",
       "    }\n",
       "\n",
       "    .dataframe thead th {\n",
       "        text-align: right;\n",
       "    }\n",
       "</style>\n",
       "<table border=\"1\" class=\"dataframe\">\n",
       "  <thead>\n",
       "    <tr style=\"text-align: right;\">\n",
       "      <th></th>\n",
       "      <th>da</th>\n",
       "      <th>sdd</th>\n",
       "    </tr>\n",
       "  </thead>\n",
       "  <tbody>\n",
       "    <tr>\n",
       "      <th>1</th>\n",
       "      <td>gRETREFD !               d      !ßam e,fire!#d...</td>\n",
       "      <td>sasdaswknj_sdjashjdsa_n290120493i2_</td>\n",
       "    </tr>\n",
       "    <tr>\n",
       "      <th>2</th>\n",
       "      <td>gRETREFD !               d      !ßam e,fire!#d...</td>\n",
       "      <td>sasdaswknj_sdjashjdsa_n290120493i2_</td>\n",
       "    </tr>\n",
       "  </tbody>\n",
       "</table>\n",
       "</div>"
      ],
      "text/plain": [
       "                                                  da  \\\n",
       "1  gRETREFD !               d      !ßam e,fire!#d...   \n",
       "2  gRETREFD !               d      !ßam e,fire!#d...   \n",
       "\n",
       "                                   sdd  \n",
       "1  sasdaswknj_sdjashjdsa_n290120493i2_  \n",
       "2  sasdaswknj_sdjashjdsa_n290120493i2_  "
      ]
     },
     "execution_count": 93,
     "metadata": {},
     "output_type": "execute_result"
    }
   ],
   "source": [
    "test_dict = {\"da\":'gRETREFD !               d      !ßam e,fire!#dsadsa!!!!!fdsfds   §ofudsieu38298z327zqw..........wfhx;;;;;...AAAAhuasfLLLLLLLLSdwqi124043\"',\n",
    "        \"sdd\":'SAsdas´W§§\"$§knj sdjashjdsa n290120493i2 !\"§%&%$%&%$'}\n",
    "\n",
    "df = pd.DataFrame(test_dict,index=[1,2])\n",
    "\n",
    "#prog = re.compile()\n",
    "\n",
    "df['sdd'] =  df['sdd'].str.findall(r'\\w|\\s').str.join('').str.replace(r\"\\s+\",\"_\").str.lower()\n",
    "\n",
    "df\n",
    "\n",
    "# prog = re.compile(r'\\w|\\s')\n",
    "# result = prog.findall(string)\n",
    "\n",
    "# result_strig = ''.join(result)\n",
    "\n"
   ]
  },
  {
   "cell_type": "code",
   "execution_count": 85,
   "metadata": {},
   "outputs": [
    {
     "data": {
      "text/plain": [
       "1    1_sasdaswknj_sdjashjdsa_n290120493i2_2_sasdasw...\n",
       "2    1_sasdaswknj_sdjashjdsa_n290120493i2_2_sasdasw...\n",
       "Name: sdd, dtype: object"
      ]
     },
     "execution_count": 85,
     "metadata": {},
     "output_type": "execute_result"
    }
   ],
   "source": []
  }
 ],
 "metadata": {
  "kernelspec": {
   "display_name": "Python 3.9.12 ('neesql')",
   "language": "python",
   "name": "python3"
  },
  "language_info": {
   "codemirror_mode": {
    "name": "ipython",
    "version": 3
   },
   "file_extension": ".py",
   "mimetype": "text/x-python",
   "name": "python",
   "nbconvert_exporter": "python",
   "pygments_lexer": "ipython3",
   "version": "3.9.12"
  },
  "orig_nbformat": 4,
  "vscode": {
   "interpreter": {
    "hash": "93d4e68d14dafe92e85b564fcffe2f10b012fa4b4f297d685e500cc70b9ea34f"
   }
  }
 },
 "nbformat": 4,
 "nbformat_minor": 2
}
