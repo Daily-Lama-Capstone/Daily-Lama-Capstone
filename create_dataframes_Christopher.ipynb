{
 "cells": [
  {
   "cell_type": "code",
   "execution_count": 1,
   "metadata": {},
   "outputs": [],
   "source": [
    "import pandas as pd\n",
    "from lxml import etree\n",
    "import Capstone_functions as cf\n",
    "import os\n",
    "import sql_functions as sf"
   ]
  },
  {
   "cell_type": "markdown",
   "metadata": {},
   "source": [
    "#### Global variables"
   ]
  },
  {
   "cell_type": "code",
   "execution_count": 6,
   "metadata": {},
   "outputs": [],
   "source": [
    "parser = etree.XMLParser(recover=True)\n",
    "engine = sf.get_engine()\n",
    "schema = \"BGG_Data\"\n",
    "xtree = etree.parse(\"data/old_API_id_260200.xml\", parser= parser).getroot()\n",
    "subnodes = [\n",
    "    'boardgamecategory',\n",
    "    'boardgamesubdomain',\n",
    "    'boardgamemechanic',\n",
    "    'boardgamefamily',\n",
    "    'boardgameexpansion',\n",
    "    'boardgamehonor',\n",
    "    'boardgamedesigner',\n",
    "    'boardgameartist',\n",
    "    'boardgamepublisher',\n",
    "    'boardgamepodcastepisode',\n",
    "    'boardgameimplementation',\n",
    "    'videogamebg',\n",
    "    'statistics',\n",
    "    'marketplacelistings'\n",
    "]"
   ]
  },
  {
   "cell_type": "markdown",
   "metadata": {},
   "source": [
    "#### Build df_main"
   ]
  },
  {
   "cell_type": "code",
   "execution_count": 7,
   "metadata": {},
   "outputs": [],
   "source": [
    "df_main = pd.DataFrame()\n",
    "directory = os.fsencode(\"data/\")\n",
    "\n",
    "for file in os.listdir(directory):\n",
    "    filename = os.fsdecode(file)\n",
    "    if filename.endswith(\".xml\"): \n",
    "        file_path = os.path.join(str(directory)[2:].replace(\"'\",\"\"), filename)\n",
    "        xtree_temp = etree.parse(file_path, parser= parser).getroot()\n",
    "        df_main = pd.concat([df_main,cf.df_main(xtree_temp)])\n"
   ]
  },
  {
   "cell_type": "code",
   "execution_count": 8,
   "metadata": {},
   "outputs": [
    {
     "name": "stdout",
     "output_type": "stream",
     "text": [
      "<class 'pandas.core.frame.DataFrame'>\n",
      "Int64Index: 333317 entries, 0 to 185\n",
      "Data columns (total 9 columns):\n",
      " #   Column         Non-Null Count   Dtype \n",
      "---  ------         --------------   ----- \n",
      " 0   id             333317 non-null  object\n",
      " 1   description    333317 non-null  object\n",
      " 2   yearpublished  137153 non-null  object\n",
      " 3   min_players    137153 non-null  object\n",
      " 4   max_players    137153 non-null  object\n",
      " 5   playtime       137153 non-null  object\n",
      " 6   min_playtime   137153 non-null  object\n",
      " 7   max_playtime   137153 non-null  object\n",
      " 8   min_age        137153 non-null  object\n",
      "dtypes: object(9)\n",
      "memory usage: 25.4+ MB\n"
     ]
    }
   ],
   "source": [
    "df_main.info()"
   ]
  },
  {
   "cell_type": "markdown",
   "metadata": {},
   "source": [
    "#### Loop over subnodes and add dataframes to dictionary"
   ]
  },
  {
   "cell_type": "code",
   "execution_count": 9,
   "metadata": {},
   "outputs": [],
   "source": [
    "df_dict = dict()\n",
    "directory = os.fsencode(\"data/\")\n",
    "for entrypoint in subnodes:\n",
    "    df_temp = pd.DataFrame()\n",
    "    for file in os.listdir(directory):\n",
    "        filename = os.fsdecode(file)\n",
    "        if filename.endswith(\".xml\"): \n",
    "            file_path = os.path.join(str(directory)[2:].replace(\"'\",\"\"), filename)\n",
    "            xtree_temp = etree.parse(file_path, parser= parser).getroot()\n",
    "            df_temp = pd.concat([df_temp,cf.df_subnodes(xtree_temp, entrypoint=entrypoint)])\n",
    "    df_dict[entrypoint] = df_temp"
   ]
  },
  {
   "cell_type": "markdown",
   "metadata": {},
   "source": [
    "#### Show info() for all the subnode-dataframes"
   ]
  },
  {
   "cell_type": "code",
   "execution_count": null,
   "metadata": {},
   "outputs": [],
   "source": [
    "for node in subnodes:\n",
    "    print(node)\n",
    "    df_dict[node].info()"
   ]
  },
  {
   "cell_type": "markdown",
   "metadata": {},
   "source": [
    "#### upload df_main to the postgres database"
   ]
  },
  {
   "cell_type": "code",
   "execution_count": null,
   "metadata": {},
   "outputs": [],
   "source": [
    "sf.build_table(engine=engine,table_name=\"df_main_dirty\",dataframe=df_main,schema=schema)"
   ]
  },
  {
   "cell_type": "markdown",
   "metadata": {},
   "source": [
    "#### upload all the subnode dataframes ('boardgamecategory',........,'marketplacelistings') to the postgres-server"
   ]
  },
  {
   "cell_type": "code",
   "execution_count": null,
   "metadata": {},
   "outputs": [],
   "source": [
    "for entrypoint in subnodes:\n",
    "    sf.build_table(engine=engine,table_name=entrypoint,dataframe=df_dict[entrypoint],schema=schema)"
   ]
  },
  {
   "cell_type": "code",
   "execution_count": 3,
   "metadata": {},
   "outputs": [
    {
     "data": {
      "text/html": [
       "<div>\n",
       "<style scoped>\n",
       "    .dataframe tbody tr th:only-of-type {\n",
       "        vertical-align: middle;\n",
       "    }\n",
       "\n",
       "    .dataframe tbody tr th {\n",
       "        vertical-align: top;\n",
       "    }\n",
       "\n",
       "    .dataframe thead th {\n",
       "        text-align: right;\n",
       "    }\n",
       "</style>\n",
       "<table border=\"1\" class=\"dataframe\">\n",
       "  <thead>\n",
       "    <tr style=\"text-align: right;\">\n",
       "      <th></th>\n",
       "      <th>id</th>\n",
       "      <th>cat_id</th>\n",
       "      <th>cat_name</th>\n",
       "    </tr>\n",
       "  </thead>\n",
       "  <tbody>\n",
       "    <tr>\n",
       "      <th>0</th>\n",
       "      <td>98401</td>\n",
       "      <td>42353</td>\n",
       "      <td>Sean Howard</td>\n",
       "    </tr>\n",
       "    <tr>\n",
       "      <th>1</th>\n",
       "      <td>98402</td>\n",
       "      <td>40734</td>\n",
       "      <td>Peke (ぺけ)</td>\n",
       "    </tr>\n",
       "    <tr>\n",
       "      <th>2</th>\n",
       "      <td>98416</td>\n",
       "      <td>26845</td>\n",
       "      <td>Francis Bretaudeau</td>\n",
       "    </tr>\n",
       "    <tr>\n",
       "      <th>3</th>\n",
       "      <td>98430</td>\n",
       "      <td>3</td>\n",
       "      <td>(Uncredited)</td>\n",
       "    </tr>\n",
       "    <tr>\n",
       "      <th>4</th>\n",
       "      <td>98436</td>\n",
       "      <td>3</td>\n",
       "      <td>(Uncredited)</td>\n",
       "    </tr>\n",
       "    <tr>\n",
       "      <th>...</th>\n",
       "      <td>...</td>\n",
       "      <td>...</td>\n",
       "      <td>...</td>\n",
       "    </tr>\n",
       "    <tr>\n",
       "      <th>98385</th>\n",
       "      <td>298175</td>\n",
       "      <td>28060</td>\n",
       "      <td>Lar DeSouza</td>\n",
       "    </tr>\n",
       "    <tr>\n",
       "      <th>98386</th>\n",
       "      <td>298191</td>\n",
       "      <td>123860</td>\n",
       "      <td>Francisco de la Riva Agüero</td>\n",
       "    </tr>\n",
       "    <tr>\n",
       "      <th>98387</th>\n",
       "      <td>298195</td>\n",
       "      <td>77084</td>\n",
       "      <td>Alexandr Elichev</td>\n",
       "    </tr>\n",
       "    <tr>\n",
       "      <th>98388</th>\n",
       "      <td>298195</td>\n",
       "      <td>78961</td>\n",
       "      <td>Josh T. McDowell</td>\n",
       "    </tr>\n",
       "    <tr>\n",
       "      <th>98389</th>\n",
       "      <td>298195</td>\n",
       "      <td>84269</td>\n",
       "      <td>Alvaro Nebot</td>\n",
       "    </tr>\n",
       "  </tbody>\n",
       "</table>\n",
       "<p>98390 rows × 3 columns</p>\n",
       "</div>"
      ],
      "text/plain": [
       "           id  cat_id                     cat_name\n",
       "0       98401   42353                  Sean Howard\n",
       "1       98402   40734                    Peke (ぺけ)\n",
       "2       98416   26845           Francis Bretaudeau\n",
       "3       98430       3                 (Uncredited)\n",
       "4       98436       3                 (Uncredited)\n",
       "...       ...     ...                          ...\n",
       "98385  298175   28060                  Lar DeSouza\n",
       "98386  298191  123860  Francisco de la Riva Agüero\n",
       "98387  298195   77084             Alexandr Elichev\n",
       "98388  298195   78961             Josh T. McDowell\n",
       "98389  298195   84269                 Alvaro Nebot\n",
       "\n",
       "[98390 rows x 3 columns]"
      ]
     },
     "execution_count": 3,
     "metadata": {},
     "output_type": "execute_result"
    }
   ],
   "source": [
    "schema = \"bgg_data\"\n",
    "table = \"artist\"\n",
    "\n",
    "query = f\"SELECT * FROM {schema}.{table}\"\n",
    "\n",
    "df = sf.get_dataframe(query)\n",
    "df"
   ]
  }
 ],
 "metadata": {
  "kernelspec": {
   "display_name": "Python 3.9.12 ('nf_sql')",
   "language": "python",
   "name": "python3"
  },
  "language_info": {
   "codemirror_mode": {
    "name": "ipython",
    "version": 3
   },
   "file_extension": ".py",
   "mimetype": "text/x-python",
   "name": "python",
   "nbconvert_exporter": "python",
   "pygments_lexer": "ipython3",
   "version": "3.9.12"
  },
  "orig_nbformat": 4,
  "vscode": {
   "interpreter": {
    "hash": "a81d278bed5b5b59425dcb5a82ce505657686243c184b4a6b67e69d01c4d432e"
   }
  }
 },
 "nbformat": 4,
 "nbformat_minor": 2
}
