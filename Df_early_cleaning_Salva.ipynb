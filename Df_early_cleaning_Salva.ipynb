{
 "cells": [
  {
   "cell_type": "markdown",
   "metadata": {},
   "source": [
    "# LXML Parser for BGG XML API"
   ]
  },
  {
   "cell_type": "code",
   "execution_count": 13,
   "metadata": {},
   "outputs": [],
   "source": [
    "import pandas as pd\n",
    "from lxml import etree\n",
    "import Capstone_functions as cf\n",
    "import os\n",
    "\n",
    "parser = etree.XMLParser(recover=True)\n",
    "\n",
    "xtree = etree.parse(\"data/old_API_id_260200.xml\", parser= parser).getroot()\n",
    "\n",
    "\n",
    "subnodes = [\n",
    "    'boardgamecategory',\n",
    "    'boardgamesubdomain',\n",
    "    'boardgamemechanic',\n",
    "    'boardgamefamily',\n",
    "    'boardgameexpansion',\n",
    "    'boardgamehonor',\n",
    "    'boardgamedesigner',\n",
    "    'boardgameartist',\n",
    "    'boardgamepublisher',\n",
    "    'boardgamepodcastepisode',\n",
    "    'boardgameimplementation',\n",
    "    'videogamebg',\n",
    "    'statistics',\n",
    "    'marketplacelistings'\n",
    "]"
   ]
  },
  {
   "cell_type": "code",
   "execution_count": 14,
   "metadata": {},
   "outputs": [],
   "source": [
    "df_main = pd.DataFrame()\n",
    "\n",
    "directory = os.fsencode(\"data/\")\n",
    "for file in os.listdir(directory):\n",
    "    filename = os.fsdecode(file)\n",
    "    if filename.endswith(\".xml\"): \n",
    "        file_path = os.path.join(str(directory)[2:].replace(\"'\",\"\"), filename)\n",
    "        xtree_temp = etree.parse(file_path, parser= parser).getroot()\n",
    "        df_main = pd.concat([df_main,cf.df_main(xtree_temp)])"
   ]
  },
  {
   "cell_type": "markdown",
   "metadata": {},
   "source": [
    "## Data Cleaning df_main"
   ]
  },
  {
   "cell_type": "markdown",
   "metadata": {},
   "source": [
    "### Transform ids in numbers"
   ]
  },
  {
   "cell_type": "code",
   "execution_count": 15,
   "metadata": {},
   "outputs": [],
   "source": [
    "df_main[\"id\"] = df_main[\"id\"].astype('int')"
   ]
  },
  {
   "cell_type": "code",
   "execution_count": 24,
   "metadata": {},
   "outputs": [],
   "source": [
    "df_main['description'] = df_main['description'].str.replace(\"<br/>\",\" \")"
   ]
  },
  {
   "cell_type": "markdown",
   "metadata": {},
   "source": [
    "## Make ID "
   ]
  },
  {
   "cell_type": "code",
   "execution_count": 25,
   "metadata": {},
   "outputs": [],
   "source": [
    "df_ids = df_main[[\"id\",\"description\"]]"
   ]
  },
  {
   "cell_type": "code",
   "execution_count": 26,
   "metadata": {},
   "outputs": [
    {
     "data": {
      "text/html": [
       "<div>\n",
       "<style scoped>\n",
       "    .dataframe tbody tr th:only-of-type {\n",
       "        vertical-align: middle;\n",
       "    }\n",
       "\n",
       "    .dataframe tbody tr th {\n",
       "        vertical-align: top;\n",
       "    }\n",
       "\n",
       "    .dataframe thead th {\n",
       "        text-align: right;\n",
       "    }\n",
       "</style>\n",
       "<table border=\"1\" class=\"dataframe\">\n",
       "  <thead>\n",
       "    <tr style=\"text-align: right;\">\n",
       "      <th></th>\n",
       "      <th>id</th>\n",
       "      <th>description</th>\n",
       "    </tr>\n",
       "  </thead>\n",
       "  <tbody>\n",
       "    <tr>\n",
       "      <th>0</th>\n",
       "      <td>98400</td>\n",
       "      <td>Piclings is a platform game in which players a...</td>\n",
       "    </tr>\n",
       "    <tr>\n",
       "      <th>1</th>\n",
       "      <td>98401</td>\n",
       "      <td>The game is as simple as the name. The whole o...</td>\n",
       "    </tr>\n",
       "    <tr>\n",
       "      <th>2</th>\n",
       "      <td>98402</td>\n",
       "      <td>The winner of the yearly pastry contest is gua...</td>\n",
       "    </tr>\n",
       "    <tr>\n",
       "      <th>3</th>\n",
       "      <td>98403</td>\n",
       "      <td>website blurb:Backswords &amp;amp; Bucklers is a n...</td>\n",
       "    </tr>\n",
       "    <tr>\n",
       "      <th>4</th>\n",
       "      <td>98404</td>\n",
       "      <td>Cover headline: Mystery Attackers!Cover art: S...</td>\n",
       "    </tr>\n",
       "    <tr>\n",
       "      <th>...</th>\n",
       "      <td>...</td>\n",
       "      <td>...</td>\n",
       "    </tr>\n",
       "    <tr>\n",
       "      <th>181</th>\n",
       "      <td>298195</td>\n",
       "      <td>This is a digital, single-scenario promo item ...</td>\n",
       "    </tr>\n",
       "    <tr>\n",
       "      <th>182</th>\n",
       "      <td>298196</td>\n",
       "      <td>From publisher blurb:The Secret Frequecy Files...</td>\n",
       "    </tr>\n",
       "    <tr>\n",
       "      <th>183</th>\n",
       "      <td>298197</td>\n",
       "      <td>From publisher blurb:The Secret Frequecy Files...</td>\n",
       "    </tr>\n",
       "    <tr>\n",
       "      <th>184</th>\n",
       "      <td>298198</td>\n",
       "      <td>From publisher blurb:A new sleek and modern la...</td>\n",
       "    </tr>\n",
       "    <tr>\n",
       "      <th>185</th>\n",
       "      <td>298199</td>\n",
       "      <td>From publisher blurb:With its rainy, dark and ...</td>\n",
       "    </tr>\n",
       "  </tbody>\n",
       "</table>\n",
       "<p>333317 rows × 2 columns</p>\n",
       "</div>"
      ],
      "text/plain": [
       "         id                                        description\n",
       "0     98400  Piclings is a platform game in which players a...\n",
       "1     98401  The game is as simple as the name. The whole o...\n",
       "2     98402  The winner of the yearly pastry contest is gua...\n",
       "3     98403  website blurb:Backswords &amp; Bucklers is a n...\n",
       "4     98404  Cover headline: Mystery Attackers!Cover art: S...\n",
       "..      ...                                                ...\n",
       "181  298195  This is a digital, single-scenario promo item ...\n",
       "182  298196  From publisher blurb:The Secret Frequecy Files...\n",
       "183  298197  From publisher blurb:The Secret Frequecy Files...\n",
       "184  298198  From publisher blurb:A new sleek and modern la...\n",
       "185  298199  From publisher blurb:With its rainy, dark and ...\n",
       "\n",
       "[333317 rows x 2 columns]"
      ]
     },
     "execution_count": 26,
     "metadata": {},
     "output_type": "execute_result"
    }
   ],
   "source": [
    "df_ids"
   ]
  },
  {
   "cell_type": "markdown",
   "metadata": {},
   "source": [
    "### Drop null values"
   ]
  },
  {
   "cell_type": "code",
   "execution_count": 27,
   "metadata": {},
   "outputs": [],
   "source": [
    "df_main_clean = df_main.dropna(thresh=4)"
   ]
  },
  {
   "cell_type": "code",
   "execution_count": 28,
   "metadata": {},
   "outputs": [
    {
     "data": {
      "text/html": [
       "<div>\n",
       "<style scoped>\n",
       "    .dataframe tbody tr th:only-of-type {\n",
       "        vertical-align: middle;\n",
       "    }\n",
       "\n",
       "    .dataframe tbody tr th {\n",
       "        vertical-align: top;\n",
       "    }\n",
       "\n",
       "    .dataframe thead th {\n",
       "        text-align: right;\n",
       "    }\n",
       "</style>\n",
       "<table border=\"1\" class=\"dataframe\">\n",
       "  <thead>\n",
       "    <tr style=\"text-align: right;\">\n",
       "      <th></th>\n",
       "      <th>id</th>\n",
       "      <th>description</th>\n",
       "      <th>yearpublished</th>\n",
       "      <th>min_players</th>\n",
       "      <th>max_players</th>\n",
       "      <th>playtime</th>\n",
       "      <th>min_playtime</th>\n",
       "      <th>max_playtime</th>\n",
       "      <th>min_age</th>\n",
       "    </tr>\n",
       "  </thead>\n",
       "  <tbody>\n",
       "    <tr>\n",
       "      <th>1</th>\n",
       "      <td>98401</td>\n",
       "      <td>The game is as simple as the name. The whole o...</td>\n",
       "      <td>2010</td>\n",
       "      <td>2</td>\n",
       "      <td>4</td>\n",
       "      <td>30</td>\n",
       "      <td>30</td>\n",
       "      <td>30</td>\n",
       "      <td>10</td>\n",
       "    </tr>\n",
       "    <tr>\n",
       "      <th>2</th>\n",
       "      <td>98402</td>\n",
       "      <td>The winner of the yearly pastry contest is gua...</td>\n",
       "      <td>2011</td>\n",
       "      <td>2</td>\n",
       "      <td>5</td>\n",
       "      <td>30</td>\n",
       "      <td>30</td>\n",
       "      <td>30</td>\n",
       "      <td>8</td>\n",
       "    </tr>\n",
       "    <tr>\n",
       "      <th>6</th>\n",
       "      <td>98406</td>\n",
       "      <td>Players in this game try to build the best chi...</td>\n",
       "      <td>2011</td>\n",
       "      <td>2</td>\n",
       "      <td>4</td>\n",
       "      <td>30</td>\n",
       "      <td>30</td>\n",
       "      <td>30</td>\n",
       "      <td>10</td>\n",
       "    </tr>\n",
       "    <tr>\n",
       "      <th>11</th>\n",
       "      <td>98416</td>\n",
       "      <td>Planet Raiders is an abstract strategy game.Th...</td>\n",
       "      <td>2007</td>\n",
       "      <td>2</td>\n",
       "      <td>4</td>\n",
       "      <td>50</td>\n",
       "      <td>50</td>\n",
       "      <td>50</td>\n",
       "      <td>8</td>\n",
       "    </tr>\n",
       "    <tr>\n",
       "      <th>12</th>\n",
       "      <td>98417</td>\n",
       "      <td>Publisher Blurb:Appointed by the Queen of Spad...</td>\n",
       "      <td>2009</td>\n",
       "      <td>2</td>\n",
       "      <td>2</td>\n",
       "      <td>60</td>\n",
       "      <td>60</td>\n",
       "      <td>60</td>\n",
       "      <td>12</td>\n",
       "    </tr>\n",
       "    <tr>\n",
       "      <th>...</th>\n",
       "      <td>...</td>\n",
       "      <td>...</td>\n",
       "      <td>...</td>\n",
       "      <td>...</td>\n",
       "      <td>...</td>\n",
       "      <td>...</td>\n",
       "      <td>...</td>\n",
       "      <td>...</td>\n",
       "      <td>...</td>\n",
       "    </tr>\n",
       "    <tr>\n",
       "      <th>176</th>\n",
       "      <td>298189</td>\n",
       "      <td>Rhetorical Oracle is a storytelling party card...</td>\n",
       "      <td>2020</td>\n",
       "      <td>3</td>\n",
       "      <td>7</td>\n",
       "      <td>120</td>\n",
       "      <td>30</td>\n",
       "      <td>120</td>\n",
       "      <td>7</td>\n",
       "    </tr>\n",
       "    <tr>\n",
       "      <th>177</th>\n",
       "      <td>298190</td>\n",
       "      <td>WWE: Headlock, Paper, Scissors is a game of st...</td>\n",
       "      <td>2020</td>\n",
       "      <td>3</td>\n",
       "      <td>6</td>\n",
       "      <td>30</td>\n",
       "      <td>30</td>\n",
       "      <td>30</td>\n",
       "      <td>12</td>\n",
       "    </tr>\n",
       "    <tr>\n",
       "      <th>178</th>\n",
       "      <td>298191</td>\n",
       "      <td>Alleycat is based on the informal sport of the...</td>\n",
       "      <td>2022</td>\n",
       "      <td>2</td>\n",
       "      <td>5</td>\n",
       "      <td>80</td>\n",
       "      <td>30</td>\n",
       "      <td>80</td>\n",
       "      <td>8</td>\n",
       "    </tr>\n",
       "    <tr>\n",
       "      <th>180</th>\n",
       "      <td>298193</td>\n",
       "      <td>Zev, the great grey wolf, caught little Scarle...</td>\n",
       "      <td>2020</td>\n",
       "      <td>2</td>\n",
       "      <td>6</td>\n",
       "      <td>20</td>\n",
       "      <td>10</td>\n",
       "      <td>20</td>\n",
       "      <td>10</td>\n",
       "    </tr>\n",
       "    <tr>\n",
       "      <th>181</th>\n",
       "      <td>298195</td>\n",
       "      <td>This is a digital, single-scenario promo item ...</td>\n",
       "      <td>2020</td>\n",
       "      <td>1</td>\n",
       "      <td>4</td>\n",
       "      <td>120</td>\n",
       "      <td>60</td>\n",
       "      <td>120</td>\n",
       "      <td>14</td>\n",
       "    </tr>\n",
       "  </tbody>\n",
       "</table>\n",
       "<p>137153 rows × 9 columns</p>\n",
       "</div>"
      ],
      "text/plain": [
       "         id                                        description yearpublished  \\\n",
       "1     98401  The game is as simple as the name. The whole o...          2010   \n",
       "2     98402  The winner of the yearly pastry contest is gua...          2011   \n",
       "6     98406  Players in this game try to build the best chi...          2011   \n",
       "11    98416  Planet Raiders is an abstract strategy game.Th...          2007   \n",
       "12    98417  Publisher Blurb:Appointed by the Queen of Spad...          2009   \n",
       "..      ...                                                ...           ...   \n",
       "176  298189  Rhetorical Oracle is a storytelling party card...          2020   \n",
       "177  298190  WWE: Headlock, Paper, Scissors is a game of st...          2020   \n",
       "178  298191  Alleycat is based on the informal sport of the...          2022   \n",
       "180  298193  Zev, the great grey wolf, caught little Scarle...          2020   \n",
       "181  298195  This is a digital, single-scenario promo item ...          2020   \n",
       "\n",
       "    min_players max_players playtime min_playtime max_playtime min_age  \n",
       "1             2           4       30           30           30      10  \n",
       "2             2           5       30           30           30       8  \n",
       "6             2           4       30           30           30      10  \n",
       "11            2           4       50           50           50       8  \n",
       "12            2           2       60           60           60      12  \n",
       "..          ...         ...      ...          ...          ...     ...  \n",
       "176           3           7      120           30          120       7  \n",
       "177           3           6       30           30           30      12  \n",
       "178           2           5       80           30           80       8  \n",
       "180           2           6       20           10           20      10  \n",
       "181           1           4      120           60          120      14  \n",
       "\n",
       "[137153 rows x 9 columns]"
      ]
     },
     "execution_count": 28,
     "metadata": {},
     "output_type": "execute_result"
    }
   ],
   "source": [
    "df_main_clean"
   ]
  },
  {
   "cell_type": "code",
   "execution_count": 29,
   "metadata": {},
   "outputs": [
    {
     "name": "stderr",
     "output_type": "stream",
     "text": [
      "/var/folders/rb/p48bcgy90nn3g9bz4kw5bh4w0000gn/T/ipykernel_1397/3063399953.py:2: SettingWithCopyWarning: \n",
      "A value is trying to be set on a copy of a slice from a DataFrame.\n",
      "Try using .loc[row_indexer,col_indexer] = value instead\n",
      "\n",
      "See the caveats in the documentation: https://pandas.pydata.org/pandas-docs/stable/user_guide/indexing.html#returning-a-view-versus-a-copy\n",
      "  df_main_clean[column] = df_main_clean[column].astype('int')\n"
     ]
    }
   ],
   "source": [
    "for column in df_main_clean.columns[-7:]:\n",
    "    df_main_clean[column] = df_main_clean[column].astype('int')\n"
   ]
  },
  {
   "cell_type": "code",
   "execution_count": 31,
   "metadata": {},
   "outputs": [
    {
     "name": "stdout",
     "output_type": "stream",
     "text": [
      "<class 'pandas.core.frame.DataFrame'>\n",
      "Int64Index: 137153 entries, 1 to 181\n",
      "Data columns (total 9 columns):\n",
      " #   Column         Non-Null Count   Dtype \n",
      "---  ------         --------------   ----- \n",
      " 0   id             137153 non-null  int64 \n",
      " 1   description    137153 non-null  object\n",
      " 2   yearpublished  137153 non-null  int64 \n",
      " 3   min_players    137153 non-null  int64 \n",
      " 4   max_players    137153 non-null  int64 \n",
      " 5   playtime       137153 non-null  int64 \n",
      " 6   min_playtime   137153 non-null  int64 \n",
      " 7   max_playtime   137153 non-null  int64 \n",
      " 8   min_age        137153 non-null  int64 \n",
      "dtypes: int64(8), object(1)\n",
      "memory usage: 10.5+ MB\n"
     ]
    }
   ],
   "source": [
    "df_main_clean.info()"
   ]
  },
  {
   "cell_type": "code",
   "execution_count": 33,
   "metadata": {},
   "outputs": [],
   "source": [
    "df_main_clean.to_csv('main_clean.csv')"
   ]
  },
  {
   "cell_type": "markdown",
   "metadata": {},
   "source": [
    "# Dict with other tables"
   ]
  },
  {
   "cell_type": "code",
   "execution_count": 50,
   "metadata": {},
   "outputs": [],
   "source": [
    "df_dict = dict()\n",
    "directory = os.fsencode(\"data/\")\n",
    "for entrypoint in subnodes:\n",
    "    df_temp = pd.DataFrame()\n",
    "    for file in os.listdir(directory):\n",
    "        filename = os.fsdecode(file)\n",
    "        if filename.endswith(\".xml\"): \n",
    "            file_path = os.path.join(str(directory)[2:].replace(\"'\",\"\"), filename)\n",
    "            xtree_temp = etree.parse(file_path, parser= parser).getroot()\n",
    "            df_temp = pd.concat([df_temp,cf.df_subnodes(xtree_temp, entrypoint=entrypoint)])\n",
    "    df_dict[entrypoint] = df_temp"
   ]
  },
  {
   "cell_type": "code",
   "execution_count": 38,
   "metadata": {},
   "outputs": [
    {
     "data": {
      "text/plain": [
       "dict_keys(['boardgamecategory', 'boardgamesubdomain', 'boardgamemechanic', 'boardgamefamily', 'boardgameexpansion', 'boardgamehonor', 'boardgamedesigner', 'boardgameartist', 'boardgamepublisher', 'boardgamepodcastepisode', 'boardgameimplementation', 'videogamebg', 'statistics', 'marketplacelistings'])"
      ]
     },
     "execution_count": 38,
     "metadata": {},
     "output_type": "execute_result"
    }
   ],
   "source": [
    "df_dict.keys()"
   ]
  },
  {
   "cell_type": "markdown",
   "metadata": {},
   "source": [
    "### Some early logical cleanings\n",
    "\n",
    "I remove the hour:minute:seconds from listdate in marketplacetable and store the date in format YYYY-MM-DD"
   ]
  },
  {
   "cell_type": "code",
   "execution_count": 37,
   "metadata": {},
   "outputs": [
    {
     "data": {
      "text/html": [
       "<div>\n",
       "<style scoped>\n",
       "    .dataframe tbody tr th:only-of-type {\n",
       "        vertical-align: middle;\n",
       "    }\n",
       "\n",
       "    .dataframe tbody tr th {\n",
       "        vertical-align: top;\n",
       "    }\n",
       "\n",
       "    .dataframe thead th {\n",
       "        text-align: right;\n",
       "    }\n",
       "</style>\n",
       "<table border=\"1\" class=\"dataframe\">\n",
       "  <thead>\n",
       "    <tr style=\"text-align: right;\">\n",
       "      <th></th>\n",
       "      <th>id</th>\n",
       "      <th>listdate</th>\n",
       "      <th>price</th>\n",
       "      <th>currency</th>\n",
       "      <th>condition</th>\n",
       "    </tr>\n",
       "  </thead>\n",
       "  <tbody>\n",
       "    <tr>\n",
       "      <th>0</th>\n",
       "      <td>98443</td>\n",
       "      <td>2018-08-27</td>\n",
       "      <td>50.00</td>\n",
       "      <td>GBP</td>\n",
       "      <td>verygood</td>\n",
       "    </tr>\n",
       "    <tr>\n",
       "      <th>1</th>\n",
       "      <td>98443</td>\n",
       "      <td>2019-03-25</td>\n",
       "      <td>115.00</td>\n",
       "      <td>EUR</td>\n",
       "      <td>likenew</td>\n",
       "    </tr>\n",
       "    <tr>\n",
       "      <th>2</th>\n",
       "      <td>98443</td>\n",
       "      <td>2019-08-25</td>\n",
       "      <td>110.00</td>\n",
       "      <td>EUR</td>\n",
       "      <td>likenew</td>\n",
       "    </tr>\n",
       "    <tr>\n",
       "      <th>3</th>\n",
       "      <td>98443</td>\n",
       "      <td>2020-03-06</td>\n",
       "      <td>150.00</td>\n",
       "      <td>USD</td>\n",
       "      <td>verygood</td>\n",
       "    </tr>\n",
       "    <tr>\n",
       "      <th>4</th>\n",
       "      <td>98443</td>\n",
       "      <td>2020-12-24</td>\n",
       "      <td>60.00</td>\n",
       "      <td>EUR</td>\n",
       "      <td>verygood</td>\n",
       "    </tr>\n",
       "    <tr>\n",
       "      <th>...</th>\n",
       "      <td>...</td>\n",
       "      <td>...</td>\n",
       "      <td>...</td>\n",
       "      <td>...</td>\n",
       "      <td>...</td>\n",
       "    </tr>\n",
       "    <tr>\n",
       "      <th>171</th>\n",
       "      <td>298166</td>\n",
       "      <td>2021-08-07</td>\n",
       "      <td>10.00</td>\n",
       "      <td>USD</td>\n",
       "      <td>new</td>\n",
       "    </tr>\n",
       "    <tr>\n",
       "      <th>172</th>\n",
       "      <td>298173</td>\n",
       "      <td>2022-01-30</td>\n",
       "      <td>5.00</td>\n",
       "      <td>EUR</td>\n",
       "      <td>verygood</td>\n",
       "    </tr>\n",
       "    <tr>\n",
       "      <th>173</th>\n",
       "      <td>298175</td>\n",
       "      <td>2020-08-08</td>\n",
       "      <td>34.00</td>\n",
       "      <td>EUR</td>\n",
       "      <td>new</td>\n",
       "    </tr>\n",
       "    <tr>\n",
       "      <th>174</th>\n",
       "      <td>298175</td>\n",
       "      <td>2020-11-03</td>\n",
       "      <td>33.99</td>\n",
       "      <td>EUR</td>\n",
       "      <td>new</td>\n",
       "    </tr>\n",
       "    <tr>\n",
       "      <th>175</th>\n",
       "      <td>298190</td>\n",
       "      <td>2022-06-27</td>\n",
       "      <td>22.95</td>\n",
       "      <td>EUR</td>\n",
       "      <td>new</td>\n",
       "    </tr>\n",
       "  </tbody>\n",
       "</table>\n",
       "<p>241557 rows × 5 columns</p>\n",
       "</div>"
      ],
      "text/plain": [
       "         id   listdate   price currency condition\n",
       "0     98443 2018-08-27   50.00      GBP  verygood\n",
       "1     98443 2019-03-25  115.00      EUR   likenew\n",
       "2     98443 2019-08-25  110.00      EUR   likenew\n",
       "3     98443 2020-03-06  150.00      USD  verygood\n",
       "4     98443 2020-12-24   60.00      EUR  verygood\n",
       "..      ...        ...     ...      ...       ...\n",
       "171  298166 2021-08-07   10.00      USD       new\n",
       "172  298173 2022-01-30    5.00      EUR  verygood\n",
       "173  298175 2020-08-08   34.00      EUR       new\n",
       "174  298175 2020-11-03   33.99      EUR       new\n",
       "175  298190 2022-06-27   22.95      EUR       new\n",
       "\n",
       "[241557 rows x 5 columns]"
      ]
     },
     "execution_count": 37,
     "metadata": {},
     "output_type": "execute_result"
    }
   ],
   "source": [
    "df_dict['marketplacelistings']['listdate'] = df_dict['marketplacelistings']['listdate'].astype('datetime64[D]')\n",
    "\n",
    "df_dict['marketplacelistings']"
   ]
  },
  {
   "cell_type": "markdown",
   "metadata": {},
   "source": [
    "# Replace error n fonts in description column."
   ]
  },
  {
   "cell_type": "code",
   "execution_count": 48,
   "metadata": {},
   "outputs": [],
   "source": [
    "b_family = df_dict['boardgamefamily']\n",
    "#b_family['cat_name'].str.split(':',expand=True)"
   ]
  },
  {
   "cell_type": "code",
   "execution_count": 44,
   "metadata": {},
   "outputs": [],
   "source": [
    "b_family.drop(columns=[\"cat_name\"],inplace=True)"
   ]
  },
  {
   "cell_type": "code",
   "execution_count": 49,
   "metadata": {},
   "outputs": [
    {
     "data": {
      "text/html": [
       "<div>\n",
       "<style scoped>\n",
       "    .dataframe tbody tr th:only-of-type {\n",
       "        vertical-align: middle;\n",
       "    }\n",
       "\n",
       "    .dataframe tbody tr th {\n",
       "        vertical-align: top;\n",
       "    }\n",
       "\n",
       "    .dataframe thead th {\n",
       "        text-align: right;\n",
       "    }\n",
       "</style>\n",
       "<table border=\"1\" class=\"dataframe\">\n",
       "  <thead>\n",
       "    <tr style=\"text-align: right;\">\n",
       "      <th></th>\n",
       "      <th>id</th>\n",
       "      <th>cat_id</th>\n",
       "    </tr>\n",
       "  </thead>\n",
       "  <tbody>\n",
       "    <tr>\n",
       "      <th>0</th>\n",
       "      <td>98402</td>\n",
       "      <td>5841</td>\n",
       "    </tr>\n",
       "    <tr>\n",
       "      <th>1</th>\n",
       "      <td>98416</td>\n",
       "      <td>5679</td>\n",
       "    </tr>\n",
       "    <tr>\n",
       "      <th>2</th>\n",
       "      <td>98417</td>\n",
       "      <td>16800</td>\n",
       "    </tr>\n",
       "    <tr>\n",
       "      <th>3</th>\n",
       "      <td>98417</td>\n",
       "      <td>61979</td>\n",
       "    </tr>\n",
       "    <tr>\n",
       "      <th>4</th>\n",
       "      <td>98417</td>\n",
       "      <td>1691</td>\n",
       "    </tr>\n",
       "    <tr>\n",
       "      <th>...</th>\n",
       "      <td>...</td>\n",
       "      <td>...</td>\n",
       "    </tr>\n",
       "    <tr>\n",
       "      <th>131</th>\n",
       "      <td>298195</td>\n",
       "      <td>8374</td>\n",
       "    </tr>\n",
       "    <tr>\n",
       "      <th>132</th>\n",
       "      <td>298195</td>\n",
       "      <td>45610</td>\n",
       "    </tr>\n",
       "    <tr>\n",
       "      <th>133</th>\n",
       "      <td>298195</td>\n",
       "      <td>24281</td>\n",
       "    </tr>\n",
       "    <tr>\n",
       "      <th>134</th>\n",
       "      <td>298195</td>\n",
       "      <td>25404</td>\n",
       "    </tr>\n",
       "    <tr>\n",
       "      <th>135</th>\n",
       "      <td>298195</td>\n",
       "      <td>5666</td>\n",
       "    </tr>\n",
       "  </tbody>\n",
       "</table>\n",
       "<p>209022 rows × 2 columns</p>\n",
       "</div>"
      ],
      "text/plain": [
       "         id cat_id\n",
       "0     98402   5841\n",
       "1     98416   5679\n",
       "2     98417  16800\n",
       "3     98417  61979\n",
       "4     98417   1691\n",
       "..      ...    ...\n",
       "131  298195   8374\n",
       "132  298195  45610\n",
       "133  298195  24281\n",
       "134  298195  25404\n",
       "135  298195   5666\n",
       "\n",
       "[209022 rows x 2 columns]"
      ]
     },
     "execution_count": 49,
     "metadata": {},
     "output_type": "execute_result"
    }
   ],
   "source": [
    "b_family"
   ]
  },
  {
   "cell_type": "code",
   "execution_count": null,
   "metadata": {},
   "outputs": [],
   "source": [
    "b_honor = df_dict['boardgamehonor']"
   ]
  },
  {
   "cell_type": "code",
   "execution_count": null,
   "metadata": {},
   "outputs": [],
   "source": [
    "b_honor[\"year\"] = b_honor[\"cat_name\"].str[0:4]\n",
    "b_honor[\"cat_name\"] = b_honor[\"cat_name\"].str[5:]\n"
   ]
  },
  {
   "cell_type": "code",
   "execution_count": null,
   "metadata": {},
   "outputs": [],
   "source": [
    "b_honor[\"placement\"] = b_honor[\"cat_name\"].str.split().str[-1]"
   ]
  },
  {
   "cell_type": "code",
   "execution_count": null,
   "metadata": {},
   "outputs": [],
   "source": [
    "b_honor"
   ]
  },
  {
   "cell_type": "code",
   "execution_count": null,
   "metadata": {},
   "outputs": [],
   "source": [
    "b_subdomain"
   ]
  },
  {
   "cell_type": "code",
   "execution_count": null,
   "metadata": {},
   "outputs": [],
   "source": [
    "b_implementation"
   ]
  }
 ],
 "metadata": {
  "kernelspec": {
   "display_name": "Python 3.9.12 ('neesql')",
   "language": "python",
   "name": "python3"
  },
  "language_info": {
   "codemirror_mode": {
    "name": "ipython",
    "version": 3
   },
   "file_extension": ".py",
   "mimetype": "text/x-python",
   "name": "python",
   "nbconvert_exporter": "python",
   "pygments_lexer": "ipython3",
   "version": "3.9.12"
  },
  "orig_nbformat": 4,
  "vscode": {
   "interpreter": {
    "hash": "93d4e68d14dafe92e85b564fcffe2f10b012fa4b4f297d685e500cc70b9ea34f"
   }
  }
 },
 "nbformat": 4,
 "nbformat_minor": 2
}
