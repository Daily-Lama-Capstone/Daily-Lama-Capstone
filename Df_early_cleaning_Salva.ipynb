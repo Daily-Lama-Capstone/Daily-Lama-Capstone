{
 "cells": [
  {
   "cell_type": "markdown",
   "metadata": {},
   "source": [
    "# Early Data-Cleaning BGG Boardgame Data"
   ]
  },
  {
   "cell_type": "markdown",
   "metadata": {},
   "source": [
    "First step is to import all modules and set up schemas and tables"
   ]
  },
  {
   "cell_type": "code",
   "execution_count": 2,
   "metadata": {},
   "outputs": [],
   "source": [
    "import pandas as pd\n",
    "from lxml import etree\n",
    "import Capstone_functions as cf\n",
    "import os\n",
    "import sql_functions as sf\n",
    "\n",
    "parser = etree.XMLParser(recover=True)\n",
    "\n",
    "xtree = etree.parse(\"data/old_API_id_260200.xml\", parser= parser).getroot()\n",
    "\n",
    "engine = sf.get_engine()\n",
    "\n",
    "schema = \"BGG_Data\"\n",
    "\n",
    "subnodes = [\n",
    "    'boardgamecategory', #ok\n",
    "    'boardgamesubdomain', #ok\n",
    "    'boardgamemechanic', #ok\n",
    "    'boardgamefamily', # ok\n",
    "    'boardgameexpansion', #ok\n",
    "    'boardgamehonor', #ok\n",
    "    'boardgamedesigner', #ok\n",
    "    'boardgameartist', #ok\n",
    "    'boardgamepublisher', #ok\n",
    "    'boardgamepodcastepisode',#ok\n",
    "    'boardgameimplementation', #ok\n",
    "    'videogamebg',#ok\n",
    "    'statistics', #ok\n",
    "    'marketplacelistings' # ok\n",
    "]\n",
    "\n",
    "# df_main ok\n",
    "# df_poll ok\n",
    "# df_name\n",
    "# df_ids ok"
   ]
  },
  {
   "cell_type": "code",
   "execution_count": null,
   "metadata": {},
   "outputs": [],
   "source": [
    "df_main = pd.DataFrame()\n",
    "\n",
    "directory = os.fsencode(\"data/\")\n",
    "for file in os.listdir(directory):\n",
    "    filename = os.fsdecode(file)\n",
    "    if filename.endswith(\".xml\"): \n",
    "        file_path = os.path.join(str(directory)[2:].replace(\"'\",\"\"), filename)\n",
    "        xtree_temp = etree.parse(file_path, parser= parser).getroot()\n",
    "        df_main = pd.concat([df_main,cf.df_main(xtree_temp)])"
   ]
  },
  {
   "cell_type": "markdown",
   "metadata": {},
   "source": [
    "## Data Cleaning df_main"
   ]
  },
  {
   "cell_type": "markdown",
   "metadata": {},
   "source": [
    "### Transform ids in numbers"
   ]
  },
  {
   "cell_type": "code",
   "execution_count": null,
   "metadata": {},
   "outputs": [],
   "source": [
    "df_main[\"id\"] = df_main[\"id\"].astype('int')"
   ]
  },
  {
   "cell_type": "code",
   "execution_count": null,
   "metadata": {},
   "outputs": [],
   "source": [
    "df_main['description'] = df_main['description'].str.replace(\"<br/>\",\" \")"
   ]
  },
  {
   "cell_type": "markdown",
   "metadata": {},
   "source": [
    "## Make ID "
   ]
  },
  {
   "cell_type": "code",
   "execution_count": null,
   "metadata": {},
   "outputs": [],
   "source": [
    "df_ids = df_main[\"id\"]"
   ]
  },
  {
   "cell_type": "code",
   "execution_count": null,
   "metadata": {},
   "outputs": [],
   "source": [
    "df_ids"
   ]
  },
  {
   "cell_type": "code",
   "execution_count": null,
   "metadata": {},
   "outputs": [],
   "source": [
    "sf.build_table(engine=engine,table_name=\"unique_ids\",dataframe=df_ids,schema=schema)"
   ]
  },
  {
   "cell_type": "markdown",
   "metadata": {},
   "source": [
    "### Drop null values"
   ]
  },
  {
   "cell_type": "code",
   "execution_count": null,
   "metadata": {},
   "outputs": [],
   "source": [
    "df_main_clean = df_main.dropna(thresh=4)"
   ]
  },
  {
   "cell_type": "code",
   "execution_count": null,
   "metadata": {},
   "outputs": [],
   "source": [
    "df_main_clean"
   ]
  },
  {
   "cell_type": "code",
   "execution_count": null,
   "metadata": {},
   "outputs": [],
   "source": [
    "for column in df_main_clean.columns[-7:]:\n",
    "    df_main_clean[column] = df_main_clean[column].astype('int')\n"
   ]
  },
  {
   "cell_type": "code",
   "execution_count": null,
   "metadata": {},
   "outputs": [],
   "source": [
    "df_main_clean.drop(\"description\",axis=1,inplace=True)"
   ]
  },
  {
   "cell_type": "code",
   "execution_count": null,
   "metadata": {},
   "outputs": [],
   "source": [
    "df_main_clean"
   ]
  },
  {
   "cell_type": "code",
   "execution_count": null,
   "metadata": {},
   "outputs": [],
   "source": [
    "sf.build_table(engine=engine,table_name=\"main\",dataframe=df_main_clean,schema=schema)"
   ]
  },
  {
   "cell_type": "markdown",
   "metadata": {},
   "source": [
    "# Dict with other tables"
   ]
  },
  {
   "cell_type": "code",
   "execution_count": null,
   "metadata": {},
   "outputs": [],
   "source": [
    "df_dict = dict()\n",
    "directory = os.fsencode(\"data/\")\n",
    "for entrypoint in subnodes:\n",
    "    df_temp = pd.DataFrame()\n",
    "    for file in os.listdir(directory):\n",
    "        filename = os.fsdecode(file)\n",
    "        if filename.endswith(\".xml\"): \n",
    "            file_path = os.path.join(str(directory)[2:].replace(\"'\",\"\"), filename)\n",
    "            xtree_temp = etree.parse(file_path, parser= parser).getroot()\n",
    "            df_temp = pd.concat([df_temp,cf.df_subnodes(xtree_temp, entrypoint=entrypoint)])\n",
    "    df_dict[entrypoint] = df_temp"
   ]
  },
  {
   "cell_type": "code",
   "execution_count": null,
   "metadata": {},
   "outputs": [],
   "source": [
    "df_dict.keys()"
   ]
  },
  {
   "cell_type": "markdown",
   "metadata": {},
   "source": [
    "# Cleaning Marketplace listings\n",
    "\n",
    "I remove the hour:minute:seconds from listdate in marketplacetable and store the date in format YYYY-MM-DD"
   ]
  },
  {
   "cell_type": "code",
   "execution_count": null,
   "metadata": {},
   "outputs": [],
   "source": [
    "df_market = df_dict['marketplacelistings'].copy()\n",
    "\n",
    "df_market['listdate'] = df_market['listdate'].astype('datetime64[D]')"
   ]
  },
  {
   "cell_type": "code",
   "execution_count": null,
   "metadata": {},
   "outputs": [],
   "source": [
    "df_market.info()"
   ]
  },
  {
   "cell_type": "code",
   "execution_count": null,
   "metadata": {},
   "outputs": [],
   "source": [
    "df_market[\"id\"] = df_market[\"id\"].astype('int')\n",
    "\n",
    "df_market[\"price\"] = df_market[\"price\"].astype('float')\n",
    "df_market"
   ]
  },
  {
   "cell_type": "code",
   "execution_count": null,
   "metadata": {},
   "outputs": [],
   "source": [
    "sf.build_table(engine=engine,table_name=\"marketplace_listings\",dataframe=df_market,schema=schema)"
   ]
  },
  {
   "cell_type": "markdown",
   "metadata": {},
   "source": [
    "# Cleaning family table"
   ]
  },
  {
   "cell_type": "code",
   "execution_count": null,
   "metadata": {},
   "outputs": [],
   "source": [
    "b_family = df_dict['boardgamefamily'].copy()\n",
    "\n",
    "b_family[['family_type', 'family']] = b_family['cat_name'].str.split(':',expand=True,n=1)"
   ]
  },
  {
   "cell_type": "code",
   "execution_count": null,
   "metadata": {},
   "outputs": [],
   "source": [
    "b_family.drop(columns=[\"cat_name\"],inplace=True)"
   ]
  },
  {
   "cell_type": "code",
   "execution_count": null,
   "metadata": {},
   "outputs": [],
   "source": [
    "b_family[\"id\"] = b_family[\"id\"].astype('int')\n",
    "\n",
    "b_family[\"cat_id\"] = b_family[\"cat_id\"].astype('int')"
   ]
  },
  {
   "cell_type": "code",
   "execution_count": null,
   "metadata": {},
   "outputs": [],
   "source": [
    "b_family"
   ]
  },
  {
   "cell_type": "code",
   "execution_count": null,
   "metadata": {},
   "outputs": [],
   "source": [
    "b_family.info()"
   ]
  },
  {
   "cell_type": "code",
   "execution_count": null,
   "metadata": {},
   "outputs": [],
   "source": [
    "sf.build_table(engine=engine,table_name=\"family\",dataframe=b_family,schema=schema)"
   ]
  },
  {
   "cell_type": "markdown",
   "metadata": {},
   "source": [
    "# Cleaning Honor Table"
   ]
  },
  {
   "cell_type": "code",
   "execution_count": null,
   "metadata": {},
   "outputs": [],
   "source": [
    "b_honor = df_dict['boardgamehonor'].copy()"
   ]
  },
  {
   "cell_type": "code",
   "execution_count": null,
   "metadata": {},
   "outputs": [],
   "source": [
    "b_honor[\"year\"] = b_honor[\"cat_name\"].str[0:4]\n",
    "b_honor[\"cat_name\"] = b_honor[\"cat_name\"].str[5:]\n"
   ]
  },
  {
   "cell_type": "code",
   "execution_count": null,
   "metadata": {},
   "outputs": [],
   "source": [
    "b_honor[\"placement\"] = b_honor[\"cat_name\"].str.split().str[-1]"
   ]
  },
  {
   "cell_type": "code",
   "execution_count": null,
   "metadata": {},
   "outputs": [],
   "source": [
    "b_honor[\"id\"] = b_honor[\"id\"].astype('int')\n",
    "\n",
    "b_honor[\"cat_id\"] = b_honor[\"cat_id\"].astype('int')\n",
    "\n",
    "b_honor[\"year\"] = b_honor[\"year\"].astype('int')"
   ]
  },
  {
   "cell_type": "code",
   "execution_count": null,
   "metadata": {},
   "outputs": [],
   "source": [
    "b_honor"
   ]
  },
  {
   "cell_type": "code",
   "execution_count": null,
   "metadata": {},
   "outputs": [],
   "source": [
    "b_honor.info()"
   ]
  },
  {
   "cell_type": "code",
   "execution_count": null,
   "metadata": {},
   "outputs": [],
   "source": [
    "sf.build_table(engine=engine,table_name=\"honor\",dataframe=b_honor,schema=schema)"
   ]
  },
  {
   "cell_type": "markdown",
   "metadata": {},
   "source": [
    "# Cleaning Boardgame category"
   ]
  },
  {
   "cell_type": "code",
   "execution_count": null,
   "metadata": {},
   "outputs": [],
   "source": [
    "b_category = df_dict['boardgamecategory'].copy()"
   ]
  },
  {
   "cell_type": "code",
   "execution_count": null,
   "metadata": {},
   "outputs": [],
   "source": [
    "b_category"
   ]
  },
  {
   "cell_type": "code",
   "execution_count": null,
   "metadata": {},
   "outputs": [],
   "source": [
    "b_category[\"id\"] = b_category[\"id\"].astype('int')\n",
    "\n",
    "b_category[\"cat_id\"] = b_category[\"cat_id\"].astype('int')\n"
   ]
  },
  {
   "cell_type": "code",
   "execution_count": null,
   "metadata": {},
   "outputs": [],
   "source": [
    "b_category.info()"
   ]
  },
  {
   "cell_type": "code",
   "execution_count": null,
   "metadata": {},
   "outputs": [],
   "source": [
    "sf.build_table(engine=engine,table_name=\"category\",dataframe=b_category,schema=schema)"
   ]
  },
  {
   "cell_type": "markdown",
   "metadata": {},
   "source": [
    "# Cleaning B_Subdomain"
   ]
  },
  {
   "cell_type": "code",
   "execution_count": null,
   "metadata": {},
   "outputs": [],
   "source": [
    "b_subdomain = df_dict['boardgamesubdomain'].copy()"
   ]
  },
  {
   "cell_type": "code",
   "execution_count": null,
   "metadata": {},
   "outputs": [],
   "source": [
    "b_subdomain[\"cat_name\"] = b_subdomain[\"cat_name\"].str.replace(\"Games\",\"\")"
   ]
  },
  {
   "cell_type": "code",
   "execution_count": null,
   "metadata": {},
   "outputs": [],
   "source": [
    "b_subdomain[\"id\"] = b_subdomain[\"id\"].astype('int')\n",
    "\n",
    "b_subdomain[\"cat_id\"] = b_subdomain[\"cat_id\"].astype('int')\n"
   ]
  },
  {
   "cell_type": "code",
   "execution_count": null,
   "metadata": {},
   "outputs": [],
   "source": [
    "b_subdomain.info()"
   ]
  },
  {
   "cell_type": "code",
   "execution_count": null,
   "metadata": {},
   "outputs": [],
   "source": [
    "sf.build_table(engine=engine,table_name=\"subdomain\",dataframe=b_subdomain,schema=schema)"
   ]
  },
  {
   "cell_type": "markdown",
   "metadata": {},
   "source": [
    "# Cleaning Mechanics"
   ]
  },
  {
   "cell_type": "code",
   "execution_count": null,
   "metadata": {},
   "outputs": [],
   "source": [
    "b_mech = df_dict['boardgamemechanic'].copy() "
   ]
  },
  {
   "cell_type": "code",
   "execution_count": null,
   "metadata": {},
   "outputs": [],
   "source": [
    "b_mech[\"id\"] = b_mech[\"id\"].astype('int')\n",
    "\n",
    "b_mech[\"cat_id\"] = b_mech[\"cat_id\"].astype('int')\n"
   ]
  },
  {
   "cell_type": "code",
   "execution_count": null,
   "metadata": {},
   "outputs": [],
   "source": [
    "b_mech.info()"
   ]
  },
  {
   "cell_type": "code",
   "execution_count": null,
   "metadata": {},
   "outputs": [],
   "source": [
    "sf.build_table(engine=engine,table_name=\"mechanics\",dataframe=b_mech,schema=schema)"
   ]
  },
  {
   "cell_type": "markdown",
   "metadata": {},
   "source": [
    "# Cleaning Expansions"
   ]
  },
  {
   "cell_type": "code",
   "execution_count": null,
   "metadata": {},
   "outputs": [],
   "source": [
    "b_exp = df_dict['boardgameexpansion'].copy() "
   ]
  },
  {
   "cell_type": "code",
   "execution_count": null,
   "metadata": {},
   "outputs": [],
   "source": [
    "b_exp[\"id\"] = b_exp[\"id\"].astype('int')\n",
    "\n",
    "b_exp[\"cat_id\"] = b_exp[\"cat_id\"].astype('int')"
   ]
  },
  {
   "cell_type": "code",
   "execution_count": null,
   "metadata": {},
   "outputs": [],
   "source": [
    "b_exp.info()"
   ]
  },
  {
   "cell_type": "code",
   "execution_count": null,
   "metadata": {},
   "outputs": [],
   "source": [
    "sf.build_table(engine=engine,table_name=\"expansions\",dataframe=b_exp,schema=schema)"
   ]
  },
  {
   "cell_type": "markdown",
   "metadata": {},
   "source": [
    "# Cleaning Boardgame Designer"
   ]
  },
  {
   "cell_type": "code",
   "execution_count": null,
   "metadata": {},
   "outputs": [],
   "source": [
    "b_design = df_dict['boardgamedesigner'].copy()  \n",
    "\n",
    "b_design"
   ]
  },
  {
   "cell_type": "code",
   "execution_count": null,
   "metadata": {},
   "outputs": [],
   "source": [
    "b_design[\"id\"] = b_design[\"id\"].astype('int')\n",
    "\n",
    "b_design[\"cat_id\"] = b_design[\"cat_id\"].astype('int')"
   ]
  },
  {
   "cell_type": "code",
   "execution_count": null,
   "metadata": {},
   "outputs": [],
   "source": [
    "b_design.info()"
   ]
  },
  {
   "cell_type": "code",
   "execution_count": null,
   "metadata": {},
   "outputs": [],
   "source": [
    "sf.build_table(engine=engine,table_name=\"designer\",dataframe=b_design,schema=schema)"
   ]
  },
  {
   "cell_type": "markdown",
   "metadata": {},
   "source": [
    "# Cleaning Boardgame Artist"
   ]
  },
  {
   "cell_type": "code",
   "execution_count": null,
   "metadata": {},
   "outputs": [],
   "source": [
    "b_artist = df_dict['boardgameartist'].copy()   "
   ]
  },
  {
   "cell_type": "code",
   "execution_count": null,
   "metadata": {},
   "outputs": [],
   "source": [
    "b_artist[\"id\"] = b_artist[\"id\"].astype('int')\n",
    "\n",
    "b_artist[\"cat_id\"] = b_artist[\"cat_id\"].astype('int')"
   ]
  },
  {
   "cell_type": "code",
   "execution_count": null,
   "metadata": {},
   "outputs": [],
   "source": [
    "sf.build_table(engine=engine,table_name=\"artist\",dataframe=b_artist,schema=schema)"
   ]
  },
  {
   "cell_type": "markdown",
   "metadata": {},
   "source": [
    "# Cleaning boardgamepublisher"
   ]
  },
  {
   "cell_type": "code",
   "execution_count": null,
   "metadata": {},
   "outputs": [],
   "source": [
    "b_publ = df_dict['boardgamepublisher'].copy()  "
   ]
  },
  {
   "cell_type": "code",
   "execution_count": null,
   "metadata": {},
   "outputs": [],
   "source": [
    "b_publ[\"id\"] = b_publ[\"id\"].astype('int')\n",
    "\n",
    "b_publ[\"cat_id\"] = b_publ[\"cat_id\"].astype('int')"
   ]
  },
  {
   "cell_type": "code",
   "execution_count": null,
   "metadata": {},
   "outputs": [],
   "source": [
    "sf.build_table(engine=engine,table_name=\"publisher\",dataframe=b_publ,schema=schema)"
   ]
  },
  {
   "cell_type": "markdown",
   "metadata": {},
   "source": [
    "# Cleaning boardgamepodcastepisode"
   ]
  },
  {
   "cell_type": "code",
   "execution_count": null,
   "metadata": {},
   "outputs": [],
   "source": [
    "b_podcast = df_dict['boardgamepodcastepisode'].copy()   "
   ]
  },
  {
   "cell_type": "code",
   "execution_count": null,
   "metadata": {},
   "outputs": [],
   "source": [
    "b_podcast[\"id\"] = b_podcast[\"id\"].astype('int')\n",
    "\n",
    "b_podcast[\"cat_id\"] = b_podcast[\"cat_id\"].astype('int')"
   ]
  },
  {
   "cell_type": "code",
   "execution_count": null,
   "metadata": {},
   "outputs": [],
   "source": [
    "sf.build_table(engine=engine,table_name=\"podcast\",dataframe=b_podcast,schema=schema)"
   ]
  },
  {
   "cell_type": "markdown",
   "metadata": {},
   "source": [
    "# Cleaning boardgameimplementation"
   ]
  },
  {
   "cell_type": "code",
   "execution_count": null,
   "metadata": {},
   "outputs": [],
   "source": [
    "b_impl = df_dict['boardgameimplementation'].copy()   "
   ]
  },
  {
   "cell_type": "code",
   "execution_count": null,
   "metadata": {},
   "outputs": [],
   "source": [
    "b_impl[['implementation', 'implementation_type']] = b_impl['cat_name'].str.split(':',expand=True,n=1)"
   ]
  },
  {
   "cell_type": "code",
   "execution_count": null,
   "metadata": {},
   "outputs": [],
   "source": [
    "b_impl.drop(columns=[\"cat_name\"],inplace=True)"
   ]
  },
  {
   "cell_type": "code",
   "execution_count": null,
   "metadata": {},
   "outputs": [],
   "source": [
    "b_impl"
   ]
  },
  {
   "cell_type": "code",
   "execution_count": null,
   "metadata": {},
   "outputs": [],
   "source": [
    "b_impl[\"id\"] = b_impl[\"id\"].astype('int')\n",
    "\n",
    "b_impl[\"cat_id\"] = b_impl[\"cat_id\"].astype('int')"
   ]
  },
  {
   "cell_type": "code",
   "execution_count": null,
   "metadata": {},
   "outputs": [],
   "source": [
    "sf.build_table(engine=engine,table_name=\"implementation\",dataframe=b_impl,schema=schema)"
   ]
  },
  {
   "cell_type": "markdown",
   "metadata": {},
   "source": [
    "# Cleaning videogamebg"
   ]
  },
  {
   "cell_type": "code",
   "execution_count": null,
   "metadata": {},
   "outputs": [],
   "source": [
    "b_videogame = df_dict['videogamebg'].copy()   "
   ]
  },
  {
   "cell_type": "code",
   "execution_count": null,
   "metadata": {},
   "outputs": [],
   "source": [
    "b_videogame"
   ]
  },
  {
   "cell_type": "code",
   "execution_count": null,
   "metadata": {},
   "outputs": [],
   "source": [
    "b_videogame[\"id\"] = b_videogame[\"id\"].astype('int')\n",
    "\n",
    "b_videogame[\"cat_id\"] = b_videogame[\"cat_id\"].astype('int')"
   ]
  },
  {
   "cell_type": "code",
   "execution_count": null,
   "metadata": {},
   "outputs": [],
   "source": [
    "sf.build_table(engine=engine,table_name=\"videogames\",dataframe=b_videogame,schema=schema)"
   ]
  },
  {
   "cell_type": "markdown",
   "metadata": {},
   "source": [
    "# Cleaning Statistics"
   ]
  },
  {
   "cell_type": "code",
   "execution_count": null,
   "metadata": {},
   "outputs": [],
   "source": [
    "b_stats = df_dict['statistics'].copy() "
   ]
  },
  {
   "cell_type": "code",
   "execution_count": null,
   "metadata": {},
   "outputs": [],
   "source": [
    "b_stats = b_stats.dropna()"
   ]
  },
  {
   "cell_type": "code",
   "execution_count": null,
   "metadata": {},
   "outputs": [],
   "source": [
    "b_stats[\"id\"] = b_stats[\"id\"].astype('int')\n",
    "b_stats[\"average\"] = b_stats[\"average\"].astype('float')\n",
    "b_stats[\"user_rated\"] = b_stats[\"user_rated\"].astype('int')\n",
    "b_stats[\"num_owned\"] = b_stats[\"num_owned\"].astype('int')\n",
    "b_stats[\"trading\"] = b_stats[\"trading\"].astype('int')\n",
    "b_stats[\"wanting\"] = b_stats[\"wanting\"].astype('int')\n",
    "b_stats[\"wishing\"] = b_stats[\"wishing\"].astype('int')\n",
    "b_stats[\"numcomments\"] = b_stats[\"numcomments\"].astype('int')\n",
    "b_stats[\"numweights\"] = b_stats[\"numweights\"].astype('int')\n",
    "b_stats[\"averageweight\"] = b_stats[\"averageweight\"].astype('float')"
   ]
  },
  {
   "cell_type": "code",
   "execution_count": null,
   "metadata": {},
   "outputs": [],
   "source": [
    "b_stats.info()"
   ]
  },
  {
   "cell_type": "code",
   "execution_count": null,
   "metadata": {},
   "outputs": [],
   "source": [
    "sf.build_table(engine=engine,table_name=\"statistics\",dataframe=b_stats,schema=schema)"
   ]
  },
  {
   "cell_type": "markdown",
   "metadata": {},
   "source": [
    "# Cleaning df_poll"
   ]
  },
  {
   "cell_type": "code",
   "execution_count": null,
   "metadata": {},
   "outputs": [],
   "source": [
    "df_poll = pd.DataFrame()\n",
    "\n",
    "directory = os.fsencode(\"data/\")\n",
    "for file in os.listdir(directory):\n",
    "    filename = os.fsdecode(file)\n",
    "    if filename.endswith(\".xml\"): \n",
    "        file_path = os.path.join(str(directory)[2:].replace(\"'\",\"\"), filename)\n",
    "        xtree_temp = etree.parse(file_path, parser= parser).getroot()\n",
    "        df_poll = pd.concat([df_poll,cf.df_poll(xtree_temp)])"
   ]
  },
  {
   "cell_type": "code",
   "execution_count": null,
   "metadata": {},
   "outputs": [],
   "source": [
    "df_poll"
   ]
  },
  {
   "cell_type": "code",
   "execution_count": null,
   "metadata": {},
   "outputs": [],
   "source": [
    "df_poll[\"id\"] = df_poll[\"id\"].astype('int')\n",
    "\n",
    "df_poll[\"num_votes\"] = df_poll[\"num_votes\"].astype('int')"
   ]
  },
  {
   "cell_type": "code",
   "execution_count": null,
   "metadata": {},
   "outputs": [],
   "source": [
    "df_poll.info()"
   ]
  },
  {
   "cell_type": "code",
   "execution_count": null,
   "metadata": {},
   "outputs": [],
   "source": [
    "sf.build_table(engine=engine,table_name=\"community_poll\",dataframe=df_poll,schema=schema)"
   ]
  },
  {
   "cell_type": "markdown",
   "metadata": {},
   "source": [
    "# Cleaning Names"
   ]
  },
  {
   "cell_type": "code",
   "execution_count": 3,
   "metadata": {},
   "outputs": [],
   "source": [
    "df_name = pd.DataFrame()\n",
    "\n",
    "directory = os.fsencode(\"data/\")\n",
    "for file in os.listdir(directory):\n",
    "    filename = os.fsdecode(file)\n",
    "    if filename.endswith(\".xml\"): \n",
    "        file_path = os.path.join(str(directory)[2:].replace(\"'\",\"\"), filename)\n",
    "        xtree_temp = etree.parse(file_path, parser= parser).getroot()\n",
    "        df_name = pd.concat([df_name,cf.df_subnodes(xtree_temp,\"name\")])"
   ]
  },
  {
   "cell_type": "code",
   "execution_count": 4,
   "metadata": {},
   "outputs": [],
   "source": [
    "df_name[\"id\"] = df_name[\"id\"].astype('int')"
   ]
  },
  {
   "cell_type": "code",
   "execution_count": 5,
   "metadata": {},
   "outputs": [
    {
     "name": "stdout",
     "output_type": "stream",
     "text": [
      "<class 'pandas.core.frame.DataFrame'>\n",
      "Int64Index: 433515 entries, 0 to 238\n",
      "Data columns (total 3 columns):\n",
      " #   Column   Non-Null Count   Dtype \n",
      "---  ------   --------------   ----- \n",
      " 0   id       433515 non-null  int64 \n",
      " 1   name     433514 non-null  object\n",
      " 2   primary  433515 non-null  int64 \n",
      "dtypes: int64(2), object(1)\n",
      "memory usage: 13.2+ MB\n"
     ]
    }
   ],
   "source": [
    "df_name.info()"
   ]
  },
  {
   "cell_type": "code",
   "execution_count": 6,
   "metadata": {},
   "outputs": [
    {
     "data": {
      "text/html": [
       "<div>\n",
       "<style scoped>\n",
       "    .dataframe tbody tr th:only-of-type {\n",
       "        vertical-align: middle;\n",
       "    }\n",
       "\n",
       "    .dataframe tbody tr th {\n",
       "        vertical-align: top;\n",
       "    }\n",
       "\n",
       "    .dataframe thead th {\n",
       "        text-align: right;\n",
       "    }\n",
       "</style>\n",
       "<table border=\"1\" class=\"dataframe\">\n",
       "  <thead>\n",
       "    <tr style=\"text-align: right;\">\n",
       "      <th></th>\n",
       "      <th>id</th>\n",
       "      <th>name</th>\n",
       "      <th>primary</th>\n",
       "    </tr>\n",
       "  </thead>\n",
       "  <tbody>\n",
       "    <tr>\n",
       "      <th>0</th>\n",
       "      <td>98400</td>\n",
       "      <td>Piclings</td>\n",
       "      <td>1</td>\n",
       "    </tr>\n",
       "    <tr>\n",
       "      <th>1</th>\n",
       "      <td>98401</td>\n",
       "      <td>UNLOCKED</td>\n",
       "      <td>1</td>\n",
       "    </tr>\n",
       "    <tr>\n",
       "      <th>2</th>\n",
       "      <td>98402</td>\n",
       "      <td>Le Pâtissier</td>\n",
       "      <td>1</td>\n",
       "    </tr>\n",
       "    <tr>\n",
       "      <th>3</th>\n",
       "      <td>98403</td>\n",
       "      <td>Backswords &amp; Bucklers: Book One – Basic Rules</td>\n",
       "      <td>1</td>\n",
       "    </tr>\n",
       "    <tr>\n",
       "      <th>4</th>\n",
       "      <td>98404</td>\n",
       "      <td>BattleTechnology (Issue 13 - Year-End 3049)</td>\n",
       "      <td>1</td>\n",
       "    </tr>\n",
       "    <tr>\n",
       "      <th>...</th>\n",
       "      <td>...</td>\n",
       "      <td>...</td>\n",
       "      <td>...</td>\n",
       "    </tr>\n",
       "    <tr>\n",
       "      <th>234</th>\n",
       "      <td>298195</td>\n",
       "      <td>Gloomhaven: Return of the Lost Cabal (Promo Sc...</td>\n",
       "      <td>1</td>\n",
       "    </tr>\n",
       "    <tr>\n",
       "      <th>235</th>\n",
       "      <td>298196</td>\n",
       "      <td>The Secret Frequency Files</td>\n",
       "      <td>1</td>\n",
       "    </tr>\n",
       "    <tr>\n",
       "      <th>236</th>\n",
       "      <td>298197</td>\n",
       "      <td>Ascension's Landscape: Setting Refinements and...</td>\n",
       "      <td>1</td>\n",
       "    </tr>\n",
       "    <tr>\n",
       "      <th>237</th>\n",
       "      <td>298198</td>\n",
       "      <td>Bordeaux: The Court</td>\n",
       "      <td>1</td>\n",
       "    </tr>\n",
       "    <tr>\n",
       "      <th>238</th>\n",
       "      <td>298199</td>\n",
       "      <td>Tyne and Wear: Nocturnal Encounters</td>\n",
       "      <td>1</td>\n",
       "    </tr>\n",
       "  </tbody>\n",
       "</table>\n",
       "<p>433515 rows × 3 columns</p>\n",
       "</div>"
      ],
      "text/plain": [
       "         id                                               name  primary\n",
       "0     98400                                           Piclings        1\n",
       "1     98401                                           UNLOCKED        1\n",
       "2     98402                                       Le Pâtissier        1\n",
       "3     98403      Backswords & Bucklers: Book One – Basic Rules        1\n",
       "4     98404        BattleTechnology (Issue 13 - Year-End 3049)        1\n",
       "..      ...                                                ...      ...\n",
       "234  298195  Gloomhaven: Return of the Lost Cabal (Promo Sc...        1\n",
       "235  298196                         The Secret Frequency Files        1\n",
       "236  298197  Ascension's Landscape: Setting Refinements and...        1\n",
       "237  298198                                Bordeaux: The Court        1\n",
       "238  298199                Tyne and Wear: Nocturnal Encounters        1\n",
       "\n",
       "[433515 rows x 3 columns]"
      ]
     },
     "execution_count": 6,
     "metadata": {},
     "output_type": "execute_result"
    }
   ],
   "source": [
    "df_name"
   ]
  },
  {
   "cell_type": "code",
   "execution_count": 7,
   "metadata": {},
   "outputs": [
    {
     "name": "stdout",
     "output_type": "stream",
     "text": [
      "The names table was imported successfully.\n"
     ]
    }
   ],
   "source": [
    "sf.build_table(engine=engine,table_name=\"names\",dataframe=df_name,schema=schema)"
   ]
  }
 ],
 "metadata": {
  "kernelspec": {
   "display_name": "Python 3.9.12 ('neesql')",
   "language": "python",
   "name": "python3"
  },
  "language_info": {
   "codemirror_mode": {
    "name": "ipython",
    "version": 3
   },
   "file_extension": ".py",
   "mimetype": "text/x-python",
   "name": "python",
   "nbconvert_exporter": "python",
   "pygments_lexer": "ipython3",
   "version": "3.9.12"
  },
  "orig_nbformat": 4,
  "vscode": {
   "interpreter": {
    "hash": "93d4e68d14dafe92e85b564fcffe2f10b012fa4b4f297d685e500cc70b9ea34f"
   }
  }
 },
 "nbformat": 4,
 "nbformat_minor": 2
}
