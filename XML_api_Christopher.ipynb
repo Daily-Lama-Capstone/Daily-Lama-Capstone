{
 "cells": [
  {
   "cell_type": "code",
   "execution_count": 1,
   "metadata": {},
   "outputs": [],
   "source": [
    "import pandas as pd\n",
    "import numpy as np\n",
    "from lxml import etree\n",
    "import xml.etree.ElementTree as ET\n",
    "import urllib3\n",
    "import requests as rq"
   ]
  },
  {
   "cell_type": "code",
   "execution_count": 2,
   "metadata": {},
   "outputs": [],
   "source": [
    "status_set = {202, 408, 409, 413, 425, 429, 500, 502, 503, 504, 521, 598, 599}\n",
    "retries = urllib3.util.retry.Retry(backoff_factor=60, status_forcelist=status_set)\n",
    "http = urllib3.PoolManager(retries=retries)\n",
    "\n",
    "parser = etree.XMLParser()"
   ]
  },
  {
   "cell_type": "code",
   "execution_count": 3,
   "metadata": {},
   "outputs": [],
   "source": [
    "start = 260000\n",
    "max_id = 400000\n",
    "stepsize = 200\n",
    "nums = np.arange(start,max_id+1,stepsize)\n",
    "folder = \"data/\"\n",
    "\n",
    "for idx in range(len(nums)-1):\n",
    "    rg = str(list(range(nums[idx],nums[idx+1])))[1:-1].replace(\" \",\"\")\n",
    "    url = f\"http://boardgamegeek.com/xmlapi/boardgame/{rg}?stats=1&marketplace=1\"\n",
    "    req = rq.get(url)\n",
    "    filename = f\"old_API_id_{nums[idx+1]}.xml\"\n",
    "    path = f\"{folder}{filename}\"\n",
    "    with open(path, 'wb') as fp:\n",
    "        fp.write(req.content)"
   ]
  },
  {
   "cell_type": "code",
   "execution_count": 26,
   "metadata": {},
   "outputs": [
    {
     "data": {
      "text/plain": [
       "'0,1,2,3,4,5,6,7,8,9,10,11,12,13,14,15,16,17,18,19,20,21,22,23,24,25,26,27,28,29,30,31,32,33,34,35,36,37,38,39,40,41,42,43,44,45,46,47,48,49,50,51,52,53,54,55,56,57,58,59,60,61,62,63,64,65,66,67,68,69,70,71,72,73,74,75,76,77,78,79,80,81,82,83,84,85,86,87,88,89,90,91,92,93,94,95,96,97,98,99,100,101,102,103,104,105,106,107,108,109,110,111,112,113,114,115,116,117,118,119,120,121,122,123,124,125,126,127,128,129,130,131,132,133,134,135,136,137,138,139,140,141,142,143,144,145,146,147,148,149,150,151,152,153,154,155,156,157,158,159,160,161,162,163,164,165,166,167,168,169,170,171,172,173,174,175,176,177,178,179,180,181,182,183,184,185,186,187,188,189,190,191,192,193,194,195,196,197,198,199'"
      ]
     },
     "execution_count": 26,
     "metadata": {},
     "output_type": "execute_result"
    }
   ],
   "source": [
    "max_id = 1000\n",
    "stepsize = 200\n",
    "nums = np.arange(0,max_id+1,stepsize)\n",
    "rg = str(list(range(nums[0],nums[1])))[1:-1].replace(\" \",\"\")\n",
    "rg"
   ]
  }
 ],
 "metadata": {
  "kernelspec": {
   "display_name": "Python 3.9.12 ('nf_sql')",
   "language": "python",
   "name": "python3"
  },
  "language_info": {
   "codemirror_mode": {
    "name": "ipython",
    "version": 3
   },
   "file_extension": ".py",
   "mimetype": "text/x-python",
   "name": "python",
   "nbconvert_exporter": "python",
   "pygments_lexer": "ipython3",
   "version": "3.9.12"
  },
  "orig_nbformat": 4,
  "vscode": {
   "interpreter": {
    "hash": "a81d278bed5b5b59425dcb5a82ce505657686243c184b4a6b67e69d01c4d432e"
   }
  }
 },
 "nbformat": 4,
 "nbformat_minor": 2
}
