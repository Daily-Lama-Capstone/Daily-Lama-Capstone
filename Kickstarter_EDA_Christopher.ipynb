{
 "cells": [
  {
   "cell_type": "code",
   "execution_count": 2,
   "metadata": {},
   "outputs": [],
   "source": [
    "import pandas as pd\n",
    "import Capstone_functions as cf\n",
    "import sql_functions as sf\n",
    "import capstone_json_functions as cjf\n",
    "import numpy as np"
   ]
  },
  {
   "cell_type": "markdown",
   "metadata": {},
   "source": [
    "Get the Dataframe from the table on the postgres server"
   ]
  },
  {
   "cell_type": "code",
   "execution_count": 4,
   "metadata": {},
   "outputs": [],
   "source": [
    "query = f\"SELECT * FROM bgg_data.kickstarter_raw\"\n",
    "df = sf.get_dataframe(query)"
   ]
  },
  {
   "cell_type": "markdown",
   "metadata": {},
   "source": [
    "Convert \"usd_pledged\" from str to float"
   ]
  },
  {
   "cell_type": "code",
   "execution_count": 5,
   "metadata": {},
   "outputs": [],
   "source": [
    "df.usd_pledged = df.usd_pledged.astype(float)"
   ]
  },
  {
   "cell_type": "markdown",
   "metadata": {},
   "source": [
    "Build new column named \"conversion rate\""
   ]
  },
  {
   "cell_type": "code",
   "execution_count": 6,
   "metadata": {},
   "outputs": [],
   "source": [
    "df[\"conversion_rate\"] = df.usd_pledged / df.pledged"
   ]
  },
  {
   "cell_type": "code",
   "execution_count": 17,
   "metadata": {},
   "outputs": [],
   "source": [
    "df[\"conversion_rate\"].fillna(1,inplace=True)"
   ]
  },
  {
   "cell_type": "markdown",
   "metadata": {},
   "source": [
    "Convert \"Goal\" to \"usd_goal\""
   ]
  },
  {
   "cell_type": "code",
   "execution_count": 18,
   "metadata": {},
   "outputs": [],
   "source": [
    "df[\"usd_goal\"] = df.goal*df.conversion_rate"
   ]
  },
  {
   "cell_type": "markdown",
   "metadata": {},
   "source": [
    "Round the usd_goal to zero decimals"
   ]
  },
  {
   "cell_type": "code",
   "execution_count": 19,
   "metadata": {},
   "outputs": [],
   "source": [
    "df.usd_goal = df.usd_goal.round(0)"
   ]
  },
  {
   "cell_type": "code",
   "execution_count": 25,
   "metadata": {},
   "outputs": [
    {
     "data": {
      "text/html": [
       "<div>\n",
       "<style scoped>\n",
       "    .dataframe tbody tr th:only-of-type {\n",
       "        vertical-align: middle;\n",
       "    }\n",
       "\n",
       "    .dataframe tbody tr th {\n",
       "        vertical-align: top;\n",
       "    }\n",
       "\n",
       "    .dataframe thead th {\n",
       "        text-align: right;\n",
       "    }\n",
       "</style>\n",
       "<table border=\"1\" class=\"dataframe\">\n",
       "  <thead>\n",
       "    <tr style=\"text-align: right;\">\n",
       "      <th></th>\n",
       "      <th>game_name</th>\n",
       "      <th>goal</th>\n",
       "      <th>pledged</th>\n",
       "      <th>state</th>\n",
       "      <th>slug</th>\n",
       "      <th>country</th>\n",
       "      <th>currency</th>\n",
       "      <th>deadline</th>\n",
       "      <th>created_at</th>\n",
       "      <th>launched_at</th>\n",
       "      <th>backers_count</th>\n",
       "      <th>usd_pledged</th>\n",
       "      <th>creator_name</th>\n",
       "      <th>state_changed_at</th>\n",
       "      <th>conversion_rate</th>\n",
       "      <th>usd_goal</th>\n",
       "    </tr>\n",
       "  </thead>\n",
       "  <tbody>\n",
       "    <tr>\n",
       "      <th>18993</th>\n",
       "      <td>goat_dice_changing_the_way_we_roll</td>\n",
       "      <td>200</td>\n",
       "      <td>163830.5</td>\n",
       "      <td>live</td>\n",
       "      <td>goat-dice-changing-the-way-we-roll</td>\n",
       "      <td>US</td>\n",
       "      <td>USD</td>\n",
       "      <td>2019-11-15 03:00:00</td>\n",
       "      <td>2019-10-04 02:36:12</td>\n",
       "      <td>2019-10-15 12:58:59</td>\n",
       "      <td>2832</td>\n",
       "      <td>163830.5</td>\n",
       "      <td>James</td>\n",
       "      <td>2019-10-15 12:58:59</td>\n",
       "      <td>1.0</td>\n",
       "      <td>200.0</td>\n",
       "    </tr>\n",
       "    <tr>\n",
       "      <th>19064</th>\n",
       "      <td>goat_dice_changing_the_way_we_roll</td>\n",
       "      <td>200</td>\n",
       "      <td>163930.5</td>\n",
       "      <td>live</td>\n",
       "      <td>goat-dice-changing-the-way-we-roll</td>\n",
       "      <td>US</td>\n",
       "      <td>USD</td>\n",
       "      <td>2019-11-15 03:00:00</td>\n",
       "      <td>2019-10-04 02:36:12</td>\n",
       "      <td>2019-10-15 12:58:59</td>\n",
       "      <td>2833</td>\n",
       "      <td>163930.5</td>\n",
       "      <td>James</td>\n",
       "      <td>2019-10-15 12:58:59</td>\n",
       "      <td>1.0</td>\n",
       "      <td>200.0</td>\n",
       "    </tr>\n",
       "    <tr>\n",
       "      <th>40791</th>\n",
       "      <td>goat_dice_changing_the_way_we_roll</td>\n",
       "      <td>200</td>\n",
       "      <td>230260.5</td>\n",
       "      <td>live</td>\n",
       "      <td>goat-dice-changing-the-way-we-roll</td>\n",
       "      <td>US</td>\n",
       "      <td>USD</td>\n",
       "      <td>2019-11-15 03:00:00</td>\n",
       "      <td>2019-10-04 02:36:12</td>\n",
       "      <td>2019-10-15 12:58:59</td>\n",
       "      <td>3884</td>\n",
       "      <td>230260.5</td>\n",
       "      <td>James</td>\n",
       "      <td>2019-10-15 12:58:59</td>\n",
       "      <td>1.0</td>\n",
       "      <td>200.0</td>\n",
       "    </tr>\n",
       "    <tr>\n",
       "      <th>41009</th>\n",
       "      <td>goat_dice_changing_the_way_we_roll</td>\n",
       "      <td>200</td>\n",
       "      <td>230348.5</td>\n",
       "      <td>live</td>\n",
       "      <td>goat-dice-changing-the-way-we-roll</td>\n",
       "      <td>US</td>\n",
       "      <td>USD</td>\n",
       "      <td>2019-11-15 03:00:00</td>\n",
       "      <td>2019-10-04 02:36:12</td>\n",
       "      <td>2019-10-15 12:58:59</td>\n",
       "      <td>3890</td>\n",
       "      <td>230348.5</td>\n",
       "      <td>James</td>\n",
       "      <td>2019-10-15 12:58:59</td>\n",
       "      <td>1.0</td>\n",
       "      <td>200.0</td>\n",
       "    </tr>\n",
       "  </tbody>\n",
       "</table>\n",
       "</div>"
      ],
      "text/plain": [
       "                                game_name  goal   pledged state  \\\n",
       "18993  goat_dice_changing_the_way_we_roll   200  163830.5  live   \n",
       "19064  goat_dice_changing_the_way_we_roll   200  163930.5  live   \n",
       "40791  goat_dice_changing_the_way_we_roll   200  230260.5  live   \n",
       "41009  goat_dice_changing_the_way_we_roll   200  230348.5  live   \n",
       "\n",
       "                                     slug country currency  \\\n",
       "18993  goat-dice-changing-the-way-we-roll      US      USD   \n",
       "19064  goat-dice-changing-the-way-we-roll      US      USD   \n",
       "40791  goat-dice-changing-the-way-we-roll      US      USD   \n",
       "41009  goat-dice-changing-the-way-we-roll      US      USD   \n",
       "\n",
       "                 deadline          created_at         launched_at  \\\n",
       "18993 2019-11-15 03:00:00 2019-10-04 02:36:12 2019-10-15 12:58:59   \n",
       "19064 2019-11-15 03:00:00 2019-10-04 02:36:12 2019-10-15 12:58:59   \n",
       "40791 2019-11-15 03:00:00 2019-10-04 02:36:12 2019-10-15 12:58:59   \n",
       "41009 2019-11-15 03:00:00 2019-10-04 02:36:12 2019-10-15 12:58:59   \n",
       "\n",
       "       backers_count  usd_pledged creator_name    state_changed_at  \\\n",
       "18993           2832     163830.5        James 2019-10-15 12:58:59   \n",
       "19064           2833     163930.5        James 2019-10-15 12:58:59   \n",
       "40791           3884     230260.5        James 2019-10-15 12:58:59   \n",
       "41009           3890     230348.5        James 2019-10-15 12:58:59   \n",
       "\n",
       "       conversion_rate  usd_goal  \n",
       "18993              1.0     200.0  \n",
       "19064              1.0     200.0  \n",
       "40791              1.0     200.0  \n",
       "41009              1.0     200.0  "
      ]
     },
     "execution_count": 25,
     "metadata": {},
     "output_type": "execute_result"
    }
   ],
   "source": [
    "df.loc[df[\"slug\"] == 'goat-dice-changing-the-way-we-roll']"
   ]
  }
 ],
 "metadata": {
  "kernelspec": {
   "display_name": "Python 3.9.12 ('nf_sql')",
   "language": "python",
   "name": "python3"
  },
  "language_info": {
   "codemirror_mode": {
    "name": "ipython",
    "version": 3
   },
   "file_extension": ".py",
   "mimetype": "text/x-python",
   "name": "python",
   "nbconvert_exporter": "python",
   "pygments_lexer": "ipython3",
   "version": "3.9.12"
  },
  "orig_nbformat": 4,
  "vscode": {
   "interpreter": {
    "hash": "a81d278bed5b5b59425dcb5a82ce505657686243c184b4a6b67e69d01c4d432e"
   }
  }
 },
 "nbformat": 4,
 "nbformat_minor": 2
}
