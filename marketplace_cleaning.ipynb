{
 "cells": [
  {
   "cell_type": "code",
   "execution_count": 46,
   "metadata": {},
   "outputs": [],
   "source": [
    "import pandas as pd\n",
    "import numpy as np\n",
    "import json\n",
    "import os\n",
    "import Capstone_functions as cf\n",
    "import capstone_json_functions as cjf\n",
    "import sql_functions as sf\n",
    "from pathlib import Path\n",
    "import re"
   ]
  },
  {
   "cell_type": "code",
   "execution_count": 89,
   "metadata": {},
   "outputs": [],
   "source": [
    "marketplace_query = f\"Select * from bgg_data.marketplace_listings\"\n",
    "df = sf.get_dataframe(marketplace_query)"
   ]
  },
  {
   "cell_type": "code",
   "execution_count": 84,
   "metadata": {},
   "outputs": [],
   "source": [
    "mask = (df['condition'] == 'new') | ( df['condition'] == 'likenew') | (df[\"condition\"] == \"verygood\")"
   ]
  },
  {
   "cell_type": "code",
   "execution_count": 91,
   "metadata": {},
   "outputs": [],
   "source": [
    "df_filter = df.where((df == df))"
   ]
  },
  {
   "cell_type": "code",
   "execution_count": 82,
   "metadata": {},
   "outputs": [
    {
     "data": {
      "text/html": [
       "<div>\n",
       "<style scoped>\n",
       "    .dataframe tbody tr th:only-of-type {\n",
       "        vertical-align: middle;\n",
       "    }\n",
       "\n",
       "    .dataframe tbody tr th {\n",
       "        vertical-align: top;\n",
       "    }\n",
       "\n",
       "    .dataframe thead th {\n",
       "        text-align: right;\n",
       "    }\n",
       "</style>\n",
       "<table border=\"1\" class=\"dataframe\">\n",
       "  <thead>\n",
       "    <tr style=\"text-align: right;\">\n",
       "      <th></th>\n",
       "      <th>id</th>\n",
       "      <th>listdate</th>\n",
       "      <th>price</th>\n",
       "      <th>currency</th>\n",
       "      <th>condition</th>\n",
       "      <th>conv_currency</th>\n",
       "      <th>price_in_dollars</th>\n",
       "    </tr>\n",
       "  </thead>\n",
       "  <tbody>\n",
       "    <tr>\n",
       "      <th>16</th>\n",
       "      <td>98476.0</td>\n",
       "      <td>2021-03-03</td>\n",
       "      <td>19.99</td>\n",
       "      <td>EUR</td>\n",
       "      <td>new</td>\n",
       "      <td>1.03</td>\n",
       "      <td>20.5897</td>\n",
       "    </tr>\n",
       "    <tr>\n",
       "      <th>17</th>\n",
       "      <td>98479.0</td>\n",
       "      <td>2018-10-15</td>\n",
       "      <td>2.50</td>\n",
       "      <td>EUR</td>\n",
       "      <td>new</td>\n",
       "      <td>1.03</td>\n",
       "      <td>2.5750</td>\n",
       "    </tr>\n",
       "    <tr>\n",
       "      <th>18</th>\n",
       "      <td>98479.0</td>\n",
       "      <td>2018-10-15</td>\n",
       "      <td>2.50</td>\n",
       "      <td>EUR</td>\n",
       "      <td>new</td>\n",
       "      <td>1.03</td>\n",
       "      <td>2.5750</td>\n",
       "    </tr>\n",
       "    <tr>\n",
       "      <th>19</th>\n",
       "      <td>98479.0</td>\n",
       "      <td>2018-10-15</td>\n",
       "      <td>2.50</td>\n",
       "      <td>EUR</td>\n",
       "      <td>new</td>\n",
       "      <td>1.03</td>\n",
       "      <td>2.5750</td>\n",
       "    </tr>\n",
       "    <tr>\n",
       "      <th>20</th>\n",
       "      <td>98479.0</td>\n",
       "      <td>2018-10-15</td>\n",
       "      <td>2.50</td>\n",
       "      <td>EUR</td>\n",
       "      <td>new</td>\n",
       "      <td>1.03</td>\n",
       "      <td>2.5750</td>\n",
       "    </tr>\n",
       "    <tr>\n",
       "      <th>...</th>\n",
       "      <td>...</td>\n",
       "      <td>...</td>\n",
       "      <td>...</td>\n",
       "      <td>...</td>\n",
       "      <td>...</td>\n",
       "      <td>...</td>\n",
       "      <td>...</td>\n",
       "    </tr>\n",
       "    <tr>\n",
       "      <th>241548</th>\n",
       "      <td>298154.0</td>\n",
       "      <td>2022-02-23</td>\n",
       "      <td>50.00</td>\n",
       "      <td>GBP</td>\n",
       "      <td>new</td>\n",
       "      <td>1.21</td>\n",
       "      <td>60.5000</td>\n",
       "    </tr>\n",
       "    <tr>\n",
       "      <th>241552</th>\n",
       "      <td>298166.0</td>\n",
       "      <td>2021-08-07</td>\n",
       "      <td>10.00</td>\n",
       "      <td>USD</td>\n",
       "      <td>new</td>\n",
       "      <td>1.00</td>\n",
       "      <td>10.0000</td>\n",
       "    </tr>\n",
       "    <tr>\n",
       "      <th>241554</th>\n",
       "      <td>298175.0</td>\n",
       "      <td>2020-08-08</td>\n",
       "      <td>34.00</td>\n",
       "      <td>EUR</td>\n",
       "      <td>new</td>\n",
       "      <td>1.03</td>\n",
       "      <td>35.0200</td>\n",
       "    </tr>\n",
       "    <tr>\n",
       "      <th>241555</th>\n",
       "      <td>298175.0</td>\n",
       "      <td>2020-11-03</td>\n",
       "      <td>33.99</td>\n",
       "      <td>EUR</td>\n",
       "      <td>new</td>\n",
       "      <td>1.03</td>\n",
       "      <td>35.0097</td>\n",
       "    </tr>\n",
       "    <tr>\n",
       "      <th>241556</th>\n",
       "      <td>298190.0</td>\n",
       "      <td>2022-06-27</td>\n",
       "      <td>22.95</td>\n",
       "      <td>EUR</td>\n",
       "      <td>new</td>\n",
       "      <td>1.03</td>\n",
       "      <td>23.6385</td>\n",
       "    </tr>\n",
       "  </tbody>\n",
       "</table>\n",
       "<p>119187 rows × 7 columns</p>\n",
       "</div>"
      ],
      "text/plain": [
       "              id   listdate  price currency condition  conv_currency  \\\n",
       "16       98476.0 2021-03-03  19.99      EUR       new           1.03   \n",
       "17       98479.0 2018-10-15   2.50      EUR       new           1.03   \n",
       "18       98479.0 2018-10-15   2.50      EUR       new           1.03   \n",
       "19       98479.0 2018-10-15   2.50      EUR       new           1.03   \n",
       "20       98479.0 2018-10-15   2.50      EUR       new           1.03   \n",
       "...          ...        ...    ...      ...       ...            ...   \n",
       "241548  298154.0 2022-02-23  50.00      GBP       new           1.21   \n",
       "241552  298166.0 2021-08-07  10.00      USD       new           1.00   \n",
       "241554  298175.0 2020-08-08  34.00      EUR       new           1.03   \n",
       "241555  298175.0 2020-11-03  33.99      EUR       new           1.03   \n",
       "241556  298190.0 2022-06-27  22.95      EUR       new           1.03   \n",
       "\n",
       "        price_in_dollars  \n",
       "16               20.5897  \n",
       "17                2.5750  \n",
       "18                2.5750  \n",
       "19                2.5750  \n",
       "20                2.5750  \n",
       "...                  ...  \n",
       "241548           60.5000  \n",
       "241552           10.0000  \n",
       "241554           35.0200  \n",
       "241555           35.0097  \n",
       "241556           23.6385  \n",
       "\n",
       "[119187 rows x 7 columns]"
      ]
     },
     "execution_count": 82,
     "metadata": {},
     "output_type": "execute_result"
    }
   ],
   "source": [
    "df_filter.dropna()"
   ]
  },
  {
   "cell_type": "code",
   "execution_count": 52,
   "metadata": {},
   "outputs": [],
   "source": [
    "df_avg_prices = df_filter.groupby('id').mean().reset_index()\n"
   ]
  },
  {
   "cell_type": "code",
   "execution_count": 59,
   "metadata": {},
   "outputs": [],
   "source": [
    "df_avg_prices[\"id\"] = df_avg_prices[\"id\"].convert_dtypes(convert_integer=True)"
   ]
  },
  {
   "cell_type": "code",
   "execution_count": 62,
   "metadata": {},
   "outputs": [],
   "source": [
    "df_avg_prices = df_avg_prices[[\"id\",\"price_in_dollars\"]]"
   ]
  },
  {
   "cell_type": "code",
   "execution_count": 78,
   "metadata": {},
   "outputs": [
    {
     "name": "stderr",
     "output_type": "stream",
     "text": [
      "/var/folders/kb/wqf78x2d06z43w0nwzbclk3m0000gn/T/ipykernel_1606/4069037966.py:1: SettingWithCopyWarning: \n",
      "A value is trying to be set on a copy of a slice from a DataFrame\n",
      "\n",
      "See the caveats in the documentation: https://pandas.pydata.org/pandas-docs/stable/user_guide/indexing.html#returning-a-view-versus-a-copy\n",
      "  df_avg_prices.rename({\"avg_price_in_dollar\":\"avg_price\"},axis=1,inplace=True)\n"
     ]
    }
   ],
   "source": [
    "df_avg_prices.rename({\"avg_price_in_dollar\":\"avg_price\"},axis=1,inplace=True)"
   ]
  },
  {
   "cell_type": "code",
   "execution_count": 79,
   "metadata": {},
   "outputs": [
    {
     "name": "stderr",
     "output_type": "stream",
     "text": [
      "/var/folders/kb/wqf78x2d06z43w0nwzbclk3m0000gn/T/ipykernel_1606/1031297708.py:1: SettingWithCopyWarning: \n",
      "A value is trying to be set on a copy of a slice from a DataFrame.\n",
      "Try using .loc[row_indexer,col_indexer] = value instead\n",
      "\n",
      "See the caveats in the documentation: https://pandas.pydata.org/pandas-docs/stable/user_guide/indexing.html#returning-a-view-versus-a-copy\n",
      "  df_avg_prices[\"avg_price\"] = df_avg_prices[\"avg_price\"].round(2)\n"
     ]
    }
   ],
   "source": [
    "df_avg_prices[\"avg_price\"] = df_avg_prices[\"avg_price\"].round(2)"
   ]
  },
  {
   "cell_type": "code",
   "execution_count": 80,
   "metadata": {},
   "outputs": [
    {
     "data": {
      "text/html": [
       "<div>\n",
       "<style scoped>\n",
       "    .dataframe tbody tr th:only-of-type {\n",
       "        vertical-align: middle;\n",
       "    }\n",
       "\n",
       "    .dataframe tbody tr th {\n",
       "        vertical-align: top;\n",
       "    }\n",
       "\n",
       "    .dataframe thead th {\n",
       "        text-align: right;\n",
       "    }\n",
       "</style>\n",
       "<table border=\"1\" class=\"dataframe\">\n",
       "  <thead>\n",
       "    <tr style=\"text-align: right;\">\n",
       "      <th></th>\n",
       "      <th>id</th>\n",
       "      <th>avg_price</th>\n",
       "    </tr>\n",
       "  </thead>\n",
       "  <tbody>\n",
       "    <tr>\n",
       "      <th>0</th>\n",
       "      <td>1</td>\n",
       "      <td>82.78</td>\n",
       "    </tr>\n",
       "    <tr>\n",
       "      <th>1</th>\n",
       "      <td>3</td>\n",
       "      <td>78.94</td>\n",
       "    </tr>\n",
       "    <tr>\n",
       "      <th>2</th>\n",
       "      <td>4</td>\n",
       "      <td>29.46</td>\n",
       "    </tr>\n",
       "    <tr>\n",
       "      <th>3</th>\n",
       "      <td>5</td>\n",
       "      <td>127.15</td>\n",
       "    </tr>\n",
       "    <tr>\n",
       "      <th>4</th>\n",
       "      <td>6</td>\n",
       "      <td>187.08</td>\n",
       "    </tr>\n",
       "    <tr>\n",
       "      <th>...</th>\n",
       "      <td>...</td>\n",
       "      <td>...</td>\n",
       "    </tr>\n",
       "    <tr>\n",
       "      <th>43933</th>\n",
       "      <td>364780</td>\n",
       "      <td>3.42</td>\n",
       "    </tr>\n",
       "    <tr>\n",
       "      <th>43934</th>\n",
       "      <td>364787</td>\n",
       "      <td>36.04</td>\n",
       "    </tr>\n",
       "    <tr>\n",
       "      <th>43935</th>\n",
       "      <td>364810</td>\n",
       "      <td>29.00</td>\n",
       "    </tr>\n",
       "    <tr>\n",
       "      <th>43936</th>\n",
       "      <td>365073</td>\n",
       "      <td>11.33</td>\n",
       "    </tr>\n",
       "    <tr>\n",
       "      <th>43937</th>\n",
       "      <td>365104</td>\n",
       "      <td>34.99</td>\n",
       "    </tr>\n",
       "  </tbody>\n",
       "</table>\n",
       "<p>43938 rows × 2 columns</p>\n",
       "</div>"
      ],
      "text/plain": [
       "           id  avg_price\n",
       "0           1      82.78\n",
       "1           3      78.94\n",
       "2           4      29.46\n",
       "3           5     127.15\n",
       "4           6     187.08\n",
       "...       ...        ...\n",
       "43933  364780       3.42\n",
       "43934  364787      36.04\n",
       "43935  364810      29.00\n",
       "43936  365073      11.33\n",
       "43937  365104      34.99\n",
       "\n",
       "[43938 rows x 2 columns]"
      ]
     },
     "execution_count": 80,
     "metadata": {},
     "output_type": "execute_result"
    }
   ],
   "source": [
    "df_avg_prices"
   ]
  },
  {
   "cell_type": "code",
   "execution_count": null,
   "metadata": {},
   "outputs": [],
   "source": []
  }
 ],
 "metadata": {
  "kernelspec": {
   "display_name": "Python 3.9.12 ('nf_sql')",
   "language": "python",
   "name": "python3"
  },
  "language_info": {
   "codemirror_mode": {
    "name": "ipython",
    "version": 3
   },
   "file_extension": ".py",
   "mimetype": "text/x-python",
   "name": "python",
   "nbconvert_exporter": "python",
   "pygments_lexer": "ipython3",
   "version": "3.9.12"
  },
  "orig_nbformat": 4,
  "vscode": {
   "interpreter": {
    "hash": "a81d278bed5b5b59425dcb5a82ce505657686243c184b4a6b67e69d01c4d432e"
   }
  }
 },
 "nbformat": 4,
 "nbformat_minor": 2
}
