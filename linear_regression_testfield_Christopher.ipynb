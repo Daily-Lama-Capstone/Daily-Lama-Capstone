{
 "cells": [
  {
   "cell_type": "code",
   "execution_count": 220,
   "metadata": {},
   "outputs": [],
   "source": [
    "from sql_functions import get_dataframe\n",
    "import pandas as pd\n",
    "import capstone_functions as cf\n",
    "import numpy as np\n",
    "import statsmodels.api as sm\n",
    "import statsmodels.formula.api as smf\n",
    "from scipy import stats\n",
    "from scipy import interpolate\n",
    "from sklearn import linear_model\n",
    "import seaborn as sns\n",
    "\n",
    "pd.options.mode.chained_assignment = None  # default='warn'"
   ]
  },
  {
   "cell_type": "markdown",
   "metadata": {},
   "source": [
    "# Variables"
   ]
  },
  {
   "cell_type": "code",
   "execution_count": 221,
   "metadata": {},
   "outputs": [],
   "source": [
    "# How many mechanics are in the top mechanics\n",
    "top_XX_mechanic = 25\n",
    "\n",
    "#schema and table names, we are using in this notebook\n",
    "schema = 'bgg_data'\n",
    "main = 'ml_boardgame_stats'\n",
    "subdomain = 'subdomain'\n",
    "unique_subdomain = 'unique_subdomain'\n",
    "kickstarter = 'kickstarter_unique_campaigns'\n",
    "slug = 'unique_slug_bgg_id'\n",
    "mechanic = 'mechanics'\n",
    "unique_mechanics = 'unique_mechanics'\n",
    "honor = 'honor_clean'"
   ]
  },
  {
   "cell_type": "markdown",
   "metadata": {},
   "source": [
    "## Create Dataframes for Kickstarter and Mechanic and build df for the top XX mechanics"
   ]
  },
  {
   "cell_type": "code",
   "execution_count": 222,
   "metadata": {},
   "outputs": [],
   "source": [
    "\n",
    "df_ks = get_dataframe(f\"SELECT * FROM {schema}.{kickstarter}\")\n",
    "df_slug = get_dataframe(f\"SELECT * FROM {schema}.{slug}\")\n",
    "df_mech = get_dataframe(f\"SELECT * FROM {schema}.{mechanic}\")\n",
    "df_u_mech = get_dataframe(f\"SELECT * FROM {schema}.{unique_mechanics}\")\n",
    "\n",
    "#df_marketplace = cf.avg_price_from_marketplace()\n",
    "#df_honor = get_dataframe(f\"SELECT * FROM {schema}.{honor}\")"
   ]
  },
  {
   "cell_type": "markdown",
   "metadata": {},
   "source": [
    "Merge kickstarter table with bgg_ids and rename column bgg_id to id"
   ]
  },
  {
   "cell_type": "code",
   "execution_count": 223,
   "metadata": {},
   "outputs": [],
   "source": [
    "df_ks = pd.merge(df_slug,df_ks,on='slug')\n",
    "df_ks.rename({'bgg_id':'id'},axis=1,inplace=True)"
   ]
  },
  {
   "cell_type": "markdown",
   "metadata": {},
   "source": [
    "create dataframe with all mechanics and merge it with the kickstarter dataframe"
   ]
  },
  {
   "cell_type": "code",
   "execution_count": 224,
   "metadata": {},
   "outputs": [],
   "source": [
    "df_mech = pd.merge(df_mech,df_u_mech,on='mechanic_id')\n",
    "df_mech = pd.merge(df_ks,df_mech,on='id')"
   ]
  },
  {
   "cell_type": "markdown",
   "metadata": {},
   "source": [
    "create a list with the top XX mechanics"
   ]
  },
  {
   "cell_type": "code",
   "execution_count": 225,
   "metadata": {},
   "outputs": [],
   "source": [
    "top_mechanics_list = list(df_mech.groupby(['mechanic']).count().sort_values(ascending=False,axis=0,by='id').reset_index()[\"mechanic\"].head(top_XX_mechanic))"
   ]
  },
  {
   "cell_type": "markdown",
   "metadata": {},
   "source": [
    "reduce the dataframe such that IDs are unique"
   ]
  },
  {
   "cell_type": "code",
   "execution_count": 226,
   "metadata": {},
   "outputs": [],
   "source": [
    "df_mech[\"is_in_top_XX_mechanics\"] = df_mech[\"mechanic\"].isin(top_mechanics_list)\n",
    "df_mech = df_mech[['id','is_in_top_XX_mechanics']]\n",
    "df_mech = df_mech.groupby('id').sum().reset_index()"
   ]
  },
  {
   "cell_type": "markdown",
   "metadata": {},
   "source": [
    "Because there are multiple mechanics for one ID, it is possible that for the same ID there are some mechanics in the top and others are not.\n",
    "- create new column with True/False if ID is in top XX categories (XX will be set in the top code field: \"Variables\" -> \"top_XX_mechanic\")"
   ]
  },
  {
   "cell_type": "code",
   "execution_count": 227,
   "metadata": {},
   "outputs": [],
   "source": [
    "df_mech[f\"top_{top_XX_mechanic}_mechanic\"] = df_mech.is_in_top_XX_mechanics > 0"
   ]
  },
  {
   "cell_type": "code",
   "execution_count": 228,
   "metadata": {},
   "outputs": [],
   "source": [
    "df_mech = df_mech[['id',f\"top_{top_XX_mechanic}_mechanic\"]]"
   ]
  },
  {
   "cell_type": "markdown",
   "metadata": {},
   "source": [
    "## Create Dataframes for main and subdomain"
   ]
  },
  {
   "cell_type": "code",
   "execution_count": 229,
   "metadata": {},
   "outputs": [],
   "source": [
    "df_main = get_dataframe(f\"SELECT * FROM {schema}.{main}\")\n",
    "df_sub = get_dataframe(f\"SELECT * FROM {schema}.{subdomain}\")\n",
    "df_u_sub = get_dataframe(f\"SELECT * FROM {schema}.{unique_subdomain}\")"
   ]
  },
  {
   "cell_type": "markdown",
   "metadata": {},
   "source": [
    "- merge Kickstarter with subdomains => 1021 non-null"
   ]
  },
  {
   "cell_type": "code",
   "execution_count": 230,
   "metadata": {},
   "outputs": [],
   "source": [
    "df_sub = pd.merge(df_sub,df_u_sub,on=\"subdomain_id\")\n",
    "df_ks_sub = pd.merge(df_ks,df_sub,on='id')"
   ]
  },
  {
   "cell_type": "markdown",
   "metadata": {},
   "source": [
    "- merge Kickstarter_subdomains with main => ~330 entries"
   ]
  },
  {
   "cell_type": "code",
   "execution_count": 231,
   "metadata": {},
   "outputs": [],
   "source": [
    "df_ks_sub_main = pd.merge(df_ks_sub,df_main,on='id')"
   ]
  },
  {
   "cell_type": "markdown",
   "metadata": {},
   "source": [
    "- Build new columns with goal in USD"
   ]
  },
  {
   "cell_type": "code",
   "execution_count": 232,
   "metadata": {},
   "outputs": [],
   "source": [
    "df_ks_sub_main[\"usd_goal\"] = df_ks_sub_main['goal']*(df_ks_sub_main.pledged/df_ks_sub_main.usd_pledged)"
   ]
  },
  {
   "cell_type": "markdown",
   "metadata": {},
   "source": [
    "merge with mechanics dataframe => 326 non-null entries"
   ]
  },
  {
   "cell_type": "code",
   "execution_count": 233,
   "metadata": {},
   "outputs": [],
   "source": [
    "df_ks_sub_main_mech = pd.merge(df_ks_sub_main,df_mech,on='id')"
   ]
  },
  {
   "cell_type": "code",
   "execution_count": 234,
   "metadata": {},
   "outputs": [],
   "source": [
    "#df_ks_sub_main_mech.columns"
   ]
  },
  {
   "cell_type": "markdown",
   "metadata": {},
   "source": [
    "## Machine Learning\n",
    "- Extract only necessary columns for our ML and drop all null"
   ]
  },
  {
   "cell_type": "code",
   "execution_count": 235,
   "metadata": {},
   "outputs": [],
   "source": [
    "df_ML = df_ks_sub_main_mech[['country','usd_pledged','subdomain_name','min_players','max_players','min_playtime','max_playtime','min_age','averageweight','usd_goal',f\"top_{top_XX_mechanic}_mechanic\"]]\n",
    "df_ML.dropna(inplace=True);"
   ]
  },
  {
   "cell_type": "code",
   "execution_count": 236,
   "metadata": {},
   "outputs": [],
   "source": [
    "df_ML[f\"top_{top_XX_mechanic}_mechanic\"] = df_ML[f\"top_{top_XX_mechanic}_mechanic\"].astype(int)"
   ]
  },
  {
   "cell_type": "code",
   "execution_count": 237,
   "metadata": {},
   "outputs": [],
   "source": [
    "df_ML[\"min_playtime\"].fillna(df_ML[\"max_playtime\"].median(),inplace=True);\n",
    "df_ML[\"max_playtime\"].fillna(df_ML[\"max_playtime\"].median(),inplace=True);\n"
   ]
  },
  {
   "cell_type": "code",
   "execution_count": 238,
   "metadata": {},
   "outputs": [],
   "source": [
    "df_ML = df_ML[(np.abs(stats.zscore(df_ML['min_playtime'])) < 2.5)]\n",
    "df_ML = df_ML[(np.abs(stats.zscore(df_ML['max_playtime'])) < 3)]"
   ]
  },
  {
   "cell_type": "code",
   "execution_count": 239,
   "metadata": {},
   "outputs": [],
   "source": [
    "#df_ML.describe()"
   ]
  },
  {
   "cell_type": "markdown",
   "metadata": {},
   "source": [
    "## Build dummies for subdomain and countries"
   ]
  },
  {
   "cell_type": "code",
   "execution_count": 240,
   "metadata": {},
   "outputs": [],
   "source": [
    "subdomain_dummy = pd.get_dummies(df_ML.subdomain_name.apply(pd.Series).stack(), drop_first=True).groupby(level=0).sum()\n",
    "subdomain_dummy.columns = subdomain_dummy.columns.str.strip()"
   ]
  },
  {
   "cell_type": "code",
   "execution_count": 241,
   "metadata": {},
   "outputs": [],
   "source": [
    "country_dummy = pd.get_dummies(df_ML.country.apply(pd.Series).stack(), drop_first=True).groupby(level=0).sum()\n",
    "country_dummy.columns = country_dummy.columns.str.strip()"
   ]
  },
  {
   "cell_type": "code",
   "execution_count": 242,
   "metadata": {},
   "outputs": [],
   "source": [
    "df = pd.concat([df_ML,subdomain_dummy], axis=1)\n",
    "df = df.drop([\"subdomain_name\"], axis=1)\n",
    "#df.columns"
   ]
  },
  {
   "cell_type": "code",
   "execution_count": 243,
   "metadata": {},
   "outputs": [
    {
     "data": {
      "text/plain": [
       "Index(['usd_pledged', 'min_players', 'max_players', 'min_playtime',\n",
       "       'max_playtime', 'min_age', 'averageweight', 'usd_goal',\n",
       "       'top_25_mechanic', 'Children's', 'Customizable', 'Family', 'Party',\n",
       "       'Strategy', 'Thematic', 'Wargames', 'AU', 'BE', 'CA', 'CH', 'DE', 'ES',\n",
       "       'FR', 'GB', 'HK', 'IT', 'NL', 'NO', 'SG', 'US'],\n",
       "      dtype='object')"
      ]
     },
     "execution_count": 243,
     "metadata": {},
     "output_type": "execute_result"
    }
   ],
   "source": [
    "df = pd.concat([df,country_dummy], axis=1)\n",
    "df = df.drop([\"country\"], axis=1)\n",
    "df.columns"
   ]
  },
  {
   "cell_type": "code",
   "execution_count": 244,
   "metadata": {},
   "outputs": [],
   "source": [
    "X = df[['DE', 'GB', 'US',\n",
    "        \"Children's\", \"Customizable\", \"Family\", \"Party\", \"Strategy\", \"Thematic\", \"Wargames\", \n",
    "        \"min_players\", \"min_playtime\", \"min_age\", \"averageweight\", 'usd_goal',f\"top_{top_XX_mechanic}_mechanic\"]]"
   ]
  },
  {
   "cell_type": "code",
   "execution_count": 245,
   "metadata": {},
   "outputs": [],
   "source": [
    "X = df[[\"min_players\", \"min_playtime\", \"min_age\", \"averageweight\", 'usd_goal',f\"top_{top_XX_mechanic}_mechanic\"]]\n",
    "#sns.pairplot(X)"
   ]
  },
  {
   "cell_type": "code",
   "execution_count": 246,
   "metadata": {},
   "outputs": [],
   "source": [
    "y = df.usd_pledged"
   ]
  },
  {
   "cell_type": "code",
   "execution_count": 247,
   "metadata": {},
   "outputs": [],
   "source": [
    "X = sm.add_constant(X)\n",
    "#X.dropna(inplace=True)"
   ]
  },
  {
   "cell_type": "markdown",
   "metadata": {},
   "source": [
    "#### Investigate the whole dataframe with all columns of interest"
   ]
  },
  {
   "cell_type": "code",
   "execution_count": 248,
   "metadata": {},
   "outputs": [
    {
     "data": {
      "text/html": [
       "<table class=\"simpletable\">\n",
       "<caption>OLS Regression Results</caption>\n",
       "<tr>\n",
       "  <th>Dep. Variable:</th>       <td>usd_pledged</td>   <th>  R-squared:         </th> <td>   0.068</td>\n",
       "</tr>\n",
       "<tr>\n",
       "  <th>Model:</th>                   <td>OLS</td>       <th>  Adj. R-squared:    </th> <td>   0.050</td>\n",
       "</tr>\n",
       "<tr>\n",
       "  <th>Method:</th>             <td>Least Squares</td>  <th>  F-statistic:       </th> <td>   3.734</td>\n",
       "</tr>\n",
       "<tr>\n",
       "  <th>Date:</th>             <td>Thu, 14 Jul 2022</td> <th>  Prob (F-statistic):</th>  <td>0.00133</td>\n",
       "</tr>\n",
       "<tr>\n",
       "  <th>Time:</th>                 <td>12:12:18</td>     <th>  Log-Likelihood:    </th> <td> -4384.4</td>\n",
       "</tr>\n",
       "<tr>\n",
       "  <th>No. Observations:</th>      <td>   315</td>      <th>  AIC:               </th> <td>   8783.</td>\n",
       "</tr>\n",
       "<tr>\n",
       "  <th>Df Residuals:</th>          <td>   308</td>      <th>  BIC:               </th> <td>   8809.</td>\n",
       "</tr>\n",
       "<tr>\n",
       "  <th>Df Model:</th>              <td>     6</td>      <th>                     </th>     <td> </td>   \n",
       "</tr>\n",
       "<tr>\n",
       "  <th>Covariance Type:</th>      <td>nonrobust</td>    <th>                     </th>     <td> </td>   \n",
       "</tr>\n",
       "</table>\n",
       "<table class=\"simpletable\">\n",
       "<tr>\n",
       "         <td></td>            <th>coef</th>     <th>std err</th>      <th>t</th>      <th>P>|t|</th>  <th>[0.025</th>    <th>0.975]</th>  \n",
       "</tr>\n",
       "<tr>\n",
       "  <th>const</th>           <td>-9.833e+04</td> <td> 1.17e+05</td> <td>   -0.840</td> <td> 0.402</td> <td>-3.29e+05</td> <td> 1.32e+05</td>\n",
       "</tr>\n",
       "<tr>\n",
       "  <th>min_players</th>     <td> 1.889e+04</td> <td>  2.2e+04</td> <td>    0.859</td> <td> 0.391</td> <td>-2.44e+04</td> <td> 6.22e+04</td>\n",
       "</tr>\n",
       "<tr>\n",
       "  <th>min_playtime</th>    <td>-1393.6573</td> <td>  495.177</td> <td>   -2.814</td> <td> 0.005</td> <td>-2368.014</td> <td> -419.300</td>\n",
       "</tr>\n",
       "<tr>\n",
       "  <th>min_age</th>         <td> -863.3791</td> <td> 5199.704</td> <td>   -0.166</td> <td> 0.868</td> <td>-1.11e+04</td> <td> 9368.058</td>\n",
       "</tr>\n",
       "<tr>\n",
       "  <th>averageweight</th>   <td> 8.363e+04</td> <td> 2.56e+04</td> <td>    3.270</td> <td> 0.001</td> <td> 3.33e+04</td> <td> 1.34e+05</td>\n",
       "</tr>\n",
       "<tr>\n",
       "  <th>usd_goal</th>        <td>    0.1721</td> <td>    0.077</td> <td>    2.234</td> <td> 0.026</td> <td>    0.021</td> <td>    0.324</td>\n",
       "</tr>\n",
       "<tr>\n",
       "  <th>top_25_mechanic</th> <td> 8.163e+04</td> <td> 9.29e+04</td> <td>    0.879</td> <td> 0.380</td> <td>-1.01e+05</td> <td> 2.64e+05</td>\n",
       "</tr>\n",
       "</table>\n",
       "<table class=\"simpletable\">\n",
       "<tr>\n",
       "  <th>Omnibus:</th>       <td>329.466</td> <th>  Durbin-Watson:     </th> <td>   1.442</td> \n",
       "</tr>\n",
       "<tr>\n",
       "  <th>Prob(Omnibus):</th> <td> 0.000</td>  <th>  Jarque-Bera (JB):  </th> <td>11558.992</td>\n",
       "</tr>\n",
       "<tr>\n",
       "  <th>Skew:</th>          <td> 4.505</td>  <th>  Prob(JB):          </th> <td>    0.00</td> \n",
       "</tr>\n",
       "<tr>\n",
       "  <th>Kurtosis:</th>      <td>31.275</td>  <th>  Cond. No.          </th> <td>1.89e+06</td> \n",
       "</tr>\n",
       "</table><br/><br/>Notes:<br/>[1] Standard Errors assume that the covariance matrix of the errors is correctly specified.<br/>[2] The condition number is large, 1.89e+06. This might indicate that there are<br/>strong multicollinearity or other numerical problems."
      ],
      "text/plain": [
       "<class 'statsmodels.iolib.summary.Summary'>\n",
       "\"\"\"\n",
       "                            OLS Regression Results                            \n",
       "==============================================================================\n",
       "Dep. Variable:            usd_pledged   R-squared:                       0.068\n",
       "Model:                            OLS   Adj. R-squared:                  0.050\n",
       "Method:                 Least Squares   F-statistic:                     3.734\n",
       "Date:                Thu, 14 Jul 2022   Prob (F-statistic):            0.00133\n",
       "Time:                        12:12:18   Log-Likelihood:                -4384.4\n",
       "No. Observations:                 315   AIC:                             8783.\n",
       "Df Residuals:                     308   BIC:                             8809.\n",
       "Df Model:                           6                                         \n",
       "Covariance Type:            nonrobust                                         \n",
       "===================================================================================\n",
       "                      coef    std err          t      P>|t|      [0.025      0.975]\n",
       "-----------------------------------------------------------------------------------\n",
       "const           -9.833e+04   1.17e+05     -0.840      0.402   -3.29e+05    1.32e+05\n",
       "min_players      1.889e+04    2.2e+04      0.859      0.391   -2.44e+04    6.22e+04\n",
       "min_playtime    -1393.6573    495.177     -2.814      0.005   -2368.014    -419.300\n",
       "min_age          -863.3791   5199.704     -0.166      0.868   -1.11e+04    9368.058\n",
       "averageweight    8.363e+04   2.56e+04      3.270      0.001    3.33e+04    1.34e+05\n",
       "usd_goal            0.1721      0.077      2.234      0.026       0.021       0.324\n",
       "top_25_mechanic  8.163e+04   9.29e+04      0.879      0.380   -1.01e+05    2.64e+05\n",
       "==============================================================================\n",
       "Omnibus:                      329.466   Durbin-Watson:                   1.442\n",
       "Prob(Omnibus):                  0.000   Jarque-Bera (JB):            11558.992\n",
       "Skew:                           4.505   Prob(JB):                         0.00\n",
       "Kurtosis:                      31.275   Cond. No.                     1.89e+06\n",
       "==============================================================================\n",
       "\n",
       "Notes:\n",
       "[1] Standard Errors assume that the covariance matrix of the errors is correctly specified.\n",
       "[2] The condition number is large, 1.89e+06. This might indicate that there are\n",
       "strong multicollinearity or other numerical problems.\n",
       "\"\"\""
      ]
     },
     "execution_count": 248,
     "metadata": {},
     "output_type": "execute_result"
    }
   ],
   "source": [
    "# create an OLS model\n",
    "our_model = sm.OLS(y, X)\n",
    "\n",
    "# use the data to calculate the intercept and slope\n",
    "model_results = our_model.fit()\n",
    "\n",
    "# return the output of the model\n",
    "model_results.summary() # summary contains eg. 'const' (intercept) and 'slope' of the regression equation."
   ]
  },
  {
   "cell_type": "markdown",
   "metadata": {},
   "source": [
    "#### ...and pick columns accordingly"
   ]
  },
  {
   "cell_type": "code",
   "execution_count": 249,
   "metadata": {},
   "outputs": [
    {
     "data": {
      "text/html": [
       "<div>\n",
       "<style scoped>\n",
       "    .dataframe tbody tr th:only-of-type {\n",
       "        vertical-align: middle;\n",
       "    }\n",
       "\n",
       "    .dataframe tbody tr th {\n",
       "        vertical-align: top;\n",
       "    }\n",
       "\n",
       "    .dataframe thead th {\n",
       "        text-align: right;\n",
       "    }\n",
       "</style>\n",
       "<table border=\"1\" class=\"dataframe\">\n",
       "  <thead>\n",
       "    <tr style=\"text-align: right;\">\n",
       "      <th></th>\n",
       "      <th>const</th>\n",
       "      <th>averageweight</th>\n",
       "      <th>min_playtime</th>\n",
       "      <th>Party</th>\n",
       "      <th>DE</th>\n",
       "    </tr>\n",
       "  </thead>\n",
       "  <tbody>\n",
       "    <tr>\n",
       "      <th>count</th>\n",
       "      <td>315.0</td>\n",
       "      <td>315.000000</td>\n",
       "      <td>315.000000</td>\n",
       "      <td>315.000000</td>\n",
       "      <td>315.000000</td>\n",
       "    </tr>\n",
       "    <tr>\n",
       "      <th>mean</th>\n",
       "      <td>1.0</td>\n",
       "      <td>2.382807</td>\n",
       "      <td>52.326984</td>\n",
       "      <td>0.050794</td>\n",
       "      <td>0.012698</td>\n",
       "    </tr>\n",
       "    <tr>\n",
       "      <th>std</th>\n",
       "      <td>0.0</td>\n",
       "      <td>0.778498</td>\n",
       "      <td>36.500298</td>\n",
       "      <td>0.219925</td>\n",
       "      <td>0.112148</td>\n",
       "    </tr>\n",
       "    <tr>\n",
       "      <th>min</th>\n",
       "      <td>1.0</td>\n",
       "      <td>1.000000</td>\n",
       "      <td>5.000000</td>\n",
       "      <td>0.000000</td>\n",
       "      <td>0.000000</td>\n",
       "    </tr>\n",
       "    <tr>\n",
       "      <th>25%</th>\n",
       "      <td>1.0</td>\n",
       "      <td>1.906150</td>\n",
       "      <td>30.000000</td>\n",
       "      <td>0.000000</td>\n",
       "      <td>0.000000</td>\n",
       "    </tr>\n",
       "    <tr>\n",
       "      <th>50%</th>\n",
       "      <td>1.0</td>\n",
       "      <td>2.307700</td>\n",
       "      <td>45.000000</td>\n",
       "      <td>0.000000</td>\n",
       "      <td>0.000000</td>\n",
       "    </tr>\n",
       "    <tr>\n",
       "      <th>75%</th>\n",
       "      <td>1.0</td>\n",
       "      <td>2.873650</td>\n",
       "      <td>60.000000</td>\n",
       "      <td>0.000000</td>\n",
       "      <td>0.000000</td>\n",
       "    </tr>\n",
       "    <tr>\n",
       "      <th>max</th>\n",
       "      <td>1.0</td>\n",
       "      <td>4.616300</td>\n",
       "      <td>180.000000</td>\n",
       "      <td>1.000000</td>\n",
       "      <td>1.000000</td>\n",
       "    </tr>\n",
       "  </tbody>\n",
       "</table>\n",
       "</div>"
      ],
      "text/plain": [
       "       const  averageweight  min_playtime       Party          DE\n",
       "count  315.0     315.000000    315.000000  315.000000  315.000000\n",
       "mean     1.0       2.382807     52.326984    0.050794    0.012698\n",
       "std      0.0       0.778498     36.500298    0.219925    0.112148\n",
       "min      1.0       1.000000      5.000000    0.000000    0.000000\n",
       "25%      1.0       1.906150     30.000000    0.000000    0.000000\n",
       "50%      1.0       2.307700     45.000000    0.000000    0.000000\n",
       "75%      1.0       2.873650     60.000000    0.000000    0.000000\n",
       "max      1.0       4.616300    180.000000    1.000000    1.000000"
      ]
     },
     "execution_count": 249,
     "metadata": {},
     "output_type": "execute_result"
    }
   ],
   "source": [
    "#X = df[['averageweight','usd_goal','min_playtime','Party','DE']]\n",
    "X = df[['averageweight','min_playtime','Party','DE']]\n",
    "X = sm.add_constant(X)\n",
    "X.describe()"
   ]
  },
  {
   "cell_type": "code",
   "execution_count": 250,
   "metadata": {},
   "outputs": [
    {
     "data": {
      "text/html": [
       "<table class=\"simpletable\">\n",
       "<caption>OLS Regression Results</caption>\n",
       "<tr>\n",
       "  <th>Dep. Variable:</th>       <td>usd_pledged</td>   <th>  R-squared:         </th> <td>   0.160</td>\n",
       "</tr>\n",
       "<tr>\n",
       "  <th>Model:</th>                   <td>OLS</td>       <th>  Adj. R-squared:    </th> <td>   0.150</td>\n",
       "</tr>\n",
       "<tr>\n",
       "  <th>Method:</th>             <td>Least Squares</td>  <th>  F-statistic:       </th> <td>   14.80</td>\n",
       "</tr>\n",
       "<tr>\n",
       "  <th>Date:</th>             <td>Thu, 14 Jul 2022</td> <th>  Prob (F-statistic):</th> <td>4.45e-11</td>\n",
       "</tr>\n",
       "<tr>\n",
       "  <th>Time:</th>                 <td>12:12:19</td>     <th>  Log-Likelihood:    </th> <td> -4368.0</td>\n",
       "</tr>\n",
       "<tr>\n",
       "  <th>No. Observations:</th>      <td>   315</td>      <th>  AIC:               </th> <td>   8746.</td>\n",
       "</tr>\n",
       "<tr>\n",
       "  <th>Df Residuals:</th>          <td>   310</td>      <th>  BIC:               </th> <td>   8765.</td>\n",
       "</tr>\n",
       "<tr>\n",
       "  <th>Df Model:</th>              <td>     4</td>      <th>                     </th>     <td> </td>   \n",
       "</tr>\n",
       "<tr>\n",
       "  <th>Covariance Type:</th>      <td>nonrobust</td>    <th>                     </th>     <td> </td>   \n",
       "</tr>\n",
       "</table>\n",
       "<table class=\"simpletable\">\n",
       "<tr>\n",
       "        <td></td>           <th>coef</th>     <th>std err</th>      <th>t</th>      <th>P>|t|</th>  <th>[0.025</th>    <th>0.975]</th>  \n",
       "</tr>\n",
       "<tr>\n",
       "  <th>const</th>         <td>-9.397e+04</td> <td> 4.94e+04</td> <td>   -1.902</td> <td> 0.058</td> <td>-1.91e+05</td> <td> 3249.247</td>\n",
       "</tr>\n",
       "<tr>\n",
       "  <th>averageweight</th> <td> 1.142e+05</td> <td> 2.23e+04</td> <td>    5.132</td> <td> 0.000</td> <td> 7.04e+04</td> <td> 1.58e+05</td>\n",
       "</tr>\n",
       "<tr>\n",
       "  <th>min_playtime</th>  <td>-1243.0401</td> <td>  465.123</td> <td>   -2.672</td> <td> 0.008</td> <td>-2158.238</td> <td> -327.842</td>\n",
       "</tr>\n",
       "<tr>\n",
       "  <th>Party</th>         <td> 4.089e+05</td> <td> 6.87e+04</td> <td>    5.955</td> <td> 0.000</td> <td> 2.74e+05</td> <td> 5.44e+05</td>\n",
       "</tr>\n",
       "<tr>\n",
       "  <th>DE</th>            <td> 3.113e+05</td> <td>  1.3e+05</td> <td>    2.403</td> <td> 0.017</td> <td> 5.64e+04</td> <td> 5.66e+05</td>\n",
       "</tr>\n",
       "</table>\n",
       "<table class=\"simpletable\">\n",
       "<tr>\n",
       "  <th>Omnibus:</th>       <td>267.727</td> <th>  Durbin-Watson:     </th> <td>   1.528</td>\n",
       "</tr>\n",
       "<tr>\n",
       "  <th>Prob(Omnibus):</th> <td> 0.000</td>  <th>  Jarque-Bera (JB):  </th> <td>5559.808</td>\n",
       "</tr>\n",
       "<tr>\n",
       "  <th>Skew:</th>          <td> 3.427</td>  <th>  Prob(JB):          </th> <td>    0.00</td>\n",
       "</tr>\n",
       "<tr>\n",
       "  <th>Kurtosis:</th>      <td>22.407</td>  <th>  Cond. No.          </th> <td>    572.</td>\n",
       "</tr>\n",
       "</table><br/><br/>Notes:<br/>[1] Standard Errors assume that the covariance matrix of the errors is correctly specified."
      ],
      "text/plain": [
       "<class 'statsmodels.iolib.summary.Summary'>\n",
       "\"\"\"\n",
       "                            OLS Regression Results                            \n",
       "==============================================================================\n",
       "Dep. Variable:            usd_pledged   R-squared:                       0.160\n",
       "Model:                            OLS   Adj. R-squared:                  0.150\n",
       "Method:                 Least Squares   F-statistic:                     14.80\n",
       "Date:                Thu, 14 Jul 2022   Prob (F-statistic):           4.45e-11\n",
       "Time:                        12:12:19   Log-Likelihood:                -4368.0\n",
       "No. Observations:                 315   AIC:                             8746.\n",
       "Df Residuals:                     310   BIC:                             8765.\n",
       "Df Model:                           4                                         \n",
       "Covariance Type:            nonrobust                                         \n",
       "=================================================================================\n",
       "                    coef    std err          t      P>|t|      [0.025      0.975]\n",
       "---------------------------------------------------------------------------------\n",
       "const         -9.397e+04   4.94e+04     -1.902      0.058   -1.91e+05    3249.247\n",
       "averageweight  1.142e+05   2.23e+04      5.132      0.000    7.04e+04    1.58e+05\n",
       "min_playtime  -1243.0401    465.123     -2.672      0.008   -2158.238    -327.842\n",
       "Party          4.089e+05   6.87e+04      5.955      0.000    2.74e+05    5.44e+05\n",
       "DE             3.113e+05    1.3e+05      2.403      0.017    5.64e+04    5.66e+05\n",
       "==============================================================================\n",
       "Omnibus:                      267.727   Durbin-Watson:                   1.528\n",
       "Prob(Omnibus):                  0.000   Jarque-Bera (JB):             5559.808\n",
       "Skew:                           3.427   Prob(JB):                         0.00\n",
       "Kurtosis:                      22.407   Cond. No.                         572.\n",
       "==============================================================================\n",
       "\n",
       "Notes:\n",
       "[1] Standard Errors assume that the covariance matrix of the errors is correctly specified.\n",
       "\"\"\""
      ]
     },
     "execution_count": 250,
     "metadata": {},
     "output_type": "execute_result"
    }
   ],
   "source": [
    "# create an OLS model\n",
    "our_model = sm.OLS(y, X)\n",
    "#our_model = sm.MANOVA(y, X)\n",
    "\n",
    "# use the data to calculate the intercept and slope\n",
    "model_results = our_model.fit()\n",
    "\n",
    "# return the output of the model\n",
    "model_results.summary() # summary contains eg. 'const' (intercept) and 'slope' of the regression equation."
   ]
  },
  {
   "cell_type": "code",
   "execution_count": 251,
   "metadata": {},
   "outputs": [
    {
     "data": {
      "text/plain": [
       "LinearRegression()"
      ]
     },
     "execution_count": 251,
     "metadata": {},
     "output_type": "execute_result"
    }
   ],
   "source": [
    "regr = linear_model.LinearRegression()\n",
    "regr.fit(X, y)"
   ]
  },
  {
   "cell_type": "code",
   "execution_count": 252,
   "metadata": {},
   "outputs": [
    {
     "name": "stderr",
     "output_type": "stream",
     "text": [
      "/opt/homebrew/Caskroom/miniconda/base/envs/nf_sql/lib/python3.9/site-packages/sklearn/base.py:450: UserWarning: X does not have valid feature names, but LinearRegression was fitted with feature names\n",
      "  warnings.warn(\n"
     ]
    },
    {
     "data": {
      "text/plain": [
       "array([709790.90826722])"
      ]
     },
     "execution_count": 252,
     "metadata": {},
     "output_type": "execute_result"
    }
   ],
   "source": [
    "#X = df[['averageweight','min_playtime','Party','DE']]\n",
    "predicted_pledged_amount = regr.predict([[1, 4, 50, 1, 0 ]])\n",
    "predicted_pledged_amount"
   ]
  },
  {
   "cell_type": "markdown",
   "metadata": {},
   "source": [
    "# Test"
   ]
  },
  {
   "cell_type": "code",
   "execution_count": 253,
   "metadata": {},
   "outputs": [],
   "source": [
    "main = 'unfiltered_main_stats_cleaned'"
   ]
  },
  {
   "cell_type": "code",
   "execution_count": 254,
   "metadata": {},
   "outputs": [],
   "source": [
    "df_ks = get_dataframe(f\"SELECT * FROM {schema}.{kickstarter}\")\n",
    "df_slug = get_dataframe(f\"SELECT * FROM {schema}.{slug}\")\n",
    "df_mech = get_dataframe(f\"SELECT * FROM {schema}.{mechanic}\")\n",
    "df_u_mech = get_dataframe(f\"SELECT * FROM {schema}.{unique_mechanics}\")\n",
    "df_main = get_dataframe(f\"SELECT * FROM {schema}.{main}\")\n",
    "df_sub = get_dataframe(f\"SELECT * FROM {schema}.{subdomain}\")\n",
    "df_u_sub = get_dataframe(f\"SELECT * FROM {schema}.{unique_subdomain}\")"
   ]
  },
  {
   "cell_type": "code",
   "execution_count": 255,
   "metadata": {},
   "outputs": [],
   "source": [
    "df_ks = pd.merge(df_slug,df_ks,on='slug')\n",
    "df_ks.rename({'bgg_id':'id'},axis=1,inplace=True)\n",
    "df_mech = pd.merge(df_mech,df_u_mech,on='mechanic_id')\n",
    "#df_mech = pd.merge(df_ks,df_mech,on='id')\n",
    "df_sub = pd.merge(df_sub,df_u_sub,on=\"subdomain_id\")\n",
    "df_ks_sub = pd.merge(df_ks,df_sub,on='id')"
   ]
  },
  {
   "cell_type": "code",
   "execution_count": 256,
   "metadata": {},
   "outputs": [],
   "source": [
    "upcoming_games = [300195, 360676, 366797, 342081, 341870,\n",
    "                  355113, 358809, 359962, 349779, 312682]"
   ]
  },
  {
   "cell_type": "code",
   "execution_count": 257,
   "metadata": {},
   "outputs": [],
   "source": [
    "df_upcoming_games = df_main.loc[df_main[\"id\"].isin(upcoming_games), :]\n",
    "df_upcoming_games.drop(['yearpublished','averageweight'],inplace=True,axis=1)"
   ]
  },
  {
   "cell_type": "code",
   "execution_count": 258,
   "metadata": {},
   "outputs": [
    {
     "data": {
      "text/html": [
       "<div>\n",
       "<style scoped>\n",
       "    .dataframe tbody tr th:only-of-type {\n",
       "        vertical-align: middle;\n",
       "    }\n",
       "\n",
       "    .dataframe tbody tr th {\n",
       "        vertical-align: top;\n",
       "    }\n",
       "\n",
       "    .dataframe thead th {\n",
       "        text-align: right;\n",
       "    }\n",
       "</style>\n",
       "<table border=\"1\" class=\"dataframe\">\n",
       "  <thead>\n",
       "    <tr style=\"text-align: right;\">\n",
       "      <th></th>\n",
       "      <th>id</th>\n",
       "      <th>min_players</th>\n",
       "      <th>max_players</th>\n",
       "      <th>playtime</th>\n",
       "      <th>min_playtime</th>\n",
       "      <th>max_playtime</th>\n",
       "      <th>min_age</th>\n",
       "      <th>average</th>\n",
       "      <th>user_rated</th>\n",
       "      <th>num_owned</th>\n",
       "      <th>trading</th>\n",
       "      <th>wanting</th>\n",
       "      <th>wishing</th>\n",
       "      <th>numcomments</th>\n",
       "      <th>numweights</th>\n",
       "    </tr>\n",
       "  </thead>\n",
       "  <tbody>\n",
       "    <tr>\n",
       "      <th>27556</th>\n",
       "      <td>359962</td>\n",
       "      <td>1.0</td>\n",
       "      <td>4.0</td>\n",
       "      <td>60.0</td>\n",
       "      <td>45.0</td>\n",
       "      <td>60.0</td>\n",
       "      <td>8</td>\n",
       "      <td>8.00000</td>\n",
       "      <td>1</td>\n",
       "      <td>1</td>\n",
       "      <td>0</td>\n",
       "      <td>2</td>\n",
       "      <td>16</td>\n",
       "      <td>0</td>\n",
       "      <td>0</td>\n",
       "    </tr>\n",
       "    <tr>\n",
       "      <th>50534</th>\n",
       "      <td>312682</td>\n",
       "      <td>1.0</td>\n",
       "      <td>5.0</td>\n",
       "      <td>240.0</td>\n",
       "      <td>60.0</td>\n",
       "      <td>240.0</td>\n",
       "      <td>14</td>\n",
       "      <td>8.56250</td>\n",
       "      <td>16</td>\n",
       "      <td>2</td>\n",
       "      <td>0</td>\n",
       "      <td>9</td>\n",
       "      <td>140</td>\n",
       "      <td>9</td>\n",
       "      <td>2</td>\n",
       "    </tr>\n",
       "    <tr>\n",
       "      <th>52076</th>\n",
       "      <td>341870</td>\n",
       "      <td>NaN</td>\n",
       "      <td>NaN</td>\n",
       "      <td>NaN</td>\n",
       "      <td>NaN</td>\n",
       "      <td>NaN</td>\n",
       "      <td>0</td>\n",
       "      <td>9.33333</td>\n",
       "      <td>3</td>\n",
       "      <td>2</td>\n",
       "      <td>0</td>\n",
       "      <td>68</td>\n",
       "      <td>454</td>\n",
       "      <td>7</td>\n",
       "      <td>0</td>\n",
       "    </tr>\n",
       "    <tr>\n",
       "      <th>52516</th>\n",
       "      <td>349779</td>\n",
       "      <td>1.0</td>\n",
       "      <td>2.0</td>\n",
       "      <td>180.0</td>\n",
       "      <td>150.0</td>\n",
       "      <td>180.0</td>\n",
       "      <td>14</td>\n",
       "      <td>7.35000</td>\n",
       "      <td>4</td>\n",
       "      <td>0</td>\n",
       "      <td>0</td>\n",
       "      <td>2</td>\n",
       "      <td>19</td>\n",
       "      <td>2</td>\n",
       "      <td>3</td>\n",
       "    </tr>\n",
       "    <tr>\n",
       "      <th>67473</th>\n",
       "      <td>342081</td>\n",
       "      <td>1.0</td>\n",
       "      <td>4.0</td>\n",
       "      <td>180.0</td>\n",
       "      <td>60.0</td>\n",
       "      <td>180.0</td>\n",
       "      <td>14</td>\n",
       "      <td>8.00000</td>\n",
       "      <td>2</td>\n",
       "      <td>2</td>\n",
       "      <td>0</td>\n",
       "      <td>4</td>\n",
       "      <td>24</td>\n",
       "      <td>1</td>\n",
       "      <td>2</td>\n",
       "    </tr>\n",
       "    <tr>\n",
       "      <th>69367</th>\n",
       "      <td>300195</td>\n",
       "      <td>1.0</td>\n",
       "      <td>6.0</td>\n",
       "      <td>180.0</td>\n",
       "      <td>90.0</td>\n",
       "      <td>180.0</td>\n",
       "      <td>14</td>\n",
       "      <td>0.00000</td>\n",
       "      <td>0</td>\n",
       "      <td>4</td>\n",
       "      <td>0</td>\n",
       "      <td>3</td>\n",
       "      <td>70</td>\n",
       "      <td>1</td>\n",
       "      <td>0</td>\n",
       "    </tr>\n",
       "    <tr>\n",
       "      <th>76040</th>\n",
       "      <td>355113</td>\n",
       "      <td>2.0</td>\n",
       "      <td>4.0</td>\n",
       "      <td>120.0</td>\n",
       "      <td>45.0</td>\n",
       "      <td>120.0</td>\n",
       "      <td>10</td>\n",
       "      <td>8.75000</td>\n",
       "      <td>4</td>\n",
       "      <td>1</td>\n",
       "      <td>0</td>\n",
       "      <td>0</td>\n",
       "      <td>4</td>\n",
       "      <td>4</td>\n",
       "      <td>1</td>\n",
       "    </tr>\n",
       "    <tr>\n",
       "      <th>79263</th>\n",
       "      <td>358809</td>\n",
       "      <td>2.0</td>\n",
       "      <td>4.0</td>\n",
       "      <td>80.0</td>\n",
       "      <td>40.0</td>\n",
       "      <td>80.0</td>\n",
       "      <td>14</td>\n",
       "      <td>9.33333</td>\n",
       "      <td>3</td>\n",
       "      <td>2</td>\n",
       "      <td>0</td>\n",
       "      <td>0</td>\n",
       "      <td>5</td>\n",
       "      <td>2</td>\n",
       "      <td>0</td>\n",
       "    </tr>\n",
       "    <tr>\n",
       "      <th>129886</th>\n",
       "      <td>360676</td>\n",
       "      <td>2.0</td>\n",
       "      <td>2.0</td>\n",
       "      <td>20.0</td>\n",
       "      <td>20.0</td>\n",
       "      <td>20.0</td>\n",
       "      <td>12</td>\n",
       "      <td>0.00000</td>\n",
       "      <td>0</td>\n",
       "      <td>1</td>\n",
       "      <td>0</td>\n",
       "      <td>6</td>\n",
       "      <td>55</td>\n",
       "      <td>1</td>\n",
       "      <td>0</td>\n",
       "    </tr>\n",
       "  </tbody>\n",
       "</table>\n",
       "</div>"
      ],
      "text/plain": [
       "            id  min_players  max_players  playtime  min_playtime  \\\n",
       "27556   359962          1.0          4.0      60.0          45.0   \n",
       "50534   312682          1.0          5.0     240.0          60.0   \n",
       "52076   341870          NaN          NaN       NaN           NaN   \n",
       "52516   349779          1.0          2.0     180.0         150.0   \n",
       "67473   342081          1.0          4.0     180.0          60.0   \n",
       "69367   300195          1.0          6.0     180.0          90.0   \n",
       "76040   355113          2.0          4.0     120.0          45.0   \n",
       "79263   358809          2.0          4.0      80.0          40.0   \n",
       "129886  360676          2.0          2.0      20.0          20.0   \n",
       "\n",
       "        max_playtime  min_age  average  user_rated  num_owned  trading  \\\n",
       "27556           60.0        8  8.00000           1          1        0   \n",
       "50534          240.0       14  8.56250          16          2        0   \n",
       "52076            NaN        0  9.33333           3          2        0   \n",
       "52516          180.0       14  7.35000           4          0        0   \n",
       "67473          180.0       14  8.00000           2          2        0   \n",
       "69367          180.0       14  0.00000           0          4        0   \n",
       "76040          120.0       10  8.75000           4          1        0   \n",
       "79263           80.0       14  9.33333           3          2        0   \n",
       "129886          20.0       12  0.00000           0          1        0   \n",
       "\n",
       "        wanting  wishing  numcomments  numweights  \n",
       "27556         2       16            0           0  \n",
       "50534         9      140            9           2  \n",
       "52076        68      454            7           0  \n",
       "52516         2       19            2           3  \n",
       "67473         4       24            1           2  \n",
       "69367         3       70            1           0  \n",
       "76040         0        4            4           1  \n",
       "79263         0        5            2           0  \n",
       "129886        6       55            1           0  "
      ]
     },
     "execution_count": 258,
     "metadata": {},
     "output_type": "execute_result"
    }
   ],
   "source": [
    "df_upcoming_games"
   ]
  },
  {
   "cell_type": "code",
   "execution_count": 259,
   "metadata": {},
   "outputs": [],
   "source": [
    "df_upcoming_games = pd.merge(df_upcoming_games, df_mech, on='id')"
   ]
  },
  {
   "cell_type": "code",
   "execution_count": 260,
   "metadata": {},
   "outputs": [],
   "source": [
    "df_upcoming_games = pd.merge(df_upcoming_games, df_sub, on='id')"
   ]
  },
  {
   "cell_type": "code",
   "execution_count": 261,
   "metadata": {},
   "outputs": [
    {
     "data": {
      "text/html": [
       "<div>\n",
       "<style scoped>\n",
       "    .dataframe tbody tr th:only-of-type {\n",
       "        vertical-align: middle;\n",
       "    }\n",
       "\n",
       "    .dataframe tbody tr th {\n",
       "        vertical-align: top;\n",
       "    }\n",
       "\n",
       "    .dataframe thead th {\n",
       "        text-align: right;\n",
       "    }\n",
       "</style>\n",
       "<table border=\"1\" class=\"dataframe\">\n",
       "  <thead>\n",
       "    <tr style=\"text-align: right;\">\n",
       "      <th></th>\n",
       "      <th>id</th>\n",
       "      <th>min_players</th>\n",
       "      <th>max_players</th>\n",
       "      <th>playtime</th>\n",
       "      <th>min_playtime</th>\n",
       "      <th>max_playtime</th>\n",
       "      <th>min_age</th>\n",
       "      <th>average</th>\n",
       "      <th>user_rated</th>\n",
       "      <th>num_owned</th>\n",
       "      <th>trading</th>\n",
       "      <th>wanting</th>\n",
       "      <th>wishing</th>\n",
       "      <th>numcomments</th>\n",
       "      <th>numweights</th>\n",
       "      <th>mechanic_id</th>\n",
       "      <th>mechanic</th>\n",
       "      <th>subdomain_id</th>\n",
       "      <th>subdomain_name</th>\n",
       "    </tr>\n",
       "  </thead>\n",
       "  <tbody>\n",
       "    <tr>\n",
       "      <th>0</th>\n",
       "      <td>349779</td>\n",
       "      <td>1.0</td>\n",
       "      <td>2.0</td>\n",
       "      <td>180.0</td>\n",
       "      <td>150.0</td>\n",
       "      <td>180.0</td>\n",
       "      <td>14</td>\n",
       "      <td>7.35</td>\n",
       "      <td>4</td>\n",
       "      <td>0</td>\n",
       "      <td>0</td>\n",
       "      <td>2</td>\n",
       "      <td>19</td>\n",
       "      <td>2</td>\n",
       "      <td>3</td>\n",
       "      <td>2040</td>\n",
       "      <td>hand management</td>\n",
       "      <td>4664</td>\n",
       "      <td>Wargames</td>\n",
       "    </tr>\n",
       "    <tr>\n",
       "      <th>1</th>\n",
       "      <td>349779</td>\n",
       "      <td>1.0</td>\n",
       "      <td>2.0</td>\n",
       "      <td>180.0</td>\n",
       "      <td>150.0</td>\n",
       "      <td>180.0</td>\n",
       "      <td>14</td>\n",
       "      <td>7.35</td>\n",
       "      <td>4</td>\n",
       "      <td>0</td>\n",
       "      <td>0</td>\n",
       "      <td>2</td>\n",
       "      <td>19</td>\n",
       "      <td>2</td>\n",
       "      <td>3</td>\n",
       "      <td>2046</td>\n",
       "      <td>area movement</td>\n",
       "      <td>4664</td>\n",
       "      <td>Wargames</td>\n",
       "    </tr>\n",
       "    <tr>\n",
       "      <th>2</th>\n",
       "      <td>349779</td>\n",
       "      <td>1.0</td>\n",
       "      <td>2.0</td>\n",
       "      <td>180.0</td>\n",
       "      <td>150.0</td>\n",
       "      <td>180.0</td>\n",
       "      <td>14</td>\n",
       "      <td>7.35</td>\n",
       "      <td>4</td>\n",
       "      <td>0</td>\n",
       "      <td>0</td>\n",
       "      <td>2</td>\n",
       "      <td>19</td>\n",
       "      <td>2</td>\n",
       "      <td>3</td>\n",
       "      <td>2857</td>\n",
       "      <td>card play conflict resolution</td>\n",
       "      <td>4664</td>\n",
       "      <td>Wargames</td>\n",
       "    </tr>\n",
       "    <tr>\n",
       "      <th>3</th>\n",
       "      <td>349779</td>\n",
       "      <td>1.0</td>\n",
       "      <td>2.0</td>\n",
       "      <td>180.0</td>\n",
       "      <td>150.0</td>\n",
       "      <td>180.0</td>\n",
       "      <td>14</td>\n",
       "      <td>7.35</td>\n",
       "      <td>4</td>\n",
       "      <td>0</td>\n",
       "      <td>0</td>\n",
       "      <td>2</td>\n",
       "      <td>19</td>\n",
       "      <td>2</td>\n",
       "      <td>3</td>\n",
       "      <td>2902</td>\n",
       "      <td>income</td>\n",
       "      <td>4664</td>\n",
       "      <td>Wargames</td>\n",
       "    </tr>\n",
       "  </tbody>\n",
       "</table>\n",
       "</div>"
      ],
      "text/plain": [
       "       id  min_players  max_players  playtime  min_playtime  max_playtime  \\\n",
       "0  349779          1.0          2.0     180.0         150.0         180.0   \n",
       "1  349779          1.0          2.0     180.0         150.0         180.0   \n",
       "2  349779          1.0          2.0     180.0         150.0         180.0   \n",
       "3  349779          1.0          2.0     180.0         150.0         180.0   \n",
       "\n",
       "   min_age  average  user_rated  num_owned  trading  wanting  wishing  \\\n",
       "0       14     7.35           4          0        0        2       19   \n",
       "1       14     7.35           4          0        0        2       19   \n",
       "2       14     7.35           4          0        0        2       19   \n",
       "3       14     7.35           4          0        0        2       19   \n",
       "\n",
       "   numcomments  numweights  mechanic_id                       mechanic  \\\n",
       "0            2           3         2040                hand management   \n",
       "1            2           3         2046                  area movement   \n",
       "2            2           3         2857  card play conflict resolution   \n",
       "3            2           3         2902                         income   \n",
       "\n",
       "   subdomain_id subdomain_name  \n",
       "0          4664       Wargames  \n",
       "1          4664       Wargames  \n",
       "2          4664       Wargames  \n",
       "3          4664       Wargames  "
      ]
     },
     "execution_count": 261,
     "metadata": {},
     "output_type": "execute_result"
    }
   ],
   "source": [
    "df_upcoming_games"
   ]
  },
  {
   "cell_type": "code",
   "execution_count": 262,
   "metadata": {},
   "outputs": [],
   "source": [
    "family_query = f\"SELECT * FROM {schema}.family_bgg;\"\n",
    "df_family = get_dataframe(family_query)\n",
    "\n",
    "df_upcoming = pd.merge(df_main,df_family,on='id')"
   ]
  },
  {
   "cell_type": "code",
   "execution_count": 263,
   "metadata": {},
   "outputs": [
    {
     "name": "stdout",
     "output_type": "stream",
     "text": [
      "['food / cooking' 'aliens / extraterrestrials' 'anima tactics' ... 'sonix'\n",
      " '50 clues – the maria trilogy' 'hero immortal king']\n"
     ]
    }
   ],
   "source": [
    "print(df_upcoming.family_value.unique())"
   ]
  },
  {
   "cell_type": "code",
   "execution_count": 282,
   "metadata": {},
   "outputs": [],
   "source": [
    "all_upcoming_games = df_upcoming.query(\"family_type == 'admin' and family_value == 'upcoming releases'\")"
   ]
  },
  {
   "cell_type": "code",
   "execution_count": 283,
   "metadata": {},
   "outputs": [
    {
     "data": {
      "text/plain": [
       "Index(['id', 'yearpublished', 'min_players', 'max_players', 'playtime',\n",
       "       'min_playtime', 'max_playtime', 'min_age', 'average', 'user_rated',\n",
       "       'num_owned', 'trading', 'wanting', 'wishing', 'numcomments',\n",
       "       'numweights', 'averageweight', 'family_type', 'family_value',\n",
       "       'family_id'],\n",
       "      dtype='object')"
      ]
     },
     "execution_count": 283,
     "metadata": {},
     "output_type": "execute_result"
    }
   ],
   "source": [
    "all_upcoming_games.columns"
   ]
  },
  {
   "cell_type": "code",
   "execution_count": 284,
   "metadata": {},
   "outputs": [],
   "source": [
    "all_upcoming_games.drop([\"yearpublished\", 'trading', 'numcomments','family_type', 'family_value',\n",
    "       'family_id','average', 'user_rated'],axis=1,inplace=True)"
   ]
  },
  {
   "cell_type": "code",
   "execution_count": 285,
   "metadata": {},
   "outputs": [
    {
     "data": {
      "text/plain": [
       "id               5499\n",
       "min_players         8\n",
       "max_players        29\n",
       "playtime           84\n",
       "min_playtime       43\n",
       "max_playtime       84\n",
       "min_age            22\n",
       "num_owned         399\n",
       "wanting           106\n",
       "wishing           346\n",
       "numweights         32\n",
       "averageweight      87\n",
       "dtype: int64"
      ]
     },
     "execution_count": 285,
     "metadata": {},
     "output_type": "execute_result"
    }
   ],
   "source": [
    "all_upcoming_games.nunique()"
   ]
  },
  {
   "cell_type": "code",
   "execution_count": 274,
   "metadata": {},
   "outputs": [],
   "source": [
    "all_upcoming_games.dropna(inplace=True)"
   ]
  },
  {
   "cell_type": "code",
   "execution_count": 275,
   "metadata": {},
   "outputs": [
    {
     "data": {
      "text/html": [
       "<div>\n",
       "<style scoped>\n",
       "    .dataframe tbody tr th:only-of-type {\n",
       "        vertical-align: middle;\n",
       "    }\n",
       "\n",
       "    .dataframe tbody tr th {\n",
       "        vertical-align: top;\n",
       "    }\n",
       "\n",
       "    .dataframe thead th {\n",
       "        text-align: right;\n",
       "    }\n",
       "</style>\n",
       "<table border=\"1\" class=\"dataframe\">\n",
       "  <thead>\n",
       "    <tr style=\"text-align: right;\">\n",
       "      <th></th>\n",
       "      <th>id</th>\n",
       "      <th>min_players</th>\n",
       "      <th>max_players</th>\n",
       "      <th>playtime</th>\n",
       "      <th>min_playtime</th>\n",
       "      <th>max_playtime</th>\n",
       "      <th>min_age</th>\n",
       "      <th>average</th>\n",
       "      <th>user_rated</th>\n",
       "      <th>num_owned</th>\n",
       "      <th>wanting</th>\n",
       "      <th>wishing</th>\n",
       "      <th>numweights</th>\n",
       "    </tr>\n",
       "  </thead>\n",
       "  <tbody>\n",
       "    <tr>\n",
       "      <th>278</th>\n",
       "      <td>344235</td>\n",
       "      <td>3.0</td>\n",
       "      <td>8.0</td>\n",
       "      <td>25.0</td>\n",
       "      <td>15.0</td>\n",
       "      <td>25.0</td>\n",
       "      <td>11</td>\n",
       "      <td>10.00000</td>\n",
       "      <td>1</td>\n",
       "      <td>1</td>\n",
       "      <td>0</td>\n",
       "      <td>0</td>\n",
       "      <td>0</td>\n",
       "    </tr>\n",
       "    <tr>\n",
       "      <th>281</th>\n",
       "      <td>344240</td>\n",
       "      <td>3.0</td>\n",
       "      <td>5.0</td>\n",
       "      <td>45.0</td>\n",
       "      <td>20.0</td>\n",
       "      <td>45.0</td>\n",
       "      <td>9</td>\n",
       "      <td>5.05000</td>\n",
       "      <td>10</td>\n",
       "      <td>18</td>\n",
       "      <td>0</td>\n",
       "      <td>1</td>\n",
       "      <td>1</td>\n",
       "    </tr>\n",
       "    <tr>\n",
       "      <th>291</th>\n",
       "      <td>344249</td>\n",
       "      <td>2.0</td>\n",
       "      <td>6.0</td>\n",
       "      <td>20.0</td>\n",
       "      <td>20.0</td>\n",
       "      <td>20.0</td>\n",
       "      <td>8</td>\n",
       "      <td>6.66667</td>\n",
       "      <td>3</td>\n",
       "      <td>9</td>\n",
       "      <td>1</td>\n",
       "      <td>1</td>\n",
       "      <td>0</td>\n",
       "    </tr>\n",
       "    <tr>\n",
       "      <th>303</th>\n",
       "      <td>344259</td>\n",
       "      <td>1.0</td>\n",
       "      <td>1.0</td>\n",
       "      <td>20.0</td>\n",
       "      <td>5.0</td>\n",
       "      <td>20.0</td>\n",
       "      <td>8</td>\n",
       "      <td>0.00000</td>\n",
       "      <td>0</td>\n",
       "      <td>1</td>\n",
       "      <td>0</td>\n",
       "      <td>1</td>\n",
       "      <td>0</td>\n",
       "    </tr>\n",
       "    <tr>\n",
       "      <th>314</th>\n",
       "      <td>344268</td>\n",
       "      <td>2.0</td>\n",
       "      <td>4.0</td>\n",
       "      <td>40.0</td>\n",
       "      <td>20.0</td>\n",
       "      <td>40.0</td>\n",
       "      <td>9</td>\n",
       "      <td>5.43471</td>\n",
       "      <td>66</td>\n",
       "      <td>7</td>\n",
       "      <td>8</td>\n",
       "      <td>31</td>\n",
       "      <td>2</td>\n",
       "    </tr>\n",
       "    <tr>\n",
       "      <th>...</th>\n",
       "      <td>...</td>\n",
       "      <td>...</td>\n",
       "      <td>...</td>\n",
       "      <td>...</td>\n",
       "      <td>...</td>\n",
       "      <td>...</td>\n",
       "      <td>...</td>\n",
       "      <td>...</td>\n",
       "      <td>...</td>\n",
       "      <td>...</td>\n",
       "      <td>...</td>\n",
       "      <td>...</td>\n",
       "      <td>...</td>\n",
       "    </tr>\n",
       "    <tr>\n",
       "      <th>208691</th>\n",
       "      <td>218280</td>\n",
       "      <td>1.0</td>\n",
       "      <td>6.0</td>\n",
       "      <td>120.0</td>\n",
       "      <td>30.0</td>\n",
       "      <td>120.0</td>\n",
       "      <td>13</td>\n",
       "      <td>0.00000</td>\n",
       "      <td>0</td>\n",
       "      <td>0</td>\n",
       "      <td>0</td>\n",
       "      <td>4</td>\n",
       "      <td>0</td>\n",
       "    </tr>\n",
       "    <tr>\n",
       "      <th>208841</th>\n",
       "      <td>250992</td>\n",
       "      <td>2.0</td>\n",
       "      <td>8.0</td>\n",
       "      <td>30.0</td>\n",
       "      <td>15.0</td>\n",
       "      <td>30.0</td>\n",
       "      <td>11</td>\n",
       "      <td>9.00000</td>\n",
       "      <td>1</td>\n",
       "      <td>1</td>\n",
       "      <td>0</td>\n",
       "      <td>1</td>\n",
       "      <td>0</td>\n",
       "    </tr>\n",
       "    <tr>\n",
       "      <th>208894</th>\n",
       "      <td>298086</td>\n",
       "      <td>1.0</td>\n",
       "      <td>6.0</td>\n",
       "      <td>120.0</td>\n",
       "      <td>45.0</td>\n",
       "      <td>120.0</td>\n",
       "      <td>10</td>\n",
       "      <td>7.94552</td>\n",
       "      <td>32</td>\n",
       "      <td>11</td>\n",
       "      <td>5</td>\n",
       "      <td>57</td>\n",
       "      <td>2</td>\n",
       "    </tr>\n",
       "    <tr>\n",
       "      <th>208941</th>\n",
       "      <td>298133</td>\n",
       "      <td>1.0</td>\n",
       "      <td>4.0</td>\n",
       "      <td>90.0</td>\n",
       "      <td>60.0</td>\n",
       "      <td>90.0</td>\n",
       "      <td>14</td>\n",
       "      <td>0.00000</td>\n",
       "      <td>0</td>\n",
       "      <td>3</td>\n",
       "      <td>0</td>\n",
       "      <td>0</td>\n",
       "      <td>0</td>\n",
       "    </tr>\n",
       "    <tr>\n",
       "      <th>208973</th>\n",
       "      <td>298189</td>\n",
       "      <td>3.0</td>\n",
       "      <td>7.0</td>\n",
       "      <td>120.0</td>\n",
       "      <td>30.0</td>\n",
       "      <td>120.0</td>\n",
       "      <td>7</td>\n",
       "      <td>0.00000</td>\n",
       "      <td>0</td>\n",
       "      <td>0</td>\n",
       "      <td>0</td>\n",
       "      <td>0</td>\n",
       "      <td>0</td>\n",
       "    </tr>\n",
       "  </tbody>\n",
       "</table>\n",
       "<p>4967 rows × 13 columns</p>\n",
       "</div>"
      ],
      "text/plain": [
       "            id  min_players  max_players  playtime  min_playtime  \\\n",
       "278     344235          3.0          8.0      25.0          15.0   \n",
       "281     344240          3.0          5.0      45.0          20.0   \n",
       "291     344249          2.0          6.0      20.0          20.0   \n",
       "303     344259          1.0          1.0      20.0           5.0   \n",
       "314     344268          2.0          4.0      40.0          20.0   \n",
       "...        ...          ...          ...       ...           ...   \n",
       "208691  218280          1.0          6.0     120.0          30.0   \n",
       "208841  250992          2.0          8.0      30.0          15.0   \n",
       "208894  298086          1.0          6.0     120.0          45.0   \n",
       "208941  298133          1.0          4.0      90.0          60.0   \n",
       "208973  298189          3.0          7.0     120.0          30.0   \n",
       "\n",
       "        max_playtime  min_age   average  user_rated  num_owned  wanting  \\\n",
       "278             25.0       11  10.00000           1          1        0   \n",
       "281             45.0        9   5.05000          10         18        0   \n",
       "291             20.0        8   6.66667           3          9        1   \n",
       "303             20.0        8   0.00000           0          1        0   \n",
       "314             40.0        9   5.43471          66          7        8   \n",
       "...              ...      ...       ...         ...        ...      ...   \n",
       "208691         120.0       13   0.00000           0          0        0   \n",
       "208841          30.0       11   9.00000           1          1        0   \n",
       "208894         120.0       10   7.94552          32         11        5   \n",
       "208941          90.0       14   0.00000           0          3        0   \n",
       "208973         120.0        7   0.00000           0          0        0   \n",
       "\n",
       "        wishing  numweights  \n",
       "278           0           0  \n",
       "281           1           1  \n",
       "291           1           0  \n",
       "303           1           0  \n",
       "314          31           2  \n",
       "...         ...         ...  \n",
       "208691        4           0  \n",
       "208841        1           0  \n",
       "208894       57           2  \n",
       "208941        0           0  \n",
       "208973        0           0  \n",
       "\n",
       "[4967 rows x 13 columns]"
      ]
     },
     "execution_count": 275,
     "metadata": {},
     "output_type": "execute_result"
    }
   ],
   "source": [
    "all_upcoming_games"
   ]
  }
 ],
 "metadata": {
  "kernelspec": {
   "display_name": "Python 3.9.12 ('nf_sql')",
   "language": "python",
   "name": "python3"
  },
  "language_info": {
   "codemirror_mode": {
    "name": "ipython",
    "version": 3
   },
   "file_extension": ".py",
   "mimetype": "text/x-python",
   "name": "python",
   "nbconvert_exporter": "python",
   "pygments_lexer": "ipython3",
   "version": "3.9.12"
  },
  "orig_nbformat": 4,
  "vscode": {
   "interpreter": {
    "hash": "a81d278bed5b5b59425dcb5a82ce505657686243c184b4a6b67e69d01c4d432e"
   }
  }
 },
 "nbformat": 4,
 "nbformat_minor": 2
}
