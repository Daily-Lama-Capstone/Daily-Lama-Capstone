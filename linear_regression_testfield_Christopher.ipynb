{
 "cells": [
  {
   "cell_type": "code",
   "execution_count": 155,
   "metadata": {},
   "outputs": [],
   "source": [
    "from sql_functions import get_dataframe\n",
    "import pandas as pd\n",
    "import capstone_functions as cf\n",
    "import numpy as np\n",
    "import statsmodels.api as sm\n",
    "import statsmodels.formula.api as smf\n",
    "from scipy import stats\n",
    "from scipy import interpolate\n",
    "from sklearn import linear_model\n",
    "import seaborn as sns\n",
    "\n",
    "pd.options.mode.chained_assignment = None  # default='warn'"
   ]
  },
  {
   "cell_type": "markdown",
   "metadata": {},
   "source": [
    "# Variables"
   ]
  },
  {
   "cell_type": "code",
   "execution_count": 156,
   "metadata": {},
   "outputs": [],
   "source": [
    "# How many mechanics are in the top mechanics\n",
    "top_XX_mechanic = 25\n",
    "\n",
    "#schema and table names, we are using in this notebook\n",
    "schema = 'bgg_data'\n",
    "main = 'ml_boardgame_stats'\n",
    "subdomain = 'subdomain'\n",
    "unique_subdomain = 'unique_subdomain'\n",
    "kickstarter = 'kickstarter_unique_campaigns'\n",
    "slug = 'unique_slug_bgg_id'\n",
    "mechanic = 'mechanics'\n",
    "unique_mechanics = 'unique_mechanics'\n",
    "honor = 'honor_clean'"
   ]
  },
  {
   "cell_type": "markdown",
   "metadata": {},
   "source": [
    "## Create Dataframes for Kickstarter and Mechanic and build df for the top XX mechanics"
   ]
  },
  {
   "cell_type": "code",
   "execution_count": 157,
   "metadata": {},
   "outputs": [],
   "source": [
    "\n",
    "df_ks = get_dataframe(f\"SELECT * FROM {schema}.{kickstarter}\")\n",
    "df_slug = get_dataframe(f\"SELECT * FROM {schema}.{slug}\")\n",
    "df_mech = get_dataframe(f\"SELECT * FROM {schema}.{mechanic}\")\n",
    "df_u_mech = get_dataframe(f\"SELECT * FROM {schema}.{unique_mechanics}\")\n",
    "\n",
    "#df_marketplace = cf.avg_price_from_marketplace()\n",
    "#df_honor = get_dataframe(f\"SELECT * FROM {schema}.{honor}\")"
   ]
  },
  {
   "cell_type": "markdown",
   "metadata": {},
   "source": [
    "Merge kickstarter table with bgg_ids and rename column bgg_id to id"
   ]
  },
  {
   "cell_type": "code",
   "execution_count": 158,
   "metadata": {},
   "outputs": [],
   "source": [
    "df_ks = pd.merge(df_slug,df_ks,on='slug')\n",
    "df_ks.rename({'bgg_id':'id'},axis=1,inplace=True)"
   ]
  },
  {
   "cell_type": "markdown",
   "metadata": {},
   "source": [
    "create dataframe with all mechanics and merge it with the kickstarter dataframe"
   ]
  },
  {
   "cell_type": "code",
   "execution_count": 159,
   "metadata": {},
   "outputs": [],
   "source": [
    "df_mech = pd.merge(df_mech,df_u_mech,on='mechanic_id')\n",
    "df_mech = pd.merge(df_ks,df_mech,on='id')"
   ]
  },
  {
   "cell_type": "markdown",
   "metadata": {},
   "source": [
    "create a list with the top XX mechanics"
   ]
  },
  {
   "cell_type": "code",
   "execution_count": 160,
   "metadata": {},
   "outputs": [],
   "source": [
    "top_mechanics_list = list(df_mech.groupby(['mechanic']).count().sort_values(ascending=False,axis=0,by='id').reset_index()[\"mechanic\"].head(top_XX_mechanic))"
   ]
  },
  {
   "cell_type": "markdown",
   "metadata": {},
   "source": [
    "reduce the dataframe such that IDs are unique"
   ]
  },
  {
   "cell_type": "code",
   "execution_count": 161,
   "metadata": {},
   "outputs": [],
   "source": [
    "df_mech[\"is_in_top_XX_mechanics\"] = df_mech[\"mechanic\"].isin(top_mechanics_list)\n",
    "df_mech = df_mech[['id','is_in_top_XX_mechanics']]\n",
    "df_mech = df_mech.groupby('id').sum().reset_index()"
   ]
  },
  {
   "cell_type": "markdown",
   "metadata": {},
   "source": [
    "Because there are multiple mechanics for one ID, it is possible that for the same ID there are some mechanics in the top and others are not.\n",
    "- create new column with True/False if ID is in top XX categories (XX will be set in the top code field: \"Variables\" -> \"top_XX_mechanic\")"
   ]
  },
  {
   "cell_type": "code",
   "execution_count": 162,
   "metadata": {},
   "outputs": [],
   "source": [
    "df_mech[f\"top_{top_XX_mechanic}_mechanic\"] = df_mech.is_in_top_XX_mechanics > 0"
   ]
  },
  {
   "cell_type": "code",
   "execution_count": 163,
   "metadata": {},
   "outputs": [],
   "source": [
    "df_mech = df_mech[['id',f\"top_{top_XX_mechanic}_mechanic\"]]"
   ]
  },
  {
   "cell_type": "markdown",
   "metadata": {},
   "source": [
    "## Create Dataframes for main and subdomain"
   ]
  },
  {
   "cell_type": "code",
   "execution_count": 164,
   "metadata": {},
   "outputs": [],
   "source": [
    "df_main = get_dataframe(f\"SELECT * FROM {schema}.{main}\")\n",
    "df_sub = get_dataframe(f\"SELECT * FROM {schema}.{subdomain}\")\n",
    "df_u_sub = get_dataframe(f\"SELECT * FROM {schema}.{unique_subdomain}\")"
   ]
  },
  {
   "cell_type": "markdown",
   "metadata": {},
   "source": [
    "- merge Kickstarter with subdomains => 1021 non-null"
   ]
  },
  {
   "cell_type": "code",
   "execution_count": 165,
   "metadata": {},
   "outputs": [],
   "source": [
    "df_sub = pd.merge(df_sub,df_u_sub,on=\"subdomain_id\")\n",
    "df_ks_sub = pd.merge(df_ks,df_sub,on='id')"
   ]
  },
  {
   "cell_type": "markdown",
   "metadata": {},
   "source": [
    "- merge Kickstarter_subdomains with main => ~330 entries"
   ]
  },
  {
   "cell_type": "code",
   "execution_count": 166,
   "metadata": {},
   "outputs": [],
   "source": [
    "df_ks_sub_main = pd.merge(df_ks_sub,df_main,on='id')"
   ]
  },
  {
   "cell_type": "markdown",
   "metadata": {},
   "source": [
    "- Build new columns with goal in USD"
   ]
  },
  {
   "cell_type": "code",
   "execution_count": 167,
   "metadata": {},
   "outputs": [],
   "source": [
    "df_ks_sub_main[\"usd_goal\"] = df_ks_sub_main['goal']*(df_ks_sub_main.pledged/df_ks_sub_main.usd_pledged)"
   ]
  },
  {
   "cell_type": "markdown",
   "metadata": {},
   "source": [
    "merge with mechanics dataframe => 326 non-null entries"
   ]
  },
  {
   "cell_type": "code",
   "execution_count": 168,
   "metadata": {},
   "outputs": [],
   "source": [
    "df_ks_sub_main_mech = pd.merge(df_ks_sub_main,df_mech,on='id')"
   ]
  },
  {
   "cell_type": "code",
   "execution_count": 169,
   "metadata": {},
   "outputs": [],
   "source": [
    "#df_ks_sub_main_mech.columns"
   ]
  },
  {
   "cell_type": "markdown",
   "metadata": {},
   "source": [
    "## Machine Learning\n",
    "- Extract only necessary columns for our ML and drop all null"
   ]
  },
  {
   "cell_type": "code",
   "execution_count": 170,
   "metadata": {},
   "outputs": [],
   "source": [
    "df_ML = df_ks_sub_main_mech[['country','usd_pledged','subdomain_name','min_players','max_players','min_playtime','max_playtime','min_age','averageweight','usd_goal',f\"top_{top_XX_mechanic}_mechanic\"]]\n",
    "#df_ML.dropna(inplace=True);"
   ]
  },
  {
   "cell_type": "code",
   "execution_count": 171,
   "metadata": {},
   "outputs": [],
   "source": [
    "df_ML[f\"top_{top_XX_mechanic}_mechanic\"] = df_ML[f\"top_{top_XX_mechanic}_mechanic\"].astype(int)"
   ]
  },
  {
   "cell_type": "code",
   "execution_count": 172,
   "metadata": {},
   "outputs": [],
   "source": [
    "df_ML[\"min_playtime\"].fillna(df_ML[\"max_playtime\"].median(),inplace=True);\n",
    "df_ML[\"max_playtime\"].fillna(df_ML[\"max_playtime\"].median(),inplace=True);\n"
   ]
  },
  {
   "cell_type": "code",
   "execution_count": 173,
   "metadata": {},
   "outputs": [],
   "source": [
    "df_ML = df_ML[(np.abs(stats.zscore(df_ML['min_playtime'])) < 2.5)]\n",
    "df_ML = df_ML[(np.abs(stats.zscore(df_ML['max_playtime'])) < 3)]"
   ]
  },
  {
   "cell_type": "code",
   "execution_count": 174,
   "metadata": {},
   "outputs": [],
   "source": [
    "#df_ML.describe()"
   ]
  },
  {
   "cell_type": "markdown",
   "metadata": {},
   "source": [
    "## Build dummies for subdomain and countries"
   ]
  },
  {
   "cell_type": "code",
   "execution_count": 175,
   "metadata": {},
   "outputs": [],
   "source": [
    "subdomain_dummy = pd.get_dummies(df_ML.subdomain_name.apply(pd.Series).stack(), drop_first=True).groupby(level=0).sum()\n",
    "subdomain_dummy.columns = subdomain_dummy.columns.str.strip()"
   ]
  },
  {
   "cell_type": "code",
   "execution_count": 176,
   "metadata": {},
   "outputs": [],
   "source": [
    "country_dummy = pd.get_dummies(df_ML.country.apply(pd.Series).stack(), drop_first=True).groupby(level=0).sum()\n",
    "country_dummy.columns = country_dummy.columns.str.strip()"
   ]
  },
  {
   "cell_type": "code",
   "execution_count": 177,
   "metadata": {},
   "outputs": [],
   "source": [
    "df = pd.concat([df_ML,subdomain_dummy], axis=1)\n",
    "df = df.drop([\"subdomain_name\"], axis=1)\n",
    "#df.columns"
   ]
  },
  {
   "cell_type": "code",
   "execution_count": 178,
   "metadata": {},
   "outputs": [
    {
     "data": {
      "text/plain": [
       "Index(['usd_pledged', 'min_players', 'max_players', 'min_playtime',\n",
       "       'max_playtime', 'min_age', 'averageweight', 'usd_goal',\n",
       "       'top_25_mechanic', 'Children's', 'Customizable', 'Family', 'Party',\n",
       "       'Strategy', 'Thematic', 'Wargames', 'AU', 'BE', 'CA', 'CH', 'DE', 'ES',\n",
       "       'FR', 'GB', 'HK', 'IT', 'NL', 'NO', 'SG', 'US'],\n",
       "      dtype='object')"
      ]
     },
     "execution_count": 178,
     "metadata": {},
     "output_type": "execute_result"
    }
   ],
   "source": [
    "df = pd.concat([df,country_dummy], axis=1)\n",
    "df = df.drop([\"country\"], axis=1)\n",
    "df.columns"
   ]
  },
  {
   "cell_type": "code",
   "execution_count": 179,
   "metadata": {},
   "outputs": [],
   "source": [
    "X = df[['DE', 'GB', 'US',\n",
    "        \"Children's\", \"Customizable\", \"Family\", \"Party\", \"Strategy\", \"Thematic\", \"Wargames\", \n",
    "        \"min_players\", \"min_playtime\", \"min_age\", \"averageweight\", 'usd_goal',f\"top_{top_XX_mechanic}_mechanic\"]]"
   ]
  },
  {
   "cell_type": "code",
   "execution_count": 190,
   "metadata": {},
   "outputs": [
    {
     "data": {
      "text/plain": [
       "<seaborn.axisgrid.PairGrid at 0x14c681250>"
      ]
     },
     "execution_count": 190,
     "metadata": {},
     "output_type": "execute_result"
    },
    {
     "data": {
      "image/png": "[encoded data removed]",
      "text/plain": [
       "<Figure size 1080x1080 with 42 Axes>"
      ]
     },
     "metadata": {
      "needs_background": "light"
     },
     "output_type": "display_data"
    }
   ],
   "source": [
    "X = df[[\"min_players\", \"min_playtime\", \"min_age\", \"averageweight\", 'usd_goal',f\"top_{top_XX_mechanic}_mechanic\"]]\n",
    "sns.pairplot(X)"
   ]
  },
  {
   "cell_type": "code",
   "execution_count": 181,
   "metadata": {},
   "outputs": [],
   "source": [
    "y = df.usd_pledged"
   ]
  },
  {
   "cell_type": "code",
   "execution_count": 182,
   "metadata": {},
   "outputs": [],
   "source": [
    "X = sm.add_constant(X)"
   ]
  },
  {
   "cell_type": "markdown",
   "metadata": {},
   "source": [
    "#### Investigate the whole dataframe with all columns of interest"
   ]
  },
  {
   "cell_type": "code",
   "execution_count": 183,
   "metadata": {},
   "outputs": [
    {
     "data": {
      "text/html": [
       "<table class=\"simpletable\">\n",
       "<caption>OLS Regression Results</caption>\n",
       "<tr>\n",
       "  <th>Dep. Variable:</th>       <td>usd_pledged</td>   <th>  R-squared:         </th> <td>   0.202</td>\n",
       "</tr>\n",
       "<tr>\n",
       "  <th>Model:</th>                   <td>OLS</td>       <th>  Adj. R-squared:    </th> <td>   0.160</td>\n",
       "</tr>\n",
       "<tr>\n",
       "  <th>Method:</th>             <td>Least Squares</td>  <th>  F-statistic:       </th> <td>   4.766</td>\n",
       "</tr>\n",
       "<tr>\n",
       "  <th>Date:</th>             <td>Wed, 13 Jul 2022</td> <th>  Prob (F-statistic):</th> <td>1.21e-08</td>\n",
       "</tr>\n",
       "<tr>\n",
       "  <th>Time:</th>                 <td>15:46:58</td>     <th>  Log-Likelihood:    </th> <td> -4400.2</td>\n",
       "</tr>\n",
       "<tr>\n",
       "  <th>No. Observations:</th>      <td>   318</td>      <th>  AIC:               </th> <td>   8834.</td>\n",
       "</tr>\n",
       "<tr>\n",
       "  <th>Df Residuals:</th>          <td>   301</td>      <th>  BIC:               </th> <td>   8898.</td>\n",
       "</tr>\n",
       "<tr>\n",
       "  <th>Df Model:</th>              <td>    16</td>      <th>                     </th>     <td> </td>   \n",
       "</tr>\n",
       "<tr>\n",
       "  <th>Covariance Type:</th>      <td>nonrobust</td>    <th>                     </th>     <td> </td>   \n",
       "</tr>\n",
       "</table>\n",
       "<table class=\"simpletable\">\n",
       "<tr>\n",
       "         <td></td>            <th>coef</th>     <th>std err</th>      <th>t</th>      <th>P>|t|</th>  <th>[0.025</th>    <th>0.975]</th>  \n",
       "</tr>\n",
       "<tr>\n",
       "  <th>const</th>           <td>-1.126e+05</td> <td> 1.28e+05</td> <td>   -0.882</td> <td> 0.378</td> <td>-3.64e+05</td> <td> 1.39e+05</td>\n",
       "</tr>\n",
       "<tr>\n",
       "  <th>DE</th>              <td> 3.602e+05</td> <td> 1.35e+05</td> <td>    2.661</td> <td> 0.008</td> <td> 9.38e+04</td> <td> 6.27e+05</td>\n",
       "</tr>\n",
       "<tr>\n",
       "  <th>GB</th>              <td>-4716.6202</td> <td>  5.6e+04</td> <td>   -0.084</td> <td> 0.933</td> <td>-1.15e+05</td> <td> 1.06e+05</td>\n",
       "</tr>\n",
       "<tr>\n",
       "  <th>US</th>              <td> 2.146e+04</td> <td> 3.97e+04</td> <td>    0.541</td> <td> 0.589</td> <td>-5.67e+04</td> <td> 9.96e+04</td>\n",
       "</tr>\n",
       "<tr>\n",
       "  <th>Children's</th>      <td>-6.335e+04</td> <td> 1.12e+05</td> <td>   -0.567</td> <td> 0.571</td> <td>-2.83e+05</td> <td> 1.57e+05</td>\n",
       "</tr>\n",
       "<tr>\n",
       "  <th>Customizable</th>    <td> -1.02e+05</td> <td>  2.6e+05</td> <td>   -0.392</td> <td> 0.695</td> <td>-6.14e+05</td> <td>  4.1e+05</td>\n",
       "</tr>\n",
       "<tr>\n",
       "  <th>Family</th>          <td> 1.205e+04</td> <td> 5.94e+04</td> <td>    0.203</td> <td> 0.839</td> <td>-1.05e+05</td> <td> 1.29e+05</td>\n",
       "</tr>\n",
       "<tr>\n",
       "  <th>Party</th>           <td> 4.457e+05</td> <td> 8.39e+04</td> <td>    5.313</td> <td> 0.000</td> <td> 2.81e+05</td> <td> 6.11e+05</td>\n",
       "</tr>\n",
       "<tr>\n",
       "  <th>Strategy</th>        <td>-9090.8671</td> <td> 6.21e+04</td> <td>   -0.146</td> <td> 0.884</td> <td>-1.31e+05</td> <td> 1.13e+05</td>\n",
       "</tr>\n",
       "<tr>\n",
       "  <th>Thematic</th>        <td> 5.679e+04</td> <td> 6.52e+04</td> <td>    0.871</td> <td> 0.384</td> <td>-7.15e+04</td> <td> 1.85e+05</td>\n",
       "</tr>\n",
       "<tr>\n",
       "  <th>Wargames</th>        <td>-6.337e+04</td> <td> 6.29e+04</td> <td>   -1.007</td> <td> 0.315</td> <td>-1.87e+05</td> <td> 6.05e+04</td>\n",
       "</tr>\n",
       "<tr>\n",
       "  <th>min_players</th>     <td>-3.077e+04</td> <td> 2.23e+04</td> <td>   -1.377</td> <td> 0.170</td> <td>-7.47e+04</td> <td> 1.32e+04</td>\n",
       "</tr>\n",
       "<tr>\n",
       "  <th>min_playtime</th>    <td> -760.0124</td> <td>  514.228</td> <td>   -1.478</td> <td> 0.140</td> <td>-1771.950</td> <td>  251.925</td>\n",
       "</tr>\n",
       "<tr>\n",
       "  <th>min_age</th>         <td>-3746.0866</td> <td> 4959.255</td> <td>   -0.755</td> <td> 0.451</td> <td>-1.35e+04</td> <td> 6013.115</td>\n",
       "</tr>\n",
       "<tr>\n",
       "  <th>averageweight</th>   <td> 9.933e+04</td> <td> 2.67e+04</td> <td>    3.720</td> <td> 0.000</td> <td> 4.68e+04</td> <td> 1.52e+05</td>\n",
       "</tr>\n",
       "<tr>\n",
       "  <th>usd_goal</th>        <td>    0.1634</td> <td>    0.074</td> <td>    2.211</td> <td> 0.028</td> <td>    0.018</td> <td>    0.309</td>\n",
       "</tr>\n",
       "<tr>\n",
       "  <th>top_25_mechanic</th> <td> 1.141e+05</td> <td> 8.82e+04</td> <td>    1.294</td> <td> 0.197</td> <td>-5.95e+04</td> <td> 2.88e+05</td>\n",
       "</tr>\n",
       "</table>\n",
       "<table class=\"simpletable\">\n",
       "<tr>\n",
       "  <th>Omnibus:</th>       <td>273.025</td> <th>  Durbin-Watson:     </th> <td>   1.518</td>\n",
       "</tr>\n",
       "<tr>\n",
       "  <th>Prob(Omnibus):</th> <td> 0.000</td>  <th>  Jarque-Bera (JB):  </th> <td>5845.525</td>\n",
       "</tr>\n",
       "<tr>\n",
       "  <th>Skew:</th>          <td> 3.474</td>  <th>  Prob(JB):          </th> <td>    0.00</td>\n",
       "</tr>\n",
       "<tr>\n",
       "  <th>Kurtosis:</th>      <td>22.822</td>  <th>  Cond. No.          </th> <td>3.77e+06</td>\n",
       "</tr>\n",
       "</table><br/><br/>Notes:<br/>[1] Standard Errors assume that the covariance matrix of the errors is correctly specified.<br/>[2] The condition number is large, 3.77e+06. This might indicate that there are<br/>strong multicollinearity or other numerical problems."
      ],
      "text/plain": [
       "<class 'statsmodels.iolib.summary.Summary'>\n",
       "\"\"\"\n",
       "                            OLS Regression Results                            \n",
       "==============================================================================\n",
       "Dep. Variable:            usd_pledged   R-squared:                       0.202\n",
       "Model:                            OLS   Adj. R-squared:                  0.160\n",
       "Method:                 Least Squares   F-statistic:                     4.766\n",
       "Date:                Wed, 13 Jul 2022   Prob (F-statistic):           1.21e-08\n",
       "Time:                        15:46:58   Log-Likelihood:                -4400.2\n",
       "No. Observations:                 318   AIC:                             8834.\n",
       "Df Residuals:                     301   BIC:                             8898.\n",
       "Df Model:                          16                                         \n",
       "Covariance Type:            nonrobust                                         \n",
       "===================================================================================\n",
       "                      coef    std err          t      P>|t|      [0.025      0.975]\n",
       "-----------------------------------------------------------------------------------\n",
       "const           -1.126e+05   1.28e+05     -0.882      0.378   -3.64e+05    1.39e+05\n",
       "DE               3.602e+05   1.35e+05      2.661      0.008    9.38e+04    6.27e+05\n",
       "GB              -4716.6202    5.6e+04     -0.084      0.933   -1.15e+05    1.06e+05\n",
       "US               2.146e+04   3.97e+04      0.541      0.589   -5.67e+04    9.96e+04\n",
       "Children's      -6.335e+04   1.12e+05     -0.567      0.571   -2.83e+05    1.57e+05\n",
       "Customizable     -1.02e+05    2.6e+05     -0.392      0.695   -6.14e+05     4.1e+05\n",
       "Family           1.205e+04   5.94e+04      0.203      0.839   -1.05e+05    1.29e+05\n",
       "Party            4.457e+05   8.39e+04      5.313      0.000    2.81e+05    6.11e+05\n",
       "Strategy        -9090.8671   6.21e+04     -0.146      0.884   -1.31e+05    1.13e+05\n",
       "Thematic         5.679e+04   6.52e+04      0.871      0.384   -7.15e+04    1.85e+05\n",
       "Wargames        -6.337e+04   6.29e+04     -1.007      0.315   -1.87e+05    6.05e+04\n",
       "min_players     -3.077e+04   2.23e+04     -1.377      0.170   -7.47e+04    1.32e+04\n",
       "min_playtime     -760.0124    514.228     -1.478      0.140   -1771.950     251.925\n",
       "min_age         -3746.0866   4959.255     -0.755      0.451   -1.35e+04    6013.115\n",
       "averageweight    9.933e+04   2.67e+04      3.720      0.000    4.68e+04    1.52e+05\n",
       "usd_goal            0.1634      0.074      2.211      0.028       0.018       0.309\n",
       "top_25_mechanic  1.141e+05   8.82e+04      1.294      0.197   -5.95e+04    2.88e+05\n",
       "==============================================================================\n",
       "Omnibus:                      273.025   Durbin-Watson:                   1.518\n",
       "Prob(Omnibus):                  0.000   Jarque-Bera (JB):             5845.525\n",
       "Skew:                           3.474   Prob(JB):                         0.00\n",
       "Kurtosis:                      22.822   Cond. No.                     3.77e+06\n",
       "==============================================================================\n",
       "\n",
       "Notes:\n",
       "[1] Standard Errors assume that the covariance matrix of the errors is correctly specified.\n",
       "[2] The condition number is large, 3.77e+06. This might indicate that there are\n",
       "strong multicollinearity or other numerical problems.\n",
       "\"\"\""
      ]
     },
     "execution_count": 183,
     "metadata": {},
     "output_type": "execute_result"
    }
   ],
   "source": [
    "# create an OLS model\n",
    "our_model = sm.OLS(y, X)\n",
    "\n",
    "# use the data to calculate the intercept and slope\n",
    "model_results = our_model.fit()\n",
    "\n",
    "# return the output of the model\n",
    "model_results.summary() # summary contains eg. 'const' (intercept) and 'slope' of the regression equation."
   ]
  },
  {
   "cell_type": "markdown",
   "metadata": {},
   "source": [
    "#### ...and pick columns accordingly"
   ]
  },
  {
   "cell_type": "code",
   "execution_count": 199,
   "metadata": {},
   "outputs": [
    {
     "data": {
      "text/html": [
       "<div>\n",
       "<style scoped>\n",
       "    .dataframe tbody tr th:only-of-type {\n",
       "        vertical-align: middle;\n",
       "    }\n",
       "\n",
       "    .dataframe tbody tr th {\n",
       "        vertical-align: top;\n",
       "    }\n",
       "\n",
       "    .dataframe thead th {\n",
       "        text-align: right;\n",
       "    }\n",
       "</style>\n",
       "<table border=\"1\" class=\"dataframe\">\n",
       "  <thead>\n",
       "    <tr style=\"text-align: right;\">\n",
       "      <th></th>\n",
       "      <th>const</th>\n",
       "      <th>averageweight</th>\n",
       "      <th>min_playtime</th>\n",
       "      <th>Party</th>\n",
       "      <th>DE</th>\n",
       "    </tr>\n",
       "  </thead>\n",
       "  <tbody>\n",
       "    <tr>\n",
       "      <th>count</th>\n",
       "      <td>318.0</td>\n",
       "      <td>318.000000</td>\n",
       "      <td>318.000000</td>\n",
       "      <td>318.000000</td>\n",
       "      <td>318.000000</td>\n",
       "    </tr>\n",
       "    <tr>\n",
       "      <th>mean</th>\n",
       "      <td>1.0</td>\n",
       "      <td>2.376470</td>\n",
       "      <td>52.399371</td>\n",
       "      <td>0.050314</td>\n",
       "      <td>0.012579</td>\n",
       "    </tr>\n",
       "    <tr>\n",
       "      <th>std</th>\n",
       "      <td>0.0</td>\n",
       "      <td>0.779356</td>\n",
       "      <td>36.334768</td>\n",
       "      <td>0.218938</td>\n",
       "      <td>0.111622</td>\n",
       "    </tr>\n",
       "    <tr>\n",
       "      <th>min</th>\n",
       "      <td>1.0</td>\n",
       "      <td>1.000000</td>\n",
       "      <td>5.000000</td>\n",
       "      <td>0.000000</td>\n",
       "      <td>0.000000</td>\n",
       "    </tr>\n",
       "    <tr>\n",
       "      <th>25%</th>\n",
       "      <td>1.0</td>\n",
       "      <td>1.900800</td>\n",
       "      <td>30.000000</td>\n",
       "      <td>0.000000</td>\n",
       "      <td>0.000000</td>\n",
       "    </tr>\n",
       "    <tr>\n",
       "      <th>50%</th>\n",
       "      <td>1.0</td>\n",
       "      <td>2.303850</td>\n",
       "      <td>45.000000</td>\n",
       "      <td>0.000000</td>\n",
       "      <td>0.000000</td>\n",
       "    </tr>\n",
       "    <tr>\n",
       "      <th>75%</th>\n",
       "      <td>1.0</td>\n",
       "      <td>2.864750</td>\n",
       "      <td>60.000000</td>\n",
       "      <td>0.000000</td>\n",
       "      <td>0.000000</td>\n",
       "    </tr>\n",
       "    <tr>\n",
       "      <th>max</th>\n",
       "      <td>1.0</td>\n",
       "      <td>4.616300</td>\n",
       "      <td>180.000000</td>\n",
       "      <td>1.000000</td>\n",
       "      <td>1.000000</td>\n",
       "    </tr>\n",
       "  </tbody>\n",
       "</table>\n",
       "</div>"
      ],
      "text/plain": [
       "       const  averageweight  min_playtime       Party          DE\n",
       "count  318.0     318.000000    318.000000  318.000000  318.000000\n",
       "mean     1.0       2.376470     52.399371    0.050314    0.012579\n",
       "std      0.0       0.779356     36.334768    0.218938    0.111622\n",
       "min      1.0       1.000000      5.000000    0.000000    0.000000\n",
       "25%      1.0       1.900800     30.000000    0.000000    0.000000\n",
       "50%      1.0       2.303850     45.000000    0.000000    0.000000\n",
       "75%      1.0       2.864750     60.000000    0.000000    0.000000\n",
       "max      1.0       4.616300    180.000000    1.000000    1.000000"
      ]
     },
     "execution_count": 199,
     "metadata": {},
     "output_type": "execute_result"
    }
   ],
   "source": [
    "#X = df[['averageweight','usd_goal','min_playtime','Party','DE']]\n",
    "X = df[['averageweight','min_playtime','Party','DE']]\n",
    "X = sm.add_constant(X)\n",
    "X.describe()"
   ]
  },
  {
   "cell_type": "code",
   "execution_count": 200,
   "metadata": {},
   "outputs": [
    {
     "data": {
      "text/html": [
       "<table class=\"simpletable\">\n",
       "<caption>OLS Regression Results</caption>\n",
       "<tr>\n",
       "  <th>Dep. Variable:</th>       <td>usd_pledged</td>   <th>  R-squared:         </th> <td>   0.161</td>\n",
       "</tr>\n",
       "<tr>\n",
       "  <th>Model:</th>                   <td>OLS</td>       <th>  Adj. R-squared:    </th> <td>   0.150</td>\n",
       "</tr>\n",
       "<tr>\n",
       "  <th>Method:</th>             <td>Least Squares</td>  <th>  F-statistic:       </th> <td>   15.01</td>\n",
       "</tr>\n",
       "<tr>\n",
       "  <th>Date:</th>             <td>Wed, 13 Jul 2022</td> <th>  Prob (F-statistic):</th> <td>3.10e-11</td>\n",
       "</tr>\n",
       "<tr>\n",
       "  <th>Time:</th>                 <td>16:26:25</td>     <th>  Log-Likelihood:    </th> <td> -4408.2</td>\n",
       "</tr>\n",
       "<tr>\n",
       "  <th>No. Observations:</th>      <td>   318</td>      <th>  AIC:               </th> <td>   8826.</td>\n",
       "</tr>\n",
       "<tr>\n",
       "  <th>Df Residuals:</th>          <td>   313</td>      <th>  BIC:               </th> <td>   8845.</td>\n",
       "</tr>\n",
       "<tr>\n",
       "  <th>Df Model:</th>              <td>     4</td>      <th>                     </th>     <td> </td>   \n",
       "</tr>\n",
       "<tr>\n",
       "  <th>Covariance Type:</th>      <td>nonrobust</td>    <th>                     </th>     <td> </td>   \n",
       "</tr>\n",
       "</table>\n",
       "<table class=\"simpletable\">\n",
       "<tr>\n",
       "        <td></td>           <th>coef</th>     <th>std err</th>      <th>t</th>      <th>P>|t|</th>  <th>[0.025</th>    <th>0.975]</th>  \n",
       "</tr>\n",
       "<tr>\n",
       "  <th>const</th>         <td>-9.225e+04</td> <td> 4.87e+04</td> <td>   -1.894</td> <td> 0.059</td> <td>-1.88e+05</td> <td> 3603.816</td>\n",
       "</tr>\n",
       "<tr>\n",
       "  <th>averageweight</th> <td> 1.134e+05</td> <td> 2.19e+04</td> <td>    5.168</td> <td> 0.000</td> <td> 7.02e+04</td> <td> 1.57e+05</td>\n",
       "</tr>\n",
       "<tr>\n",
       "  <th>min_playtime</th>  <td>-1233.5413</td> <td>  461.483</td> <td>   -2.673</td> <td> 0.008</td> <td>-2141.542</td> <td> -325.541</td>\n",
       "</tr>\n",
       "<tr>\n",
       "  <th>Party</th>         <td> 4.083e+05</td> <td> 6.83e+04</td> <td>    5.979</td> <td> 0.000</td> <td> 2.74e+05</td> <td> 5.43e+05</td>\n",
       "</tr>\n",
       "<tr>\n",
       "  <th>DE</th>            <td> 3.114e+05</td> <td> 1.29e+05</td> <td>    2.414</td> <td> 0.016</td> <td> 5.76e+04</td> <td> 5.65e+05</td>\n",
       "</tr>\n",
       "</table>\n",
       "<table class=\"simpletable\">\n",
       "<tr>\n",
       "  <th>Omnibus:</th>       <td>271.053</td> <th>  Durbin-Watson:     </th> <td>   1.522</td>\n",
       "</tr>\n",
       "<tr>\n",
       "  <th>Prob(Omnibus):</th> <td> 0.000</td>  <th>  Jarque-Bera (JB):  </th> <td>5714.510</td>\n",
       "</tr>\n",
       "<tr>\n",
       "  <th>Skew:</th>          <td> 3.442</td>  <th>  Prob(JB):          </th> <td>    0.00</td>\n",
       "</tr>\n",
       "<tr>\n",
       "  <th>Kurtosis:</th>      <td>22.594</td>  <th>  Cond. No.          </th> <td>    574.</td>\n",
       "</tr>\n",
       "</table><br/><br/>Notes:<br/>[1] Standard Errors assume that the covariance matrix of the errors is correctly specified."
      ],
      "text/plain": [
       "<class 'statsmodels.iolib.summary.Summary'>\n",
       "\"\"\"\n",
       "                            OLS Regression Results                            \n",
       "==============================================================================\n",
       "Dep. Variable:            usd_pledged   R-squared:                       0.161\n",
       "Model:                            OLS   Adj. R-squared:                  0.150\n",
       "Method:                 Least Squares   F-statistic:                     15.01\n",
       "Date:                Wed, 13 Jul 2022   Prob (F-statistic):           3.10e-11\n",
       "Time:                        16:26:25   Log-Likelihood:                -4408.2\n",
       "No. Observations:                 318   AIC:                             8826.\n",
       "Df Residuals:                     313   BIC:                             8845.\n",
       "Df Model:                           4                                         \n",
       "Covariance Type:            nonrobust                                         \n",
       "=================================================================================\n",
       "                    coef    std err          t      P>|t|      [0.025      0.975]\n",
       "---------------------------------------------------------------------------------\n",
       "const         -9.225e+04   4.87e+04     -1.894      0.059   -1.88e+05    3603.816\n",
       "averageweight  1.134e+05   2.19e+04      5.168      0.000    7.02e+04    1.57e+05\n",
       "min_playtime  -1233.5413    461.483     -2.673      0.008   -2141.542    -325.541\n",
       "Party          4.083e+05   6.83e+04      5.979      0.000    2.74e+05    5.43e+05\n",
       "DE             3.114e+05   1.29e+05      2.414      0.016    5.76e+04    5.65e+05\n",
       "==============================================================================\n",
       "Omnibus:                      271.053   Durbin-Watson:                   1.522\n",
       "Prob(Omnibus):                  0.000   Jarque-Bera (JB):             5714.510\n",
       "Skew:                           3.442   Prob(JB):                         0.00\n",
       "Kurtosis:                      22.594   Cond. No.                         574.\n",
       "==============================================================================\n",
       "\n",
       "Notes:\n",
       "[1] Standard Errors assume that the covariance matrix of the errors is correctly specified.\n",
       "\"\"\""
      ]
     },
     "execution_count": 200,
     "metadata": {},
     "output_type": "execute_result"
    }
   ],
   "source": [
    "# create an OLS model\n",
    "our_model = sm.OLS(y, X)\n",
    "#our_model = sm.MANOVA(y, X)\n",
    "\n",
    "# use the data to calculate the intercept and slope\n",
    "model_results = our_model.fit()\n",
    "\n",
    "# return the output of the model\n",
    "model_results.summary() # summary contains eg. 'const' (intercept) and 'slope' of the regression equation."
   ]
  },
  {
   "cell_type": "code",
   "execution_count": 31,
   "metadata": {},
   "outputs": [
    {
     "data": {
      "text/plain": [
       "LinearRegression()"
      ]
     },
     "execution_count": 31,
     "metadata": {},
     "output_type": "execute_result"
    }
   ],
   "source": [
    "regr = linear_model.LinearRegression()\n",
    "regr.fit(X, y)"
   ]
  },
  {
   "cell_type": "code",
   "execution_count": 203,
   "metadata": {},
   "outputs": [
    {
     "name": "stderr",
     "output_type": "stream",
     "text": [
      "/opt/homebrew/Caskroom/miniconda/base/envs/nf_sql/lib/python3.9/site-packages/sklearn/base.py:450: UserWarning: X does not have valid feature names, but LinearRegression was fitted with feature names\n",
      "  warnings.warn(\n"
     ]
    },
    {
     "data": {
      "text/plain": [
       "<function ndarray.std>"
      ]
     },
     "execution_count": 203,
     "metadata": {},
     "output_type": "execute_result"
    }
   ],
   "source": [
    "# ['const', 'averageweight','usd_goal','min_playtime','Party', 'DE']\n",
    "predicted_pledged_amount = regr.predict([[1, 4, 50000, 20, 0, 0]])\n",
    "predicted_pledged_amount"
   ]
  }
 ],
 "metadata": {
  "kernelspec": {
   "display_name": "Python 3.9.12 ('nf_sql')",
   "language": "python",
   "name": "python3"
  },
  "language_info": {
   "codemirror_mode": {
    "name": "ipython",
    "version": 3
   },
   "file_extension": ".py",
   "mimetype": "text/x-python",
   "name": "python",
   "nbconvert_exporter": "python",
   "pygments_lexer": "ipython3",
   "version": "3.9.12"
  },
  "orig_nbformat": 4,
  "vscode": {
   "interpreter": {
    "hash": "a81d278bed5b5b59425dcb5a82ce505657686243c184b4a6b67e69d01c4d432e"
   }
  }
 },
 "nbformat": 4,
 "nbformat_minor": 2
}
