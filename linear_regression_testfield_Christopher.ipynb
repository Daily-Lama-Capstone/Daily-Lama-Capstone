{
 "cells": [
  {
   "cell_type": "code",
   "execution_count": 365,
   "metadata": {},
   "outputs": [],
   "source": [
    "from sql_functions import get_dataframe\n",
    "import pandas as pd\n",
    "import capstone_functions as cf\n",
    "import numpy as np\n",
    "import statsmodels.api as sm\n",
    "import statsmodels.formula.api as smf\n",
    "from scipy import stats\n",
    "from scipy import interpolate\n",
    "from sklearn import linear_model\n",
    "import seaborn as sns\n",
    "\n",
    "pd.options.mode.chained_assignment = None  # default='warn'"
   ]
  },
  {
   "cell_type": "markdown",
   "metadata": {},
   "source": [
    "# Variables"
   ]
  },
  {
   "cell_type": "code",
   "execution_count": 366,
   "metadata": {},
   "outputs": [],
   "source": [
    "# How many mechanics are in the top mechanics\n",
    "top_XX_mechanic = 25\n",
    "\n",
    "#schema and table names, we are using in this notebook\n",
    "schema = 'bgg_data'\n",
    "main = 'ml_boardgame_stats'\n",
    "subdomain = 'subdomain'\n",
    "unique_subdomain = 'unique_subdomain'\n",
    "kickstarter = 'kickstarter_unique_campaigns'\n",
    "slug = 'unique_slug_bgg_id'\n",
    "mechanic = 'mechanics'\n",
    "unique_mechanics = 'unique_mechanics'\n",
    "honor = 'honor_clean'"
   ]
  },
  {
   "cell_type": "markdown",
   "metadata": {},
   "source": [
    "## Create Dataframes for Kickstarter and Mechanic and build df for the top XX mechanics"
   ]
  },
  {
   "cell_type": "code",
   "execution_count": 367,
   "metadata": {},
   "outputs": [],
   "source": [
    "\n",
    "df_ks = get_dataframe(f\"SELECT * FROM {schema}.{kickstarter}\")\n",
    "df_slug = get_dataframe(f\"SELECT * FROM {schema}.{slug}\")\n",
    "df_mech = get_dataframe(f\"SELECT * FROM {schema}.{mechanic}\")\n",
    "df_u_mech = get_dataframe(f\"SELECT * FROM {schema}.{unique_mechanics}\")\n",
    "df_main = get_dataframe(f\"SELECT * FROM {schema}.{main}\")\n",
    "df_sub = get_dataframe(f\"SELECT * FROM {schema}.{subdomain}\")\n",
    "df_u_sub = get_dataframe(f\"SELECT * FROM {schema}.{unique_subdomain}\")\n",
    "\n",
    "#df_marketplace = cf.avg_price_from_marketplace()\n",
    "#df_honor = get_dataframe(f\"SELECT * FROM {schema}.{honor}\")"
   ]
  },
  {
   "cell_type": "markdown",
   "metadata": {},
   "source": [
    "Merge kickstarter table with bgg_ids and rename column bgg_id to id"
   ]
  },
  {
   "cell_type": "code",
   "execution_count": 368,
   "metadata": {},
   "outputs": [],
   "source": [
    "df_ks = pd.merge(df_slug,df_ks,on='slug')\n",
    "df_ks.rename({'bgg_id':'id'},axis=1,inplace=True)"
   ]
  },
  {
   "cell_type": "markdown",
   "metadata": {},
   "source": [
    "## Create a list with the top XX mechanics"
   ]
  },
  {
   "cell_type": "markdown",
   "metadata": {},
   "source": [
    "create dataframe with all mechanics and merge it with the kickstarter dataframe"
   ]
  },
  {
   "cell_type": "code",
   "execution_count": 369,
   "metadata": {},
   "outputs": [],
   "source": [
    "df_mech = pd.merge(df_mech,df_u_mech,on='mechanic_id')\n",
    "df_mech = pd.merge(df_ks,df_mech,on='id')"
   ]
  },
  {
   "cell_type": "code",
   "execution_count": 370,
   "metadata": {},
   "outputs": [],
   "source": [
    "top_mechanics_list = list(df_mech.groupby(['mechanic']).count().sort_values(ascending=False,axis=0,by='id').reset_index()[\"mechanic\"].head(top_XX_mechanic))"
   ]
  },
  {
   "cell_type": "markdown",
   "metadata": {},
   "source": [
    "#### Alternative for top XX mechanics calculation"
   ]
  },
  {
   "cell_type": "code",
   "execution_count": 371,
   "metadata": {},
   "outputs": [],
   "source": [
    "# top mechanics by bgg rating\n",
    "df_mech_02 = pd.merge(df_main,df_mech,on='id')"
   ]
  },
  {
   "cell_type": "code",
   "execution_count": 372,
   "metadata": {},
   "outputs": [],
   "source": [
    "top_rated_mechanics_list = list(df_mech_02.groupby('mechanic').mean('average').sort_values('average',ascending=False).reset_index().mechanic.head(top_XX_mechanic))"
   ]
  },
  {
   "cell_type": "markdown",
   "metadata": {},
   "source": [
    "### reduce the dataframe such that IDs are unique"
   ]
  },
  {
   "cell_type": "markdown",
   "metadata": {},
   "source": [
    "choose between two different ways of defining \"top mechanics\""
   ]
  },
  {
   "cell_type": "code",
   "execution_count": 373,
   "metadata": {},
   "outputs": [
    {
     "name": "stdout",
     "output_type": "stream",
     "text": [
      "['predictive bid', 'automatic resource growth', 'pattern movement', 'line of sight', 'increase value of unchosen resources', 'impulse movement', 'hidden movement', 'zone of control', 're-rolling and locking', 'cube tower', 'follow', 'programmed movement', 'worker placement, different worker types', 'investment', 'roles with asymmetric information', 'deck construction', 'command cards', 'worker placement with dice workers', 'flicking', 'movement template', 'scenario / mission / campaign game', 'three dimensional movement', 'measurement movement', 'income', 'bribery']\n"
     ]
    }
   ],
   "source": [
    "#mechanics_list = top_mechanics_list\n",
    "mechanics_list = top_rated_mechanics_list\n",
    "print(mechanics_list)\n",
    "\n",
    "df_mech[\"is_in_top_XX_mechanics\"] = df_mech[\"mechanic\"].isin(mechanics_list)\n",
    "df_mech = df_mech[['id','is_in_top_XX_mechanics']]\n",
    "df_mech = df_mech.groupby('id').sum().reset_index()"
   ]
  },
  {
   "cell_type": "markdown",
   "metadata": {},
   "source": [
    "Because there are multiple mechanics for one ID, it is possible that for the same ID there are some mechanics in the top and others are not.\n",
    "- create new column with True/False if ID is in top XX categories (XX will be set in the top code field: \"Variables\" -> \"top_XX_mechanic\")"
   ]
  },
  {
   "cell_type": "code",
   "execution_count": 374,
   "metadata": {},
   "outputs": [],
   "source": [
    "df_mech[f\"top_{top_XX_mechanic}_mechanic\"] = df_mech.is_in_top_XX_mechanics > 0"
   ]
  },
  {
   "cell_type": "code",
   "execution_count": 375,
   "metadata": {},
   "outputs": [],
   "source": [
    "df_mech = df_mech[['id',f\"top_{top_XX_mechanic}_mechanic\"]]"
   ]
  },
  {
   "cell_type": "markdown",
   "metadata": {},
   "source": [
    "- merge Kickstarter with subdomains => 1021 non-null"
   ]
  },
  {
   "cell_type": "code",
   "execution_count": 376,
   "metadata": {},
   "outputs": [],
   "source": [
    "df_sub = pd.merge(df_sub,df_u_sub,on=\"subdomain_id\")\n",
    "df_ks_sub = pd.merge(df_ks,df_sub,on='id')"
   ]
  },
  {
   "cell_type": "markdown",
   "metadata": {},
   "source": [
    "- merge Kickstarter_subdomains with main => ~330 entries"
   ]
  },
  {
   "cell_type": "code",
   "execution_count": 377,
   "metadata": {},
   "outputs": [],
   "source": [
    "df_ks_sub_main = pd.merge(df_ks_sub,df_main,on='id')"
   ]
  },
  {
   "cell_type": "markdown",
   "metadata": {},
   "source": [
    "- Build new columns with goal in USD"
   ]
  },
  {
   "cell_type": "code",
   "execution_count": 378,
   "metadata": {},
   "outputs": [],
   "source": [
    "df_ks_sub_main[\"usd_goal\"] = df_ks_sub_main['goal']*(df_ks_sub_main.pledged/df_ks_sub_main.usd_pledged)"
   ]
  },
  {
   "cell_type": "markdown",
   "metadata": {},
   "source": [
    "merge with mechanics dataframe => 326 non-null entries"
   ]
  },
  {
   "cell_type": "code",
   "execution_count": 379,
   "metadata": {},
   "outputs": [],
   "source": [
    "df_ks_sub_main_mech = pd.merge(df_ks_sub_main,df_mech,on='id')"
   ]
  },
  {
   "cell_type": "markdown",
   "metadata": {},
   "source": [
    "## Machine Learning\n",
    "- Extract only necessary columns for our ML and drop all null"
   ]
  },
  {
   "cell_type": "code",
   "execution_count": 380,
   "metadata": {},
   "outputs": [],
   "source": [
    "df_ML = df_ks_sub_main_mech[['country','usd_pledged','subdomain_name','min_players','max_players','min_playtime','max_playtime','min_age','averageweight','usd_goal',f\"top_{top_XX_mechanic}_mechanic\"]]\n",
    "df_ML.dropna(inplace=True);"
   ]
  },
  {
   "cell_type": "code",
   "execution_count": 381,
   "metadata": {},
   "outputs": [],
   "source": [
    "df_ML[f\"top_{top_XX_mechanic}_mechanic\"] = df_ML[f\"top_{top_XX_mechanic}_mechanic\"].astype(int)"
   ]
  },
  {
   "cell_type": "code",
   "execution_count": 382,
   "metadata": {},
   "outputs": [],
   "source": [
    "df_ML[\"min_playtime\"].fillna(df_ML[\"max_playtime\"].median(),inplace=True);\n",
    "df_ML[\"max_playtime\"].fillna(df_ML[\"max_playtime\"].median(),inplace=True);\n"
   ]
  },
  {
   "cell_type": "code",
   "execution_count": 383,
   "metadata": {},
   "outputs": [],
   "source": [
    "df_ML = df_ML[(np.abs(stats.zscore(df_ML['min_playtime'])) < 2.5)]\n",
    "df_ML = df_ML[(np.abs(stats.zscore(df_ML['max_playtime'])) < 3)]"
   ]
  },
  {
   "cell_type": "markdown",
   "metadata": {},
   "source": [
    "## Build dummies for subdomain and countries"
   ]
  },
  {
   "cell_type": "code",
   "execution_count": 384,
   "metadata": {},
   "outputs": [],
   "source": [
    "subdomain_dummy = pd.get_dummies(df_ML.subdomain_name.apply(pd.Series).stack(), drop_first=True).groupby(level=0).sum()\n",
    "subdomain_dummy.columns = subdomain_dummy.columns.str.strip()"
   ]
  },
  {
   "cell_type": "code",
   "execution_count": 385,
   "metadata": {},
   "outputs": [],
   "source": [
    "country_dummy = pd.get_dummies(df_ML.country.apply(pd.Series).stack(), drop_first=True).groupby(level=0).sum()\n",
    "country_dummy.columns = country_dummy.columns.str.strip()"
   ]
  },
  {
   "cell_type": "code",
   "execution_count": 386,
   "metadata": {},
   "outputs": [],
   "source": [
    "df = pd.concat([df_ML,subdomain_dummy], axis=1)\n",
    "df = df.drop([\"subdomain_name\"], axis=1)\n",
    "#df.columns"
   ]
  },
  {
   "cell_type": "code",
   "execution_count": 387,
   "metadata": {},
   "outputs": [],
   "source": [
    "df = pd.concat([df,country_dummy], axis=1)\n",
    "df = df.drop([\"country\"], axis=1)\n",
    "#df.columns"
   ]
  },
  {
   "cell_type": "code",
   "execution_count": 388,
   "metadata": {},
   "outputs": [],
   "source": [
    "X = df[['DE', 'GB', 'US',\n",
    "        \"Children's\", \"Customizable\", \"Family\", \"Party\", \"Strategy\", \"Thematic\", \"Wargames\", \n",
    "        \"min_players\", \"min_playtime\", \"min_age\", \"averageweight\", 'usd_goal',f\"top_{top_XX_mechanic}_mechanic\"]]"
   ]
  },
  {
   "cell_type": "code",
   "execution_count": 389,
   "metadata": {},
   "outputs": [],
   "source": [
    "y = df.usd_pledged"
   ]
  },
  {
   "cell_type": "markdown",
   "metadata": {},
   "source": [
    "#### Investigate the whole dataframe with all columns of interest"
   ]
  },
  {
   "cell_type": "code",
   "execution_count": 390,
   "metadata": {},
   "outputs": [
    {
     "data": {
      "text/html": [
       "<table class=\"simpletable\">\n",
       "<caption>OLS Regression Results</caption>\n",
       "<tr>\n",
       "  <th>Dep. Variable:</th>       <td>usd_pledged</td>   <th>  R-squared (uncentered):</th>      <td>   0.384</td>\n",
       "</tr>\n",
       "<tr>\n",
       "  <th>Model:</th>                   <td>OLS</td>       <th>  Adj. R-squared (uncentered):</th> <td>   0.351</td>\n",
       "</tr>\n",
       "<tr>\n",
       "  <th>Method:</th>             <td>Least Squares</td>  <th>  F-statistic:       </th>          <td>   11.66</td>\n",
       "</tr>\n",
       "<tr>\n",
       "  <th>Date:</th>             <td>Fri, 15 Jul 2022</td> <th>  Prob (F-statistic):</th>          <td>1.72e-23</td>\n",
       "</tr>\n",
       "<tr>\n",
       "  <th>Time:</th>                 <td>15:48:12</td>     <th>  Log-Likelihood:    </th>          <td> -4353.8</td>\n",
       "</tr>\n",
       "<tr>\n",
       "  <th>No. Observations:</th>      <td>   315</td>      <th>  AIC:               </th>          <td>   8740.</td>\n",
       "</tr>\n",
       "<tr>\n",
       "  <th>Df Residuals:</th>          <td>   299</td>      <th>  BIC:               </th>          <td>   8800.</td>\n",
       "</tr>\n",
       "<tr>\n",
       "  <th>Df Model:</th>              <td>    16</td>      <th>                     </th>              <td> </td>   \n",
       "</tr>\n",
       "<tr>\n",
       "  <th>Covariance Type:</th>      <td>nonrobust</td>    <th>                     </th>              <td> </td>   \n",
       "</tr>\n",
       "</table>\n",
       "<table class=\"simpletable\">\n",
       "<tr>\n",
       "         <td></td>            <th>coef</th>     <th>std err</th>      <th>t</th>      <th>P>|t|</th>  <th>[0.025</th>    <th>0.975]</th>  \n",
       "</tr>\n",
       "<tr>\n",
       "  <th>DE</th>              <td> 3.544e+05</td> <td> 1.33e+05</td> <td>    2.663</td> <td> 0.008</td> <td> 9.25e+04</td> <td> 6.16e+05</td>\n",
       "</tr>\n",
       "<tr>\n",
       "  <th>GB</th>              <td> 1326.1065</td> <td> 5.32e+04</td> <td>    0.025</td> <td> 0.980</td> <td>-1.03e+05</td> <td> 1.06e+05</td>\n",
       "</tr>\n",
       "<tr>\n",
       "  <th>US</th>              <td> 2.136e+04</td> <td> 3.63e+04</td> <td>    0.589</td> <td> 0.556</td> <td>   -5e+04</td> <td> 9.27e+04</td>\n",
       "</tr>\n",
       "<tr>\n",
       "  <th>Children's</th>      <td>-7.769e+04</td> <td> 1.03e+05</td> <td>   -0.753</td> <td> 0.452</td> <td>-2.81e+05</td> <td> 1.25e+05</td>\n",
       "</tr>\n",
       "<tr>\n",
       "  <th>Customizable</th>    <td>-8.066e+04</td> <td> 2.56e+05</td> <td>   -0.315</td> <td> 0.753</td> <td>-5.84e+05</td> <td> 4.23e+05</td>\n",
       "</tr>\n",
       "<tr>\n",
       "  <th>Family</th>          <td>  1.31e+04</td> <td> 5.15e+04</td> <td>    0.254</td> <td> 0.800</td> <td>-8.83e+04</td> <td> 1.14e+05</td>\n",
       "</tr>\n",
       "<tr>\n",
       "  <th>Party</th>           <td> 4.153e+05</td> <td>  8.2e+04</td> <td>    5.062</td> <td> 0.000</td> <td> 2.54e+05</td> <td> 5.77e+05</td>\n",
       "</tr>\n",
       "<tr>\n",
       "  <th>Strategy</th>        <td>-9862.6789</td> <td> 6.03e+04</td> <td>   -0.164</td> <td> 0.870</td> <td>-1.29e+05</td> <td> 1.09e+05</td>\n",
       "</tr>\n",
       "<tr>\n",
       "  <th>Thematic</th>        <td> 5.522e+04</td> <td> 6.27e+04</td> <td>    0.880</td> <td> 0.379</td> <td>-6.82e+04</td> <td> 1.79e+05</td>\n",
       "</tr>\n",
       "<tr>\n",
       "  <th>Wargames</th>        <td>-8.364e+04</td> <td> 5.98e+04</td> <td>   -1.399</td> <td> 0.163</td> <td>-2.01e+05</td> <td>  3.4e+04</td>\n",
       "</tr>\n",
       "<tr>\n",
       "  <th>min_players</th>     <td>-2.363e+04</td> <td> 1.93e+04</td> <td>   -1.222</td> <td> 0.223</td> <td>-6.17e+04</td> <td> 1.44e+04</td>\n",
       "</tr>\n",
       "<tr>\n",
       "  <th>min_playtime</th>    <td> -637.9149</td> <td>  500.461</td> <td>   -1.275</td> <td> 0.203</td> <td>-1622.787</td> <td>  346.958</td>\n",
       "</tr>\n",
       "<tr>\n",
       "  <th>min_age</th>         <td>-2720.3233</td> <td> 4684.762</td> <td>   -0.581</td> <td> 0.562</td> <td>-1.19e+04</td> <td> 6498.958</td>\n",
       "</tr>\n",
       "<tr>\n",
       "  <th>averageweight</th>   <td> 8.066e+04</td> <td> 2.37e+04</td> <td>    3.399</td> <td> 0.001</td> <td>  3.4e+04</td> <td> 1.27e+05</td>\n",
       "</tr>\n",
       "<tr>\n",
       "  <th>usd_goal</th>        <td>    0.1171</td> <td>    0.074</td> <td>    1.589</td> <td> 0.113</td> <td>   -0.028</td> <td>    0.262</td>\n",
       "</tr>\n",
       "<tr>\n",
       "  <th>top_25_mechanic</th> <td> 1.806e+05</td> <td> 4.87e+04</td> <td>    3.711</td> <td> 0.000</td> <td> 8.48e+04</td> <td> 2.76e+05</td>\n",
       "</tr>\n",
       "</table>\n",
       "<table class=\"simpletable\">\n",
       "<tr>\n",
       "  <th>Omnibus:</th>       <td>278.352</td> <th>  Durbin-Watson:     </th> <td>   1.547</td>\n",
       "</tr>\n",
       "<tr>\n",
       "  <th>Prob(Omnibus):</th> <td> 0.000</td>  <th>  Jarque-Bera (JB):  </th> <td>6807.499</td>\n",
       "</tr>\n",
       "<tr>\n",
       "  <th>Skew:</th>          <td> 3.564</td>  <th>  Prob(JB):          </th> <td>    0.00</td>\n",
       "</tr>\n",
       "<tr>\n",
       "  <th>Kurtosis:</th>      <td>24.630</td>  <th>  Cond. No.          </th> <td>3.77e+06</td>\n",
       "</tr>\n",
       "</table><br/><br/>Notes:<br/>[1] R² is computed without centering (uncentered) since the model does not contain a constant.<br/>[2] Standard Errors assume that the covariance matrix of the errors is correctly specified.<br/>[3] The condition number is large, 3.77e+06. This might indicate that there are<br/>strong multicollinearity or other numerical problems."
      ],
      "text/plain": [
       "<class 'statsmodels.iolib.summary.Summary'>\n",
       "\"\"\"\n",
       "                                 OLS Regression Results                                \n",
       "=======================================================================================\n",
       "Dep. Variable:            usd_pledged   R-squared (uncentered):                   0.384\n",
       "Model:                            OLS   Adj. R-squared (uncentered):              0.351\n",
       "Method:                 Least Squares   F-statistic:                              11.66\n",
       "Date:                Fri, 15 Jul 2022   Prob (F-statistic):                    1.72e-23\n",
       "Time:                        15:48:12   Log-Likelihood:                         -4353.8\n",
       "No. Observations:                 315   AIC:                                      8740.\n",
       "Df Residuals:                     299   BIC:                                      8800.\n",
       "Df Model:                          16                                                  \n",
       "Covariance Type:            nonrobust                                                  \n",
       "===================================================================================\n",
       "                      coef    std err          t      P>|t|      [0.025      0.975]\n",
       "-----------------------------------------------------------------------------------\n",
       "DE               3.544e+05   1.33e+05      2.663      0.008    9.25e+04    6.16e+05\n",
       "GB               1326.1065   5.32e+04      0.025      0.980   -1.03e+05    1.06e+05\n",
       "US               2.136e+04   3.63e+04      0.589      0.556      -5e+04    9.27e+04\n",
       "Children's      -7.769e+04   1.03e+05     -0.753      0.452   -2.81e+05    1.25e+05\n",
       "Customizable    -8.066e+04   2.56e+05     -0.315      0.753   -5.84e+05    4.23e+05\n",
       "Family            1.31e+04   5.15e+04      0.254      0.800   -8.83e+04    1.14e+05\n",
       "Party            4.153e+05    8.2e+04      5.062      0.000    2.54e+05    5.77e+05\n",
       "Strategy        -9862.6789   6.03e+04     -0.164      0.870   -1.29e+05    1.09e+05\n",
       "Thematic         5.522e+04   6.27e+04      0.880      0.379   -6.82e+04    1.79e+05\n",
       "Wargames        -8.364e+04   5.98e+04     -1.399      0.163   -2.01e+05     3.4e+04\n",
       "min_players     -2.363e+04   1.93e+04     -1.222      0.223   -6.17e+04    1.44e+04\n",
       "min_playtime     -637.9149    500.461     -1.275      0.203   -1622.787     346.958\n",
       "min_age         -2720.3233   4684.762     -0.581      0.562   -1.19e+04    6498.958\n",
       "averageweight    8.066e+04   2.37e+04      3.399      0.001     3.4e+04    1.27e+05\n",
       "usd_goal            0.1171      0.074      1.589      0.113      -0.028       0.262\n",
       "top_25_mechanic  1.806e+05   4.87e+04      3.711      0.000    8.48e+04    2.76e+05\n",
       "==============================================================================\n",
       "Omnibus:                      278.352   Durbin-Watson:                   1.547\n",
       "Prob(Omnibus):                  0.000   Jarque-Bera (JB):             6807.499\n",
       "Skew:                           3.564   Prob(JB):                         0.00\n",
       "Kurtosis:                      24.630   Cond. No.                     3.77e+06\n",
       "==============================================================================\n",
       "\n",
       "Notes:\n",
       "[1] R² is computed without centering (uncentered) since the model does not contain a constant.\n",
       "[2] Standard Errors assume that the covariance matrix of the errors is correctly specified.\n",
       "[3] The condition number is large, 3.77e+06. This might indicate that there are\n",
       "strong multicollinearity or other numerical problems.\n",
       "\"\"\""
      ]
     },
     "execution_count": 390,
     "metadata": {},
     "output_type": "execute_result"
    }
   ],
   "source": [
    "# create an OLS model\n",
    "our_model = sm.OLS(y, X)\n",
    "\n",
    "# use the data to calculate the intercept and slope\n",
    "model_results = our_model.fit()\n",
    "\n",
    "# return the output of the model\n",
    "model_results.summary() # summary contains eg. 'const' (intercept) and 'slope' of the regression equation."
   ]
  },
  {
   "cell_type": "markdown",
   "metadata": {},
   "source": [
    "## Pick the most significant input parameters"
   ]
  },
  {
   "cell_type": "code",
   "execution_count": 391,
   "metadata": {},
   "outputs": [],
   "source": [
    "params = ['averageweight', \n",
    "        'min_playtime', \n",
    "        'min_players', \n",
    "        'min_age', \n",
    "        f\"top_{top_XX_mechanic}_mechanic\", \n",
    "        'Party', \n",
    "        'Thematic', \n",
    "        \"Children's\", \n",
    "        'DE',\n",
    "        'usd_goal']"
   ]
  },
  {
   "cell_type": "markdown",
   "metadata": {},
   "source": [
    "# Für Jannik"
   ]
  },
  {
   "cell_type": "code",
   "execution_count": 392,
   "metadata": {},
   "outputs": [],
   "source": [
    "X = df[params]"
   ]
  },
  {
   "cell_type": "code",
   "execution_count": 393,
   "metadata": {},
   "outputs": [],
   "source": [
    "#X = sm.add_constant(X)\n",
    "#X.describe()"
   ]
  },
  {
   "cell_type": "code",
   "execution_count": 394,
   "metadata": {},
   "outputs": [
    {
     "data": {
      "text/html": [
       "<table class=\"simpletable\">\n",
       "<caption>OLS Regression Results</caption>\n",
       "<tr>\n",
       "  <th>Dep. Variable:</th>       <td>usd_pledged</td>   <th>  R-squared (uncentered):</th>      <td>   0.374</td>\n",
       "</tr>\n",
       "<tr>\n",
       "  <th>Model:</th>                   <td>OLS</td>       <th>  Adj. R-squared (uncentered):</th> <td>   0.353</td>\n",
       "</tr>\n",
       "<tr>\n",
       "  <th>Method:</th>             <td>Least Squares</td>  <th>  F-statistic:       </th>          <td>   18.19</td>\n",
       "</tr>\n",
       "<tr>\n",
       "  <th>Date:</th>             <td>Fri, 15 Jul 2022</td> <th>  Prob (F-statistic):</th>          <td>5.21e-26</td>\n",
       "</tr>\n",
       "<tr>\n",
       "  <th>Time:</th>                 <td>15:48:13</td>     <th>  Log-Likelihood:    </th>          <td> -4356.5</td>\n",
       "</tr>\n",
       "<tr>\n",
       "  <th>No. Observations:</th>      <td>   315</td>      <th>  AIC:               </th>          <td>   8733.</td>\n",
       "</tr>\n",
       "<tr>\n",
       "  <th>Df Residuals:</th>          <td>   305</td>      <th>  BIC:               </th>          <td>   8771.</td>\n",
       "</tr>\n",
       "<tr>\n",
       "  <th>Df Model:</th>              <td>    10</td>      <th>                     </th>              <td> </td>   \n",
       "</tr>\n",
       "<tr>\n",
       "  <th>Covariance Type:</th>      <td>nonrobust</td>    <th>                     </th>              <td> </td>   \n",
       "</tr>\n",
       "</table>\n",
       "<table class=\"simpletable\">\n",
       "<tr>\n",
       "         <td></td>            <th>coef</th>     <th>std err</th>      <th>t</th>      <th>P>|t|</th>  <th>[0.025</th>    <th>0.975]</th>  \n",
       "</tr>\n",
       "<tr>\n",
       "  <th>averageweight</th>   <td> 8.185e+04</td> <td> 2.16e+04</td> <td>    3.793</td> <td> 0.000</td> <td> 3.94e+04</td> <td> 1.24e+05</td>\n",
       "</tr>\n",
       "<tr>\n",
       "  <th>min_playtime</th>    <td>-1025.0151</td> <td>  456.851</td> <td>   -2.244</td> <td> 0.026</td> <td>-1923.993</td> <td> -126.037</td>\n",
       "</tr>\n",
       "<tr>\n",
       "  <th>min_players</th>     <td>-1.456e+04</td> <td> 1.77e+04</td> <td>   -0.823</td> <td> 0.411</td> <td>-4.93e+04</td> <td> 2.02e+04</td>\n",
       "</tr>\n",
       "<tr>\n",
       "  <th>min_age</th>         <td>-3303.7160</td> <td> 4369.513</td> <td>   -0.756</td> <td> 0.450</td> <td>-1.19e+04</td> <td> 5294.492</td>\n",
       "</tr>\n",
       "<tr>\n",
       "  <th>top_25_mechanic</th> <td> 1.667e+05</td> <td> 4.81e+04</td> <td>    3.469</td> <td> 0.001</td> <td> 7.22e+04</td> <td> 2.61e+05</td>\n",
       "</tr>\n",
       "<tr>\n",
       "  <th>Party</th>           <td> 4.207e+05</td> <td> 7.21e+04</td> <td>    5.836</td> <td> 0.000</td> <td> 2.79e+05</td> <td> 5.63e+05</td>\n",
       "</tr>\n",
       "<tr>\n",
       "  <th>Thematic</th>        <td> 8.116e+04</td> <td> 4.13e+04</td> <td>    1.965</td> <td> 0.050</td> <td> -127.306</td> <td> 1.62e+05</td>\n",
       "</tr>\n",
       "<tr>\n",
       "  <th>Children's</th>      <td>-7.205e+04</td> <td>  9.9e+04</td> <td>   -0.728</td> <td> 0.467</td> <td>-2.67e+05</td> <td> 1.23e+05</td>\n",
       "</tr>\n",
       "<tr>\n",
       "  <th>DE</th>              <td>   3.3e+05</td> <td> 1.29e+05</td> <td>    2.561</td> <td> 0.011</td> <td> 7.65e+04</td> <td> 5.83e+05</td>\n",
       "</tr>\n",
       "<tr>\n",
       "  <th>usd_goal</th>        <td>    0.1144</td> <td>    0.072</td> <td>    1.590</td> <td> 0.113</td> <td>   -0.027</td> <td>    0.256</td>\n",
       "</tr>\n",
       "</table>\n",
       "<table class=\"simpletable\">\n",
       "<tr>\n",
       "  <th>Omnibus:</th>       <td>275.707</td> <th>  Durbin-Watson:     </th> <td>   1.548</td>\n",
       "</tr>\n",
       "<tr>\n",
       "  <th>Prob(Omnibus):</th> <td> 0.000</td>  <th>  Jarque-Bera (JB):  </th> <td>6611.640</td>\n",
       "</tr>\n",
       "<tr>\n",
       "  <th>Skew:</th>          <td> 3.519</td>  <th>  Prob(JB):          </th> <td>    0.00</td>\n",
       "</tr>\n",
       "<tr>\n",
       "  <th>Kurtosis:</th>      <td>24.312</td>  <th>  Cond. No.          </th> <td>1.94e+06</td>\n",
       "</tr>\n",
       "</table><br/><br/>Notes:<br/>[1] R² is computed without centering (uncentered) since the model does not contain a constant.<br/>[2] Standard Errors assume that the covariance matrix of the errors is correctly specified.<br/>[3] The condition number is large, 1.94e+06. This might indicate that there are<br/>strong multicollinearity or other numerical problems."
      ],
      "text/plain": [
       "<class 'statsmodels.iolib.summary.Summary'>\n",
       "\"\"\"\n",
       "                                 OLS Regression Results                                \n",
       "=======================================================================================\n",
       "Dep. Variable:            usd_pledged   R-squared (uncentered):                   0.374\n",
       "Model:                            OLS   Adj. R-squared (uncentered):              0.353\n",
       "Method:                 Least Squares   F-statistic:                              18.19\n",
       "Date:                Fri, 15 Jul 2022   Prob (F-statistic):                    5.21e-26\n",
       "Time:                        15:48:13   Log-Likelihood:                         -4356.5\n",
       "No. Observations:                 315   AIC:                                      8733.\n",
       "Df Residuals:                     305   BIC:                                      8771.\n",
       "Df Model:                          10                                                  \n",
       "Covariance Type:            nonrobust                                                  \n",
       "===================================================================================\n",
       "                      coef    std err          t      P>|t|      [0.025      0.975]\n",
       "-----------------------------------------------------------------------------------\n",
       "averageweight    8.185e+04   2.16e+04      3.793      0.000    3.94e+04    1.24e+05\n",
       "min_playtime    -1025.0151    456.851     -2.244      0.026   -1923.993    -126.037\n",
       "min_players     -1.456e+04   1.77e+04     -0.823      0.411   -4.93e+04    2.02e+04\n",
       "min_age         -3303.7160   4369.513     -0.756      0.450   -1.19e+04    5294.492\n",
       "top_25_mechanic  1.667e+05   4.81e+04      3.469      0.001    7.22e+04    2.61e+05\n",
       "Party            4.207e+05   7.21e+04      5.836      0.000    2.79e+05    5.63e+05\n",
       "Thematic         8.116e+04   4.13e+04      1.965      0.050    -127.306    1.62e+05\n",
       "Children's      -7.205e+04    9.9e+04     -0.728      0.467   -2.67e+05    1.23e+05\n",
       "DE                 3.3e+05   1.29e+05      2.561      0.011    7.65e+04    5.83e+05\n",
       "usd_goal            0.1144      0.072      1.590      0.113      -0.027       0.256\n",
       "==============================================================================\n",
       "Omnibus:                      275.707   Durbin-Watson:                   1.548\n",
       "Prob(Omnibus):                  0.000   Jarque-Bera (JB):             6611.640\n",
       "Skew:                           3.519   Prob(JB):                         0.00\n",
       "Kurtosis:                      24.312   Cond. No.                     1.94e+06\n",
       "==============================================================================\n",
       "\n",
       "Notes:\n",
       "[1] R² is computed without centering (uncentered) since the model does not contain a constant.\n",
       "[2] Standard Errors assume that the covariance matrix of the errors is correctly specified.\n",
       "[3] The condition number is large, 1.94e+06. This might indicate that there are\n",
       "strong multicollinearity or other numerical problems.\n",
       "\"\"\""
      ]
     },
     "execution_count": 394,
     "metadata": {},
     "output_type": "execute_result"
    }
   ],
   "source": [
    "# create an OLS model\n",
    "our_model = sm.OLS(y, X)\n",
    "\n",
    "# use the data to calculate the intercept and slope\n",
    "model_results = our_model.fit()\n",
    "\n",
    "# return the output of the model\n",
    "model_results.summary()"
   ]
  },
  {
   "cell_type": "code",
   "execution_count": 395,
   "metadata": {},
   "outputs": [
    {
     "data": {
      "text/plain": [
       "LinearRegression()"
      ]
     },
     "execution_count": 395,
     "metadata": {},
     "output_type": "execute_result"
    }
   ],
   "source": [
    "regr = linear_model.LinearRegression()\n",
    "regr.fit(X, y)"
   ]
  },
  {
   "cell_type": "code",
   "execution_count": 396,
   "metadata": {},
   "outputs": [
    {
     "data": {
      "text/plain": [
       "['averageweight',\n",
       " 'min_playtime',\n",
       " 'min_players',\n",
       " 'min_age',\n",
       " 'top_25_mechanic',\n",
       " 'Party',\n",
       " 'Thematic',\n",
       " \"Children's\",\n",
       " 'DE',\n",
       " 'usd_goal']"
      ]
     },
     "execution_count": 396,
     "metadata": {},
     "output_type": "execute_result"
    }
   ],
   "source": [
    "params"
   ]
  },
  {
   "cell_type": "code",
   "execution_count": 397,
   "metadata": {},
   "outputs": [
    {
     "name": "stderr",
     "output_type": "stream",
     "text": [
      "/opt/homebrew/Caskroom/miniconda/base/envs/nf_sql/lib/python3.9/site-packages/sklearn/base.py:450: UserWarning: X does not have valid feature names, but LinearRegression was fitted with feature names\n",
      "  warnings.warn(\n"
     ]
    },
    {
     "data": {
      "text/plain": [
       "array([944635.73480226])"
      ]
     },
     "execution_count": 397,
     "metadata": {},
     "output_type": "execute_result"
    }
   ],
   "source": [
    "test_params = [1,20,2,8,1,1,1,1,1,100000]\n",
    "predicted_pledged_amount = regr.predict([test_params])\n",
    "predicted_pledged_amount"
   ]
  },
  {
   "cell_type": "markdown",
   "metadata": {},
   "source": [
    "# Test - For upcoming games"
   ]
  },
  {
   "cell_type": "code",
   "execution_count": 398,
   "metadata": {},
   "outputs": [],
   "source": [
    "main = 'unfiltered_main_stats_cleaned'\n",
    "family_query = f\"SELECT * FROM {schema}.family_bgg;\""
   ]
  },
  {
   "cell_type": "code",
   "execution_count": 399,
   "metadata": {},
   "outputs": [],
   "source": [
    "df_main = get_dataframe(f\"SELECT * FROM {schema}.{main}\")\n",
    "df_family = get_dataframe(family_query)"
   ]
  },
  {
   "cell_type": "code",
   "execution_count": 400,
   "metadata": {},
   "outputs": [],
   "source": [
    "df_upcoming = pd.merge(df_main,df_family,on='id')"
   ]
  },
  {
   "cell_type": "code",
   "execution_count": 362,
   "metadata": {},
   "outputs": [],
   "source": [
    "all_upcoming_games = df_upcoming.query(\"family_type == 'admin' and family_value == 'upcoming releases'\")"
   ]
  },
  {
   "cell_type": "code",
   "execution_count": 115,
   "metadata": {},
   "outputs": [],
   "source": [
    "all_upcoming_games.drop([\"yearpublished\", 'trading', 'numcomments','family_type', 'family_value',\n",
    "       'family_id','average', 'user_rated'],axis=1,inplace=True)"
   ]
  },
  {
   "cell_type": "code",
   "execution_count": 116,
   "metadata": {},
   "outputs": [
    {
     "data": {
      "text/plain": [
       "id               5499\n",
       "min_players         8\n",
       "max_players        29\n",
       "playtime           84\n",
       "min_playtime       43\n",
       "max_playtime       84\n",
       "min_age            22\n",
       "num_owned         399\n",
       "wanting           106\n",
       "wishing           346\n",
       "numweights         32\n",
       "averageweight      87\n",
       "kickstarter         2\n",
       "dtype: int64"
      ]
     },
     "execution_count": 116,
     "metadata": {},
     "output_type": "execute_result"
    }
   ],
   "source": [
    "all_upcoming_games.nunique()"
   ]
  },
  {
   "cell_type": "code",
   "execution_count": 117,
   "metadata": {},
   "outputs": [],
   "source": [
    "all_upcoming_games.dropna(inplace=True)"
   ]
  },
  {
   "cell_type": "code",
   "execution_count": 118,
   "metadata": {},
   "outputs": [
    {
     "data": {
      "text/html": [
       "<div>\n",
       "<style scoped>\n",
       "    .dataframe tbody tr th:only-of-type {\n",
       "        vertical-align: middle;\n",
       "    }\n",
       "\n",
       "    .dataframe tbody tr th {\n",
       "        vertical-align: top;\n",
       "    }\n",
       "\n",
       "    .dataframe thead th {\n",
       "        text-align: right;\n",
       "    }\n",
       "</style>\n",
       "<table border=\"1\" class=\"dataframe\">\n",
       "  <thead>\n",
       "    <tr style=\"text-align: right;\">\n",
       "      <th></th>\n",
       "      <th>id</th>\n",
       "      <th>min_players</th>\n",
       "      <th>max_players</th>\n",
       "      <th>playtime</th>\n",
       "      <th>min_playtime</th>\n",
       "      <th>max_playtime</th>\n",
       "      <th>min_age</th>\n",
       "      <th>num_owned</th>\n",
       "      <th>wanting</th>\n",
       "      <th>wishing</th>\n",
       "      <th>numweights</th>\n",
       "      <th>averageweight</th>\n",
       "      <th>kickstarter</th>\n",
       "    </tr>\n",
       "  </thead>\n",
       "  <tbody>\n",
       "    <tr>\n",
       "      <th>281</th>\n",
       "      <td>344240</td>\n",
       "      <td>3.0</td>\n",
       "      <td>5.0</td>\n",
       "      <td>45.0</td>\n",
       "      <td>20.0</td>\n",
       "      <td>45.0</td>\n",
       "      <td>9</td>\n",
       "      <td>18</td>\n",
       "      <td>0</td>\n",
       "      <td>1</td>\n",
       "      <td>1</td>\n",
       "      <td>1.0</td>\n",
       "      <td>True</td>\n",
       "    </tr>\n",
       "    <tr>\n",
       "      <th>314</th>\n",
       "      <td>344268</td>\n",
       "      <td>2.0</td>\n",
       "      <td>4.0</td>\n",
       "      <td>40.0</td>\n",
       "      <td>20.0</td>\n",
       "      <td>40.0</td>\n",
       "      <td>9</td>\n",
       "      <td>7</td>\n",
       "      <td>8</td>\n",
       "      <td>31</td>\n",
       "      <td>2</td>\n",
       "      <td>2.0</td>\n",
       "      <td>True</td>\n",
       "    </tr>\n",
       "  </tbody>\n",
       "</table>\n",
       "</div>"
      ],
      "text/plain": [
       "         id  min_players  max_players  playtime  min_playtime  max_playtime  \\\n",
       "281  344240          3.0          5.0      45.0          20.0          45.0   \n",
       "314  344268          2.0          4.0      40.0          20.0          40.0   \n",
       "\n",
       "     min_age  num_owned  wanting  wishing  numweights  averageweight  \\\n",
       "281        9         18        0        1           1            1.0   \n",
       "314        9          7        8       31           2            2.0   \n",
       "\n",
       "     kickstarter  \n",
       "281         True  \n",
       "314         True  "
      ]
     },
     "execution_count": 118,
     "metadata": {},
     "output_type": "execute_result"
    }
   ],
   "source": [
    "all_upcoming_games.head(2)"
   ]
  },
  {
   "cell_type": "code",
   "execution_count": 119,
   "metadata": {},
   "outputs": [],
   "source": [
    "all_upcoming_games.min_players = all_upcoming_games.min_players.astype(int)\n",
    "all_upcoming_games.max_players = all_upcoming_games.max_players.astype(int)\n",
    "all_upcoming_games.min_playtime = all_upcoming_games.min_playtime.astype(int)\n",
    "all_upcoming_games.max_playtime = all_upcoming_games.max_playtime.astype(int)"
   ]
  },
  {
   "cell_type": "code",
   "execution_count": 120,
   "metadata": {},
   "outputs": [],
   "source": [
    "all_upcoming_games.drop_duplicates(inplace=True)\n",
    "all_upcoming_games.dropna(inplace=True)"
   ]
  },
  {
   "cell_type": "code",
   "execution_count": 123,
   "metadata": {},
   "outputs": [],
   "source": [
    "test = pd.merge(all_upcoming_games,df_mech,on='id')"
   ]
  },
  {
   "cell_type": "code",
   "execution_count": 124,
   "metadata": {},
   "outputs": [
    {
     "data": {
      "text/html": [
       "<div>\n",
       "<style scoped>\n",
       "    .dataframe tbody tr th:only-of-type {\n",
       "        vertical-align: middle;\n",
       "    }\n",
       "\n",
       "    .dataframe tbody tr th {\n",
       "        vertical-align: top;\n",
       "    }\n",
       "\n",
       "    .dataframe thead th {\n",
       "        text-align: right;\n",
       "    }\n",
       "</style>\n",
       "<table border=\"1\" class=\"dataframe\">\n",
       "  <thead>\n",
       "    <tr style=\"text-align: right;\">\n",
       "      <th></th>\n",
       "      <th>id</th>\n",
       "      <th>min_players</th>\n",
       "      <th>max_players</th>\n",
       "      <th>playtime</th>\n",
       "      <th>min_playtime</th>\n",
       "      <th>max_playtime</th>\n",
       "      <th>min_age</th>\n",
       "      <th>num_owned</th>\n",
       "      <th>wanting</th>\n",
       "      <th>wishing</th>\n",
       "      <th>numweights</th>\n",
       "      <th>averageweight</th>\n",
       "      <th>kickstarter</th>\n",
       "      <th>mechanic_id</th>\n",
       "      <th>mechanic</th>\n",
       "    </tr>\n",
       "  </thead>\n",
       "  <tbody>\n",
       "    <tr>\n",
       "      <th>0</th>\n",
       "      <td>344240</td>\n",
       "      <td>3</td>\n",
       "      <td>5</td>\n",
       "      <td>45.0</td>\n",
       "      <td>20</td>\n",
       "      <td>45</td>\n",
       "      <td>9</td>\n",
       "      <td>18</td>\n",
       "      <td>0</td>\n",
       "      <td>1</td>\n",
       "      <td>1</td>\n",
       "      <td>1.0</td>\n",
       "      <td>True</td>\n",
       "      <td>2041</td>\n",
       "      <td>open drafting</td>\n",
       "    </tr>\n",
       "    <tr>\n",
       "      <th>1</th>\n",
       "      <td>344240</td>\n",
       "      <td>3</td>\n",
       "      <td>5</td>\n",
       "      <td>45.0</td>\n",
       "      <td>20</td>\n",
       "      <td>45</td>\n",
       "      <td>9</td>\n",
       "      <td>18</td>\n",
       "      <td>0</td>\n",
       "      <td>1</td>\n",
       "      <td>1</td>\n",
       "      <td>1.0</td>\n",
       "      <td>True</td>\n",
       "      <td>2020</td>\n",
       "      <td>simultaneous action selection</td>\n",
       "    </tr>\n",
       "    <tr>\n",
       "      <th>2</th>\n",
       "      <td>344240</td>\n",
       "      <td>3</td>\n",
       "      <td>5</td>\n",
       "      <td>45.0</td>\n",
       "      <td>20</td>\n",
       "      <td>45</td>\n",
       "      <td>9</td>\n",
       "      <td>18</td>\n",
       "      <td>0</td>\n",
       "      <td>1</td>\n",
       "      <td>1</td>\n",
       "      <td>1.0</td>\n",
       "      <td>True</td>\n",
       "      <td>2685</td>\n",
       "      <td>player elimination</td>\n",
       "    </tr>\n",
       "    <tr>\n",
       "      <th>3</th>\n",
       "      <td>344240</td>\n",
       "      <td>3</td>\n",
       "      <td>5</td>\n",
       "      <td>45.0</td>\n",
       "      <td>20</td>\n",
       "      <td>45</td>\n",
       "      <td>9</td>\n",
       "      <td>18</td>\n",
       "      <td>0</td>\n",
       "      <td>1</td>\n",
       "      <td>1</td>\n",
       "      <td>1.0</td>\n",
       "      <td>True</td>\n",
       "      <td>2003</td>\n",
       "      <td>rock-paper-scissors</td>\n",
       "    </tr>\n",
       "    <tr>\n",
       "      <th>4</th>\n",
       "      <td>344240</td>\n",
       "      <td>3</td>\n",
       "      <td>5</td>\n",
       "      <td>45.0</td>\n",
       "      <td>20</td>\n",
       "      <td>45</td>\n",
       "      <td>9</td>\n",
       "      <td>18</td>\n",
       "      <td>0</td>\n",
       "      <td>1</td>\n",
       "      <td>1</td>\n",
       "      <td>1.0</td>\n",
       "      <td>True</td>\n",
       "      <td>2686</td>\n",
       "      <td>take that</td>\n",
       "    </tr>\n",
       "    <tr>\n",
       "      <th>...</th>\n",
       "      <td>...</td>\n",
       "      <td>...</td>\n",
       "      <td>...</td>\n",
       "      <td>...</td>\n",
       "      <td>...</td>\n",
       "      <td>...</td>\n",
       "      <td>...</td>\n",
       "      <td>...</td>\n",
       "      <td>...</td>\n",
       "      <td>...</td>\n",
       "      <td>...</td>\n",
       "      <td>...</td>\n",
       "      <td>...</td>\n",
       "      <td>...</td>\n",
       "      <td>...</td>\n",
       "    </tr>\n",
       "    <tr>\n",
       "      <th>6009</th>\n",
       "      <td>298086</td>\n",
       "      <td>1</td>\n",
       "      <td>6</td>\n",
       "      <td>120.0</td>\n",
       "      <td>45</td>\n",
       "      <td>120</td>\n",
       "      <td>10</td>\n",
       "      <td>11</td>\n",
       "      <td>5</td>\n",
       "      <td>57</td>\n",
       "      <td>2</td>\n",
       "      <td>2.5</td>\n",
       "      <td>True</td>\n",
       "      <td>2676</td>\n",
       "      <td>grid movement</td>\n",
       "    </tr>\n",
       "    <tr>\n",
       "      <th>6010</th>\n",
       "      <td>298086</td>\n",
       "      <td>1</td>\n",
       "      <td>6</td>\n",
       "      <td>120.0</td>\n",
       "      <td>45</td>\n",
       "      <td>120</td>\n",
       "      <td>10</td>\n",
       "      <td>11</td>\n",
       "      <td>5</td>\n",
       "      <td>57</td>\n",
       "      <td>2</td>\n",
       "      <td>2.5</td>\n",
       "      <td>True</td>\n",
       "      <td>2876</td>\n",
       "      <td>race</td>\n",
       "    </tr>\n",
       "    <tr>\n",
       "      <th>6011</th>\n",
       "      <td>298086</td>\n",
       "      <td>1</td>\n",
       "      <td>6</td>\n",
       "      <td>120.0</td>\n",
       "      <td>45</td>\n",
       "      <td>120</td>\n",
       "      <td>10</td>\n",
       "      <td>11</td>\n",
       "      <td>5</td>\n",
       "      <td>57</td>\n",
       "      <td>2</td>\n",
       "      <td>2.5</td>\n",
       "      <td>True</td>\n",
       "      <td>2897</td>\n",
       "      <td>variable set-up</td>\n",
       "    </tr>\n",
       "    <tr>\n",
       "      <th>6012</th>\n",
       "      <td>298086</td>\n",
       "      <td>1</td>\n",
       "      <td>6</td>\n",
       "      <td>120.0</td>\n",
       "      <td>45</td>\n",
       "      <td>120</td>\n",
       "      <td>10</td>\n",
       "      <td>11</td>\n",
       "      <td>5</td>\n",
       "      <td>57</td>\n",
       "      <td>2</td>\n",
       "      <td>2.5</td>\n",
       "      <td>True</td>\n",
       "      <td>2875</td>\n",
       "      <td>end game bonuses</td>\n",
       "    </tr>\n",
       "    <tr>\n",
       "      <th>6013</th>\n",
       "      <td>298086</td>\n",
       "      <td>1</td>\n",
       "      <td>6</td>\n",
       "      <td>120.0</td>\n",
       "      <td>45</td>\n",
       "      <td>120</td>\n",
       "      <td>10</td>\n",
       "      <td>11</td>\n",
       "      <td>5</td>\n",
       "      <td>57</td>\n",
       "      <td>2</td>\n",
       "      <td>2.5</td>\n",
       "      <td>True</td>\n",
       "      <td>2947</td>\n",
       "      <td>movement points</td>\n",
       "    </tr>\n",
       "  </tbody>\n",
       "</table>\n",
       "<p>6014 rows × 15 columns</p>\n",
       "</div>"
      ],
      "text/plain": [
       "          id  min_players  max_players  playtime  min_playtime  max_playtime  \\\n",
       "0     344240            3            5      45.0            20            45   \n",
       "1     344240            3            5      45.0            20            45   \n",
       "2     344240            3            5      45.0            20            45   \n",
       "3     344240            3            5      45.0            20            45   \n",
       "4     344240            3            5      45.0            20            45   \n",
       "...      ...          ...          ...       ...           ...           ...   \n",
       "6009  298086            1            6     120.0            45           120   \n",
       "6010  298086            1            6     120.0            45           120   \n",
       "6011  298086            1            6     120.0            45           120   \n",
       "6012  298086            1            6     120.0            45           120   \n",
       "6013  298086            1            6     120.0            45           120   \n",
       "\n",
       "      min_age  num_owned  wanting  wishing  numweights  averageweight  \\\n",
       "0           9         18        0        1           1            1.0   \n",
       "1           9         18        0        1           1            1.0   \n",
       "2           9         18        0        1           1            1.0   \n",
       "3           9         18        0        1           1            1.0   \n",
       "4           9         18        0        1           1            1.0   \n",
       "...       ...        ...      ...      ...         ...            ...   \n",
       "6009       10         11        5       57           2            2.5   \n",
       "6010       10         11        5       57           2            2.5   \n",
       "6011       10         11        5       57           2            2.5   \n",
       "6012       10         11        5       57           2            2.5   \n",
       "6013       10         11        5       57           2            2.5   \n",
       "\n",
       "      kickstarter  mechanic_id                       mechanic  \n",
       "0            True         2041                  open drafting  \n",
       "1            True         2020  simultaneous action selection  \n",
       "2            True         2685             player elimination  \n",
       "3            True         2003            rock-paper-scissors  \n",
       "4            True         2686                      take that  \n",
       "...           ...          ...                            ...  \n",
       "6009         True         2676                  grid movement  \n",
       "6010         True         2876                           race  \n",
       "6011         True         2897                variable set-up  \n",
       "6012         True         2875               end game bonuses  \n",
       "6013         True         2947                movement points  \n",
       "\n",
       "[6014 rows x 15 columns]"
      ]
     },
     "execution_count": 124,
     "metadata": {},
     "output_type": "execute_result"
    }
   ],
   "source": [
    "test"
   ]
  }
 ],
 "metadata": {
  "kernelspec": {
   "display_name": "Python 3.9.12 ('nf_sql')",
   "language": "python",
   "name": "python3"
  },
  "language_info": {
   "codemirror_mode": {
    "name": "ipython",
    "version": 3
   },
   "file_extension": ".py",
   "mimetype": "text/x-python",
   "name": "python",
   "nbconvert_exporter": "python",
   "pygments_lexer": "ipython3",
   "version": "3.9.12"
  },
  "orig_nbformat": 4,
  "vscode": {
   "interpreter": {
    "hash": "a81d278bed5b5b59425dcb5a82ce505657686243c184b4a6b67e69d01c4d432e"
   }
  }
 },
 "nbformat": 4,
 "nbformat_minor": 2
}
