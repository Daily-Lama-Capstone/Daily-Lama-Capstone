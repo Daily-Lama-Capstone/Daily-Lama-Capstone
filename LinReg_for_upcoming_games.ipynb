{
 "cells": [
  {
   "cell_type": "code",
   "execution_count": 46,
   "metadata": {},
   "outputs": [],
   "source": [
    "from sql_functions import get_dataframe\n",
    "import pandas as pd\n",
    "import capstone_functions as cf\n",
    "import numpy as np\n",
    "import statsmodels.api as sm\n",
    "import statsmodels.formula.api as smf\n",
    "from scipy import stats\n",
    "from scipy import interpolate\n",
    "from sklearn import linear_model\n",
    "import seaborn as sns\n",
    "\n",
    "pd.options.mode.chained_assignment = None  # default='warn'\n",
    "\n",
    "############################\n",
    "# VARIBALES\n",
    "############################\n",
    "# How many mechanics are in the top mechanics\n",
    "top_XX_mechanic = 25\n",
    "\n",
    "#schema and table names\n",
    "schema = 'bgg_data'\n",
    "\n",
    "table_main = 'unfiltered_main_stats_cleaned'\n",
    "table_subdomain = 'subdomain'\n",
    "table_unique_subdomain = 'unique_subdomain'\n",
    "table_kickstarter = 'kickstarter_unique_campaigns'\n",
    "table_slug = 'unique_slug_bgg_id'\n",
    "table_mechanic = 'mechanics'\n",
    "table_unique_mechanics = 'unique_mechanics'\n",
    "table_family = 'family_bgg'"
   ]
  },
  {
   "cell_type": "markdown",
   "metadata": {},
   "source": [
    "### Build base dataframes"
   ]
  },
  {
   "cell_type": "code",
   "execution_count": 47,
   "metadata": {},
   "outputs": [],
   "source": [
    "df_main = get_dataframe(f\"SELECT * FROM {schema}.{table_main}\")\n",
    "df_family = get_dataframe(f\"SELECT * FROM {schema}.{table_family};\")\n",
    "df_mech = get_dataframe(f\"SELECT * FROM {schema}.{table_mechanic}\")\n",
    "df_u_mech = get_dataframe(f\"SELECT * FROM {schema}.{table_unique_mechanics}\")\n",
    "df_mech = pd.merge(df_mech,df_u_mech,on='mechanic_id')"
   ]
  },
  {
   "cell_type": "markdown",
   "metadata": {},
   "source": [
    "### CREATE Dataframe for upcoming games"
   ]
  },
  {
   "cell_type": "code",
   "execution_count": 48,
   "metadata": {},
   "outputs": [],
   "source": [
    "df_main_family = pd.merge(df_main,df_family,on='id')\n",
    "df_upcoming_games = df_main_family.query(\"family_type == 'admin' and family_value == 'upcoming releases'\")\n",
    "df_upcoming_games.drop([\"yearpublished\", 'trading', 'numcomments','family_type', 'family_value',\n",
    "       'family_id','average', 'user_rated'],axis=1,inplace=True)"
   ]
  },
  {
   "cell_type": "markdown",
   "metadata": {},
   "source": [
    "### CREATE Dataframe for mechanics and list for top mechanics"
   ]
  },
  {
   "cell_type": "code",
   "execution_count": 49,
   "metadata": {},
   "outputs": [],
   "source": [
    "df_temp = pd.merge(df_main,df_mech,on='id')\n",
    "top_rated_mechanics_list = list(df_temp.groupby('mechanic').mean('average').sort_values('average',ascending=False).reset_index().mechanic.head(top_XX_mechanic))\n",
    "\n",
    "df_mech[\"is_in_top_XX_mechanics\"] = df_mech[\"mechanic\"].isin(top_rated_mechanics_list)\n",
    "df_mech = df_mech[['id','is_in_top_XX_mechanics']]\n",
    "df_mech = df_mech.groupby('id').sum().reset_index()\n",
    "df_mech[f\"top_{top_XX_mechanic}_mechanic\"] = df_mech.is_in_top_XX_mechanics > 0\n",
    "df_mech = df_mech[['id',f\"top_{top_XX_mechanic}_mechanic\"]]"
   ]
  },
  {
   "cell_type": "markdown",
   "metadata": {},
   "source": [
    "### MERGE upcoming_games and mech"
   ]
  },
  {
   "cell_type": "code",
   "execution_count": 50,
   "metadata": {},
   "outputs": [],
   "source": [
    "df_upcoming_games_mech = pd.merge(df_upcoming_games,df_mech, on='id')"
   ]
  },
  {
   "cell_type": "markdown",
   "metadata": {},
   "source": [
    "### Filter for only upcoming games on kickstarter"
   ]
  },
  {
   "cell_type": "code",
   "execution_count": 51,
   "metadata": {},
   "outputs": [],
   "source": [
    "df_upcoming_games_mech_only_ks_and_topXX = df_upcoming_games_mech.loc[df_upcoming_games_mech.kickstarter,:]"
   ]
  },
  {
   "cell_type": "code",
   "execution_count": 57,
   "metadata": {},
   "outputs": [],
   "source": [
    "df_upcoming_games_mech_only_ks_and_topXX.dropna(inplace=True)\n",
    "df_upcoming = df_upcoming_games_mech_only_ks_and_topXX.sort_values('wishing',ascending=False)\n",
    "df_upcoming.drop(['id','playtime','kickstarter'],axis=1,inplace=True)\n",
    "df_upcoming.top_25_mechanic = df_upcoming.top_25_mechanic.astype(int)"
   ]
  },
  {
   "cell_type": "markdown",
   "metadata": {},
   "source": [
    "### CREATE dataframe for recent games"
   ]
  },
  {
   "cell_type": "code",
   "execution_count": 59,
   "metadata": {},
   "outputs": [],
   "source": [
    "df_main_family = pd.merge(df_main,df_family,on='id')\n",
    "df_existing_games = df_main_family.query(\"family_value != 'upcoming releases'\")\n",
    "df_existing_games.drop([\"yearpublished\", 'trading', 'numcomments','family_type', 'family_value',\n",
    "       'family_id','average', 'user_rated'],axis=1,inplace=True)"
   ]
  }
 ],
 "metadata": {
  "kernelspec": {
   "display_name": "Python 3.9.12 ('nf_sql')",
   "language": "python",
   "name": "python3"
  },
  "language_info": {
   "codemirror_mode": {
    "name": "ipython",
    "version": 3
   },
   "file_extension": ".py",
   "mimetype": "text/x-python",
   "name": "python",
   "nbconvert_exporter": "python",
   "pygments_lexer": "ipython3",
   "version": "3.9.12"
  },
  "orig_nbformat": 4,
  "vscode": {
   "interpreter": {
    "hash": "a81d278bed5b5b59425dcb5a82ce505657686243c184b4a6b67e69d01c4d432e"
   }
  }
 },
 "nbformat": 4,
 "nbformat_minor": 2
}
