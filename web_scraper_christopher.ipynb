{
 "cells": [
  {
   "cell_type": "code",
   "execution_count": 1,
   "metadata": {},
   "outputs": [],
   "source": [
    "import pandas as pd\n",
    "import numpy as np\n",
    "from lxml import etree\n",
    "import xml.etree.ElementTree as ET\n",
    "import urllib3"
   ]
  },
  {
   "cell_type": "code",
   "execution_count": 11,
   "metadata": {},
   "outputs": [],
   "source": [
    "status_set = {202, 408, 409, 413, 425, 429, 500, 502, 503, 504, 521, 598, 599}\n",
    "retries = urllib3.util.retry.Retry(backoff_factor=60, status_forcelist=status_set)\n",
    "http = urllib3.PoolManager(retries=retries)\n",
    "\n",
    "url = \"https://www.kickstarter.com/discover/advanced?state=successful&sort=most_funded&page=1\""
   ]
  },
  {
   "cell_type": "code",
   "execution_count": null,
   "metadata": {},
   "outputs": [],
   "source": [
    "{\n",
    "  \"query\": \"Board Games\",\n",
    "  \"category\": \"All\",\n",
    "  \"location\": \"MX\",\n",
    "  \"sort\": \"newest\",\n",
    "  \"proxyConfig\": {\n",
    "    \"useApifyProxy\": true\n",
    "  },\n",
    "  \"datasetName\": \"Board Games Kickstarter US\",\n",
    "  \"status\": \"Successful\",\n",
    "  \"pledged\": \"All\",\n",
    "  \"goal\": \"All\",\n",
    "  \"raised\": \"All\"\n",
    "}"
   ]
  },
  {
   "cell_type": "code",
   "execution_count": 17,
   "metadata": {},
   "outputs": [
    {
     "name": "stdout",
     "output_type": "stream",
     "text": [
      "b'<!DOCTYPE html>\\n<html lang=\"en\">\\n<head>\\n    <meta charset=\"utf-8\">\\n    <meta name=\"viewport\" content=\"width=device-width, initial-scale=1\">\\n    <title>Access to this page has been denied.</title>\\n    <link href=\"https://fonts.googleapis.com/css?family=Open+Sans:300\" rel=\"stylesheet\">\\n    <style>\\n        html, body {\\n            margin: 0;\\n            padding: 0;\\n            font-family: \\'Open Sans\\', sans-serif;\\n            color: #000;\\n        }\\n\\n        a {\\n            color: #c5c5c5;\\n            text-decoration: none;\\n        }\\n\\n        .container {\\n            align-items: center;\\n            display: flex;\\n            flex: 1;\\n            justify-content: space-between;\\n            flex-direction: column;\\n            height: 100%;\\n        }\\n\\n        .container > div {\\n            width: 100%;\\n            display: flex;\\n            justify-content: center;\\n        }\\n\\n        .container > div > div {\\n            display: flex;\\n            width: 80%;\\n        }\\n\\n        .customer-logo-wrapper {\\n            padding-top: 2rem;\\n            flex-grow: 0;\\n            background-color: #fff;\\n            visibility: hidden;\\n        }\\n\\n        .customer-logo {\\n            border-bottom: 1px solid #000;\\n        }\\n\\n        .customer-logo > img {\\n            padding-bottom: 1rem;\\n            max-height: 50px;\\n            max-width: 100%;\\n        }\\n\\n        .page-title-wrapper {\\n            flex-grow: 2;\\n        }\\n\\n        .page-title {\\n            flex-direction: column-reverse;\\n        }\\n\\n        .content-wrapper {\\n            flex-grow: 5;\\n        }\\n\\n        .content {\\n            flex-direction: column;\\n        }\\n\\n        .page-footer-wrapper {\\n            align-items: center;\\n            flex-grow: 0.2;\\n            background-color: #000;\\n            color: #c5c5c5;\\n            font-size: 70%;\\n        }\\n\\n        @media (min-width: 768px) {\\n            html, body {\\n                height: 100%;\\n            }\\n        }\\n    </style>\\n    <!-- Custom CSS -->\\n    \\n</head>\\n\\n<body>\\n<section class=\"container\">\\n    <div class=\"customer-logo-wrapper\">\\n        <div class=\"customer-logo\">\\n            <img src=\"\" alt=\"Logo\"/>\\n        </div>\\n    </div>\\n    <div class=\"page-title-wrapper\">\\n        <div class=\"page-title\">\\n            <h1>Please verify you are a human</h1>\\n        </div>\\n    </div>\\n    <div class=\"content-wrapper\">\\n        <div class=\"content\">\\n\\n            <div id=\"px-captcha\">\\n            </div>\\n            <p>\\n                Access to this page has been denied because we believe you are using automation tools to browse the\\n                website.\\n            </p>\\n            <p>\\n                This may happen as a result of the following:\\n            </p>\\n            <ul>\\n                <li>\\n                    Javascript is disabled or blocked by an extension (ad blockers for example)\\n                </li>\\n                <li>\\n                    Your browser does not support cookies\\n                </li>\\n            </ul>\\n            <p>\\n                Please make sure that Javascript and cookies are enabled on your browser and that you are not blocking\\n                them from loading.\\n            </p>\\n            <p>\\n                Reference ID: #13350f38-f61b-11ec-9aed-6541714d7a78\\n            </p>\\n        </div>\\n    </div>\\n    <div class=\"page-footer-wrapper\">\\n        <div class=\"page-footer\">\\n            <p>\\n                Powered by\\n                <a href=\"https://www.perimeterx.com/whywasiblocked\">PerimeterX</a>\\n                , Inc.\\n            </p>\\n        </div>\\n    </div>\\n</section>\\n<!-- Px -->\\n<script>\\n    window._pxAppId = \\'PXUy3R669N\\';\\n    window._pxJsClientSrc = \\'/Uy3R669N/init.js\\';\\n    window._pxFirstPartyEnabled = true;\\n    window._pxVid = \\'\\';\\n    window._pxUuid = \\'13350f38-f61b-11ec-9aed-6541714d7a78\\';\\n    window._pxHostUrl = \\'/Uy3R669N/xhr\\';\\n</script>\\n<script>\\n    var s = document.createElement(\\'script\\');\\n    s.src = \\'/Uy3R669N/captcha/captcha.js?a=c&u=13350f38-f61b-11ec-9aed-6541714d7a78&v=&m=0\\';\\n    var p = document.getElementsByTagName(\\'head\\')[0];\\n    p.insertBefore(s, null);\\n    if (true) {\\n        s.onerror = function () {\\n            s = document.createElement(\\'script\\');\\n            var suffixIndex = \\'/Uy3R669N/captcha/captcha.js?a=c&u=13350f38-f61b-11ec-9aed-6541714d7a78&v=&m=0\\'.indexOf(\\'captcha.js\\');\\n            var temperedBlockScript = \\'/Uy3R669N/captcha/captcha.js?a=c&u=13350f38-f61b-11ec-9aed-6541714d7a78&v=&m=0\\'.substring(suffixIndex);\\n            s.src = \\'//captcha.px-cdn.net/PXUy3R669N/\\' + temperedBlockScript;\\n            p.parentNode.insertBefore(s, p);\\n        };\\n    }\\n</script>\\n<!-- Custom Script -->\\n\\n</body>\\n</html>\\n'\n"
     ]
    }
   ],
   "source": [
    "resp = http.request('GET', url)\n",
    "print(resp.data)"
   ]
  }
 ],
 "metadata": {
  "kernelspec": {
   "display_name": "Python 3.9.12 ('nf_sql')",
   "language": "python",
   "name": "python3"
  },
  "language_info": {
   "codemirror_mode": {
    "name": "ipython",
    "version": 3
   },
   "file_extension": ".py",
   "mimetype": "text/x-python",
   "name": "python",
   "nbconvert_exporter": "python",
   "pygments_lexer": "ipython3",
   "version": "3.9.12"
  },
  "orig_nbformat": 4,
  "vscode": {
   "interpreter": {
    "hash": "a81d278bed5b5b59425dcb5a82ce505657686243c184b4a6b67e69d01c4d432e"
   }
  }
 },
 "nbformat": 4,
 "nbformat_minor": 2
}
