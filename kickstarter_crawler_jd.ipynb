{
 "cells": [
  {
   "cell_type": "code",
   "execution_count": 30,
   "metadata": {},
   "outputs": [],
   "source": [
    "import pandas as pd\n",
    "from pathlib import Path"
   ]
  },
  {
   "cell_type": "code",
   "execution_count": 31,
   "metadata": {},
   "outputs": [],
   "source": [
    "df = pd.DataFrame()\n",
    "years = [2016, 2017, 2018, 2019, 2020, 2021, 2022]\n",
    "months = list(range(1,13))\n",
    "for year in years:\n",
    "    for month in months:\n",
    "        folder = Path(f\"data/kickstarter/Kickstarter_{year}-{month}\")\n",
    "        if folder.is_dir():\n",
    "            for i in range(1,100):\n",
    "                file = Path(f\"data/kickstarter/Kickstarter_{year}-{month}/Kickstarter{i:03d}.csv\")\n",
    "                if file.is_file():\n",
    "                    df_base = pd.read_csv(f\"data/kickstarter/Kickstarter_{year}-{month}/Kickstarter.csv\")\n",
    "                    df_temp = pd.read_csv(f\"data/kickstarter/Kickstarter_{year}-{month}/Kickstarter{i:03d}.csv\")\n",
    "                    df = pd.concat([df, df_base, df_temp])\n",
    "                else:\n",
    "                    continue\n",
    "        else:\n",
    "            continue"
   ]
  },
  {
   "cell_type": "code",
   "execution_count": 27,
   "metadata": {},
   "outputs": [],
   "source": [
    "boardgames = df.loc[df['category'].str.contains(\":34,\", case=False)]"
   ]
  },
  {
   "cell_type": "code",
   "execution_count": null,
   "metadata": {},
   "outputs": [],
   "source": [
    "df = pd.DataFrame()\n",
    "for i in range(1,63):\n",
    "        df_temp = pd.read_csv(f\"data/kickstarter/Kickstarter{i:03d}.csv\")\n",
    "        df = pd.concat([df, df_temp])"
   ]
  },
  {
   "cell_type": "code",
   "execution_count": null,
   "metadata": {},
   "outputs": [],
   "source": [
    "df_base = pd.read_csv(\"data/kickstarter/Kickstarter.csv\")\n",
    "df = pd.concat([df_base, df])"
   ]
  },
  {
   "cell_type": "code",
   "execution_count": null,
   "metadata": {},
   "outputs": [],
   "source": [
    "df.info()"
   ]
  },
  {
   "cell_type": "code",
   "execution_count": 28,
   "metadata": {},
   "outputs": [
    {
     "name": "stdout",
     "output_type": "stream",
     "text": [
      "<class 'pandas.core.frame.DataFrame'>\n",
      "Int64Index: 4129 entries, 1204 to 2730\n",
      "Data columns (total 39 columns):\n",
      " #   Column                    Non-Null Count  Dtype  \n",
      "---  ------                    --------------  -----  \n",
      " 0   backers_count             4129 non-null   int64  \n",
      " 1   blurb                     4129 non-null   object \n",
      " 2   category                  4129 non-null   object \n",
      " 3   converted_pledged_amount  4129 non-null   int64  \n",
      " 4   country                   4129 non-null   object \n",
      " 5   country_displayable_name  4129 non-null   object \n",
      " 6   created_at                4129 non-null   int64  \n",
      " 7   creator                   4129 non-null   object \n",
      " 8   currency                  4129 non-null   object \n",
      " 9   currency_symbol           4129 non-null   object \n",
      " 10  currency_trailing_code    4129 non-null   bool   \n",
      " 11  current_currency          4129 non-null   object \n",
      " 12  deadline                  4129 non-null   int64  \n",
      " 13  disable_communication     4129 non-null   bool   \n",
      " 14  friends                   64 non-null     object \n",
      " 15  fx_rate                   4129 non-null   float64\n",
      " 16  goal                      4129 non-null   float64\n",
      " 17  id                        4129 non-null   int64  \n",
      " 18  is_backing                64 non-null     object \n",
      " 19  is_starrable              4129 non-null   bool   \n",
      " 20  is_starred                64 non-null     object \n",
      " 21  launched_at               4129 non-null   int64  \n",
      " 22  location                  4129 non-null   object \n",
      " 23  name                      4129 non-null   object \n",
      " 24  permissions               64 non-null     object \n",
      " 25  photo                     4129 non-null   object \n",
      " 26  pledged                   4129 non-null   float64\n",
      " 27  profile                   4129 non-null   object \n",
      " 28  slug                      4129 non-null   object \n",
      " 29  source_url                4129 non-null   object \n",
      " 30  spotlight                 4129 non-null   bool   \n",
      " 31  staff_pick                4129 non-null   bool   \n",
      " 32  state                     4129 non-null   object \n",
      " 33  state_changed_at          4129 non-null   int64  \n",
      " 34  static_usd_rate           4129 non-null   float64\n",
      " 35  urls                      4129 non-null   object \n",
      " 36  usd_exchange_rate         4129 non-null   float64\n",
      " 37  usd_pledged               4129 non-null   float64\n",
      " 38  usd_type                  4129 non-null   object \n",
      "dtypes: bool(5), float64(6), int64(7), object(21)\n",
      "memory usage: 1.1+ MB\n"
     ]
    }
   ],
   "source": [
    "boardgames.info()"
   ]
  },
  {
   "cell_type": "code",
   "execution_count": null,
   "metadata": {},
   "outputs": [],
   "source": []
  }
 ],
 "metadata": {
  "interpreter": {
   "hash": "a81d278bed5b5b59425dcb5a82ce505657686243c184b4a6b67e69d01c4d432e"
  },
  "kernelspec": {
   "display_name": "Python 3.9.12 ('nf_sql')",
   "language": "python",
   "name": "python3"
  },
  "language_info": {
   "codemirror_mode": {
    "name": "ipython",
    "version": 3
   },
   "file_extension": ".py",
   "mimetype": "text/x-python",
   "name": "python",
   "nbconvert_exporter": "python",
   "pygments_lexer": "ipython3",
   "version": "3.9.12"
  },
  "orig_nbformat": 4
 },
 "nbformat": 4,
 "nbformat_minor": 2
}
