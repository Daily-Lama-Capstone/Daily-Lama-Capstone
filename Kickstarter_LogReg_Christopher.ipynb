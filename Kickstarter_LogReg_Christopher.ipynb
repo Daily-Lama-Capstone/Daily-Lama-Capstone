{
 "cells": [
  {
   "cell_type": "code",
   "execution_count": 5,
   "metadata": {},
   "outputs": [],
   "source": [
    "from sql_functions import get_dataframe\n",
    "import pandas as pd\n",
    "import numpy as np\n",
    "import seaborn as sns\n",
    "import matplotlib.pyplot as plt\n",
    "import sklearn\n",
    "\n",
    "from pylab import rcParams\n",
    "from sklearn.linear_model import LogisticRegression\n",
    "from sklearn.model_selection import train_test_split\n",
    "from sklearn.metrics import confusion_matrix, classification_report\n",
    "\n",
    "from sklearn.preprocessing import StandardScaler\n",
    "from sklearn.model_selection import train_test_split, cross_val_score\n",
    "from sklearn.model_selection import GridSearchCV, RandomizedSearchCV\n",
    "from sklearn.model_selection import StratifiedKFold\n",
    "from sklearn.metrics import confusion_matrix, accuracy_score, classification_report\n",
    "\n",
    "\n",
    "import statsmodels.api as sm\n",
    "import statsmodels.formula.api as smf\n",
    "from scipy import stats\n",
    "\n",
    "import warnings\n",
    "warnings.filterwarnings(\"ignore\")\n",
    "RSEED = 10"
   ]
  },
  {
   "cell_type": "code",
   "execution_count": 6,
   "metadata": {},
   "outputs": [],
   "source": [
    "schema = \"bgg_data\"\n",
    "kickstarter = \"kickstarter_unique_campaigns\"\n",
    "slug = \"unique_slug_bgg_id\"\n",
    "main_stats = \"unfiltered_main_stats_cleaned\"\n",
    "stat = \"statistics\"\n",
    "\n",
    "df_ks = get_dataframe(f\"SELECT * FROM {schema}.{kickstarter}\")\n",
    "df_slug = get_dataframe(f\"SELECT * FROM {schema}.{slug}\")\n",
    "df_main_stats = get_dataframe(f\"SELECT * FROM {schema}.{main_stats}\")\n",
    "#df_ks.rename({'bgg_id':'id'},axis=1,inplace=True)"
   ]
  },
  {
   "cell_type": "code",
   "execution_count": 7,
   "metadata": {},
   "outputs": [],
   "source": [
    "df_ks_slug = pd.merge(df_slug,df_ks,on='slug')\n",
    "df_ks_slug.rename({'bgg_id':'id'},axis=1,inplace=True)"
   ]
  },
  {
   "cell_type": "code",
   "execution_count": 8,
   "metadata": {},
   "outputs": [],
   "source": [
    "df = pd.merge(df_ks_slug,df_main_stats,on='id')"
   ]
  },
  {
   "cell_type": "code",
   "execution_count": 9,
   "metadata": {},
   "outputs": [
    {
     "data": {
      "text/plain": [
       "Index(['slug', 'id', 'deadline', 'created_at', 'launched_at', 'country',\n",
       "       'currency', 'goal', 'pledged', 'backers_count', 'usd_pledged',\n",
       "       'state_changed_at', 'successful', 'yearpublished', 'min_players',\n",
       "       'max_players', 'playtime', 'min_playtime', 'max_playtime', 'min_age',\n",
       "       'average', 'user_rated', 'num_owned', 'trading', 'wanting', 'wishing',\n",
       "       'numcomments', 'numweights', 'averageweight'],\n",
       "      dtype='object')"
      ]
     },
     "execution_count": 9,
     "metadata": {},
     "output_type": "execute_result"
    }
   ],
   "source": [
    "df.columns"
   ]
  },
  {
   "cell_type": "code",
   "execution_count": 10,
   "metadata": {},
   "outputs": [],
   "source": [
    "cols_to_drop = ['id',\n",
    "                'slug',\n",
    "                'deadline', \n",
    "                'created_at',\n",
    "                'launched_at',\n",
    "                'country',\n",
    "                'pledged',\n",
    "                'backers_count',\n",
    "                'currency',\n",
    "                'state_changed_at',\n",
    "                'successful',\n",
    "                'yearpublished',\n",
    "                'playtime',\n",
    "                'wishing',\n",
    "                'numcomments',\n",
    "                'user_rated',\n",
    "                'num_owned',\n",
    "                'trading',\n",
    "                'numweights']"
   ]
  },
  {
   "cell_type": "code",
   "execution_count": 11,
   "metadata": {},
   "outputs": [
    {
     "name": "stdout",
     "output_type": "stream",
     "text": [
      "<class 'pandas.core.frame.DataFrame'>\n",
      "Int64Index: 4537 entries, 0 to 4536\n",
      "Data columns (total 29 columns):\n",
      " #   Column            Non-Null Count  Dtype         \n",
      "---  ------            --------------  -----         \n",
      " 0   slug              4537 non-null   object        \n",
      " 1   id                4537 non-null   int64         \n",
      " 2   deadline          4537 non-null   datetime64[ns]\n",
      " 3   created_at        4537 non-null   datetime64[ns]\n",
      " 4   launched_at       4537 non-null   datetime64[ns]\n",
      " 5   country           4537 non-null   object        \n",
      " 6   currency          4537 non-null   object        \n",
      " 7   goal              4537 non-null   int64         \n",
      " 8   pledged           4537 non-null   float64       \n",
      " 9   backers_count     4537 non-null   int64         \n",
      " 10  usd_pledged       4537 non-null   float64       \n",
      " 11  state_changed_at  4537 non-null   datetime64[ns]\n",
      " 12  successful        4537 non-null   bool          \n",
      " 13  yearpublished     4405 non-null   float64       \n",
      " 14  min_players       4521 non-null   float64       \n",
      " 15  max_players       4492 non-null   float64       \n",
      " 16  playtime          4408 non-null   float64       \n",
      " 17  min_playtime      4406 non-null   float64       \n",
      " 18  max_playtime      4358 non-null   float64       \n",
      " 19  min_age           4537 non-null   int64         \n",
      " 20  average           4537 non-null   float64       \n",
      " 21  user_rated        4537 non-null   int64         \n",
      " 22  num_owned         4537 non-null   int64         \n",
      " 23  trading           4537 non-null   int64         \n",
      " 24  wanting           4537 non-null   int64         \n",
      " 25  wishing           4537 non-null   int64         \n",
      " 26  numcomments       4537 non-null   int64         \n",
      " 27  numweights        4537 non-null   int64         \n",
      " 28  averageweight     3021 non-null   float64       \n",
      "dtypes: bool(1), datetime64[ns](4), float64(10), int64(11), object(3)\n",
      "memory usage: 1.0+ MB\n"
     ]
    }
   ],
   "source": [
    "df.info()"
   ]
  },
  {
   "cell_type": "code",
   "execution_count": 95,
   "metadata": {},
   "outputs": [],
   "source": [
    "df.drop(cols_to_drop,axis=1,inplace=True)"
   ]
  },
  {
   "cell_type": "code",
   "execution_count": 96,
   "metadata": {},
   "outputs": [],
   "source": [
    "df.dropna(axis=0,inplace=True)"
   ]
  },
  {
   "cell_type": "code",
   "execution_count": 97,
   "metadata": {},
   "outputs": [
    {
     "data": {
      "text/plain": [
       "2      -0.246679\n",
       "3      -0.246679\n",
       "4       0.012582\n",
       "6       0.401475\n",
       "7       0.401475\n",
       "          ...   \n",
       "4530   -0.117049\n",
       "4531    0.142213\n",
       "4532    0.012582\n",
       "4533   -0.203469\n",
       "4535   -0.289890\n",
       "Name: min_playtime, Length: 2950, dtype: float64"
      ]
     },
     "execution_count": 97,
     "metadata": {},
     "output_type": "execute_result"
    }
   ],
   "source": [
    "stats.zscore(df['min_playtime'])"
   ]
  },
  {
   "cell_type": "code",
   "execution_count": 98,
   "metadata": {},
   "outputs": [],
   "source": [
    "df = df[(np.abs(stats.zscore(df['min_playtime'])) < 2)]\n",
    "df = df[(np.abs(stats.zscore(df['max_playtime'])) < 2)]\n",
    "df = df[(np.abs(stats.zscore(df['max_players'])) < 2)]\n",
    "df = df[(np.abs(stats.zscore(df['min_players'])) < 3)]\n",
    "df = df[df[\"min_age\"] < 19]"
   ]
  },
  {
   "cell_type": "code",
   "execution_count": 99,
   "metadata": {},
   "outputs": [
    {
     "data": {
      "text/html": [
       "<div>\n",
       "<style scoped>\n",
       "    .dataframe tbody tr th:only-of-type {\n",
       "        vertical-align: middle;\n",
       "    }\n",
       "\n",
       "    .dataframe tbody tr th {\n",
       "        vertical-align: top;\n",
       "    }\n",
       "\n",
       "    .dataframe thead th {\n",
       "        text-align: right;\n",
       "    }\n",
       "</style>\n",
       "<table border=\"1\" class=\"dataframe\">\n",
       "  <thead>\n",
       "    <tr style=\"text-align: right;\">\n",
       "      <th></th>\n",
       "      <th>goal</th>\n",
       "      <th>usd_pledged</th>\n",
       "      <th>min_players</th>\n",
       "      <th>max_players</th>\n",
       "      <th>min_playtime</th>\n",
       "      <th>max_playtime</th>\n",
       "      <th>min_age</th>\n",
       "      <th>average</th>\n",
       "      <th>wanting</th>\n",
       "      <th>averageweight</th>\n",
       "    </tr>\n",
       "  </thead>\n",
       "  <tbody>\n",
       "    <tr>\n",
       "      <th>count</th>\n",
       "      <td>2.810000e+03</td>\n",
       "      <td>2.810000e+03</td>\n",
       "      <td>2810.00000</td>\n",
       "      <td>2810.000000</td>\n",
       "      <td>2810.000000</td>\n",
       "      <td>2810.000000</td>\n",
       "      <td>2810.000000</td>\n",
       "      <td>2810.000000</td>\n",
       "      <td>2810.000000</td>\n",
       "      <td>2810.000000</td>\n",
       "    </tr>\n",
       "    <tr>\n",
       "      <th>mean</th>\n",
       "      <td>2.530447e+04</td>\n",
       "      <td>1.607831e+05</td>\n",
       "      <td>1.73879</td>\n",
       "      <td>4.673665</td>\n",
       "      <td>40.556940</td>\n",
       "      <td>70.376157</td>\n",
       "      <td>11.080427</td>\n",
       "      <td>7.016100</td>\n",
       "      <td>46.670107</td>\n",
       "      <td>2.196895</td>\n",
       "    </tr>\n",
       "    <tr>\n",
       "      <th>std</th>\n",
       "      <td>6.616277e+04</td>\n",
       "      <td>5.760943e+05</td>\n",
       "      <td>0.61147</td>\n",
       "      <td>1.687361</td>\n",
       "      <td>29.522215</td>\n",
       "      <td>50.316731</td>\n",
       "      <td>3.195194</td>\n",
       "      <td>1.156285</td>\n",
       "      <td>124.743347</td>\n",
       "      <td>0.767368</td>\n",
       "    </tr>\n",
       "    <tr>\n",
       "      <th>min</th>\n",
       "      <td>5.000000e+00</td>\n",
       "      <td>0.000000e+00</td>\n",
       "      <td>1.00000</td>\n",
       "      <td>1.000000</td>\n",
       "      <td>1.000000</td>\n",
       "      <td>1.000000</td>\n",
       "      <td>0.000000</td>\n",
       "      <td>0.000000</td>\n",
       "      <td>0.000000</td>\n",
       "      <td>1.000000</td>\n",
       "    </tr>\n",
       "    <tr>\n",
       "      <th>25%</th>\n",
       "      <td>5.000000e+03</td>\n",
       "      <td>9.106225e+03</td>\n",
       "      <td>1.00000</td>\n",
       "      <td>4.000000</td>\n",
       "      <td>20.000000</td>\n",
       "      <td>30.000000</td>\n",
       "      <td>9.000000</td>\n",
       "      <td>6.466095</td>\n",
       "      <td>2.000000</td>\n",
       "      <td>1.666700</td>\n",
       "    </tr>\n",
       "    <tr>\n",
       "      <th>50%</th>\n",
       "      <td>1.200000e+04</td>\n",
       "      <td>2.656650e+04</td>\n",
       "      <td>2.00000</td>\n",
       "      <td>4.000000</td>\n",
       "      <td>30.000000</td>\n",
       "      <td>60.000000</td>\n",
       "      <td>12.000000</td>\n",
       "      <td>7.066180</td>\n",
       "      <td>9.000000</td>\n",
       "      <td>2.000000</td>\n",
       "    </tr>\n",
       "    <tr>\n",
       "      <th>75%</th>\n",
       "      <td>2.500000e+04</td>\n",
       "      <td>8.984550e+04</td>\n",
       "      <td>2.00000</td>\n",
       "      <td>6.000000</td>\n",
       "      <td>60.000000</td>\n",
       "      <td>90.000000</td>\n",
       "      <td>14.000000</td>\n",
       "      <td>7.673322</td>\n",
       "      <td>36.000000</td>\n",
       "      <td>2.750000</td>\n",
       "    </tr>\n",
       "    <tr>\n",
       "      <th>max</th>\n",
       "      <td>2.200000e+06</td>\n",
       "      <td>1.296961e+07</td>\n",
       "      <td>3.00000</td>\n",
       "      <td>16.000000</td>\n",
       "      <td>250.000000</td>\n",
       "      <td>360.000000</td>\n",
       "      <td>18.000000</td>\n",
       "      <td>10.000000</td>\n",
       "      <td>2008.000000</td>\n",
       "      <td>4.817300</td>\n",
       "    </tr>\n",
       "  </tbody>\n",
       "</table>\n",
       "</div>"
      ],
      "text/plain": [
       "               goal   usd_pledged  min_players  max_players  min_playtime  \\\n",
       "count  2.810000e+03  2.810000e+03   2810.00000  2810.000000   2810.000000   \n",
       "mean   2.530447e+04  1.607831e+05      1.73879     4.673665     40.556940   \n",
       "std    6.616277e+04  5.760943e+05      0.61147     1.687361     29.522215   \n",
       "min    5.000000e+00  0.000000e+00      1.00000     1.000000      1.000000   \n",
       "25%    5.000000e+03  9.106225e+03      1.00000     4.000000     20.000000   \n",
       "50%    1.200000e+04  2.656650e+04      2.00000     4.000000     30.000000   \n",
       "75%    2.500000e+04  8.984550e+04      2.00000     6.000000     60.000000   \n",
       "max    2.200000e+06  1.296961e+07      3.00000    16.000000    250.000000   \n",
       "\n",
       "       max_playtime      min_age      average      wanting  averageweight  \n",
       "count   2810.000000  2810.000000  2810.000000  2810.000000    2810.000000  \n",
       "mean      70.376157    11.080427     7.016100    46.670107       2.196895  \n",
       "std       50.316731     3.195194     1.156285   124.743347       0.767368  \n",
       "min        1.000000     0.000000     0.000000     0.000000       1.000000  \n",
       "25%       30.000000     9.000000     6.466095     2.000000       1.666700  \n",
       "50%       60.000000    12.000000     7.066180     9.000000       2.000000  \n",
       "75%       90.000000    14.000000     7.673322    36.000000       2.750000  \n",
       "max      360.000000    18.000000    10.000000  2008.000000       4.817300  "
      ]
     },
     "execution_count": 99,
     "metadata": {},
     "output_type": "execute_result"
    }
   ],
   "source": [
    "df.describe()"
   ]
  },
  {
   "cell_type": "code",
   "execution_count": 100,
   "metadata": {},
   "outputs": [],
   "source": [
    "y = df[\"usd_pledged\"]\n",
    "X = df.drop(\"usd_pledged\", axis=1)"
   ]
  },
  {
   "cell_type": "code",
   "execution_count": 102,
   "metadata": {},
   "outputs": [
    {
     "name": "stdout",
     "output_type": "stream",
     "text": [
      "<class 'pandas.core.frame.DataFrame'>\n",
      "Int64Index: 2810 entries, 2 to 4535\n",
      "Data columns (total 9 columns):\n",
      " #   Column         Non-Null Count  Dtype  \n",
      "---  ------         --------------  -----  \n",
      " 0   goal           2810 non-null   int64  \n",
      " 1   min_players    2810 non-null   float64\n",
      " 2   max_players    2810 non-null   float64\n",
      " 3   min_playtime   2810 non-null   float64\n",
      " 4   max_playtime   2810 non-null   float64\n",
      " 5   min_age        2810 non-null   int64  \n",
      " 6   average        2810 non-null   float64\n",
      " 7   wanting        2810 non-null   int64  \n",
      " 8   averageweight  2810 non-null   float64\n",
      "dtypes: float64(6), int64(3)\n",
      "memory usage: 219.5 KB\n"
     ]
    }
   ],
   "source": [
    "X.info()"
   ]
  },
  {
   "cell_type": "code",
   "execution_count": 108,
   "metadata": {},
   "outputs": [],
   "source": [
    "# Train-test-split\n",
    "X_train, X_test, y_train, y_test = train_test_split(X, y, test_size=0.33, random_state=42)"
   ]
  },
  {
   "cell_type": "code",
   "execution_count": 109,
   "metadata": {},
   "outputs": [
    {
     "ename": "ValueError",
     "evalue": "Unknown label type: 'continuous'",
     "output_type": "error",
     "traceback": [
      "\u001b[0;31m---------------------------------------------------------------------------\u001b[0m",
      "\u001b[0;31mValueError\u001b[0m                                Traceback (most recent call last)",
      "\u001b[1;32m/Users/ruperthufnagel/DailyLama/Daily-Lama-Capstone/Kickstarter_LogReg_Christopher.ipynb Cell 15'\u001b[0m in \u001b[0;36m<cell line: 2>\u001b[0;34m()\u001b[0m\n\u001b[1;32m      <a href='vscode-notebook-cell:/Users/ruperthufnagel/DailyLama/Daily-Lama-Capstone/Kickstarter_LogReg_Christopher.ipynb#ch0000015?line=0'>1</a>\u001b[0m classifier \u001b[39m=\u001b[39m LogisticRegression() \u001b[39m# instantiate a sklearn logistic regression class\u001b[39;00m\n\u001b[0;32m----> <a href='vscode-notebook-cell:/Users/ruperthufnagel/DailyLama/Daily-Lama-Capstone/Kickstarter_LogReg_Christopher.ipynb#ch0000015?line=1'>2</a>\u001b[0m classifier\u001b[39m.\u001b[39;49mfit(X_train, y_train) \u001b[39m# fit the classifier/model on our train data \u001b[39;00m\n\u001b[1;32m      <a href='vscode-notebook-cell:/Users/ruperthufnagel/DailyLama/Daily-Lama-Capstone/Kickstarter_LogReg_Christopher.ipynb#ch0000015?line=2'>3</a>\u001b[0m y_prediction \u001b[39m=\u001b[39m classifier\u001b[39m.\u001b[39mpredict(X_test)\n",
      "File \u001b[0;32m/opt/homebrew/Caskroom/miniconda/base/envs/nf_sql/lib/python3.9/site-packages/sklearn/linear_model/_logistic.py:1516\u001b[0m, in \u001b[0;36mLogisticRegression.fit\u001b[0;34m(self, X, y, sample_weight)\u001b[0m\n\u001b[1;32m   1506\u001b[0m     _dtype \u001b[39m=\u001b[39m [np\u001b[39m.\u001b[39mfloat64, np\u001b[39m.\u001b[39mfloat32]\n\u001b[1;32m   1508\u001b[0m X, y \u001b[39m=\u001b[39m \u001b[39mself\u001b[39m\u001b[39m.\u001b[39m_validate_data(\n\u001b[1;32m   1509\u001b[0m     X,\n\u001b[1;32m   1510\u001b[0m     y,\n\u001b[0;32m   (...)\u001b[0m\n\u001b[1;32m   1514\u001b[0m     accept_large_sparse\u001b[39m=\u001b[39msolver \u001b[39mnot\u001b[39;00m \u001b[39min\u001b[39;00m [\u001b[39m\"\u001b[39m\u001b[39mliblinear\u001b[39m\u001b[39m\"\u001b[39m, \u001b[39m\"\u001b[39m\u001b[39msag\u001b[39m\u001b[39m\"\u001b[39m, \u001b[39m\"\u001b[39m\u001b[39msaga\u001b[39m\u001b[39m\"\u001b[39m],\n\u001b[1;32m   1515\u001b[0m )\n\u001b[0;32m-> 1516\u001b[0m check_classification_targets(y)\n\u001b[1;32m   1517\u001b[0m \u001b[39mself\u001b[39m\u001b[39m.\u001b[39mclasses_ \u001b[39m=\u001b[39m np\u001b[39m.\u001b[39munique(y)\n\u001b[1;32m   1519\u001b[0m multi_class \u001b[39m=\u001b[39m _check_multi_class(\u001b[39mself\u001b[39m\u001b[39m.\u001b[39mmulti_class, solver, \u001b[39mlen\u001b[39m(\u001b[39mself\u001b[39m\u001b[39m.\u001b[39mclasses_))\n",
      "File \u001b[0;32m/opt/homebrew/Caskroom/miniconda/base/envs/nf_sql/lib/python3.9/site-packages/sklearn/utils/multiclass.py:197\u001b[0m, in \u001b[0;36mcheck_classification_targets\u001b[0;34m(y)\u001b[0m\n\u001b[1;32m    189\u001b[0m y_type \u001b[39m=\u001b[39m type_of_target(y)\n\u001b[1;32m    190\u001b[0m \u001b[39mif\u001b[39;00m y_type \u001b[39mnot\u001b[39;00m \u001b[39min\u001b[39;00m [\n\u001b[1;32m    191\u001b[0m     \u001b[39m\"\u001b[39m\u001b[39mbinary\u001b[39m\u001b[39m\"\u001b[39m,\n\u001b[1;32m    192\u001b[0m     \u001b[39m\"\u001b[39m\u001b[39mmulticlass\u001b[39m\u001b[39m\"\u001b[39m,\n\u001b[0;32m   (...)\u001b[0m\n\u001b[1;32m    195\u001b[0m     \u001b[39m\"\u001b[39m\u001b[39mmultilabel-sequences\u001b[39m\u001b[39m\"\u001b[39m,\n\u001b[1;32m    196\u001b[0m ]:\n\u001b[0;32m--> 197\u001b[0m     \u001b[39mraise\u001b[39;00m \u001b[39mValueError\u001b[39;00m(\u001b[39m\"\u001b[39m\u001b[39mUnknown label type: \u001b[39m\u001b[39m%r\u001b[39;00m\u001b[39m\"\u001b[39m \u001b[39m%\u001b[39m y_type)\n",
      "\u001b[0;31mValueError\u001b[0m: Unknown label type: 'continuous'"
     ]
    }
   ],
   "source": [
    "classifier = LogisticRegression() # instantiate a sklearn logistic regression class\n",
    "classifier.fit(X_train, y_train) # fit the classifier/model on our train data \n",
    "y_prediction = classifier.predict(X_test) # use the fit model to predict on our test data \n",
    "\n",
    "#have a look at the predicitons\n",
    "#y_prediction[:10]"
   ]
  }
 ],
 "metadata": {
  "kernelspec": {
   "display_name": "Python 3.9.12 ('nf_sql')",
   "language": "python",
   "name": "python3"
  },
  "language_info": {
   "codemirror_mode": {
    "name": "ipython",
    "version": 3
   },
   "file_extension": ".py",
   "mimetype": "text/x-python",
   "name": "python",
   "nbconvert_exporter": "python",
   "pygments_lexer": "ipython3",
   "version": "3.9.12"
  },
  "orig_nbformat": 4,
  "vscode": {
   "interpreter": {
    "hash": "a81d278bed5b5b59425dcb5a82ce505657686243c184b4a6b67e69d01c4d432e"
   }
  }
 },
 "nbformat": 4,
 "nbformat_minor": 2
}
