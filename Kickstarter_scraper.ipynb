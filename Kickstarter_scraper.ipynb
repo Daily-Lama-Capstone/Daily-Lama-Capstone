{
 "cells": [
  {
   "cell_type": "code",
   "execution_count": 20,
   "metadata": {},
   "outputs": [],
   "source": [
    "import time\n",
    "import requests\n",
    "from bs4 import BeautifulSoup\n",
    "import re\n",
    "import pandas as pd\n",
    "import numpy as np"
   ]
  },
  {
   "cell_type": "code",
   "execution_count": 18,
   "metadata": {},
   "outputs": [],
   "source": [
    "base_url = \"https://www.kickstarter.com/discover/advanced?\"\n",
    "headers = {\n",
    "  'content-type': 'application/json',\n",
    "  'x-csrf-token': 'AZsT67Z9s-LHZt6ZJXLSQWJlNdd7biKz2XDfFMkcYMZrNufH1OWoFhNBlXIvxCrxKRzV6l8bG_Z6QlcRoYMe_g',\n",
    "  'user-agent': 'Mozilla/5.0 (Windows NT 10.0; Win64; x64) AppleWebKit/537.36 (KHTML, like Gecko) Chrome/98.0.4758.102 Safari/537.36',\n",
    "  'cookie': '_ksr_session=fc2U7qXXaRN91foNiE53NyU3s181NZO0Ll57xPkYxZ5iyUNgus35a0HwsPBTfViBY%2ByAKbtpRirAVLxOGKzG%2BYMOmsLRBPujZep%2Fca%2B1%2FXzW3xX56VXkh5w6ItYhIctEFifQQhw3rTmvoljyHw%3D%3D--4pK6xBEgChjqgmte--LH4Q1qSnhU%2FYX9JgTzGuSQ%3D%3D;'\n",
    "}\n",
    "search_string = '\"project\":\"https://www.kickstarter.com/projects/'\n",
    "creators_and_projects = []\n",
    "cat_id = 34\n",
    "sort = \"newest\"\n",
    "seed = 2760735\n",
    "page = 1\n",
    "url = f\"{base_url}category_id={cat_id}&sort={sort}&seed={seed}&page={page}\""
   ]
  },
  {
   "cell_type": "markdown",
   "metadata": {},
   "source": [
    "#### alle creators und spiele für page=1"
   ]
  },
  {
   "cell_type": "code",
   "execution_count": 7,
   "metadata": {},
   "outputs": [],
   "source": [
    "page = requests.get(url, headers=headers)\n",
    "html = page.content\n",
    "bs = BeautifulSoup(html, 'html.parser')\n",
    "string_page = bs.prettify()"
   ]
  },
  {
   "cell_type": "code",
   "execution_count": null,
   "metadata": {},
   "outputs": [],
   "source": [
    "while string_page.find(search_string) > 0:\n",
    "    rest_string = string_page[string_page.find(search_string)+len(search_string):]\n",
    "    new_string = rest_string[:rest_string.find('\",\"rewards\"')]\n",
    "    print(new_string)\n",
    "    creators_and_projects.append(new_string)\n",
    "    string_page = rest_string"
   ]
  },
  {
   "cell_type": "markdown",
   "metadata": {},
   "source": [
    "#### Loop over pages from 1 to 100"
   ]
  },
  {
   "cell_type": "code",
   "execution_count": 19,
   "metadata": {},
   "outputs": [],
   "source": [
    "last_page = 199\n",
    "for page in range(1,last_page+1):\n",
    "    url = f\"{base_url}category_id={cat_id}&sort={sort}&seed={seed}&page={page}\"\n",
    "    page = requests.get(url, headers=headers)\n",
    "    html = page.content\n",
    "    bs = BeautifulSoup(html, 'html.parser')\n",
    "    string_page = bs.prettify()\n",
    "    while string_page.find(search_string) > 0:\n",
    "        rest_string = string_page[string_page.find(search_string)+len(search_string):]\n",
    "        new_string = rest_string[:rest_string.find('\",\"rewards\"')]\n",
    "        print(new_string)\n",
    "        creators_and_projects.append(new_string)\n",
    "        string_page = rest_string\n",
    "    time.sleep(0.5)\n"
   ]
  },
  {
   "cell_type": "code",
   "execution_count": 21,
   "metadata": {},
   "outputs": [],
   "source": [
    "with open(\"creators_and_games_2.txt\", 'a') as fp:\n",
    "    for line in creators_and_projects:\n",
    "        fp.write(f\"{line} \\n\")"
   ]
  }
 ],
 "metadata": {
  "kernelspec": {
   "display_name": "Python 3.9.12 ('nf_sql')",
   "language": "python",
   "name": "python3"
  },
  "language_info": {
   "codemirror_mode": {
    "name": "ipython",
    "version": 3
   },
   "file_extension": ".py",
   "mimetype": "text/x-python",
   "name": "python",
   "nbconvert_exporter": "python",
   "pygments_lexer": "ipython3",
   "version": "3.9.12"
  },
  "orig_nbformat": 4,
  "vscode": {
   "interpreter": {
    "hash": "a81d278bed5b5b59425dcb5a82ce505657686243c184b4a6b67e69d01c4d432e"
   }
  }
 },
 "nbformat": 4,
 "nbformat_minor": 2
}
