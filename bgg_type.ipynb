{
 "cells": [
  {
   "cell_type": "markdown",
   "metadata": {},
   "source": [
    "# LXML Parser for BGG XML API"
   ]
  },
  {
   "cell_type": "code",
   "execution_count": 18,
   "metadata": {},
   "outputs": [
    {
     "data": {
      "text/html": [
       "<div>\n",
       "<style scoped>\n",
       "    .dataframe tbody tr th:only-of-type {\n",
       "        vertical-align: middle;\n",
       "    }\n",
       "\n",
       "    .dataframe tbody tr th {\n",
       "        vertical-align: top;\n",
       "    }\n",
       "\n",
       "    .dataframe thead th {\n",
       "        text-align: right;\n",
       "    }\n",
       "</style>\n",
       "<table border=\"1\" class=\"dataframe\">\n",
       "  <thead>\n",
       "    <tr style=\"text-align: right;\">\n",
       "      <th></th>\n",
       "      <th>id</th>\n",
       "      <th>type</th>\n",
       "    </tr>\n",
       "  </thead>\n",
       "  <tbody>\n",
       "    <tr>\n",
       "      <th>0</th>\n",
       "      <td>359820</td>\n",
       "      <td>videogame</td>\n",
       "    </tr>\n",
       "    <tr>\n",
       "      <th>2</th>\n",
       "      <td>359823</td>\n",
       "      <td>rpg</td>\n",
       "    </tr>\n",
       "    <tr>\n",
       "      <th>3</th>\n",
       "      <td>359824</td>\n",
       "      <td>rpg</td>\n",
       "    </tr>\n",
       "    <tr>\n",
       "      <th>5</th>\n",
       "      <td>359826</td>\n",
       "      <td>rpg</td>\n",
       "    </tr>\n",
       "    <tr>\n",
       "      <th>6</th>\n",
       "      <td>359828</td>\n",
       "      <td>rpg</td>\n",
       "    </tr>\n",
       "    <tr>\n",
       "      <th>...</th>\n",
       "      <td>...</td>\n",
       "      <td>...</td>\n",
       "    </tr>\n",
       "    <tr>\n",
       "      <th>85</th>\n",
       "      <td>359993</td>\n",
       "      <td>rpg</td>\n",
       "    </tr>\n",
       "    <tr>\n",
       "      <th>86</th>\n",
       "      <td>359995</td>\n",
       "      <td>rpg</td>\n",
       "    </tr>\n",
       "    <tr>\n",
       "      <th>88</th>\n",
       "      <td>359996</td>\n",
       "      <td>rpg</td>\n",
       "    </tr>\n",
       "    <tr>\n",
       "      <th>89</th>\n",
       "      <td>359997</td>\n",
       "      <td>rpg</td>\n",
       "    </tr>\n",
       "    <tr>\n",
       "      <th>92</th>\n",
       "      <td>359998</td>\n",
       "      <td>rpg</td>\n",
       "    </tr>\n",
       "  </tbody>\n",
       "</table>\n",
       "<p>83 rows × 2 columns</p>\n",
       "</div>"
      ],
      "text/plain": [
       "        id       type\n",
       "0   359820  videogame\n",
       "2   359823        rpg\n",
       "3   359824        rpg\n",
       "5   359826        rpg\n",
       "6   359828        rpg\n",
       "..     ...        ...\n",
       "85  359993        rpg\n",
       "86  359995        rpg\n",
       "88  359996        rpg\n",
       "89  359997        rpg\n",
       "92  359998        rpg\n",
       "\n",
       "[83 rows x 2 columns]"
      ]
     },
     "execution_count": 18,
     "metadata": {},
     "output_type": "execute_result"
    }
   ],
   "source": [
    "import pandas as pd\n",
    "from lxml import etree as et\n",
    "\n",
    "\n",
    "type_d = [] \n",
    "\n",
    "parser = et.XMLParser(recover=True)\n",
    "xtree = et.parse(\"data/old_API_id_360000.xml\", parser= parser).getroot() #131800\n",
    "\n",
    "\n",
    "for node in xtree:\n",
    "    id = node.attrib.get(\"objectid\")\n",
    "    for node2 in node:\n",
    "        if node2.tag == 'rpg':\n",
    "            type_d.append({'id': id, 'type': 'rpg'})\n",
    "        elif node2.tag == 'videogametheme':\n",
    "            type_d.append({'id': id, 'type': 'videogame'})\n",
    "\n",
    "\n",
    "\n",
    "type_d = pd.DataFrame(type_d)\n",
    "\n",
    "type_d = type_d.drop_duplicates()"
   ]
  }
 ],
 "metadata": {
  "kernelspec": {
   "display_name": "Python 3.9.12 ('neesql')",
   "language": "python",
   "name": "python3"
  },
  "language_info": {
   "codemirror_mode": {
    "name": "ipython",
    "version": 3
   },
   "file_extension": ".py",
   "mimetype": "text/x-python",
   "name": "python",
   "nbconvert_exporter": "python",
   "pygments_lexer": "ipython3",
   "version": "3.9.12"
  },
  "orig_nbformat": 4,
  "vscode": {
   "interpreter": {
    "hash": "93d4e68d14dafe92e85b564fcffe2f10b012fa4b4f297d685e500cc70b9ea34f"
   }
  }
 },
 "nbformat": 4,
 "nbformat_minor": 2
}
