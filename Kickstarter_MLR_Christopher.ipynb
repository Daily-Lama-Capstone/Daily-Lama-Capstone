{
 "cells": [
  {
   "cell_type": "code",
   "execution_count": 1,
   "metadata": {},
   "outputs": [],
   "source": [
    "import numpy as np\n",
    "import pandas as pd\n",
    "import matplotlib.pyplot as plt\n",
    "import seaborn as sns\n",
    "import sql_functions as sf\n",
    "import capstone_functions as cf\n",
    "import itertools\n",
    "\n",
    "# this so called \"line magic\" command, amongst other things, stores the plots in the notebook document.\n",
    "%matplotlib inline\n",
    "\n",
    "# warnings supression\n",
    "import warnings\n",
    "warnings.simplefilter(action='ignore', category=FutureWarning)\n",
    "\n",
    "import statsmodels.api as sm\n",
    "import statsmodels.formula.api as smf\n",
    "from scipy import stats"
   ]
  },
  {
   "cell_type": "markdown",
   "metadata": {},
   "source": [
    "### Variables"
   ]
  },
  {
   "cell_type": "code",
   "execution_count": 2,
   "metadata": {},
   "outputs": [],
   "source": [
    "schema = \"bgg_data\"\n",
    "ks_table = \"clean_ks_with_bgg_id\"\n",
    "main_stats_table = \"unfiltered_main_stats_cleaned\"\n",
    "engine = sf.get_engine()"
   ]
  },
  {
   "cell_type": "markdown",
   "metadata": {},
   "source": [
    "### Fetch the data from DB and merge into one Dataframe"
   ]
  },
  {
   "cell_type": "code",
   "execution_count": 3,
   "metadata": {},
   "outputs": [],
   "source": [
    "ks_query = f\"SELECT * from {schema}.{ks_table};\"\n",
    "main_query = f\"SELECT * FROM {schema}.{main_stats_table};\""
   ]
  },
  {
   "cell_type": "code",
   "execution_count": 4,
   "metadata": {},
   "outputs": [],
   "source": [
    "df_ks = sf.get_dataframe(ks_query)\n",
    "df_main = sf.get_dataframe(main_query)\n",
    "df_ks.rename({'bgg_id':'id'},axis=1,inplace=True)"
   ]
  },
  {
   "cell_type": "code",
   "execution_count": 5,
   "metadata": {},
   "outputs": [],
   "source": [
    "df = pd.merge(df_ks,df_main,how='inner',on='id')"
   ]
  },
  {
   "cell_type": "markdown",
   "metadata": {},
   "source": [
    "- Drop all non-numerical values (including Timestamps)  \n",
    "- Afterwards use the z-score to truncate all the outliers of specific columns (min_playtime)"
   ]
  },
  {
   "cell_type": "code",
   "execution_count": 6,
   "metadata": {},
   "outputs": [],
   "source": [
    "df.drop(['yearpublished','deadline', 'created_at','playtime', 'launched_at','state_changed_at','successful','country','currency','averageweight'],axis=1,inplace=True)"
   ]
  },
  {
   "cell_type": "code",
   "execution_count": 7,
   "metadata": {},
   "outputs": [],
   "source": [
    "df.dropna(axis=0,inplace=True)"
   ]
  },
  {
   "cell_type": "markdown",
   "metadata": {},
   "source": [
    "#### Choose the independent variable (Predictor)"
   ]
  },
  {
   "cell_type": "code",
   "execution_count": 8,
   "metadata": {},
   "outputs": [],
   "source": [
    "\n",
    "df = df[(np.abs(stats.zscore(df['min_playtime'])) < 2)]\n",
    "df = df[(np.abs(stats.zscore(df['max_playtime'])) < 2)]\n",
    "df = df[(np.abs(stats.zscore(df['max_players'])) < 2)]\n",
    "df = df[(np.abs(stats.zscore(df['min_players'])) < 3)]\n",
    "df = df[df[\"min_age\"] < 19]"
   ]
  },
  {
   "cell_type": "code",
   "execution_count": 9,
   "metadata": {},
   "outputs": [],
   "source": [
    "columns_list = df.columns.to_list()\n",
    "columns_list.pop(4)\n",
    "columns_list = columns_list[3:]"
   ]
  },
  {
   "cell_type": "code",
   "execution_count": 10,
   "metadata": {},
   "outputs": [
    {
     "name": "stdout",
     "output_type": "stream",
     "text": [
      "[['backers_count'], ['backers_count', 'min_players'], ['backers_count', 'min_players', 'max_players'], ['backers_count', 'min_players', 'max_players', 'min_playtime'], ['backers_count', 'min_players', 'max_players', 'min_playtime', 'max_playtime'], ['backers_count', 'min_players', 'max_players', 'min_playtime', 'max_playtime', 'min_age'], ['backers_count', 'min_players', 'max_players', 'min_playtime', 'max_playtime', 'min_age', 'average'], ['backers_count', 'min_players', 'max_players', 'min_playtime', 'max_playtime', 'min_age', 'average', 'user_rated'], ['backers_count', 'min_players', 'max_players', 'min_playtime', 'max_playtime', 'min_age', 'average', 'user_rated', 'num_owned'], ['backers_count', 'min_players', 'max_players', 'min_playtime', 'max_playtime', 'min_age', 'average', 'user_rated', 'num_owned', 'trading'], ['backers_count', 'min_players', 'max_players', 'min_playtime', 'max_playtime', 'min_age', 'average', 'user_rated', 'num_owned', 'trading', 'wanting'], ['backers_count', 'min_players', 'max_players', 'min_playtime', 'max_playtime', 'min_age', 'average', 'user_rated', 'num_owned', 'trading', 'wanting', 'wishing'], ['backers_count', 'min_players', 'max_players', 'min_playtime', 'max_playtime', 'min_age', 'average', 'user_rated', 'num_owned', 'trading', 'wanting', 'wishing', 'numcomments'], ['backers_count', 'min_players', 'max_players', 'min_playtime', 'max_playtime', 'min_age', 'average', 'user_rated', 'num_owned', 'trading', 'wanting', 'wishing', 'numcomments', 'numweights']]\n"
     ]
    }
   ],
   "source": [
    "columns_combinations = []\n",
    "temp_list = []\n",
    "for i in range(len(columns_list)):\n",
    "    temp_list.append(columns_list[i])\n",
    "    columns_combinations.append(temp_list.copy())\n",
    "print(columns_combinations)"
   ]
  },
  {
   "cell_type": "code",
   "execution_count": 11,
   "metadata": {},
   "outputs": [
    {
     "name": "stdout",
     "output_type": "stream",
     "text": [
      "usd_pledged ~ goal + backers_count:   0.697\n",
      "usd_pledged ~ goal + backers_count + min_players:   0.699\n",
      "usd_pledged ~ goal + backers_count + min_players + max_players:   0.699\n",
      "usd_pledged ~ goal + backers_count + min_players + max_players + min_playtime:   0.701\n",
      "usd_pledged ~ goal + backers_count + min_players + max_players + min_playtime + max_playtime:   0.702\n",
      "usd_pledged ~ goal + backers_count + min_players + max_players + min_playtime + max_playtime + min_age:   0.703\n",
      "usd_pledged ~ goal + backers_count + min_players + max_players + min_playtime + max_playtime + min_age + average:   0.703\n",
      "usd_pledged ~ goal + backers_count + min_players + max_players + min_playtime + max_playtime + min_age + average + user_rated:   0.703\n",
      "usd_pledged ~ goal + backers_count + min_players + max_players + min_playtime + max_playtime + min_age + average + user_rated + num_owned:   0.706\n",
      "usd_pledged ~ goal + backers_count + min_players + max_players + min_playtime + max_playtime + min_age + average + user_rated + num_owned + trading:   0.706\n",
      "usd_pledged ~ goal + backers_count + min_players + max_players + min_playtime + max_playtime + min_age + average + user_rated + num_owned + trading + wanting:   0.715\n",
      "usd_pledged ~ goal + backers_count + min_players + max_players + min_playtime + max_playtime + min_age + average + user_rated + num_owned + trading + wanting + wishing:   0.73\n",
      "usd_pledged ~ goal + backers_count + min_players + max_players + min_playtime + max_playtime + min_age + average + user_rated + num_owned + trading + wanting + wishing + numcomments:   0.74\n",
      "usd_pledged ~ goal + backers_count + min_players + max_players + min_playtime + max_playtime + min_age + average + user_rated + num_owned + trading + wanting + wishing + numcomments + numweights:   0.743\n"
     ]
    }
   ],
   "source": [
    "for comb in columns_combinations:\n",
    "    formula = \"usd_pledged ~ goal\"\n",
    "    for col in comb:\n",
    "        formula += f\" + {col}\"\n",
    "    rs = smf.ols(formula=formula, data=df).fit().rsquared\n",
    "    print(f'{formula}:   {rs:.3}')\n"
   ]
  },
  {
   "cell_type": "code",
   "execution_count": 36,
   "metadata": {},
   "outputs": [],
   "source": [
    "formul = f\"usd_pledged ~ min_players + min_playtime\"\n",
    "rsqu = smf.ols(formula=formul, data=df).fit().summary()\n",
    "#print(f'{formul}:   {rsqu:.3}')"
   ]
  },
  {
   "cell_type": "code",
   "execution_count": 37,
   "metadata": {},
   "outputs": [
    {
     "data": {
      "text/html": [
       "<table class=\"simpletable\">\n",
       "<caption>OLS Regression Results</caption>\n",
       "<tr>\n",
       "  <th>Dep. Variable:</th>       <td>usd_pledged</td>   <th>  R-squared:         </th> <td>   0.034</td> \n",
       "</tr>\n",
       "<tr>\n",
       "  <th>Model:</th>                   <td>OLS</td>       <th>  Adj. R-squared:    </th> <td>   0.034</td> \n",
       "</tr>\n",
       "<tr>\n",
       "  <th>Method:</th>             <td>Least Squares</td>  <th>  F-statistic:       </th> <td>   72.48</td> \n",
       "</tr>\n",
       "<tr>\n",
       "  <th>Date:</th>             <td>Mon, 11 Jul 2022</td> <th>  Prob (F-statistic):</th> <td>1.17e-31</td> \n",
       "</tr>\n",
       "<tr>\n",
       "  <th>Time:</th>                 <td>22:59:41</td>     <th>  Log-Likelihood:    </th> <td> -59505.</td> \n",
       "</tr>\n",
       "<tr>\n",
       "  <th>No. Observations:</th>      <td>  4094</td>      <th>  AIC:               </th> <td>1.190e+05</td>\n",
       "</tr>\n",
       "<tr>\n",
       "  <th>Df Residuals:</th>          <td>  4091</td>      <th>  BIC:               </th> <td>1.190e+05</td>\n",
       "</tr>\n",
       "<tr>\n",
       "  <th>Df Model:</th>              <td>     2</td>      <th>                     </th>     <td> </td>    \n",
       "</tr>\n",
       "<tr>\n",
       "  <th>Covariance Type:</th>      <td>nonrobust</td>    <th>                     </th>     <td> </td>    \n",
       "</tr>\n",
       "</table>\n",
       "<table class=\"simpletable\">\n",
       "<tr>\n",
       "        <td></td>          <th>coef</th>     <th>std err</th>      <th>t</th>      <th>P>|t|</th>  <th>[0.025</th>    <th>0.975]</th>  \n",
       "</tr>\n",
       "<tr>\n",
       "  <th>Intercept</th>    <td> 1.985e+05</td> <td> 2.61e+04</td> <td>    7.596</td> <td> 0.000</td> <td> 1.47e+05</td> <td>  2.5e+05</td>\n",
       "</tr>\n",
       "<tr>\n",
       "  <th>min_players</th>  <td>-8.623e+04</td> <td> 1.13e+04</td> <td>   -7.616</td> <td> 0.000</td> <td>-1.08e+05</td> <td> -6.4e+04</td>\n",
       "</tr>\n",
       "<tr>\n",
       "  <th>min_playtime</th> <td> 2300.4956</td> <td>  285.405</td> <td>    8.060</td> <td> 0.000</td> <td> 1740.947</td> <td> 2860.044</td>\n",
       "</tr>\n",
       "</table>\n",
       "<table class=\"simpletable\">\n",
       "<tr>\n",
       "  <th>Omnibus:</th>       <td>6919.190</td> <th>  Durbin-Watson:     </th>  <td>   1.980</td>  \n",
       "</tr>\n",
       "<tr>\n",
       "  <th>Prob(Omnibus):</th>  <td> 0.000</td>  <th>  Jarque-Bera (JB):  </th> <td>6320443.388</td>\n",
       "</tr>\n",
       "<tr>\n",
       "  <th>Skew:</th>           <td>11.447</td>  <th>  Prob(JB):          </th>  <td>    0.00</td>  \n",
       "</tr>\n",
       "<tr>\n",
       "  <th>Kurtosis:</th>       <td>194.122</td> <th>  Cond. No.          </th>  <td>    167.</td>  \n",
       "</tr>\n",
       "</table><br/><br/>Notes:<br/>[1] Standard Errors assume that the covariance matrix of the errors is correctly specified."
      ],
      "text/plain": [
       "<class 'statsmodels.iolib.summary.Summary'>\n",
       "\"\"\"\n",
       "                            OLS Regression Results                            \n",
       "==============================================================================\n",
       "Dep. Variable:            usd_pledged   R-squared:                       0.034\n",
       "Model:                            OLS   Adj. R-squared:                  0.034\n",
       "Method:                 Least Squares   F-statistic:                     72.48\n",
       "Date:                Mon, 11 Jul 2022   Prob (F-statistic):           1.17e-31\n",
       "Time:                        22:59:41   Log-Likelihood:                -59505.\n",
       "No. Observations:                4094   AIC:                         1.190e+05\n",
       "Df Residuals:                    4091   BIC:                         1.190e+05\n",
       "Df Model:                           2                                         \n",
       "Covariance Type:            nonrobust                                         \n",
       "================================================================================\n",
       "                   coef    std err          t      P>|t|      [0.025      0.975]\n",
       "--------------------------------------------------------------------------------\n",
       "Intercept     1.985e+05   2.61e+04      7.596      0.000    1.47e+05     2.5e+05\n",
       "min_players  -8.623e+04   1.13e+04     -7.616      0.000   -1.08e+05    -6.4e+04\n",
       "min_playtime  2300.4956    285.405      8.060      0.000    1740.947    2860.044\n",
       "==============================================================================\n",
       "Omnibus:                     6919.190   Durbin-Watson:                   1.980\n",
       "Prob(Omnibus):                  0.000   Jarque-Bera (JB):          6320443.388\n",
       "Skew:                          11.447   Prob(JB):                         0.00\n",
       "Kurtosis:                     194.122   Cond. No.                         167.\n",
       "==============================================================================\n",
       "\n",
       "Notes:\n",
       "[1] Standard Errors assume that the covariance matrix of the errors is correctly specified.\n",
       "\"\"\""
      ]
     },
     "execution_count": 37,
     "metadata": {},
     "output_type": "execute_result"
    }
   ],
   "source": [
    "rsqu"
   ]
  },
  {
   "cell_type": "code",
   "execution_count": null,
   "metadata": {},
   "outputs": [],
   "source": [
    "sns.pairplot(X);"
   ]
  },
  {
   "cell_type": "markdown",
   "metadata": {},
   "source": [
    "- Define dependent variable (since it's always a single variable, we can use dot notation here)\n",
    "- Since our statsmodel OLS model needs an adjustable intercept, we add a column of 1s to:"
   ]
  },
  {
   "cell_type": "code",
   "execution_count": null,
   "metadata": {},
   "outputs": [],
   "source": [
    "y = df.usd_pledged\n",
    "X = sm.add_constant(X)\n",
    "\n",
    "display(X.head())"
   ]
  },
  {
   "cell_type": "markdown",
   "metadata": {},
   "source": [
    "Now, our data is prepared for modelling!  \n",
    "\n",
    "The following steps are:\n",
    "- creating a model based on the modules notation,\n",
    "- fitting the model to our data (this is the part where the sum of squared residuals is reduced to min - and passing the model results in a result variable)\n",
    "- print a summary with the models statistics"
   ]
  },
  {
   "cell_type": "code",
   "execution_count": null,
   "metadata": {},
   "outputs": [],
   "source": [
    "# Prepare data for modeling\n",
    "# X3 is already defined, we still need to add the constand though:\n",
    "X = sm.add_constant(X)\n",
    "\n",
    "#fit model and get model summery in one step\n",
    "sm.OLS(y, X).fit().summary()"
   ]
  },
  {
   "cell_type": "code",
   "execution_count": null,
   "metadata": {},
   "outputs": [],
   "source": [
    "# print out the intercept and slope of your model by adressing the parameters via \".params\"\n",
    "# (you can also find it in the table above by looking at const coef and weight coef)\n",
    "intercept, slope = model_results.params\n",
    "\n",
    "print(f'intercept: {intercept}, slope: {slope}')"
   ]
  }
 ],
 "metadata": {
  "kernelspec": {
   "display_name": "Python 3.9.12 ('nf_sql')",
   "language": "python",
   "name": "python3"
  },
  "language_info": {
   "codemirror_mode": {
    "name": "ipython",
    "version": 3
   },
   "file_extension": ".py",
   "mimetype": "text/x-python",
   "name": "python",
   "nbconvert_exporter": "python",
   "pygments_lexer": "ipython3",
   "version": "3.9.12"
  },
  "orig_nbformat": 4,
  "vscode": {
   "interpreter": {
    "hash": "a81d278bed5b5b59425dcb5a82ce505657686243c184b4a6b67e69d01c4d432e"
   }
  }
 },
 "nbformat": 4,
 "nbformat_minor": 2
}
