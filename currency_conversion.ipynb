{
 "cells": [
  {
   "cell_type": "code",
   "execution_count": 51,
   "metadata": {},
   "outputs": [],
   "source": [
    "import pandas as pd\n",
    "import sql_functions as sf\n",
    "import Capstone_functions as cp\n",
    "\n",
    "engine = sf.get_engine()\n",
    " \n",
    "schema = \"bgg_data\""
   ]
  },
  {
   "cell_type": "code",
   "execution_count": 52,
   "metadata": {},
   "outputs": [],
   "source": [
    "sql = f'''SELECT * FROM {schema}.marketplace_listings;\n",
    "      '''\n",
    "df_marketplace = sf.get_dataframe(sql)"
   ]
  },
  {
   "cell_type": "code",
   "execution_count": 53,
   "metadata": {},
   "outputs": [],
   "source": [
    "df_marketplace['currency'].unique()\n",
    "df_marketplace['conv_currency'] = df_marketplace['currency']"
   ]
  },
  {
   "cell_type": "code",
   "execution_count": 54,
   "metadata": {},
   "outputs": [],
   "source": [
    "currencies_dict_dollar = {\n",
    "    'GBP': 1.21,\n",
    "    'EUR': 1.03,\n",
    "    'CAD': 0.77,\n",
    "    'USD': 1,\n",
    "    'AUD': 0.68\n",
    "}"
   ]
  },
  {
   "cell_type": "code",
   "execution_count": 55,
   "metadata": {},
   "outputs": [],
   "source": [
    "df_marketplace.replace({'conv_currency': currencies_dict_dollar},inplace=True)"
   ]
  },
  {
   "cell_type": "code",
   "execution_count": 56,
   "metadata": {},
   "outputs": [],
   "source": [
    "df_marketplace['price_in_dollars'] = df_marketplace['price'] * df_marketplace['conv_currency']"
   ]
  },
  {
   "cell_type": "code",
   "execution_count": 57,
   "metadata": {},
   "outputs": [
    {
     "data": {
      "text/html": [
       "<div>\n",
       "<style scoped>\n",
       "    .dataframe tbody tr th:only-of-type {\n",
       "        vertical-align: middle;\n",
       "    }\n",
       "\n",
       "    .dataframe tbody tr th {\n",
       "        vertical-align: top;\n",
       "    }\n",
       "\n",
       "    .dataframe thead th {\n",
       "        text-align: right;\n",
       "    }\n",
       "</style>\n",
       "<table border=\"1\" class=\"dataframe\">\n",
       "  <thead>\n",
       "    <tr style=\"text-align: right;\">\n",
       "      <th></th>\n",
       "      <th>id</th>\n",
       "      <th>listdate</th>\n",
       "      <th>price</th>\n",
       "      <th>currency</th>\n",
       "      <th>condition</th>\n",
       "      <th>conv_currency</th>\n",
       "      <th>price_in_dollars</th>\n",
       "    </tr>\n",
       "  </thead>\n",
       "  <tbody>\n",
       "    <tr>\n",
       "      <th>0</th>\n",
       "      <td>98443</td>\n",
       "      <td>2018-08-27</td>\n",
       "      <td>50.00</td>\n",
       "      <td>GBP</td>\n",
       "      <td>verygood</td>\n",
       "      <td>1.21</td>\n",
       "      <td>60.5000</td>\n",
       "    </tr>\n",
       "    <tr>\n",
       "      <th>1</th>\n",
       "      <td>98443</td>\n",
       "      <td>2019-03-25</td>\n",
       "      <td>115.00</td>\n",
       "      <td>EUR</td>\n",
       "      <td>likenew</td>\n",
       "      <td>1.03</td>\n",
       "      <td>118.4500</td>\n",
       "    </tr>\n",
       "    <tr>\n",
       "      <th>2</th>\n",
       "      <td>98443</td>\n",
       "      <td>2019-08-25</td>\n",
       "      <td>110.00</td>\n",
       "      <td>EUR</td>\n",
       "      <td>likenew</td>\n",
       "      <td>1.03</td>\n",
       "      <td>113.3000</td>\n",
       "    </tr>\n",
       "    <tr>\n",
       "      <th>3</th>\n",
       "      <td>98443</td>\n",
       "      <td>2020-03-06</td>\n",
       "      <td>150.00</td>\n",
       "      <td>USD</td>\n",
       "      <td>verygood</td>\n",
       "      <td>1.00</td>\n",
       "      <td>150.0000</td>\n",
       "    </tr>\n",
       "    <tr>\n",
       "      <th>4</th>\n",
       "      <td>98443</td>\n",
       "      <td>2020-12-24</td>\n",
       "      <td>60.00</td>\n",
       "      <td>EUR</td>\n",
       "      <td>verygood</td>\n",
       "      <td>1.03</td>\n",
       "      <td>61.8000</td>\n",
       "    </tr>\n",
       "    <tr>\n",
       "      <th>...</th>\n",
       "      <td>...</td>\n",
       "      <td>...</td>\n",
       "      <td>...</td>\n",
       "      <td>...</td>\n",
       "      <td>...</td>\n",
       "      <td>...</td>\n",
       "      <td>...</td>\n",
       "    </tr>\n",
       "    <tr>\n",
       "      <th>241552</th>\n",
       "      <td>298166</td>\n",
       "      <td>2021-08-07</td>\n",
       "      <td>10.00</td>\n",
       "      <td>USD</td>\n",
       "      <td>new</td>\n",
       "      <td>1.00</td>\n",
       "      <td>10.0000</td>\n",
       "    </tr>\n",
       "    <tr>\n",
       "      <th>241553</th>\n",
       "      <td>298173</td>\n",
       "      <td>2022-01-30</td>\n",
       "      <td>5.00</td>\n",
       "      <td>EUR</td>\n",
       "      <td>verygood</td>\n",
       "      <td>1.03</td>\n",
       "      <td>5.1500</td>\n",
       "    </tr>\n",
       "    <tr>\n",
       "      <th>241554</th>\n",
       "      <td>298175</td>\n",
       "      <td>2020-08-08</td>\n",
       "      <td>34.00</td>\n",
       "      <td>EUR</td>\n",
       "      <td>new</td>\n",
       "      <td>1.03</td>\n",
       "      <td>35.0200</td>\n",
       "    </tr>\n",
       "    <tr>\n",
       "      <th>241555</th>\n",
       "      <td>298175</td>\n",
       "      <td>2020-11-03</td>\n",
       "      <td>33.99</td>\n",
       "      <td>EUR</td>\n",
       "      <td>new</td>\n",
       "      <td>1.03</td>\n",
       "      <td>35.0097</td>\n",
       "    </tr>\n",
       "    <tr>\n",
       "      <th>241556</th>\n",
       "      <td>298190</td>\n",
       "      <td>2022-06-27</td>\n",
       "      <td>22.95</td>\n",
       "      <td>EUR</td>\n",
       "      <td>new</td>\n",
       "      <td>1.03</td>\n",
       "      <td>23.6385</td>\n",
       "    </tr>\n",
       "  </tbody>\n",
       "</table>\n",
       "<p>241557 rows × 7 columns</p>\n",
       "</div>"
      ],
      "text/plain": [
       "            id   listdate   price currency condition  conv_currency  \\\n",
       "0        98443 2018-08-27   50.00      GBP  verygood           1.21   \n",
       "1        98443 2019-03-25  115.00      EUR   likenew           1.03   \n",
       "2        98443 2019-08-25  110.00      EUR   likenew           1.03   \n",
       "3        98443 2020-03-06  150.00      USD  verygood           1.00   \n",
       "4        98443 2020-12-24   60.00      EUR  verygood           1.03   \n",
       "...        ...        ...     ...      ...       ...            ...   \n",
       "241552  298166 2021-08-07   10.00      USD       new           1.00   \n",
       "241553  298173 2022-01-30    5.00      EUR  verygood           1.03   \n",
       "241554  298175 2020-08-08   34.00      EUR       new           1.03   \n",
       "241555  298175 2020-11-03   33.99      EUR       new           1.03   \n",
       "241556  298190 2022-06-27   22.95      EUR       new           1.03   \n",
       "\n",
       "        price_in_dollars  \n",
       "0                60.5000  \n",
       "1               118.4500  \n",
       "2               113.3000  \n",
       "3               150.0000  \n",
       "4                61.8000  \n",
       "...                  ...  \n",
       "241552           10.0000  \n",
       "241553            5.1500  \n",
       "241554           35.0200  \n",
       "241555           35.0097  \n",
       "241556           23.6385  \n",
       "\n",
       "[241557 rows x 7 columns]"
      ]
     },
     "execution_count": 57,
     "metadata": {},
     "output_type": "execute_result"
    }
   ],
   "source": [
    "df_marketplace"
   ]
  },
  {
   "cell_type": "code",
   "execution_count": 58,
   "metadata": {},
   "outputs": [
    {
     "name": "stdout",
     "output_type": "stream",
     "text": [
      "The marketplace_listings table was imported successfully.\n"
     ]
    }
   ],
   "source": [
    "sf.build_table(engine=engine,table_name=\"marketplace_listings\",dataframe=df_marketplace,schema=schema)"
   ]
  },
  {
   "cell_type": "code",
   "execution_count": 61,
   "metadata": {},
   "outputs": [],
   "source": [
    "df_conversion_rates = pd.DataFrame(currencies_dict_dollar.items())"
   ]
  },
  {
   "cell_type": "code",
   "execution_count": 63,
   "metadata": {},
   "outputs": [],
   "source": [
    "df_conversion_rates.columns = ['f_currency','exchange_rate']"
   ]
  },
  {
   "cell_type": "code",
   "execution_count": 65,
   "metadata": {},
   "outputs": [
    {
     "data": {
      "text/html": [
       "<div>\n",
       "<style scoped>\n",
       "    .dataframe tbody tr th:only-of-type {\n",
       "        vertical-align: middle;\n",
       "    }\n",
       "\n",
       "    .dataframe tbody tr th {\n",
       "        vertical-align: top;\n",
       "    }\n",
       "\n",
       "    .dataframe thead th {\n",
       "        text-align: right;\n",
       "    }\n",
       "</style>\n",
       "<table border=\"1\" class=\"dataframe\">\n",
       "  <thead>\n",
       "    <tr style=\"text-align: right;\">\n",
       "      <th></th>\n",
       "      <th>f_currency</th>\n",
       "      <th>exchange_rate</th>\n",
       "    </tr>\n",
       "  </thead>\n",
       "  <tbody>\n",
       "    <tr>\n",
       "      <th>0</th>\n",
       "      <td>GBP</td>\n",
       "      <td>1.21</td>\n",
       "    </tr>\n",
       "    <tr>\n",
       "      <th>1</th>\n",
       "      <td>EUR</td>\n",
       "      <td>1.03</td>\n",
       "    </tr>\n",
       "    <tr>\n",
       "      <th>2</th>\n",
       "      <td>CAD</td>\n",
       "      <td>0.77</td>\n",
       "    </tr>\n",
       "    <tr>\n",
       "      <th>3</th>\n",
       "      <td>USD</td>\n",
       "      <td>1.00</td>\n",
       "    </tr>\n",
       "    <tr>\n",
       "      <th>4</th>\n",
       "      <td>AUD</td>\n",
       "      <td>0.68</td>\n",
       "    </tr>\n",
       "  </tbody>\n",
       "</table>\n",
       "</div>"
      ],
      "text/plain": [
       "  f_currency  exchange_rate\n",
       "0        GBP           1.21\n",
       "1        EUR           1.03\n",
       "2        CAD           0.77\n",
       "3        USD           1.00\n",
       "4        AUD           0.68"
      ]
     },
     "execution_count": 65,
     "metadata": {},
     "output_type": "execute_result"
    }
   ],
   "source": [
    "df_conversion_rates"
   ]
  },
  {
   "cell_type": "code",
   "execution_count": 67,
   "metadata": {},
   "outputs": [
    {
     "name": "stdout",
     "output_type": "stream",
     "text": [
      "The conversion_rates table was imported successfully.\n"
     ]
    }
   ],
   "source": [
    "sf.build_table(engine=engine,table_name=\"conversion_rates\",dataframe=df_conversion_rates,schema=schema)"
   ]
  }
 ],
 "metadata": {
  "kernelspec": {
   "display_name": "Python 3.9.12 ('neesql')",
   "language": "python",
   "name": "python3"
  },
  "language_info": {
   "codemirror_mode": {
    "name": "ipython",
    "version": 3
   },
   "file_extension": ".py",
   "mimetype": "text/x-python",
   "name": "python",
   "nbconvert_exporter": "python",
   "pygments_lexer": "ipython3",
   "version": "3.9.12"
  },
  "orig_nbformat": 4,
  "vscode": {
   "interpreter": {
    "hash": "93d4e68d14dafe92e85b564fcffe2f10b012fa4b4f297d685e500cc70b9ea34f"
   }
  }
 },
 "nbformat": 4,
 "nbformat_minor": 2
}
