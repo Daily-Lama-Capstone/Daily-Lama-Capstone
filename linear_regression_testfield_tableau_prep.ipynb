{
 "cells": [
  {
   "cell_type": "code",
   "execution_count": 4,
   "metadata": {},
   "outputs": [],
   "source": [
    "from sql_functions import get_dataframe\n",
    "import pandas as pd\n",
    "import Capstone_functions as cf\n",
    "import numpy as np\n",
    "import statsmodels.api as sm\n",
    "import statsmodels.formula.api as smf\n",
    "from scipy import stats\n",
    "from scipy import interpolate\n",
    "from sklearn import linear_model"
   ]
  },
  {
   "cell_type": "markdown",
   "metadata": {},
   "source": [
    "# Variables"
   ]
  },
  {
   "cell_type": "code",
   "execution_count": 5,
   "metadata": {},
   "outputs": [],
   "source": [
    "top_XX_mechanic = 25\n",
    "\n",
    "schema = \"bgg_data\"\n",
    "main = \"ml_boardgame_stats\"\n",
    "subdomain = \"subdomain\"\n",
    "unique_subdomain = \"unique_subdomain\"\n",
    "kickstarter = \"kickstarter_unique_campaigns\"\n",
    "slug = \"unique_slug_bgg_id\"\n",
    "mechanic = \"mechanics\"\n",
    "unique_mechanics = \"unique_mechanics\"\n",
    "\n",
    "\n",
    "#honor = \"honor_clean\"\n",
    "\n"
   ]
  },
  {
   "cell_type": "markdown",
   "metadata": {},
   "source": [
    "## Create Dataframes for Kickstarter and Mechanic"
   ]
  },
  {
   "cell_type": "code",
   "execution_count": 6,
   "metadata": {},
   "outputs": [],
   "source": [
    "\n",
    "df_ks = get_dataframe(f\"SELECT * FROM {schema}.{kickstarter}\")\n",
    "df_slug = get_dataframe(f\"SELECT * FROM {schema}.{slug}\")\n",
    "df_mech = get_dataframe(f\"SELECT * FROM {schema}.{mechanic}\")\n",
    "df_u_mech = get_dataframe(f\"SELECT * FROM {schema}.{unique_mechanics}\")\n",
    "\n",
    "#df_marketplace = cf.avg_price_from_marketplace()\n",
    "#df_honor = get_dataframe(f\"SELECT * FROM {schema}.{honor}\")"
   ]
  },
  {
   "cell_type": "markdown",
   "metadata": {},
   "source": [
    "Merge kickstarter table with bgg_ids and rename column bgg_id to id"
   ]
  },
  {
   "cell_type": "code",
   "execution_count": 7,
   "metadata": {},
   "outputs": [],
   "source": [
    "df_ks = pd.merge(df_slug,df_ks,on='slug')\n",
    "df_ks.rename({'bgg_id':'id'},axis=1,inplace=True)"
   ]
  },
  {
   "cell_type": "markdown",
   "metadata": {},
   "source": [
    "create dataframe with all mechanics and merge it with the kickstarter dataframe"
   ]
  },
  {
   "cell_type": "code",
   "execution_count": 8,
   "metadata": {},
   "outputs": [],
   "source": [
    "df_mech = pd.merge(df_mech,df_u_mech,on='mechanic_id')\n",
    "df_mech = pd.merge(df_ks,df_mech,on='id')"
   ]
  },
  {
   "cell_type": "markdown",
   "metadata": {},
   "source": [
    "create a list with the top XX mechanics"
   ]
  },
  {
   "cell_type": "code",
   "execution_count": 9,
   "metadata": {},
   "outputs": [],
   "source": [
    "top_mechanics_list = list(df_mech.groupby(['mechanic']).count().sort_values(ascending=False,axis=0,by='id').reset_index()[\"mechanic\"].head(top_XX_mechanic))"
   ]
  },
  {
   "cell_type": "markdown",
   "metadata": {},
   "source": [
    "reduce the dataframe such that IDs are unique"
   ]
  },
  {
   "cell_type": "code",
   "execution_count": 10,
   "metadata": {},
   "outputs": [],
   "source": [
    "df_mech[\"is_in_top_XX_mechanics\"] = df_mech[\"mechanic\"].isin(top_mechanics_list)\n",
    "df_mech = df_mech[['id','is_in_top_XX_mechanics']]\n",
    "df_mech = df_mech.groupby('id').sum().reset_index()"
   ]
  },
  {
   "cell_type": "markdown",
   "metadata": {},
   "source": [
    "Because there are multiple mechanics for one ID, it is possible that for the same ID there are some mechanics in the top and others are not.\n",
    "- create new column with True/False if ID is in top XX categories (XX will be set in the top code field: \"Variables\" -> \"top_XX_mechanic\")"
   ]
  },
  {
   "cell_type": "code",
   "execution_count": 11,
   "metadata": {},
   "outputs": [],
   "source": [
    "df_mech[f\"top_{top_XX_mechanic}_mechanic\"] = df_mech.is_in_top_XX_mechanics > 0"
   ]
  },
  {
   "cell_type": "code",
   "execution_count": 12,
   "metadata": {},
   "outputs": [],
   "source": [
    "df_mech = df_mech[['id',f\"top_{top_XX_mechanic}_mechanic\"]]"
   ]
  },
  {
   "cell_type": "markdown",
   "metadata": {},
   "source": [
    "## Create Dataframes for main and subdomain"
   ]
  },
  {
   "cell_type": "code",
   "execution_count": 13,
   "metadata": {},
   "outputs": [],
   "source": [
    "df_main = get_dataframe(f\"SELECT * FROM {schema}.{main}\")\n",
    "df_sub = get_dataframe(f\"SELECT * FROM {schema}.{subdomain}\")\n",
    "df_u_sub = get_dataframe(f\"SELECT * FROM {schema}.{unique_subdomain}\")"
   ]
  },
  {
   "cell_type": "markdown",
   "metadata": {},
   "source": [
    "- merge Kickstarter with subdomains => 1021 non-null"
   ]
  },
  {
   "cell_type": "code",
   "execution_count": 14,
   "metadata": {},
   "outputs": [],
   "source": [
    "df_sub = pd.merge(df_sub,df_u_sub,on=\"subdomain_id\")\n",
    "df_ks_sub = pd.merge(df_ks,df_sub,on='id')"
   ]
  },
  {
   "cell_type": "markdown",
   "metadata": {},
   "source": [
    "- merge Kickstarter_subdomains with main"
   ]
  },
  {
   "cell_type": "code",
   "execution_count": 15,
   "metadata": {},
   "outputs": [],
   "source": [
    "df_ks_sub_main = pd.merge(df_ks_sub,df_main,on='id')"
   ]
  },
  {
   "cell_type": "markdown",
   "metadata": {},
   "source": [
    "- Build new columns with goal in USD"
   ]
  },
  {
   "cell_type": "code",
   "execution_count": 16,
   "metadata": {},
   "outputs": [],
   "source": [
    "df_ks_sub_main[\"usd_goal\"] = df_ks_sub_main['goal']*(df_ks_sub_main.pledged/df_ks_sub_main.usd_pledged)"
   ]
  },
  {
   "cell_type": "markdown",
   "metadata": {},
   "source": [
    "# Machine Learning\n",
    "- Extract only necessary columns for our ML and drop all null"
   ]
  },
  {
   "cell_type": "code",
   "execution_count": 17,
   "metadata": {},
   "outputs": [],
   "source": [
    "df_ML = df_ks_sub_main[['country','usd_pledged','subdomain_name','min_players','max_players','min_playtime','max_playtime','min_age','averageweight','usd_goal']]\n",
    "#df_ML.dropna(inplace=True);"
   ]
  },
  {
   "cell_type": "code",
   "execution_count": 18,
   "metadata": {},
   "outputs": [
    {
     "name": "stderr",
     "output_type": "stream",
     "text": [
      "/var/folders/4q/cl23pkln7hj7tnvr0yw_yhkw0000gn/T/ipykernel_8378/2015787152.py:1: SettingWithCopyWarning: \n",
      "A value is trying to be set on a copy of a slice from a DataFrame\n",
      "\n",
      "See the caveats in the documentation: https://pandas.pydata.org/pandas-docs/stable/user_guide/indexing.html#returning-a-view-versus-a-copy\n",
      "  df_ML[\"min_playtime\"].fillna(0,inplace=True);\n",
      "/var/folders/4q/cl23pkln7hj7tnvr0yw_yhkw0000gn/T/ipykernel_8378/2015787152.py:2: SettingWithCopyWarning: \n",
      "A value is trying to be set on a copy of a slice from a DataFrame\n",
      "\n",
      "See the caveats in the documentation: https://pandas.pydata.org/pandas-docs/stable/user_guide/indexing.html#returning-a-view-versus-a-copy\n",
      "  df_ML[\"max_playtime\"].fillna(df_ML[\"max_playtime\"].max(),inplace=True);\n"
     ]
    }
   ],
   "source": [
    "df_ML[\"min_playtime\"].fillna(0,inplace=True);\n",
    "df_ML[\"max_playtime\"].fillna(df_ML[\"max_playtime\"].max(),inplace=True);"
   ]
  },
  {
   "cell_type": "code",
   "execution_count": 19,
   "metadata": {},
   "outputs": [],
   "source": [
    "df_ML = df_ML[(np.abs(stats.zscore(df_ML['min_playtime'])) < 2.5)]\n",
    "df_ML = df_ML[(np.abs(stats.zscore(df_ML['max_playtime'])) < 3)]"
   ]
  },
  {
   "cell_type": "code",
   "execution_count": 20,
   "metadata": {},
   "outputs": [
    {
     "data": {
      "text/html": [
       "<div>\n",
       "<style scoped>\n",
       "    .dataframe tbody tr th:only-of-type {\n",
       "        vertical-align: middle;\n",
       "    }\n",
       "\n",
       "    .dataframe tbody tr th {\n",
       "        vertical-align: top;\n",
       "    }\n",
       "\n",
       "    .dataframe thead th {\n",
       "        text-align: right;\n",
       "    }\n",
       "</style>\n",
       "<table border=\"1\" class=\"dataframe\">\n",
       "  <thead>\n",
       "    <tr style=\"text-align: right;\">\n",
       "      <th></th>\n",
       "      <th>usd_pledged</th>\n",
       "      <th>min_players</th>\n",
       "      <th>max_players</th>\n",
       "      <th>min_playtime</th>\n",
       "      <th>max_playtime</th>\n",
       "      <th>min_age</th>\n",
       "      <th>averageweight</th>\n",
       "      <th>usd_goal</th>\n",
       "    </tr>\n",
       "  </thead>\n",
       "  <tbody>\n",
       "    <tr>\n",
       "      <th>count</th>\n",
       "      <td>3.190000e+02</td>\n",
       "      <td>319.000000</td>\n",
       "      <td>319.000000</td>\n",
       "      <td>319.000000</td>\n",
       "      <td>319.000000</td>\n",
       "      <td>319.000000</td>\n",
       "      <td>319.000000</td>\n",
       "      <td>3.190000e+02</td>\n",
       "    </tr>\n",
       "    <tr>\n",
       "      <th>mean</th>\n",
       "      <td>1.373996e+05</td>\n",
       "      <td>1.786834</td>\n",
       "      <td>4.711599</td>\n",
       "      <td>52.047022</td>\n",
       "      <td>88.573668</td>\n",
       "      <td>10.880878</td>\n",
       "      <td>2.376850</td>\n",
       "      <td>3.689098e+04</td>\n",
       "    </tr>\n",
       "    <tr>\n",
       "      <th>std</th>\n",
       "      <td>2.770440e+05</td>\n",
       "      <td>0.717054</td>\n",
       "      <td>5.881820</td>\n",
       "      <td>36.361752</td>\n",
       "      <td>74.854702</td>\n",
       "      <td>3.264770</td>\n",
       "      <td>0.776606</td>\n",
       "      <td>2.024870e+05</td>\n",
       "    </tr>\n",
       "    <tr>\n",
       "      <th>min</th>\n",
       "      <td>4.049000e+01</td>\n",
       "      <td>1.000000</td>\n",
       "      <td>1.000000</td>\n",
       "      <td>5.000000</td>\n",
       "      <td>10.000000</td>\n",
       "      <td>0.000000</td>\n",
       "      <td>1.000000</td>\n",
       "      <td>4.569029e+00</td>\n",
       "    </tr>\n",
       "    <tr>\n",
       "      <th>25%</th>\n",
       "      <td>1.852900e+04</td>\n",
       "      <td>1.000000</td>\n",
       "      <td>2.000000</td>\n",
       "      <td>30.000000</td>\n",
       "      <td>40.000000</td>\n",
       "      <td>10.000000</td>\n",
       "      <td>1.900000</td>\n",
       "      <td>5.000000e+03</td>\n",
       "    </tr>\n",
       "    <tr>\n",
       "      <th>50%</th>\n",
       "      <td>4.366801e+04</td>\n",
       "      <td>2.000000</td>\n",
       "      <td>4.000000</td>\n",
       "      <td>45.000000</td>\n",
       "      <td>60.000000</td>\n",
       "      <td>12.000000</td>\n",
       "      <td>2.300000</td>\n",
       "      <td>1.240045e+04</td>\n",
       "    </tr>\n",
       "    <tr>\n",
       "      <th>75%</th>\n",
       "      <td>1.037640e+05</td>\n",
       "      <td>2.000000</td>\n",
       "      <td>6.000000</td>\n",
       "      <td>60.000000</td>\n",
       "      <td>120.000000</td>\n",
       "      <td>13.000000</td>\n",
       "      <td>2.857200</td>\n",
       "      <td>2.500000e+04</td>\n",
       "    </tr>\n",
       "    <tr>\n",
       "      <th>max</th>\n",
       "      <td>2.559458e+06</td>\n",
       "      <td>7.000000</td>\n",
       "      <td>100.000000</td>\n",
       "      <td>180.000000</td>\n",
       "      <td>480.000000</td>\n",
       "      <td>17.000000</td>\n",
       "      <td>4.616300</td>\n",
       "      <td>2.513552e+06</td>\n",
       "    </tr>\n",
       "  </tbody>\n",
       "</table>\n",
       "</div>"
      ],
      "text/plain": [
       "        usd_pledged  min_players  max_players  min_playtime  max_playtime  \\\n",
       "count  3.190000e+02   319.000000   319.000000    319.000000    319.000000   \n",
       "mean   1.373996e+05     1.786834     4.711599     52.047022     88.573668   \n",
       "std    2.770440e+05     0.717054     5.881820     36.361752     74.854702   \n",
       "min    4.049000e+01     1.000000     1.000000      5.000000     10.000000   \n",
       "25%    1.852900e+04     1.000000     2.000000     30.000000     40.000000   \n",
       "50%    4.366801e+04     2.000000     4.000000     45.000000     60.000000   \n",
       "75%    1.037640e+05     2.000000     6.000000     60.000000    120.000000   \n",
       "max    2.559458e+06     7.000000   100.000000    180.000000    480.000000   \n",
       "\n",
       "          min_age  averageweight      usd_goal  \n",
       "count  319.000000     319.000000  3.190000e+02  \n",
       "mean    10.880878       2.376850  3.689098e+04  \n",
       "std      3.264770       0.776606  2.024870e+05  \n",
       "min      0.000000       1.000000  4.569029e+00  \n",
       "25%     10.000000       1.900000  5.000000e+03  \n",
       "50%     12.000000       2.300000  1.240045e+04  \n",
       "75%     13.000000       2.857200  2.500000e+04  \n",
       "max     17.000000       4.616300  2.513552e+06  "
      ]
     },
     "execution_count": 20,
     "metadata": {},
     "output_type": "execute_result"
    }
   ],
   "source": [
    "df_ML.describe()"
   ]
  },
  {
   "cell_type": "code",
   "execution_count": 21,
   "metadata": {},
   "outputs": [
    {
     "name": "stdout",
     "output_type": "stream",
     "text": [
      "<class 'pandas.core.frame.DataFrame'>\n",
      "Int64Index: 319 entries, 0 to 335\n",
      "Data columns (total 10 columns):\n",
      " #   Column          Non-Null Count  Dtype  \n",
      "---  ------          --------------  -----  \n",
      " 0   country         319 non-null    object \n",
      " 1   usd_pledged     319 non-null    float64\n",
      " 2   subdomain_name  319 non-null    object \n",
      " 3   min_players     319 non-null    float64\n",
      " 4   max_players     319 non-null    float64\n",
      " 5   min_playtime    319 non-null    float64\n",
      " 6   max_playtime    319 non-null    float64\n",
      " 7   min_age         319 non-null    int64  \n",
      " 8   averageweight   319 non-null    float64\n",
      " 9   usd_goal        319 non-null    float64\n",
      "dtypes: float64(7), int64(1), object(2)\n",
      "memory usage: 27.4+ KB\n"
     ]
    }
   ],
   "source": [
    "df_ML.info()"
   ]
  },
  {
   "cell_type": "code",
   "execution_count": 22,
   "metadata": {},
   "outputs": [
    {
     "name": "stderr",
     "output_type": "stream",
     "text": [
      "/var/folders/4q/cl23pkln7hj7tnvr0yw_yhkw0000gn/T/ipykernel_8378/919643619.py:1: FutureWarning: Using the level keyword in DataFrame and Series aggregations is deprecated and will be removed in a future version. Use groupby instead. df.sum(level=1) should use df.groupby(level=1).sum().\n",
      "  subdomain_dummy = pd.get_dummies(df_ML.subdomain_name.apply(pd.Series).stack(), drop_first=True).sum(level=0)\n"
     ]
    }
   ],
   "source": [
    "subdomain_dummy = pd.get_dummies(df_ML.subdomain_name.apply(pd.Series).stack(), drop_first=True).sum(level=0)\n",
    "subdomain_dummy.columns = subdomain_dummy.columns.str.strip()"
   ]
  },
  {
   "cell_type": "code",
   "execution_count": 23,
   "metadata": {},
   "outputs": [
    {
     "name": "stderr",
     "output_type": "stream",
     "text": [
      "/var/folders/4q/cl23pkln7hj7tnvr0yw_yhkw0000gn/T/ipykernel_8378/3043570070.py:1: FutureWarning: Using the level keyword in DataFrame and Series aggregations is deprecated and will be removed in a future version. Use groupby instead. df.sum(level=1) should use df.groupby(level=1).sum().\n",
      "  country_dummy = pd.get_dummies(df_ML.country.apply(pd.Series).stack(), drop_first=True).sum(level=0)\n"
     ]
    }
   ],
   "source": [
    "country_dummy = pd.get_dummies(df_ML.country.apply(pd.Series).stack(), drop_first=True).sum(level=0)\n",
    "country_dummy.columns = country_dummy.columns.str.strip()"
   ]
  },
  {
   "cell_type": "code",
   "execution_count": 24,
   "metadata": {},
   "outputs": [
    {
     "data": {
      "text/plain": [
       "Index(['country', 'usd_pledged', 'min_players', 'max_players', 'min_playtime',\n",
       "       'max_playtime', 'min_age', 'averageweight', 'usd_goal', 'Children's',\n",
       "       'Customizable', 'Family', 'Party', 'Strategy', 'Thematic', 'Wargames'],\n",
       "      dtype='object')"
      ]
     },
     "execution_count": 24,
     "metadata": {},
     "output_type": "execute_result"
    }
   ],
   "source": [
    "df = pd.concat([df_ML,subdomain_dummy], axis=1)\n",
    "df = df.drop([\"subdomain_name\"], axis=1)\n",
    "df.columns"
   ]
  },
  {
   "cell_type": "code",
   "execution_count": 25,
   "metadata": {},
   "outputs": [
    {
     "data": {
      "text/plain": [
       "Index(['usd_pledged', 'min_players', 'max_players', 'min_playtime',\n",
       "       'max_playtime', 'min_age', 'averageweight', 'usd_goal', 'Children's',\n",
       "       'Customizable', 'Family', 'Party', 'Strategy', 'Thematic', 'Wargames',\n",
       "       'AU', 'BE', 'CA', 'CH', 'DE', 'ES', 'FR', 'GB', 'HK', 'IT', 'NL', 'NO',\n",
       "       'SG', 'US'],\n",
       "      dtype='object')"
      ]
     },
     "execution_count": 25,
     "metadata": {},
     "output_type": "execute_result"
    }
   ],
   "source": [
    "df = pd.concat([df,country_dummy], axis=1)\n",
    "df = df.drop([\"country\"], axis=1)\n",
    "df.columns"
   ]
  },
  {
   "cell_type": "code",
   "execution_count": 26,
   "metadata": {},
   "outputs": [],
   "source": [
    "X = df[['AU', 'BE', 'CA', 'CH', 'DE', 'ES', 'FR', 'GB', 'HK', 'IT', 'NL', 'NO', 'SG', 'US',\n",
    "        \"Children's\", \"Customizable\", \"Family\", \"Party\", \"Strategy\", \"Thematic\", \"Wargames\", \n",
    "        \"min_players\", \"max_players\", \"min_playtime\", \"min_age\", \"averageweight\", 'usd_goal']]"
   ]
  },
  {
   "cell_type": "code",
   "execution_count": 27,
   "metadata": {},
   "outputs": [],
   "source": [
    "y = df.usd_pledged"
   ]
  },
  {
   "cell_type": "code",
   "execution_count": 36,
   "metadata": {},
   "outputs": [],
   "source": [
    "df2 = df[['DE', \"Party\", \"min_playtime\", \"averageweight\", 'usd_goal', \"usd_pledged\"]]"
   ]
  },
  {
   "cell_type": "code",
   "execution_count": 28,
   "metadata": {},
   "outputs": [],
   "source": [
    "X = sm.add_constant(X)"
   ]
  },
  {
   "cell_type": "code",
   "execution_count": 29,
   "metadata": {},
   "outputs": [
    {
     "data": {
      "text/html": [
       "<table class=\"simpletable\">\n",
       "<caption>OLS Regression Results</caption>\n",
       "<tr>\n",
       "  <th>Dep. Variable:</th>       <td>usd_pledged</td>   <th>  R-squared:         </th> <td>   0.222</td>\n",
       "</tr>\n",
       "<tr>\n",
       "  <th>Model:</th>                   <td>OLS</td>       <th>  Adj. R-squared:    </th> <td>   0.150</td>\n",
       "</tr>\n",
       "<tr>\n",
       "  <th>Method:</th>             <td>Least Squares</td>  <th>  F-statistic:       </th> <td>   3.084</td>\n",
       "</tr>\n",
       "<tr>\n",
       "  <th>Date:</th>             <td>Wed, 13 Jul 2022</td> <th>  Prob (F-statistic):</th> <td>1.36e-06</td>\n",
       "</tr>\n",
       "<tr>\n",
       "  <th>Time:</th>                 <td>12:01:12</td>     <th>  Log-Likelihood:    </th> <td> -4409.7</td>\n",
       "</tr>\n",
       "<tr>\n",
       "  <th>No. Observations:</th>      <td>   319</td>      <th>  AIC:               </th> <td>   8875.</td>\n",
       "</tr>\n",
       "<tr>\n",
       "  <th>Df Residuals:</th>          <td>   291</td>      <th>  BIC:               </th> <td>   8981.</td>\n",
       "</tr>\n",
       "<tr>\n",
       "  <th>Df Model:</th>              <td>    27</td>      <th>                     </th>     <td> </td>   \n",
       "</tr>\n",
       "<tr>\n",
       "  <th>Covariance Type:</th>      <td>nonrobust</td>    <th>                     </th>     <td> </td>   \n",
       "</tr>\n",
       "</table>\n",
       "<table class=\"simpletable\">\n",
       "<tr>\n",
       "        <td></td>           <th>coef</th>     <th>std err</th>      <th>t</th>      <th>P>|t|</th>  <th>[0.025</th>    <th>0.975]</th>  \n",
       "</tr>\n",
       "<tr>\n",
       "  <th>const</th>         <td>-9.687e+04</td> <td> 2.06e+05</td> <td>   -0.471</td> <td> 0.638</td> <td>-5.01e+05</td> <td> 3.08e+05</td>\n",
       "</tr>\n",
       "<tr>\n",
       "  <th>AU</th>            <td> 5.406e+04</td> <td> 2.14e+05</td> <td>    0.252</td> <td> 0.801</td> <td>-3.67e+05</td> <td> 4.75e+05</td>\n",
       "</tr>\n",
       "<tr>\n",
       "  <th>BE</th>            <td> 2.713e+05</td> <td> 2.24e+05</td> <td>    1.211</td> <td> 0.227</td> <td> -1.7e+05</td> <td> 7.12e+05</td>\n",
       "</tr>\n",
       "<tr>\n",
       "  <th>CA</th>            <td> 2.382e+05</td> <td> 2.07e+05</td> <td>    1.150</td> <td> 0.251</td> <td>-1.69e+05</td> <td> 6.46e+05</td>\n",
       "</tr>\n",
       "<tr>\n",
       "  <th>CH</th>            <td>-9731.5544</td> <td> 2.37e+05</td> <td>   -0.041</td> <td> 0.967</td> <td>-4.75e+05</td> <td> 4.56e+05</td>\n",
       "</tr>\n",
       "<tr>\n",
       "  <th>DE</th>            <td> 4.584e+05</td> <td> 2.26e+05</td> <td>    2.027</td> <td> 0.044</td> <td> 1.33e+04</td> <td> 9.04e+05</td>\n",
       "</tr>\n",
       "<tr>\n",
       "  <th>ES</th>            <td> 5.702e+04</td> <td> 2.18e+05</td> <td>    0.262</td> <td> 0.794</td> <td>-3.72e+05</td> <td> 4.86e+05</td>\n",
       "</tr>\n",
       "<tr>\n",
       "  <th>FR</th>            <td> 5.663e+04</td> <td> 2.03e+05</td> <td>    0.280</td> <td> 0.780</td> <td>-3.42e+05</td> <td> 4.55e+05</td>\n",
       "</tr>\n",
       "<tr>\n",
       "  <th>GB</th>            <td> 9.539e+04</td> <td>  1.9e+05</td> <td>    0.503</td> <td> 0.615</td> <td>-2.78e+05</td> <td> 4.69e+05</td>\n",
       "</tr>\n",
       "<tr>\n",
       "  <th>HK</th>            <td>-1.101e+05</td> <td> 2.71e+05</td> <td>   -0.407</td> <td> 0.684</td> <td>-6.43e+05</td> <td> 4.23e+05</td>\n",
       "</tr>\n",
       "<tr>\n",
       "  <th>IT</th>            <td> 1.092e+05</td> <td> 2.06e+05</td> <td>    0.529</td> <td> 0.597</td> <td>-2.97e+05</td> <td> 5.16e+05</td>\n",
       "</tr>\n",
       "<tr>\n",
       "  <th>NL</th>            <td> 1.082e+05</td> <td> 2.23e+05</td> <td>    0.485</td> <td> 0.628</td> <td>-3.31e+05</td> <td> 5.47e+05</td>\n",
       "</tr>\n",
       "<tr>\n",
       "  <th>NO</th>            <td>-2.786e+05</td> <td> 3.36e+05</td> <td>   -0.829</td> <td> 0.408</td> <td> -9.4e+05</td> <td> 3.83e+05</td>\n",
       "</tr>\n",
       "<tr>\n",
       "  <th>SG</th>            <td>-3.274e+04</td> <td> 3.18e+05</td> <td>   -0.103</td> <td> 0.918</td> <td>-6.58e+05</td> <td> 5.93e+05</td>\n",
       "</tr>\n",
       "<tr>\n",
       "  <th>US</th>            <td> 1.143e+05</td> <td> 1.86e+05</td> <td>    0.615</td> <td> 0.539</td> <td>-2.51e+05</td> <td>  4.8e+05</td>\n",
       "</tr>\n",
       "<tr>\n",
       "  <th>Children's</th>    <td>-6.694e+04</td> <td> 1.14e+05</td> <td>   -0.589</td> <td> 0.556</td> <td>-2.91e+05</td> <td> 1.57e+05</td>\n",
       "</tr>\n",
       "<tr>\n",
       "  <th>Customizable</th>  <td>-7.188e+04</td> <td> 1.89e+05</td> <td>   -0.381</td> <td> 0.704</td> <td>-4.43e+05</td> <td>    3e+05</td>\n",
       "</tr>\n",
       "<tr>\n",
       "  <th>Family</th>        <td> 2.601e+04</td> <td> 6.24e+04</td> <td>    0.417</td> <td> 0.677</td> <td>-9.67e+04</td> <td> 1.49e+05</td>\n",
       "</tr>\n",
       "<tr>\n",
       "  <th>Party</th>         <td> 4.373e+05</td> <td> 8.52e+04</td> <td>    5.130</td> <td> 0.000</td> <td>  2.7e+05</td> <td> 6.05e+05</td>\n",
       "</tr>\n",
       "<tr>\n",
       "  <th>Strategy</th>      <td>-1.016e+04</td> <td> 6.38e+04</td> <td>   -0.159</td> <td> 0.874</td> <td>-1.36e+05</td> <td> 1.15e+05</td>\n",
       "</tr>\n",
       "<tr>\n",
       "  <th>Thematic</th>      <td> 6.225e+04</td> <td> 6.71e+04</td> <td>    0.927</td> <td> 0.355</td> <td>-6.99e+04</td> <td> 1.94e+05</td>\n",
       "</tr>\n",
       "<tr>\n",
       "  <th>Wargames</th>      <td>-6.535e+04</td> <td> 6.56e+04</td> <td>   -0.996</td> <td> 0.320</td> <td>-1.94e+05</td> <td> 6.38e+04</td>\n",
       "</tr>\n",
       "<tr>\n",
       "  <th>min_players</th>   <td>-2.684e+04</td> <td> 2.28e+04</td> <td>   -1.176</td> <td> 0.241</td> <td>-7.18e+04</td> <td> 1.81e+04</td>\n",
       "</tr>\n",
       "<tr>\n",
       "  <th>max_players</th>   <td>-2015.7265</td> <td> 2604.264</td> <td>   -0.774</td> <td> 0.440</td> <td>-7141.307</td> <td> 3109.854</td>\n",
       "</tr>\n",
       "<tr>\n",
       "  <th>min_playtime</th>  <td> -715.9943</td> <td>  528.931</td> <td>   -1.354</td> <td> 0.177</td> <td>-1757.010</td> <td>  325.021</td>\n",
       "</tr>\n",
       "<tr>\n",
       "  <th>min_age</th>       <td>-4932.1560</td> <td> 5258.184</td> <td>   -0.938</td> <td> 0.349</td> <td>-1.53e+04</td> <td> 5416.736</td>\n",
       "</tr>\n",
       "<tr>\n",
       "  <th>averageweight</th> <td> 1.028e+05</td> <td> 2.74e+04</td> <td>    3.748</td> <td> 0.000</td> <td> 4.88e+04</td> <td> 1.57e+05</td>\n",
       "</tr>\n",
       "<tr>\n",
       "  <th>usd_goal</th>      <td>    0.3250</td> <td>    0.138</td> <td>    2.361</td> <td> 0.019</td> <td>    0.054</td> <td>    0.596</td>\n",
       "</tr>\n",
       "</table>\n",
       "<table class=\"simpletable\">\n",
       "<tr>\n",
       "  <th>Omnibus:</th>       <td>282.973</td> <th>  Durbin-Watson:     </th> <td>   1.555</td>\n",
       "</tr>\n",
       "<tr>\n",
       "  <th>Prob(Omnibus):</th> <td> 0.000</td>  <th>  Jarque-Bera (JB):  </th> <td>6835.612</td>\n",
       "</tr>\n",
       "<tr>\n",
       "  <th>Skew:</th>          <td> 3.601</td>  <th>  Prob(JB):          </th> <td>    0.00</td>\n",
       "</tr>\n",
       "<tr>\n",
       "  <th>Kurtosis:</th>      <td>24.504</td>  <th>  Cond. No.          </th> <td>1.05e+07</td>\n",
       "</tr>\n",
       "</table><br/><br/>Notes:<br/>[1] Standard Errors assume that the covariance matrix of the errors is correctly specified.<br/>[2] The condition number is large, 1.05e+07. This might indicate that there are<br/>strong multicollinearity or other numerical problems."
      ],
      "text/plain": [
       "<class 'statsmodels.iolib.summary.Summary'>\n",
       "\"\"\"\n",
       "                            OLS Regression Results                            \n",
       "==============================================================================\n",
       "Dep. Variable:            usd_pledged   R-squared:                       0.222\n",
       "Model:                            OLS   Adj. R-squared:                  0.150\n",
       "Method:                 Least Squares   F-statistic:                     3.084\n",
       "Date:                Wed, 13 Jul 2022   Prob (F-statistic):           1.36e-06\n",
       "Time:                        12:01:12   Log-Likelihood:                -4409.7\n",
       "No. Observations:                 319   AIC:                             8875.\n",
       "Df Residuals:                     291   BIC:                             8981.\n",
       "Df Model:                          27                                         \n",
       "Covariance Type:            nonrobust                                         \n",
       "=================================================================================\n",
       "                    coef    std err          t      P>|t|      [0.025      0.975]\n",
       "---------------------------------------------------------------------------------\n",
       "const         -9.687e+04   2.06e+05     -0.471      0.638   -5.01e+05    3.08e+05\n",
       "AU             5.406e+04   2.14e+05      0.252      0.801   -3.67e+05    4.75e+05\n",
       "BE             2.713e+05   2.24e+05      1.211      0.227    -1.7e+05    7.12e+05\n",
       "CA             2.382e+05   2.07e+05      1.150      0.251   -1.69e+05    6.46e+05\n",
       "CH            -9731.5544   2.37e+05     -0.041      0.967   -4.75e+05    4.56e+05\n",
       "DE             4.584e+05   2.26e+05      2.027      0.044    1.33e+04    9.04e+05\n",
       "ES             5.702e+04   2.18e+05      0.262      0.794   -3.72e+05    4.86e+05\n",
       "FR             5.663e+04   2.03e+05      0.280      0.780   -3.42e+05    4.55e+05\n",
       "GB             9.539e+04    1.9e+05      0.503      0.615   -2.78e+05    4.69e+05\n",
       "HK            -1.101e+05   2.71e+05     -0.407      0.684   -6.43e+05    4.23e+05\n",
       "IT             1.092e+05   2.06e+05      0.529      0.597   -2.97e+05    5.16e+05\n",
       "NL             1.082e+05   2.23e+05      0.485      0.628   -3.31e+05    5.47e+05\n",
       "NO            -2.786e+05   3.36e+05     -0.829      0.408    -9.4e+05    3.83e+05\n",
       "SG            -3.274e+04   3.18e+05     -0.103      0.918   -6.58e+05    5.93e+05\n",
       "US             1.143e+05   1.86e+05      0.615      0.539   -2.51e+05     4.8e+05\n",
       "Children's    -6.694e+04   1.14e+05     -0.589      0.556   -2.91e+05    1.57e+05\n",
       "Customizable  -7.188e+04   1.89e+05     -0.381      0.704   -4.43e+05       3e+05\n",
       "Family         2.601e+04   6.24e+04      0.417      0.677   -9.67e+04    1.49e+05\n",
       "Party          4.373e+05   8.52e+04      5.130      0.000     2.7e+05    6.05e+05\n",
       "Strategy      -1.016e+04   6.38e+04     -0.159      0.874   -1.36e+05    1.15e+05\n",
       "Thematic       6.225e+04   6.71e+04      0.927      0.355   -6.99e+04    1.94e+05\n",
       "Wargames      -6.535e+04   6.56e+04     -0.996      0.320   -1.94e+05    6.38e+04\n",
       "min_players   -2.684e+04   2.28e+04     -1.176      0.241   -7.18e+04    1.81e+04\n",
       "max_players   -2015.7265   2604.264     -0.774      0.440   -7141.307    3109.854\n",
       "min_playtime   -715.9943    528.931     -1.354      0.177   -1757.010     325.021\n",
       "min_age       -4932.1560   5258.184     -0.938      0.349   -1.53e+04    5416.736\n",
       "averageweight  1.028e+05   2.74e+04      3.748      0.000    4.88e+04    1.57e+05\n",
       "usd_goal          0.3250      0.138      2.361      0.019       0.054       0.596\n",
       "==============================================================================\n",
       "Omnibus:                      282.973   Durbin-Watson:                   1.555\n",
       "Prob(Omnibus):                  0.000   Jarque-Bera (JB):             6835.612\n",
       "Skew:                           3.601   Prob(JB):                         0.00\n",
       "Kurtosis:                      24.504   Cond. No.                     1.05e+07\n",
       "==============================================================================\n",
       "\n",
       "Notes:\n",
       "[1] Standard Errors assume that the covariance matrix of the errors is correctly specified.\n",
       "[2] The condition number is large, 1.05e+07. This might indicate that there are\n",
       "strong multicollinearity or other numerical problems.\n",
       "\"\"\""
      ]
     },
     "execution_count": 29,
     "metadata": {},
     "output_type": "execute_result"
    }
   ],
   "source": [
    "# create an OLS model\n",
    "our_model = sm.OLS(y, X)\n",
    "\n",
    "# use the data to calculate the intercept and slope\n",
    "model_results = our_model.fit()\n",
    "\n",
    "# return the output of the model\n",
    "model_results.summary() # summary contains eg. 'const' (intercept) and 'slope' of the regression equation."
   ]
  },
  {
   "cell_type": "code",
   "execution_count": 54,
   "metadata": {},
   "outputs": [
    {
     "data": {
      "text/html": [
       "<div>\n",
       "<style scoped>\n",
       "    .dataframe tbody tr th:only-of-type {\n",
       "        vertical-align: middle;\n",
       "    }\n",
       "\n",
       "    .dataframe tbody tr th {\n",
       "        vertical-align: top;\n",
       "    }\n",
       "\n",
       "    .dataframe thead th {\n",
       "        text-align: right;\n",
       "    }\n",
       "</style>\n",
       "<table border=\"1\" class=\"dataframe\">\n",
       "  <thead>\n",
       "    <tr style=\"text-align: right;\">\n",
       "      <th></th>\n",
       "      <th>const</th>\n",
       "      <th>averageweight</th>\n",
       "      <th>usd_goal</th>\n",
       "      <th>min_playtime</th>\n",
       "      <th>Party</th>\n",
       "      <th>DE</th>\n",
       "    </tr>\n",
       "  </thead>\n",
       "  <tbody>\n",
       "    <tr>\n",
       "      <th>count</th>\n",
       "      <td>319.0</td>\n",
       "      <td>319.000000</td>\n",
       "      <td>3.190000e+02</td>\n",
       "      <td>319.000000</td>\n",
       "      <td>319.000000</td>\n",
       "      <td>319.000000</td>\n",
       "    </tr>\n",
       "    <tr>\n",
       "      <th>mean</th>\n",
       "      <td>1.0</td>\n",
       "      <td>2.376850</td>\n",
       "      <td>3.689098e+04</td>\n",
       "      <td>52.047022</td>\n",
       "      <td>0.053292</td>\n",
       "      <td>0.012539</td>\n",
       "    </tr>\n",
       "    <tr>\n",
       "      <th>std</th>\n",
       "      <td>0.0</td>\n",
       "      <td>0.776606</td>\n",
       "      <td>2.024870e+05</td>\n",
       "      <td>36.361752</td>\n",
       "      <td>0.224967</td>\n",
       "      <td>0.111449</td>\n",
       "    </tr>\n",
       "    <tr>\n",
       "      <th>min</th>\n",
       "      <td>1.0</td>\n",
       "      <td>1.000000</td>\n",
       "      <td>4.569029e+00</td>\n",
       "      <td>5.000000</td>\n",
       "      <td>0.000000</td>\n",
       "      <td>0.000000</td>\n",
       "    </tr>\n",
       "    <tr>\n",
       "      <th>25%</th>\n",
       "      <td>1.0</td>\n",
       "      <td>1.900000</td>\n",
       "      <td>5.000000e+03</td>\n",
       "      <td>30.000000</td>\n",
       "      <td>0.000000</td>\n",
       "      <td>0.000000</td>\n",
       "    </tr>\n",
       "    <tr>\n",
       "      <th>50%</th>\n",
       "      <td>1.0</td>\n",
       "      <td>2.300000</td>\n",
       "      <td>1.240045e+04</td>\n",
       "      <td>45.000000</td>\n",
       "      <td>0.000000</td>\n",
       "      <td>0.000000</td>\n",
       "    </tr>\n",
       "    <tr>\n",
       "      <th>75%</th>\n",
       "      <td>1.0</td>\n",
       "      <td>2.857200</td>\n",
       "      <td>2.500000e+04</td>\n",
       "      <td>60.000000</td>\n",
       "      <td>0.000000</td>\n",
       "      <td>0.000000</td>\n",
       "    </tr>\n",
       "    <tr>\n",
       "      <th>max</th>\n",
       "      <td>1.0</td>\n",
       "      <td>4.616300</td>\n",
       "      <td>2.513552e+06</td>\n",
       "      <td>180.000000</td>\n",
       "      <td>1.000000</td>\n",
       "      <td>1.000000</td>\n",
       "    </tr>\n",
       "  </tbody>\n",
       "</table>\n",
       "</div>"
      ],
      "text/plain": [
       "       const  averageweight      usd_goal  min_playtime       Party  \\\n",
       "count  319.0     319.000000  3.190000e+02    319.000000  319.000000   \n",
       "mean     1.0       2.376850  3.689098e+04     52.047022    0.053292   \n",
       "std      0.0       0.776606  2.024870e+05     36.361752    0.224967   \n",
       "min      1.0       1.000000  4.569029e+00      5.000000    0.000000   \n",
       "25%      1.0       1.900000  5.000000e+03     30.000000    0.000000   \n",
       "50%      1.0       2.300000  1.240045e+04     45.000000    0.000000   \n",
       "75%      1.0       2.857200  2.500000e+04     60.000000    0.000000   \n",
       "max      1.0       4.616300  2.513552e+06    180.000000    1.000000   \n",
       "\n",
       "               DE  \n",
       "count  319.000000  \n",
       "mean     0.012539  \n",
       "std      0.111449  \n",
       "min      0.000000  \n",
       "25%      0.000000  \n",
       "50%      0.000000  \n",
       "75%      0.000000  \n",
       "max      1.000000  "
      ]
     },
     "execution_count": 54,
     "metadata": {},
     "output_type": "execute_result"
    }
   ],
   "source": [
    "X = df[['averageweight','usd_goal','min_playtime','Party','DE']]\n",
    "X = sm.add_constant(X)\n",
    "X.describe()"
   ]
  },
  {
   "cell_type": "code",
   "execution_count": 40,
   "metadata": {},
   "outputs": [],
   "source": [
    "df2 = sm.add_constant(df2)"
   ]
  },
  {
   "cell_type": "code",
   "execution_count": 49,
   "metadata": {},
   "outputs": [
    {
     "data": {
      "text/plain": [
       "['const',\n",
       " 'DE',\n",
       " 'Party',\n",
       " 'min_playtime',\n",
       " 'averageweight',\n",
       " 'usd_goal',\n",
       " 'usd_pledged']"
      ]
     },
     "execution_count": 49,
     "metadata": {},
     "output_type": "execute_result"
    }
   ],
   "source": [
    "col = df2.columns.to_list()\n",
    "col"
   ]
  },
  {
   "cell_type": "code",
   "execution_count": 46,
   "metadata": {},
   "outputs": [
    {
     "data": {
      "text/plain": [
       "[[1.0,\n",
       "  1.0,\n",
       "  1.0,\n",
       "  1.0,\n",
       "  1.0,\n",
       "  1.0,\n",
       "  1.0,\n",
       "  1.0,\n",
       "  1.0,\n",
       "  1.0,\n",
       "  1.0,\n",
       "  1.0,\n",
       "  1.0,\n",
       "  1.0,\n",
       "  1.0,\n",
       "  1.0,\n",
       "  1.0,\n",
       "  1.0,\n",
       "  1.0,\n",
       "  1.0,\n",
       "  1.0,\n",
       "  1.0,\n",
       "  1.0,\n",
       "  1.0,\n",
       "  1.0,\n",
       "  1.0,\n",
       "  1.0,\n",
       "  1.0,\n",
       "  1.0,\n",
       "  1.0,\n",
       "  1.0,\n",
       "  1.0,\n",
       "  1.0,\n",
       "  1.0,\n",
       "  1.0,\n",
       "  1.0,\n",
       "  1.0,\n",
       "  1.0,\n",
       "  1.0,\n",
       "  1.0,\n",
       "  1.0,\n",
       "  1.0,\n",
       "  1.0,\n",
       "  1.0,\n",
       "  1.0,\n",
       "  1.0,\n",
       "  1.0,\n",
       "  1.0,\n",
       "  1.0,\n",
       "  1.0,\n",
       "  1.0,\n",
       "  1.0,\n",
       "  1.0,\n",
       "  1.0,\n",
       "  1.0,\n",
       "  1.0,\n",
       "  1.0,\n",
       "  1.0,\n",
       "  1.0,\n",
       "  1.0,\n",
       "  1.0,\n",
       "  1.0,\n",
       "  1.0,\n",
       "  1.0,\n",
       "  1.0,\n",
       "  1.0,\n",
       "  1.0,\n",
       "  1.0,\n",
       "  1.0,\n",
       "  1.0,\n",
       "  1.0,\n",
       "  1.0,\n",
       "  1.0,\n",
       "  1.0,\n",
       "  1.0,\n",
       "  1.0,\n",
       "  1.0,\n",
       "  1.0,\n",
       "  1.0,\n",
       "  1.0,\n",
       "  1.0,\n",
       "  1.0,\n",
       "  1.0,\n",
       "  1.0,\n",
       "  1.0,\n",
       "  1.0,\n",
       "  1.0,\n",
       "  1.0,\n",
       "  1.0,\n",
       "  1.0,\n",
       "  1.0,\n",
       "  1.0,\n",
       "  1.0,\n",
       "  1.0,\n",
       "  1.0,\n",
       "  1.0,\n",
       "  1.0,\n",
       "  1.0,\n",
       "  1.0,\n",
       "  1.0,\n",
       "  1.0,\n",
       "  1.0,\n",
       "  1.0,\n",
       "  1.0,\n",
       "  1.0,\n",
       "  1.0,\n",
       "  1.0,\n",
       "  1.0,\n",
       "  1.0,\n",
       "  1.0,\n",
       "  1.0,\n",
       "  1.0,\n",
       "  1.0,\n",
       "  1.0,\n",
       "  1.0,\n",
       "  1.0,\n",
       "  1.0,\n",
       "  1.0,\n",
       "  1.0,\n",
       "  1.0,\n",
       "  1.0,\n",
       "  1.0,\n",
       "  1.0,\n",
       "  1.0,\n",
       "  1.0,\n",
       "  1.0,\n",
       "  1.0,\n",
       "  1.0,\n",
       "  1.0,\n",
       "  1.0,\n",
       "  1.0,\n",
       "  1.0,\n",
       "  1.0,\n",
       "  1.0,\n",
       "  1.0,\n",
       "  1.0,\n",
       "  1.0,\n",
       "  1.0,\n",
       "  1.0,\n",
       "  1.0,\n",
       "  1.0,\n",
       "  1.0,\n",
       "  1.0,\n",
       "  1.0,\n",
       "  1.0,\n",
       "  1.0,\n",
       "  1.0,\n",
       "  1.0,\n",
       "  1.0,\n",
       "  1.0,\n",
       "  1.0,\n",
       "  1.0,\n",
       "  1.0,\n",
       "  1.0,\n",
       "  1.0,\n",
       "  1.0,\n",
       "  1.0,\n",
       "  1.0,\n",
       "  1.0,\n",
       "  1.0,\n",
       "  1.0,\n",
       "  1.0,\n",
       "  1.0,\n",
       "  1.0,\n",
       "  1.0,\n",
       "  1.0,\n",
       "  1.0,\n",
       "  1.0,\n",
       "  1.0,\n",
       "  1.0,\n",
       "  1.0,\n",
       "  1.0,\n",
       "  1.0,\n",
       "  1.0,\n",
       "  1.0,\n",
       "  1.0,\n",
       "  1.0,\n",
       "  1.0,\n",
       "  1.0,\n",
       "  1.0,\n",
       "  1.0,\n",
       "  1.0,\n",
       "  1.0,\n",
       "  1.0,\n",
       "  1.0,\n",
       "  1.0,\n",
       "  1.0,\n",
       "  1.0,\n",
       "  1.0,\n",
       "  1.0,\n",
       "  1.0,\n",
       "  1.0,\n",
       "  1.0,\n",
       "  1.0,\n",
       "  1.0,\n",
       "  1.0,\n",
       "  1.0,\n",
       "  1.0,\n",
       "  1.0,\n",
       "  1.0,\n",
       "  1.0,\n",
       "  1.0,\n",
       "  1.0,\n",
       "  1.0,\n",
       "  1.0,\n",
       "  1.0,\n",
       "  1.0,\n",
       "  1.0,\n",
       "  1.0,\n",
       "  1.0,\n",
       "  1.0,\n",
       "  1.0,\n",
       "  1.0,\n",
       "  1.0,\n",
       "  1.0,\n",
       "  1.0,\n",
       "  1.0,\n",
       "  1.0,\n",
       "  1.0,\n",
       "  1.0,\n",
       "  1.0,\n",
       "  1.0,\n",
       "  1.0,\n",
       "  1.0,\n",
       "  1.0,\n",
       "  1.0,\n",
       "  1.0,\n",
       "  1.0,\n",
       "  1.0,\n",
       "  1.0,\n",
       "  1.0,\n",
       "  1.0,\n",
       "  1.0,\n",
       "  1.0,\n",
       "  1.0,\n",
       "  1.0,\n",
       "  1.0,\n",
       "  1.0,\n",
       "  1.0,\n",
       "  1.0,\n",
       "  1.0,\n",
       "  1.0,\n",
       "  1.0,\n",
       "  1.0,\n",
       "  1.0,\n",
       "  1.0,\n",
       "  1.0,\n",
       "  1.0,\n",
       "  1.0,\n",
       "  1.0,\n",
       "  1.0,\n",
       "  1.0,\n",
       "  1.0,\n",
       "  1.0,\n",
       "  1.0,\n",
       "  1.0,\n",
       "  1.0,\n",
       "  1.0,\n",
       "  1.0,\n",
       "  1.0,\n",
       "  1.0,\n",
       "  1.0,\n",
       "  1.0,\n",
       "  1.0,\n",
       "  1.0,\n",
       "  1.0,\n",
       "  1.0,\n",
       "  1.0,\n",
       "  1.0,\n",
       "  1.0,\n",
       "  1.0,\n",
       "  1.0,\n",
       "  1.0,\n",
       "  1.0,\n",
       "  1.0,\n",
       "  1.0,\n",
       "  1.0,\n",
       "  1.0,\n",
       "  1.0,\n",
       "  1.0,\n",
       "  1.0,\n",
       "  1.0,\n",
       "  1.0,\n",
       "  1.0,\n",
       "  1.0,\n",
       "  1.0,\n",
       "  1.0,\n",
       "  1.0,\n",
       "  1.0,\n",
       "  1.0,\n",
       "  1.0,\n",
       "  1.0,\n",
       "  1.0,\n",
       "  1.0,\n",
       "  1.0,\n",
       "  1.0,\n",
       "  1.0,\n",
       "  1.0,\n",
       "  1.0,\n",
       "  1.0,\n",
       "  1.0,\n",
       "  1.0,\n",
       "  1.0,\n",
       "  1.0,\n",
       "  1.0,\n",
       "  1.0,\n",
       "  1.0,\n",
       "  1.0,\n",
       "  1.0,\n",
       "  1.0,\n",
       "  1.0,\n",
       "  1.0,\n",
       "  1.0,\n",
       "  1.0,\n",
       "  1.0,\n",
       "  1.0,\n",
       "  1.0,\n",
       "  1.0,\n",
       "  1.0]]"
      ]
     },
     "execution_count": 46,
     "metadata": {},
     "output_type": "execute_result"
    }
   ],
   "source": [
    "const = [df2[\"const\"].to_list()]\n",
    "avgwei = [df2[\"averageweight\"].to_list()]\n",
    "usd_goal = [df2[\"usd_goal\"].to_list()]\n",
    "min_playtime = [df2[\"min_playtime\"].to_list()]\n",
    "party = [df2[\"Party\"].to_list()]\n",
    "DE = [df2[\"DE\"].to_list()]\n",
    "usd_pledged = [df2[\"usd_pledged\"].to_list()]\n",
    "\n",
    "const\n",
    "\n",
    "## Für Christopher\n"
   ]
  },
  {
   "cell_type": "code",
   "execution_count": 50,
   "metadata": {},
   "outputs": [],
   "source": [
    "dic = {\n",
    "col[0]: const,\n",
    "col[1]: DE,\n",
    "col[2]: party,\n",
    "col[3]: min_playtime,\n",
    "col[4]: avgwei,\n",
    "col[5]: usd_goal,\n",
    "col[6]: usd_pledged\n",
    "}"
   ]
  },
  {
   "cell_type": "code",
   "execution_count": 51,
   "metadata": {},
   "outputs": [
    {
     "data": {
      "text/html": [
       "<div>\n",
       "<style scoped>\n",
       "    .dataframe tbody tr th:only-of-type {\n",
       "        vertical-align: middle;\n",
       "    }\n",
       "\n",
       "    .dataframe tbody tr th {\n",
       "        vertical-align: top;\n",
       "    }\n",
       "\n",
       "    .dataframe thead th {\n",
       "        text-align: right;\n",
       "    }\n",
       "</style>\n",
       "<table border=\"1\" class=\"dataframe\">\n",
       "  <thead>\n",
       "    <tr style=\"text-align: right;\">\n",
       "      <th></th>\n",
       "      <th>const</th>\n",
       "      <th>DE</th>\n",
       "      <th>Party</th>\n",
       "      <th>min_playtime</th>\n",
       "      <th>averageweight</th>\n",
       "      <th>usd_goal</th>\n",
       "      <th>usd_pledged</th>\n",
       "    </tr>\n",
       "  </thead>\n",
       "  <tbody>\n",
       "    <tr>\n",
       "      <th>0</th>\n",
       "      <td>[1.0, 1.0, 1.0, 1.0, 1.0, 1.0, 1.0, 1.0, 1.0, ...</td>\n",
       "      <td>[0, 0, 0, 0, 0, 0, 0, 0, 0, 0, 0, 0, 0, 0, 0, ...</td>\n",
       "      <td>[0, 0, 0, 0, 0, 0, 0, 0, 0, 0, 0, 0, 0, 0, 0, ...</td>\n",
       "      <td>[90.0, 15.0, 120.0, 5.0, 60.0, 10.0, 60.0, 30....</td>\n",
       "      <td>[2.625, 1.0385, 2.6667, 1.675, 2.2534, 2.0714,...</td>\n",
       "      <td>[786.7978359249521, 44415.55900059686, 27663.0...</td>\n",
       "      <td>[10105.01, 210531.26, 63244.0, 12058.0, 76254....</td>\n",
       "    </tr>\n",
       "  </tbody>\n",
       "</table>\n",
       "</div>"
      ],
      "text/plain": [
       "                                               const  \\\n",
       "0  [1.0, 1.0, 1.0, 1.0, 1.0, 1.0, 1.0, 1.0, 1.0, ...   \n",
       "\n",
       "                                                  DE  \\\n",
       "0  [0, 0, 0, 0, 0, 0, 0, 0, 0, 0, 0, 0, 0, 0, 0, ...   \n",
       "\n",
       "                                               Party  \\\n",
       "0  [0, 0, 0, 0, 0, 0, 0, 0, 0, 0, 0, 0, 0, 0, 0, ...   \n",
       "\n",
       "                                        min_playtime  \\\n",
       "0  [90.0, 15.0, 120.0, 5.0, 60.0, 10.0, 60.0, 30....   \n",
       "\n",
       "                                       averageweight  \\\n",
       "0  [2.625, 1.0385, 2.6667, 1.675, 2.2534, 2.0714,...   \n",
       "\n",
       "                                            usd_goal  \\\n",
       "0  [786.7978359249521, 44415.55900059686, 27663.0...   \n",
       "\n",
       "                                         usd_pledged  \n",
       "0  [10105.01, 210531.26, 63244.0, 12058.0, 76254....  "
      ]
     },
     "execution_count": 51,
     "metadata": {},
     "output_type": "execute_result"
    }
   ],
   "source": [
    "df_lin_re = pd.DataFrame(dic)\n",
    "df_lin_re"
   ]
  },
  {
   "cell_type": "code",
   "execution_count": 52,
   "metadata": {},
   "outputs": [],
   "source": [
    "df_lin_re.to_csv(\"/Users/jannikduda/neuefische/Daily-Lama-Capstone/data/bgg_lin_re.csv\")"
   ]
  },
  {
   "cell_type": "code",
   "execution_count": 56,
   "metadata": {},
   "outputs": [
    {
     "data": {
      "text/html": [
       "<table class=\"simpletable\">\n",
       "<caption>OLS Regression Results</caption>\n",
       "<tr>\n",
       "  <th>Dep. Variable:</th>       <td>usd_pledged</td>   <th>  R-squared:         </th> <td>   0.173</td>\n",
       "</tr>\n",
       "<tr>\n",
       "  <th>Model:</th>                   <td>OLS</td>       <th>  Adj. R-squared:    </th> <td>   0.160</td>\n",
       "</tr>\n",
       "<tr>\n",
       "  <th>Method:</th>             <td>Least Squares</td>  <th>  F-statistic:       </th> <td>   13.13</td>\n",
       "</tr>\n",
       "<tr>\n",
       "  <th>Date:</th>             <td>Wed, 13 Jul 2022</td> <th>  Prob (F-statistic):</th> <td>1.28e-11</td>\n",
       "</tr>\n",
       "<tr>\n",
       "  <th>Time:</th>                 <td>14:58:04</td>     <th>  Log-Likelihood:    </th> <td> -4419.5</td>\n",
       "</tr>\n",
       "<tr>\n",
       "  <th>No. Observations:</th>      <td>   319</td>      <th>  AIC:               </th> <td>   8851.</td>\n",
       "</tr>\n",
       "<tr>\n",
       "  <th>Df Residuals:</th>          <td>   313</td>      <th>  BIC:               </th> <td>   8873.</td>\n",
       "</tr>\n",
       "<tr>\n",
       "  <th>Df Model:</th>              <td>     5</td>      <th>                     </th>     <td> </td>   \n",
       "</tr>\n",
       "<tr>\n",
       "  <th>Covariance Type:</th>      <td>nonrobust</td>    <th>                     </th>     <td> </td>   \n",
       "</tr>\n",
       "</table>\n",
       "<table class=\"simpletable\">\n",
       "<tr>\n",
       "        <td></td>           <th>coef</th>     <th>std err</th>      <th>t</th>      <th>P>|t|</th>  <th>[0.025</th>    <th>0.975]</th>  \n",
       "</tr>\n",
       "<tr>\n",
       "  <th>const</th>         <td>-8.058e+04</td> <td> 4.92e+04</td> <td>   -1.637</td> <td> 0.103</td> <td>-1.77e+05</td> <td> 1.63e+04</td>\n",
       "</tr>\n",
       "<tr>\n",
       "  <th>averageweight</th> <td> 1.052e+05</td> <td> 2.24e+04</td> <td>    4.693</td> <td> 0.000</td> <td> 6.11e+04</td> <td> 1.49e+05</td>\n",
       "</tr>\n",
       "<tr>\n",
       "  <th>usd_goal</th>      <td>    0.1524</td> <td>    0.072</td> <td>    2.120</td> <td> 0.035</td> <td>    0.011</td> <td>    0.294</td>\n",
       "</tr>\n",
       "<tr>\n",
       "  <th>min_playtime</th>  <td>-1208.8459</td> <td>  459.565</td> <td>   -2.630</td> <td> 0.009</td> <td>-2113.073</td> <td> -304.619</td>\n",
       "</tr>\n",
       "<tr>\n",
       "  <th>Party</th>         <td> 3.985e+05</td> <td> 6.61e+04</td> <td>    6.025</td> <td> 0.000</td> <td> 2.68e+05</td> <td> 5.29e+05</td>\n",
       "</tr>\n",
       "<tr>\n",
       "  <th>DE</th>            <td> 3.158e+05</td> <td> 1.28e+05</td> <td>    2.464</td> <td> 0.014</td> <td> 6.36e+04</td> <td> 5.68e+05</td>\n",
       "</tr>\n",
       "</table>\n",
       "<table class=\"simpletable\">\n",
       "<tr>\n",
       "  <th>Omnibus:</th>       <td>278.830</td> <th>  Durbin-Watson:     </th> <td>   1.526</td>\n",
       "</tr>\n",
       "<tr>\n",
       "  <th>Prob(Omnibus):</th> <td> 0.000</td>  <th>  Jarque-Bera (JB):  </th> <td>6227.891</td>\n",
       "</tr>\n",
       "<tr>\n",
       "  <th>Skew:</th>          <td> 3.555</td>  <th>  Prob(JB):          </th> <td>    0.00</td>\n",
       "</tr>\n",
       "<tr>\n",
       "  <th>Kurtosis:</th>      <td>23.445</td>  <th>  Cond. No.          </th> <td>1.85e+06</td>\n",
       "</tr>\n",
       "</table><br/><br/>Notes:<br/>[1] Standard Errors assume that the covariance matrix of the errors is correctly specified.<br/>[2] The condition number is large, 1.85e+06. This might indicate that there are<br/>strong multicollinearity or other numerical problems."
      ],
      "text/plain": [
       "<class 'statsmodels.iolib.summary.Summary'>\n",
       "\"\"\"\n",
       "                            OLS Regression Results                            \n",
       "==============================================================================\n",
       "Dep. Variable:            usd_pledged   R-squared:                       0.173\n",
       "Model:                            OLS   Adj. R-squared:                  0.160\n",
       "Method:                 Least Squares   F-statistic:                     13.13\n",
       "Date:                Wed, 13 Jul 2022   Prob (F-statistic):           1.28e-11\n",
       "Time:                        14:58:04   Log-Likelihood:                -4419.5\n",
       "No. Observations:                 319   AIC:                             8851.\n",
       "Df Residuals:                     313   BIC:                             8873.\n",
       "Df Model:                           5                                         \n",
       "Covariance Type:            nonrobust                                         \n",
       "=================================================================================\n",
       "                    coef    std err          t      P>|t|      [0.025      0.975]\n",
       "---------------------------------------------------------------------------------\n",
       "const         -8.058e+04   4.92e+04     -1.637      0.103   -1.77e+05    1.63e+04\n",
       "averageweight  1.052e+05   2.24e+04      4.693      0.000    6.11e+04    1.49e+05\n",
       "usd_goal          0.1524      0.072      2.120      0.035       0.011       0.294\n",
       "min_playtime  -1208.8459    459.565     -2.630      0.009   -2113.073    -304.619\n",
       "Party          3.985e+05   6.61e+04      6.025      0.000    2.68e+05    5.29e+05\n",
       "DE             3.158e+05   1.28e+05      2.464      0.014    6.36e+04    5.68e+05\n",
       "==============================================================================\n",
       "Omnibus:                      278.830   Durbin-Watson:                   1.526\n",
       "Prob(Omnibus):                  0.000   Jarque-Bera (JB):             6227.891\n",
       "Skew:                           3.555   Prob(JB):                         0.00\n",
       "Kurtosis:                      23.445   Cond. No.                     1.85e+06\n",
       "==============================================================================\n",
       "\n",
       "Notes:\n",
       "[1] Standard Errors assume that the covariance matrix of the errors is correctly specified.\n",
       "[2] The condition number is large, 1.85e+06. This might indicate that there are\n",
       "strong multicollinearity or other numerical problems.\n",
       "\"\"\""
      ]
     },
     "execution_count": 56,
     "metadata": {},
     "output_type": "execute_result"
    }
   ],
   "source": [
    "# create an OLS model\n",
    "our_model = sm.OLS(y, X)\n",
    "#our_model = sm.MANOVA(y, X)\n",
    "\n",
    "# use the data to calculate the intercept and slope\n",
    "model_results = our_model.fit()\n",
    "\n",
    "# return the output of the model\n",
    "model_results.summary() # summary contains eg. 'const' (intercept) and 'slope' of the regression equation."
   ]
  },
  {
   "cell_type": "code",
   "execution_count": 63,
   "metadata": {},
   "outputs": [
    {
     "data": {
      "text/plain": [
       "0.17340417146148845"
      ]
     },
     "execution_count": 63,
     "metadata": {},
     "output_type": "execute_result"
    }
   ],
   "source": [
    "model_results.rsquared"
   ]
  },
  {
   "cell_type": "code",
   "execution_count": 60,
   "metadata": {},
   "outputs": [
    {
     "data": {
      "text/plain": [
       "LinearRegression()"
      ]
     },
     "execution_count": 60,
     "metadata": {},
     "output_type": "execute_result"
    }
   ],
   "source": [
    "regr = linear_model.LinearRegression()\n",
    "regr.fit(X, y)"
   ]
  },
  {
   "cell_type": "code",
   "execution_count": 61,
   "metadata": {},
   "outputs": [
    {
     "name": "stderr",
     "output_type": "stream",
     "text": [
      "/opt/homebrew/Caskroom/miniconda/base/envs/nf_sql/lib/python3.9/site-packages/sklearn/base.py:450: UserWarning: X does not have valid feature names, but LinearRegression was fitted with feature names\n",
      "  warnings.warn(\n"
     ]
    },
    {
     "ename": "ValueError",
     "evalue": "X has 5 features, but LinearRegression is expecting 6 features as input.",
     "output_type": "error",
     "traceback": [
      "\u001b[0;31m---------------------------------------------------------------------------\u001b[0m",
      "\u001b[0;31mValueError\u001b[0m                                Traceback (most recent call last)",
      "\u001b[1;32m/Users/jannikduda/neuefische/Daily-Lama-Capstone/linear_regression_testfield_tableau_prep.ipynb Cell 50'\u001b[0m in \u001b[0;36m<cell line: 2>\u001b[0;34m()\u001b[0m\n\u001b[1;32m      <a href='vscode-notebook-cell:/Users/jannikduda/neuefische/Daily-Lama-Capstone/linear_regression_testfield_tableau_prep.ipynb#ch0000041?line=0'>1</a>\u001b[0m \u001b[39m# X = df[['averageweight','usd_goal','min_playtime','Party', 'DE']]\u001b[39;00m\n\u001b[0;32m----> <a href='vscode-notebook-cell:/Users/jannikduda/neuefische/Daily-Lama-Capstone/linear_regression_testfield_tableau_prep.ipynb#ch0000041?line=1'>2</a>\u001b[0m predicted_pledged_amount \u001b[39m=\u001b[39m regr\u001b[39m.\u001b[39;49mpredict([[\u001b[39m4\u001b[39;49m, \u001b[39m50000\u001b[39;49m, \u001b[39m20\u001b[39;49m, \u001b[39m1\u001b[39;49m, \u001b[39m0\u001b[39;49m]])\n\u001b[1;32m      <a href='vscode-notebook-cell:/Users/jannikduda/neuefische/Daily-Lama-Capstone/linear_regression_testfield_tableau_prep.ipynb#ch0000041?line=2'>3</a>\u001b[0m predicted_pledged_amount\n",
      "File \u001b[0;32m/opt/homebrew/Caskroom/miniconda/base/envs/nf_sql/lib/python3.9/site-packages/sklearn/linear_model/_base.py:362\u001b[0m, in \u001b[0;36mLinearModel.predict\u001b[0;34m(self, X)\u001b[0m\n\u001b[1;32m    348\u001b[0m \u001b[39mdef\u001b[39;00m \u001b[39mpredict\u001b[39m(\u001b[39mself\u001b[39m, X):\n\u001b[1;32m    349\u001b[0m     \u001b[39m\"\"\"\u001b[39;00m\n\u001b[1;32m    350\u001b[0m \u001b[39m    Predict using the linear model.\u001b[39;00m\n\u001b[1;32m    351\u001b[0m \n\u001b[0;32m   (...)\u001b[0m\n\u001b[1;32m    360\u001b[0m \u001b[39m        Returns predicted values.\u001b[39;00m\n\u001b[1;32m    361\u001b[0m \u001b[39m    \"\"\"\u001b[39;00m\n\u001b[0;32m--> 362\u001b[0m     \u001b[39mreturn\u001b[39;00m \u001b[39mself\u001b[39;49m\u001b[39m.\u001b[39;49m_decision_function(X)\n",
      "File \u001b[0;32m/opt/homebrew/Caskroom/miniconda/base/envs/nf_sql/lib/python3.9/site-packages/sklearn/linear_model/_base.py:345\u001b[0m, in \u001b[0;36mLinearModel._decision_function\u001b[0;34m(self, X)\u001b[0m\n\u001b[1;32m    342\u001b[0m \u001b[39mdef\u001b[39;00m \u001b[39m_decision_function\u001b[39m(\u001b[39mself\u001b[39m, X):\n\u001b[1;32m    343\u001b[0m     check_is_fitted(\u001b[39mself\u001b[39m)\n\u001b[0;32m--> 345\u001b[0m     X \u001b[39m=\u001b[39m \u001b[39mself\u001b[39;49m\u001b[39m.\u001b[39;49m_validate_data(X, accept_sparse\u001b[39m=\u001b[39;49m[\u001b[39m\"\u001b[39;49m\u001b[39mcsr\u001b[39;49m\u001b[39m\"\u001b[39;49m, \u001b[39m\"\u001b[39;49m\u001b[39mcsc\u001b[39;49m\u001b[39m\"\u001b[39;49m, \u001b[39m\"\u001b[39;49m\u001b[39mcoo\u001b[39;49m\u001b[39m\"\u001b[39;49m], reset\u001b[39m=\u001b[39;49m\u001b[39mFalse\u001b[39;49;00m)\n\u001b[1;32m    346\u001b[0m     \u001b[39mreturn\u001b[39;00m safe_sparse_dot(X, \u001b[39mself\u001b[39m\u001b[39m.\u001b[39mcoef_\u001b[39m.\u001b[39mT, dense_output\u001b[39m=\u001b[39m\u001b[39mTrue\u001b[39;00m) \u001b[39m+\u001b[39m \u001b[39mself\u001b[39m\u001b[39m.\u001b[39mintercept_\n",
      "File \u001b[0;32m/opt/homebrew/Caskroom/miniconda/base/envs/nf_sql/lib/python3.9/site-packages/sklearn/base.py:585\u001b[0m, in \u001b[0;36mBaseEstimator._validate_data\u001b[0;34m(self, X, y, reset, validate_separately, **check_params)\u001b[0m\n\u001b[1;32m    582\u001b[0m     out \u001b[39m=\u001b[39m X, y\n\u001b[1;32m    584\u001b[0m \u001b[39mif\u001b[39;00m \u001b[39mnot\u001b[39;00m no_val_X \u001b[39mand\u001b[39;00m check_params\u001b[39m.\u001b[39mget(\u001b[39m\"\u001b[39m\u001b[39mensure_2d\u001b[39m\u001b[39m\"\u001b[39m, \u001b[39mTrue\u001b[39;00m):\n\u001b[0;32m--> 585\u001b[0m     \u001b[39mself\u001b[39;49m\u001b[39m.\u001b[39;49m_check_n_features(X, reset\u001b[39m=\u001b[39;49mreset)\n\u001b[1;32m    587\u001b[0m \u001b[39mreturn\u001b[39;00m out\n",
      "File \u001b[0;32m/opt/homebrew/Caskroom/miniconda/base/envs/nf_sql/lib/python3.9/site-packages/sklearn/base.py:400\u001b[0m, in \u001b[0;36mBaseEstimator._check_n_features\u001b[0;34m(self, X, reset)\u001b[0m\n\u001b[1;32m    397\u001b[0m     \u001b[39mreturn\u001b[39;00m\n\u001b[1;32m    399\u001b[0m \u001b[39mif\u001b[39;00m n_features \u001b[39m!=\u001b[39m \u001b[39mself\u001b[39m\u001b[39m.\u001b[39mn_features_in_:\n\u001b[0;32m--> 400\u001b[0m     \u001b[39mraise\u001b[39;00m \u001b[39mValueError\u001b[39;00m(\n\u001b[1;32m    401\u001b[0m         \u001b[39mf\u001b[39m\u001b[39m\"\u001b[39m\u001b[39mX has \u001b[39m\u001b[39m{\u001b[39;00mn_features\u001b[39m}\u001b[39;00m\u001b[39m features, but \u001b[39m\u001b[39m{\u001b[39;00m\u001b[39mself\u001b[39m\u001b[39m.\u001b[39m\u001b[39m__class__\u001b[39m\u001b[39m.\u001b[39m\u001b[39m__name__\u001b[39m\u001b[39m}\u001b[39;00m\u001b[39m \u001b[39m\u001b[39m\"\u001b[39m\n\u001b[1;32m    402\u001b[0m         \u001b[39mf\u001b[39m\u001b[39m\"\u001b[39m\u001b[39mis expecting \u001b[39m\u001b[39m{\u001b[39;00m\u001b[39mself\u001b[39m\u001b[39m.\u001b[39mn_features_in_\u001b[39m}\u001b[39;00m\u001b[39m features as input.\u001b[39m\u001b[39m\"\u001b[39m\n\u001b[1;32m    403\u001b[0m     )\n",
      "\u001b[0;31mValueError\u001b[0m: X has 5 features, but LinearRegression is expecting 6 features as input."
     ]
    }
   ],
   "source": [
    "# X = df[['averageweight','usd_goal','min_playtime','Party', 'DE']]\n",
    "predicted_pledged_amount = regr.predict([[4, 50000, 20, 1, 0]])\n",
    "predicted_pledged_amount"
   ]
  }
 ],
 "metadata": {
  "kernelspec": {
   "display_name": "Python 3.9.12 ('nf_sql')",
   "language": "python",
   "name": "python3"
  },
  "language_info": {
   "codemirror_mode": {
    "name": "ipython",
    "version": 3
   },
   "file_extension": ".py",
   "mimetype": "text/x-python",
   "name": "python",
   "nbconvert_exporter": "python",
   "pygments_lexer": "ipython3",
   "version": "3.9.12"
  },
  "orig_nbformat": 4,
  "vscode": {
   "interpreter": {
    "hash": "a81d278bed5b5b59425dcb5a82ce505657686243c184b4a6b67e69d01c4d432e"
   }
  }
 },
 "nbformat": 4,
 "nbformat_minor": 2
}
