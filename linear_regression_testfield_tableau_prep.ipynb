{
 "cells": [
  {
   "cell_type": "code",
   "execution_count": 55,
   "metadata": {},
   "outputs": [],
   "source": [
    "from sql_functions import get_dataframe\n",
    "import pandas as pd\n",
    "import capstone_functions as cf\n",
    "import numpy as np\n",
    "import statsmodels.api as sm\n",
    "import statsmodels.formula.api as smf\n",
    "from scipy import stats\n",
    "from scipy import interpolate\n",
    "from sklearn import linear_model"
   ]
  },
  {
   "cell_type": "markdown",
   "metadata": {},
   "source": [
    "# Variables"
   ]
  },
  {
   "cell_type": "code",
   "execution_count": 56,
   "metadata": {},
   "outputs": [],
   "source": [
    "top_XX_mechanic = 10\n",
    "\n",
    "schema = \"bgg_data\"\n",
    "main = \"ml_boardgame_stats\"\n",
    "subdomain = \"subdomain\"\n",
    "unique_subdomain = \"unique_subdomain\"\n",
    "kickstarter = \"kickstarter_unique_campaigns\"\n",
    "slug = \"unique_slug_bgg_id\"\n",
    "mechanic = \"mechanics\"\n",
    "unique_mechanics = \"unique_mechanics\"\n",
    "\n",
    "\n",
    "#honor = \"honor_clean\"\n",
    "\n"
   ]
  },
  {
   "cell_type": "markdown",
   "metadata": {},
   "source": [
    "## Create Dataframes for Kickstarter and Mechanic"
   ]
  },
  {
   "cell_type": "code",
   "execution_count": 57,
   "metadata": {},
   "outputs": [],
   "source": [
    "\n",
    "df_ks = get_dataframe(f\"SELECT * FROM {schema}.{kickstarter}\")\n",
    "df_slug = get_dataframe(f\"SELECT * FROM {schema}.{slug}\")\n",
    "df_mech = get_dataframe(f\"SELECT * FROM {schema}.{mechanic}\")\n",
    "df_u_mech = get_dataframe(f\"SELECT * FROM {schema}.{unique_mechanics}\")\n",
    "\n",
    "#df_marketplace = cf.avg_price_from_marketplace()\n",
    "#df_honor = get_dataframe(f\"SELECT * FROM {schema}.{honor}\")"
   ]
  },
  {
   "cell_type": "markdown",
   "metadata": {},
   "source": [
    "Merge kickstarter table with bgg_ids and rename column bgg_id to id"
   ]
  },
  {
   "cell_type": "code",
   "execution_count": 58,
   "metadata": {},
   "outputs": [],
   "source": [
    "df_ks = pd.merge(df_slug,df_ks,on='slug')\n",
    "df_ks.rename({'bgg_id':'id'},axis=1,inplace=True)"
   ]
  },
  {
   "cell_type": "markdown",
   "metadata": {},
   "source": [
    "create dataframe with all mechanics and merge it with the kickstarter dataframe"
   ]
  },
  {
   "cell_type": "code",
   "execution_count": 59,
   "metadata": {},
   "outputs": [],
   "source": [
    "df_mech = pd.merge(df_mech,df_u_mech,on='mechanic_id')\n",
    "df_mech = pd.merge(df_ks,df_mech,on='id')"
   ]
  },
  {
   "cell_type": "markdown",
   "metadata": {},
   "source": [
    "create a list with the top XX mechanics"
   ]
  },
  {
   "cell_type": "code",
   "execution_count": 60,
   "metadata": {},
   "outputs": [],
   "source": [
    "top_mechanics_list = list(df_mech.groupby(['mechanic']).count().sort_values(ascending=False,axis=0,by='id').reset_index()[\"mechanic\"].head(top_XX_mechanic))"
   ]
  },
  {
   "cell_type": "markdown",
   "metadata": {},
   "source": [
    "reduce the dataframe such that IDs are unique"
   ]
  },
  {
   "cell_type": "code",
   "execution_count": 61,
   "metadata": {},
   "outputs": [],
   "source": [
    "df_mech[\"is_in_top_XX_mechanics\"] = df_mech[\"mechanic\"].isin(top_mechanics_list)\n",
    "df_mech = df_mech[['id','is_in_top_XX_mechanics']]\n",
    "df_mech = df_mech.groupby('id').sum().reset_index()"
   ]
  },
  {
   "cell_type": "markdown",
   "metadata": {},
   "source": [
    "Because there are multiple mechanics for one ID, it is possible that for the same ID there are some mechanics in the top and others are not.\n",
    "- create new column with True/False if ID is in top XX categories (XX will be set in the top code field: \"Variables\" -> \"top_XX_mechanic\")"
   ]
  },
  {
   "cell_type": "code",
   "execution_count": 62,
   "metadata": {},
   "outputs": [],
   "source": [
    "df_mech[f\"top_{top_XX_mechanic}_mechanic\"] = df_mech.is_in_top_XX_mechanics > 0"
   ]
  },
  {
   "cell_type": "code",
   "execution_count": 63,
   "metadata": {},
   "outputs": [],
   "source": [
    "df_mech = df_mech[['id',f\"top_{top_XX_mechanic}_mechanic\"]]"
   ]
  },
  {
   "cell_type": "markdown",
   "metadata": {},
   "source": [
    "## Create Dataframes for main and subdomain"
   ]
  },
  {
   "cell_type": "code",
   "execution_count": 64,
   "metadata": {},
   "outputs": [],
   "source": [
    "df_main = get_dataframe(f\"SELECT * FROM {schema}.{main}\")\n",
    "df_sub = get_dataframe(f\"SELECT * FROM {schema}.{subdomain}\")\n",
    "df_u_sub = get_dataframe(f\"SELECT * FROM {schema}.{unique_subdomain}\")"
   ]
  },
  {
   "cell_type": "markdown",
   "metadata": {},
   "source": [
    "- merge Kickstarter with subdomains => 1021 non-null"
   ]
  },
  {
   "cell_type": "code",
   "execution_count": 65,
   "metadata": {},
   "outputs": [],
   "source": [
    "df_sub = pd.merge(df_sub,df_u_sub,on=\"subdomain_id\")\n",
    "df_ks_sub = pd.merge(df_ks,df_sub,on='id')"
   ]
  },
  {
   "cell_type": "markdown",
   "metadata": {},
   "source": [
    "- merge Kickstarter_subdomains with main"
   ]
  },
  {
   "cell_type": "code",
   "execution_count": 66,
   "metadata": {},
   "outputs": [],
   "source": [
    "df_ks_sub_main = pd.merge(df_ks_sub,df_main,on='id')"
   ]
  },
  {
   "cell_type": "markdown",
   "metadata": {},
   "source": [
    "- Build new columns with goal in USD"
   ]
  },
  {
   "cell_type": "code",
   "execution_count": 67,
   "metadata": {},
   "outputs": [],
   "source": [
    "df_ks_sub_main[\"usd_goal\"] = df_ks_sub_main['goal']*(df_ks_sub_main.pledged/df_ks_sub_main.usd_pledged)"
   ]
  },
  {
   "cell_type": "markdown",
   "metadata": {},
   "source": [
    "# Machine Learning\n",
    "- Extract only necessary columns for our ML and drop all null"
   ]
  },
  {
   "cell_type": "code",
   "execution_count": 68,
   "metadata": {},
   "outputs": [],
   "source": [
    "df_ML = df_ks_sub_main[['country','usd_pledged','subdomain_name','min_players','max_players','min_playtime','max_playtime','min_age','averageweight','usd_goal']]\n",
    "#df_ML.dropna(inplace=True);"
   ]
  },
  {
   "cell_type": "code",
   "execution_count": 69,
   "metadata": {},
   "outputs": [
    {
     "name": "stderr",
     "output_type": "stream",
     "text": [
      "/var/folders/kb/wqf78x2d06z43w0nwzbclk3m0000gn/T/ipykernel_2258/2015787152.py:1: SettingWithCopyWarning: \n",
      "A value is trying to be set on a copy of a slice from a DataFrame\n",
      "\n",
      "See the caveats in the documentation: https://pandas.pydata.org/pandas-docs/stable/user_guide/indexing.html#returning-a-view-versus-a-copy\n",
      "  df_ML[\"min_playtime\"].fillna(0,inplace=True);\n",
      "/var/folders/kb/wqf78x2d06z43w0nwzbclk3m0000gn/T/ipykernel_2258/2015787152.py:2: SettingWithCopyWarning: \n",
      "A value is trying to be set on a copy of a slice from a DataFrame\n",
      "\n",
      "See the caveats in the documentation: https://pandas.pydata.org/pandas-docs/stable/user_guide/indexing.html#returning-a-view-versus-a-copy\n",
      "  df_ML[\"max_playtime\"].fillna(df_ML[\"max_playtime\"].max(),inplace=True);\n"
     ]
    }
   ],
   "source": [
    "df_ML[\"min_playtime\"].fillna(0,inplace=True);\n",
    "df_ML[\"max_playtime\"].fillna(df_ML[\"max_playtime\"].max(),inplace=True);"
   ]
  },
  {
   "cell_type": "code",
   "execution_count": 70,
   "metadata": {},
   "outputs": [],
   "source": [
    "df_ML = df_ML[(np.abs(stats.zscore(df_ML['min_playtime'])) < 2.5)]\n",
    "df_ML = df_ML[(np.abs(stats.zscore(df_ML['max_playtime'])) < 3)]"
   ]
  },
  {
   "cell_type": "code",
   "execution_count": 71,
   "metadata": {},
   "outputs": [
    {
     "data": {
      "text/html": [
       "<div>\n",
       "<style scoped>\n",
       "    .dataframe tbody tr th:only-of-type {\n",
       "        vertical-align: middle;\n",
       "    }\n",
       "\n",
       "    .dataframe tbody tr th {\n",
       "        vertical-align: top;\n",
       "    }\n",
       "\n",
       "    .dataframe thead th {\n",
       "        text-align: right;\n",
       "    }\n",
       "</style>\n",
       "<table border=\"1\" class=\"dataframe\">\n",
       "  <thead>\n",
       "    <tr style=\"text-align: right;\">\n",
       "      <th></th>\n",
       "      <th>usd_pledged</th>\n",
       "      <th>min_players</th>\n",
       "      <th>max_players</th>\n",
       "      <th>min_playtime</th>\n",
       "      <th>max_playtime</th>\n",
       "      <th>min_age</th>\n",
       "      <th>averageweight</th>\n",
       "      <th>usd_goal</th>\n",
       "    </tr>\n",
       "  </thead>\n",
       "  <tbody>\n",
       "    <tr>\n",
       "      <th>count</th>\n",
       "      <td>3.190000e+02</td>\n",
       "      <td>319.000000</td>\n",
       "      <td>319.000000</td>\n",
       "      <td>319.000000</td>\n",
       "      <td>319.000000</td>\n",
       "      <td>319.000000</td>\n",
       "      <td>319.000000</td>\n",
       "      <td>3.190000e+02</td>\n",
       "    </tr>\n",
       "    <tr>\n",
       "      <th>mean</th>\n",
       "      <td>1.373996e+05</td>\n",
       "      <td>1.786834</td>\n",
       "      <td>4.711599</td>\n",
       "      <td>52.047022</td>\n",
       "      <td>88.573668</td>\n",
       "      <td>10.880878</td>\n",
       "      <td>2.376850</td>\n",
       "      <td>3.689098e+04</td>\n",
       "    </tr>\n",
       "    <tr>\n",
       "      <th>std</th>\n",
       "      <td>2.770440e+05</td>\n",
       "      <td>0.717054</td>\n",
       "      <td>5.881820</td>\n",
       "      <td>36.361752</td>\n",
       "      <td>74.854702</td>\n",
       "      <td>3.264770</td>\n",
       "      <td>0.776606</td>\n",
       "      <td>2.024870e+05</td>\n",
       "    </tr>\n",
       "    <tr>\n",
       "      <th>min</th>\n",
       "      <td>4.049000e+01</td>\n",
       "      <td>1.000000</td>\n",
       "      <td>1.000000</td>\n",
       "      <td>5.000000</td>\n",
       "      <td>10.000000</td>\n",
       "      <td>0.000000</td>\n",
       "      <td>1.000000</td>\n",
       "      <td>4.569029e+00</td>\n",
       "    </tr>\n",
       "    <tr>\n",
       "      <th>25%</th>\n",
       "      <td>1.852900e+04</td>\n",
       "      <td>1.000000</td>\n",
       "      <td>2.000000</td>\n",
       "      <td>30.000000</td>\n",
       "      <td>40.000000</td>\n",
       "      <td>10.000000</td>\n",
       "      <td>1.900000</td>\n",
       "      <td>5.000000e+03</td>\n",
       "    </tr>\n",
       "    <tr>\n",
       "      <th>50%</th>\n",
       "      <td>4.366801e+04</td>\n",
       "      <td>2.000000</td>\n",
       "      <td>4.000000</td>\n",
       "      <td>45.000000</td>\n",
       "      <td>60.000000</td>\n",
       "      <td>12.000000</td>\n",
       "      <td>2.300000</td>\n",
       "      <td>1.240045e+04</td>\n",
       "    </tr>\n",
       "    <tr>\n",
       "      <th>75%</th>\n",
       "      <td>1.037640e+05</td>\n",
       "      <td>2.000000</td>\n",
       "      <td>6.000000</td>\n",
       "      <td>60.000000</td>\n",
       "      <td>120.000000</td>\n",
       "      <td>13.000000</td>\n",
       "      <td>2.857200</td>\n",
       "      <td>2.500000e+04</td>\n",
       "    </tr>\n",
       "    <tr>\n",
       "      <th>max</th>\n",
       "      <td>2.559458e+06</td>\n",
       "      <td>7.000000</td>\n",
       "      <td>100.000000</td>\n",
       "      <td>180.000000</td>\n",
       "      <td>480.000000</td>\n",
       "      <td>17.000000</td>\n",
       "      <td>4.616300</td>\n",
       "      <td>2.513552e+06</td>\n",
       "    </tr>\n",
       "  </tbody>\n",
       "</table>\n",
       "</div>"
      ],
      "text/plain": [
       "        usd_pledged  min_players  max_players  min_playtime  max_playtime  \\\n",
       "count  3.190000e+02   319.000000   319.000000    319.000000    319.000000   \n",
       "mean   1.373996e+05     1.786834     4.711599     52.047022     88.573668   \n",
       "std    2.770440e+05     0.717054     5.881820     36.361752     74.854702   \n",
       "min    4.049000e+01     1.000000     1.000000      5.000000     10.000000   \n",
       "25%    1.852900e+04     1.000000     2.000000     30.000000     40.000000   \n",
       "50%    4.366801e+04     2.000000     4.000000     45.000000     60.000000   \n",
       "75%    1.037640e+05     2.000000     6.000000     60.000000    120.000000   \n",
       "max    2.559458e+06     7.000000   100.000000    180.000000    480.000000   \n",
       "\n",
       "          min_age  averageweight      usd_goal  \n",
       "count  319.000000     319.000000  3.190000e+02  \n",
       "mean    10.880878       2.376850  3.689098e+04  \n",
       "std      3.264770       0.776606  2.024870e+05  \n",
       "min      0.000000       1.000000  4.569029e+00  \n",
       "25%     10.000000       1.900000  5.000000e+03  \n",
       "50%     12.000000       2.300000  1.240045e+04  \n",
       "75%     13.000000       2.857200  2.500000e+04  \n",
       "max     17.000000       4.616300  2.513552e+06  "
      ]
     },
     "execution_count": 71,
     "metadata": {},
     "output_type": "execute_result"
    }
   ],
   "source": [
    "df_ML.describe()"
   ]
  },
  {
   "cell_type": "code",
   "execution_count": 72,
   "metadata": {},
   "outputs": [
    {
     "name": "stdout",
     "output_type": "stream",
     "text": [
      "<class 'pandas.core.frame.DataFrame'>\n",
      "Int64Index: 319 entries, 0 to 335\n",
      "Data columns (total 10 columns):\n",
      " #   Column          Non-Null Count  Dtype  \n",
      "---  ------          --------------  -----  \n",
      " 0   country         319 non-null    object \n",
      " 1   usd_pledged     319 non-null    float64\n",
      " 2   subdomain_name  319 non-null    object \n",
      " 3   min_players     319 non-null    float64\n",
      " 4   max_players     319 non-null    float64\n",
      " 5   min_playtime    319 non-null    float64\n",
      " 6   max_playtime    319 non-null    float64\n",
      " 7   min_age         319 non-null    int64  \n",
      " 8   averageweight   319 non-null    float64\n",
      " 9   usd_goal        319 non-null    float64\n",
      "dtypes: float64(7), int64(1), object(2)\n",
      "memory usage: 27.4+ KB\n"
     ]
    }
   ],
   "source": [
    "df_ML.info()"
   ]
  },
  {
   "cell_type": "code",
   "execution_count": 73,
   "metadata": {},
   "outputs": [
    {
     "name": "stderr",
     "output_type": "stream",
     "text": [
      "/var/folders/kb/wqf78x2d06z43w0nwzbclk3m0000gn/T/ipykernel_2258/919643619.py:1: FutureWarning: Using the level keyword in DataFrame and Series aggregations is deprecated and will be removed in a future version. Use groupby instead. df.sum(level=1) should use df.groupby(level=1).sum().\n",
      "  subdomain_dummy = pd.get_dummies(df_ML.subdomain_name.apply(pd.Series).stack(), drop_first=True).sum(level=0)\n"
     ]
    }
   ],
   "source": [
    "subdomain_dummy = pd.get_dummies(df_ML.subdomain_name.apply(pd.Series).stack(), drop_first=True).sum(level=0)\n",
    "subdomain_dummy.columns = subdomain_dummy.columns.str.strip()"
   ]
  },
  {
   "cell_type": "code",
   "execution_count": 74,
   "metadata": {},
   "outputs": [
    {
     "name": "stderr",
     "output_type": "stream",
     "text": [
      "/var/folders/kb/wqf78x2d06z43w0nwzbclk3m0000gn/T/ipykernel_2258/3043570070.py:1: FutureWarning: Using the level keyword in DataFrame and Series aggregations is deprecated and will be removed in a future version. Use groupby instead. df.sum(level=1) should use df.groupby(level=1).sum().\n",
      "  country_dummy = pd.get_dummies(df_ML.country.apply(pd.Series).stack(), drop_first=True).sum(level=0)\n"
     ]
    }
   ],
   "source": [
    "country_dummy = pd.get_dummies(df_ML.country.apply(pd.Series).stack(), drop_first=True).sum(level=0)\n",
    "country_dummy.columns = country_dummy.columns.str.strip()"
   ]
  },
  {
   "cell_type": "code",
   "execution_count": 75,
   "metadata": {},
   "outputs": [
    {
     "data": {
      "text/plain": [
       "Index(['country', 'usd_pledged', 'min_players', 'max_players', 'min_playtime',\n",
       "       'max_playtime', 'min_age', 'averageweight', 'usd_goal', 'Children's',\n",
       "       'Customizable', 'Family', 'Party', 'Strategy', 'Thematic', 'Wargames'],\n",
       "      dtype='object')"
      ]
     },
     "execution_count": 75,
     "metadata": {},
     "output_type": "execute_result"
    }
   ],
   "source": [
    "df = pd.concat([df_ML,subdomain_dummy], axis=1)\n",
    "df = df.drop([\"subdomain_name\"], axis=1)\n",
    "df.columns"
   ]
  },
  {
   "cell_type": "code",
   "execution_count": 76,
   "metadata": {},
   "outputs": [
    {
     "data": {
      "text/plain": [
       "Index(['usd_pledged', 'min_players', 'max_players', 'min_playtime',\n",
       "       'max_playtime', 'min_age', 'averageweight', 'usd_goal', 'Children's',\n",
       "       'Customizable', 'Family', 'Party', 'Strategy', 'Thematic', 'Wargames',\n",
       "       'AU', 'BE', 'CA', 'CH', 'DE', 'ES', 'FR', 'GB', 'HK', 'IT', 'NL', 'NO',\n",
       "       'SG', 'US'],\n",
       "      dtype='object')"
      ]
     },
     "execution_count": 76,
     "metadata": {},
     "output_type": "execute_result"
    }
   ],
   "source": [
    "df = pd.concat([df,country_dummy], axis=1)\n",
    "df = df.drop([\"country\"], axis=1)\n",
    "df.columns"
   ]
  },
  {
   "cell_type": "code",
   "execution_count": 77,
   "metadata": {},
   "outputs": [],
   "source": [
    "X = df[['AU', 'BE', 'CA', 'CH', 'DE', 'ES', 'FR', 'GB', 'HK', 'IT', 'NL', 'NO', 'SG', 'US',\n",
    "        \"Children's\", \"Customizable\", \"Family\", \"Party\", \"Strategy\", \"Thematic\", \"Wargames\", \n",
    "        \"min_players\", \"max_players\", \"min_playtime\", \"min_age\", \"averageweight\", 'usd_goal']]"
   ]
  },
  {
   "cell_type": "code",
   "execution_count": 78,
   "metadata": {},
   "outputs": [],
   "source": [
    "y = df.usd_pledged"
   ]
  },
  {
   "cell_type": "code",
   "execution_count": 79,
   "metadata": {},
   "outputs": [],
   "source": [
    "#X = sm.add_constant(X)"
   ]
  },
  {
   "cell_type": "code",
   "execution_count": 80,
   "metadata": {},
   "outputs": [
    {
     "data": {
      "text/html": [
       "<table class=\"simpletable\">\n",
       "<caption>OLS Regression Results</caption>\n",
       "<tr>\n",
       "  <th>Dep. Variable:</th>       <td>usd_pledged</td>   <th>  R-squared (uncentered):</th>      <td>   0.376</td>\n",
       "</tr>\n",
       "<tr>\n",
       "  <th>Model:</th>                   <td>OLS</td>       <th>  Adj. R-squared (uncentered):</th> <td>   0.318</td>\n",
       "</tr>\n",
       "<tr>\n",
       "  <th>Method:</th>             <td>Least Squares</td>  <th>  F-statistic:       </th>          <td>   6.514</td>\n",
       "</tr>\n",
       "<tr>\n",
       "  <th>Date:</th>             <td>Fri, 15 Jul 2022</td> <th>  Prob (F-statistic):</th>          <td>8.44e-18</td>\n",
       "</tr>\n",
       "<tr>\n",
       "  <th>Time:</th>                 <td>11:08:08</td>     <th>  Log-Likelihood:    </th>          <td> -4409.8</td>\n",
       "</tr>\n",
       "<tr>\n",
       "  <th>No. Observations:</th>      <td>   319</td>      <th>  AIC:               </th>          <td>   8874.</td>\n",
       "</tr>\n",
       "<tr>\n",
       "  <th>Df Residuals:</th>          <td>   292</td>      <th>  BIC:               </th>          <td>   8975.</td>\n",
       "</tr>\n",
       "<tr>\n",
       "  <th>Df Model:</th>              <td>    27</td>      <th>                     </th>              <td> </td>   \n",
       "</tr>\n",
       "<tr>\n",
       "  <th>Covariance Type:</th>      <td>nonrobust</td>    <th>                     </th>              <td> </td>   \n",
       "</tr>\n",
       "</table>\n",
       "<table class=\"simpletable\">\n",
       "<tr>\n",
       "        <td></td>           <th>coef</th>     <th>std err</th>      <th>t</th>      <th>P>|t|</th>  <th>[0.025</th>    <th>0.975]</th>  \n",
       "</tr>\n",
       "<tr>\n",
       "  <th>AU</th>            <td>-2.451e+04</td> <td> 1.34e+05</td> <td>   -0.183</td> <td> 0.855</td> <td>-2.89e+05</td> <td>  2.4e+05</td>\n",
       "</tr>\n",
       "<tr>\n",
       "  <th>BE</th>            <td> 1.949e+05</td> <td> 1.55e+05</td> <td>    1.261</td> <td> 0.208</td> <td>-1.09e+05</td> <td> 4.99e+05</td>\n",
       "</tr>\n",
       "<tr>\n",
       "  <th>CA</th>            <td> 1.599e+05</td> <td> 1.23e+05</td> <td>    1.296</td> <td> 0.196</td> <td>-8.29e+04</td> <td> 4.03e+05</td>\n",
       "</tr>\n",
       "<tr>\n",
       "  <th>CH</th>            <td>-8.799e+04</td> <td> 1.68e+05</td> <td>   -0.523</td> <td> 0.602</td> <td>-4.19e+05</td> <td> 2.43e+05</td>\n",
       "</tr>\n",
       "<tr>\n",
       "  <th>DE</th>            <td> 3.833e+05</td> <td>  1.6e+05</td> <td>    2.393</td> <td> 0.017</td> <td>  6.8e+04</td> <td> 6.98e+05</td>\n",
       "</tr>\n",
       "<tr>\n",
       "  <th>ES</th>            <td>-1.952e+04</td> <td> 1.45e+05</td> <td>   -0.135</td> <td> 0.893</td> <td>-3.05e+05</td> <td> 2.66e+05</td>\n",
       "</tr>\n",
       "<tr>\n",
       "  <th>FR</th>            <td>-2.104e+04</td> <td> 1.18e+05</td> <td>   -0.179</td> <td> 0.858</td> <td>-2.52e+05</td> <td>  2.1e+05</td>\n",
       "</tr>\n",
       "<tr>\n",
       "  <th>GB</th>            <td> 1.756e+04</td> <td> 9.32e+04</td> <td>    0.188</td> <td> 0.851</td> <td>-1.66e+05</td> <td> 2.01e+05</td>\n",
       "</tr>\n",
       "<tr>\n",
       "  <th>HK</th>            <td> -1.89e+05</td> <td> 2.12e+05</td> <td>   -0.890</td> <td> 0.374</td> <td>-6.07e+05</td> <td> 2.29e+05</td>\n",
       "</tr>\n",
       "<tr>\n",
       "  <th>IT</th>            <td> 3.097e+04</td> <td> 1.23e+05</td> <td>    0.252</td> <td> 0.801</td> <td>-2.11e+05</td> <td> 2.73e+05</td>\n",
       "</tr>\n",
       "<tr>\n",
       "  <th>NL</th>            <td> 3.106e+04</td> <td> 1.51e+05</td> <td>    0.205</td> <td> 0.838</td> <td>-2.67e+05</td> <td> 3.29e+05</td>\n",
       "</tr>\n",
       "<tr>\n",
       "  <th>NO</th>            <td>-3.561e+05</td> <td> 2.93e+05</td> <td>   -1.217</td> <td> 0.225</td> <td>-9.32e+05</td> <td>  2.2e+05</td>\n",
       "</tr>\n",
       "<tr>\n",
       "  <th>SG</th>            <td>-1.125e+05</td> <td> 2.69e+05</td> <td>   -0.419</td> <td> 0.676</td> <td>-6.41e+05</td> <td> 4.16e+05</td>\n",
       "</tr>\n",
       "<tr>\n",
       "  <th>US</th>            <td> 3.612e+04</td> <td> 8.37e+04</td> <td>    0.432</td> <td> 0.666</td> <td>-1.29e+05</td> <td> 2.01e+05</td>\n",
       "</tr>\n",
       "<tr>\n",
       "  <th>Children's</th>    <td>-7.615e+04</td> <td> 1.12e+05</td> <td>   -0.681</td> <td> 0.496</td> <td>-2.96e+05</td> <td> 1.44e+05</td>\n",
       "</tr>\n",
       "<tr>\n",
       "  <th>Customizable</th>  <td>-7.472e+04</td> <td> 1.88e+05</td> <td>   -0.397</td> <td> 0.692</td> <td>-4.46e+05</td> <td> 2.96e+05</td>\n",
       "</tr>\n",
       "<tr>\n",
       "  <th>Family</th>        <td> 1.987e+04</td> <td> 6.09e+04</td> <td>    0.326</td> <td> 0.744</td> <td>   -1e+05</td> <td>  1.4e+05</td>\n",
       "</tr>\n",
       "<tr>\n",
       "  <th>Party</th>         <td> 4.326e+05</td> <td> 8.46e+04</td> <td>    5.116</td> <td> 0.000</td> <td> 2.66e+05</td> <td> 5.99e+05</td>\n",
       "</tr>\n",
       "<tr>\n",
       "  <th>Strategy</th>      <td>-1.329e+04</td> <td> 6.34e+04</td> <td>   -0.210</td> <td> 0.834</td> <td>-1.38e+05</td> <td> 1.11e+05</td>\n",
       "</tr>\n",
       "<tr>\n",
       "  <th>Thematic</th>      <td> 5.946e+04</td> <td> 6.68e+04</td> <td>    0.890</td> <td> 0.374</td> <td> -7.2e+04</td> <td> 1.91e+05</td>\n",
       "</tr>\n",
       "<tr>\n",
       "  <th>Wargames</th>      <td>-6.838e+04</td> <td> 6.52e+04</td> <td>   -1.049</td> <td> 0.295</td> <td>-1.97e+05</td> <td>    6e+04</td>\n",
       "</tr>\n",
       "<tr>\n",
       "  <th>min_players</th>   <td>-2.881e+04</td> <td> 2.24e+04</td> <td>   -1.286</td> <td> 0.200</td> <td>-7.29e+04</td> <td> 1.53e+04</td>\n",
       "</tr>\n",
       "<tr>\n",
       "  <th>max_players</th>   <td>-2063.6505</td> <td> 2598.810</td> <td>   -0.794</td> <td> 0.428</td> <td>-7178.423</td> <td> 3051.122</td>\n",
       "</tr>\n",
       "<tr>\n",
       "  <th>min_playtime</th>  <td> -730.9904</td> <td>  527.270</td> <td>   -1.386</td> <td> 0.167</td> <td>-1768.721</td> <td>  306.740</td>\n",
       "</tr>\n",
       "<tr>\n",
       "  <th>min_age</th>       <td>-5240.2664</td> <td> 5210.438</td> <td>   -1.006</td> <td> 0.315</td> <td>-1.55e+04</td> <td> 5014.508</td>\n",
       "</tr>\n",
       "<tr>\n",
       "  <th>averageweight</th> <td> 9.964e+04</td> <td> 2.66e+04</td> <td>    3.752</td> <td> 0.000</td> <td> 4.74e+04</td> <td> 1.52e+05</td>\n",
       "</tr>\n",
       "<tr>\n",
       "  <th>usd_goal</th>      <td>    0.3270</td> <td>    0.137</td> <td>    2.380</td> <td> 0.018</td> <td>    0.057</td> <td>    0.597</td>\n",
       "</tr>\n",
       "</table>\n",
       "<table class=\"simpletable\">\n",
       "<tr>\n",
       "  <th>Omnibus:</th>       <td>282.612</td> <th>  Durbin-Watson:     </th> <td>   1.553</td>\n",
       "</tr>\n",
       "<tr>\n",
       "  <th>Prob(Omnibus):</th> <td> 0.000</td>  <th>  Jarque-Bera (JB):  </th> <td>6774.228</td>\n",
       "</tr>\n",
       "<tr>\n",
       "  <th>Skew:</th>          <td> 3.598</td>  <th>  Prob(JB):          </th> <td>    0.00</td>\n",
       "</tr>\n",
       "<tr>\n",
       "  <th>Kurtosis:</th>      <td>24.398</td>  <th>  Cond. No.          </th> <td>5.32e+06</td>\n",
       "</tr>\n",
       "</table><br/><br/>Notes:<br/>[1] R² is computed without centering (uncentered) since the model does not contain a constant.<br/>[2] Standard Errors assume that the covariance matrix of the errors is correctly specified.<br/>[3] The condition number is large, 5.32e+06. This might indicate that there are<br/>strong multicollinearity or other numerical problems."
      ],
      "text/plain": [
       "<class 'statsmodels.iolib.summary.Summary'>\n",
       "\"\"\"\n",
       "                                 OLS Regression Results                                \n",
       "=======================================================================================\n",
       "Dep. Variable:            usd_pledged   R-squared (uncentered):                   0.376\n",
       "Model:                            OLS   Adj. R-squared (uncentered):              0.318\n",
       "Method:                 Least Squares   F-statistic:                              6.514\n",
       "Date:                Fri, 15 Jul 2022   Prob (F-statistic):                    8.44e-18\n",
       "Time:                        11:08:08   Log-Likelihood:                         -4409.8\n",
       "No. Observations:                 319   AIC:                                      8874.\n",
       "Df Residuals:                     292   BIC:                                      8975.\n",
       "Df Model:                          27                                                  \n",
       "Covariance Type:            nonrobust                                                  \n",
       "=================================================================================\n",
       "                    coef    std err          t      P>|t|      [0.025      0.975]\n",
       "---------------------------------------------------------------------------------\n",
       "AU            -2.451e+04   1.34e+05     -0.183      0.855   -2.89e+05     2.4e+05\n",
       "BE             1.949e+05   1.55e+05      1.261      0.208   -1.09e+05    4.99e+05\n",
       "CA             1.599e+05   1.23e+05      1.296      0.196   -8.29e+04    4.03e+05\n",
       "CH            -8.799e+04   1.68e+05     -0.523      0.602   -4.19e+05    2.43e+05\n",
       "DE             3.833e+05    1.6e+05      2.393      0.017     6.8e+04    6.98e+05\n",
       "ES            -1.952e+04   1.45e+05     -0.135      0.893   -3.05e+05    2.66e+05\n",
       "FR            -2.104e+04   1.18e+05     -0.179      0.858   -2.52e+05     2.1e+05\n",
       "GB             1.756e+04   9.32e+04      0.188      0.851   -1.66e+05    2.01e+05\n",
       "HK             -1.89e+05   2.12e+05     -0.890      0.374   -6.07e+05    2.29e+05\n",
       "IT             3.097e+04   1.23e+05      0.252      0.801   -2.11e+05    2.73e+05\n",
       "NL             3.106e+04   1.51e+05      0.205      0.838   -2.67e+05    3.29e+05\n",
       "NO            -3.561e+05   2.93e+05     -1.217      0.225   -9.32e+05     2.2e+05\n",
       "SG            -1.125e+05   2.69e+05     -0.419      0.676   -6.41e+05    4.16e+05\n",
       "US             3.612e+04   8.37e+04      0.432      0.666   -1.29e+05    2.01e+05\n",
       "Children's    -7.615e+04   1.12e+05     -0.681      0.496   -2.96e+05    1.44e+05\n",
       "Customizable  -7.472e+04   1.88e+05     -0.397      0.692   -4.46e+05    2.96e+05\n",
       "Family         1.987e+04   6.09e+04      0.326      0.744      -1e+05     1.4e+05\n",
       "Party          4.326e+05   8.46e+04      5.116      0.000    2.66e+05    5.99e+05\n",
       "Strategy      -1.329e+04   6.34e+04     -0.210      0.834   -1.38e+05    1.11e+05\n",
       "Thematic       5.946e+04   6.68e+04      0.890      0.374    -7.2e+04    1.91e+05\n",
       "Wargames      -6.838e+04   6.52e+04     -1.049      0.295   -1.97e+05       6e+04\n",
       "min_players   -2.881e+04   2.24e+04     -1.286      0.200   -7.29e+04    1.53e+04\n",
       "max_players   -2063.6505   2598.810     -0.794      0.428   -7178.423    3051.122\n",
       "min_playtime   -730.9904    527.270     -1.386      0.167   -1768.721     306.740\n",
       "min_age       -5240.2664   5210.438     -1.006      0.315   -1.55e+04    5014.508\n",
       "averageweight  9.964e+04   2.66e+04      3.752      0.000    4.74e+04    1.52e+05\n",
       "usd_goal          0.3270      0.137      2.380      0.018       0.057       0.597\n",
       "==============================================================================\n",
       "Omnibus:                      282.612   Durbin-Watson:                   1.553\n",
       "Prob(Omnibus):                  0.000   Jarque-Bera (JB):             6774.228\n",
       "Skew:                           3.598   Prob(JB):                         0.00\n",
       "Kurtosis:                      24.398   Cond. No.                     5.32e+06\n",
       "==============================================================================\n",
       "\n",
       "Notes:\n",
       "[1] R² is computed without centering (uncentered) since the model does not contain a constant.\n",
       "[2] Standard Errors assume that the covariance matrix of the errors is correctly specified.\n",
       "[3] The condition number is large, 5.32e+06. This might indicate that there are\n",
       "strong multicollinearity or other numerical problems.\n",
       "\"\"\""
      ]
     },
     "execution_count": 80,
     "metadata": {},
     "output_type": "execute_result"
    }
   ],
   "source": [
    "# create an OLS model\n",
    "our_model = sm.OLS(y, X)\n",
    "\n",
    "# use the data to calculate the intercept and slope\n",
    "model_results = our_model.fit()\n",
    "\n",
    "# return the output of the model\n",
    "model_results.summary() # summary contains eg. 'const' (intercept) and 'slope' of the regression equation."
   ]
  },
  {
   "cell_type": "markdown",
   "metadata": {},
   "source": [
    "# Pick the most significant input parameters"
   ]
  },
  {
   "cell_type": "code",
   "execution_count": 81,
   "metadata": {},
   "outputs": [
    {
     "data": {
      "text/html": [
       "<div>\n",
       "<style scoped>\n",
       "    .dataframe tbody tr th:only-of-type {\n",
       "        vertical-align: middle;\n",
       "    }\n",
       "\n",
       "    .dataframe tbody tr th {\n",
       "        vertical-align: top;\n",
       "    }\n",
       "\n",
       "    .dataframe thead th {\n",
       "        text-align: right;\n",
       "    }\n",
       "</style>\n",
       "<table border=\"1\" class=\"dataframe\">\n",
       "  <thead>\n",
       "    <tr style=\"text-align: right;\">\n",
       "      <th></th>\n",
       "      <th>const</th>\n",
       "      <th>averageweight</th>\n",
       "      <th>usd_goal</th>\n",
       "      <th>min_playtime</th>\n",
       "      <th>Party</th>\n",
       "      <th>DE</th>\n",
       "    </tr>\n",
       "  </thead>\n",
       "  <tbody>\n",
       "    <tr>\n",
       "      <th>count</th>\n",
       "      <td>319.0</td>\n",
       "      <td>319.000000</td>\n",
       "      <td>3.190000e+02</td>\n",
       "      <td>319.000000</td>\n",
       "      <td>319.000000</td>\n",
       "      <td>319.000000</td>\n",
       "    </tr>\n",
       "    <tr>\n",
       "      <th>mean</th>\n",
       "      <td>1.0</td>\n",
       "      <td>2.376850</td>\n",
       "      <td>3.689098e+04</td>\n",
       "      <td>52.047022</td>\n",
       "      <td>0.053292</td>\n",
       "      <td>0.012539</td>\n",
       "    </tr>\n",
       "    <tr>\n",
       "      <th>std</th>\n",
       "      <td>0.0</td>\n",
       "      <td>0.776606</td>\n",
       "      <td>2.024870e+05</td>\n",
       "      <td>36.361752</td>\n",
       "      <td>0.224967</td>\n",
       "      <td>0.111449</td>\n",
       "    </tr>\n",
       "    <tr>\n",
       "      <th>min</th>\n",
       "      <td>1.0</td>\n",
       "      <td>1.000000</td>\n",
       "      <td>4.569029e+00</td>\n",
       "      <td>5.000000</td>\n",
       "      <td>0.000000</td>\n",
       "      <td>0.000000</td>\n",
       "    </tr>\n",
       "    <tr>\n",
       "      <th>25%</th>\n",
       "      <td>1.0</td>\n",
       "      <td>1.900000</td>\n",
       "      <td>5.000000e+03</td>\n",
       "      <td>30.000000</td>\n",
       "      <td>0.000000</td>\n",
       "      <td>0.000000</td>\n",
       "    </tr>\n",
       "    <tr>\n",
       "      <th>50%</th>\n",
       "      <td>1.0</td>\n",
       "      <td>2.300000</td>\n",
       "      <td>1.240045e+04</td>\n",
       "      <td>45.000000</td>\n",
       "      <td>0.000000</td>\n",
       "      <td>0.000000</td>\n",
       "    </tr>\n",
       "    <tr>\n",
       "      <th>75%</th>\n",
       "      <td>1.0</td>\n",
       "      <td>2.857200</td>\n",
       "      <td>2.500000e+04</td>\n",
       "      <td>60.000000</td>\n",
       "      <td>0.000000</td>\n",
       "      <td>0.000000</td>\n",
       "    </tr>\n",
       "    <tr>\n",
       "      <th>max</th>\n",
       "      <td>1.0</td>\n",
       "      <td>4.616300</td>\n",
       "      <td>2.513552e+06</td>\n",
       "      <td>180.000000</td>\n",
       "      <td>1.000000</td>\n",
       "      <td>1.000000</td>\n",
       "    </tr>\n",
       "  </tbody>\n",
       "</table>\n",
       "</div>"
      ],
      "text/plain": [
       "       const  averageweight      usd_goal  min_playtime       Party  \\\n",
       "count  319.0     319.000000  3.190000e+02    319.000000  319.000000   \n",
       "mean     1.0       2.376850  3.689098e+04     52.047022    0.053292   \n",
       "std      0.0       0.776606  2.024870e+05     36.361752    0.224967   \n",
       "min      1.0       1.000000  4.569029e+00      5.000000    0.000000   \n",
       "25%      1.0       1.900000  5.000000e+03     30.000000    0.000000   \n",
       "50%      1.0       2.300000  1.240045e+04     45.000000    0.000000   \n",
       "75%      1.0       2.857200  2.500000e+04     60.000000    0.000000   \n",
       "max      1.0       4.616300  2.513552e+06    180.000000    1.000000   \n",
       "\n",
       "               DE  \n",
       "count  319.000000  \n",
       "mean     0.012539  \n",
       "std      0.111449  \n",
       "min      0.000000  \n",
       "25%      0.000000  \n",
       "50%      0.000000  \n",
       "75%      0.000000  \n",
       "max      1.000000  "
      ]
     },
     "execution_count": 81,
     "metadata": {},
     "output_type": "execute_result"
    }
   ],
   "source": [
    "X = df[['averageweight','usd_goal','min_playtime','Party','DE','min_players','min_age']]\n",
    "X = sm.add_constant(X)\n",
    "X.describe()"
   ]
  },
  {
   "cell_type": "code",
   "execution_count": 84,
   "metadata": {},
   "outputs": [
    {
     "data": {
      "text/html": [
       "<table class=\"simpletable\">\n",
       "<caption>OLS Regression Results</caption>\n",
       "<tr>\n",
       "  <th>Dep. Variable:</th>       <td>usd_pledged</td>   <th>  R-squared:         </th> <td>   0.173</td>\n",
       "</tr>\n",
       "<tr>\n",
       "  <th>Model:</th>                   <td>OLS</td>       <th>  Adj. R-squared:    </th> <td>   0.160</td>\n",
       "</tr>\n",
       "<tr>\n",
       "  <th>Method:</th>             <td>Least Squares</td>  <th>  F-statistic:       </th> <td>   13.13</td>\n",
       "</tr>\n",
       "<tr>\n",
       "  <th>Date:</th>             <td>Tue, 12 Jul 2022</td> <th>  Prob (F-statistic):</th> <td>1.28e-11</td>\n",
       "</tr>\n",
       "<tr>\n",
       "  <th>Time:</th>                 <td>19:52:24</td>     <th>  Log-Likelihood:    </th> <td> -4419.5</td>\n",
       "</tr>\n",
       "<tr>\n",
       "  <th>No. Observations:</th>      <td>   319</td>      <th>  AIC:               </th> <td>   8851.</td>\n",
       "</tr>\n",
       "<tr>\n",
       "  <th>Df Residuals:</th>          <td>   313</td>      <th>  BIC:               </th> <td>   8873.</td>\n",
       "</tr>\n",
       "<tr>\n",
       "  <th>Df Model:</th>              <td>     5</td>      <th>                     </th>     <td> </td>   \n",
       "</tr>\n",
       "<tr>\n",
       "  <th>Covariance Type:</th>      <td>nonrobust</td>    <th>                     </th>     <td> </td>   \n",
       "</tr>\n",
       "</table>\n",
       "<table class=\"simpletable\">\n",
       "<tr>\n",
       "        <td></td>           <th>coef</th>     <th>std err</th>      <th>t</th>      <th>P>|t|</th>  <th>[0.025</th>    <th>0.975]</th>  \n",
       "</tr>\n",
       "<tr>\n",
       "  <th>const</th>         <td>-8.058e+04</td> <td> 4.92e+04</td> <td>   -1.637</td> <td> 0.103</td> <td>-1.77e+05</td> <td> 1.63e+04</td>\n",
       "</tr>\n",
       "<tr>\n",
       "  <th>averageweight</th> <td> 1.052e+05</td> <td> 2.24e+04</td> <td>    4.693</td> <td> 0.000</td> <td> 6.11e+04</td> <td> 1.49e+05</td>\n",
       "</tr>\n",
       "<tr>\n",
       "  <th>usd_goal</th>      <td>    0.1524</td> <td>    0.072</td> <td>    2.120</td> <td> 0.035</td> <td>    0.011</td> <td>    0.294</td>\n",
       "</tr>\n",
       "<tr>\n",
       "  <th>min_playtime</th>  <td>-1208.8459</td> <td>  459.565</td> <td>   -2.630</td> <td> 0.009</td> <td>-2113.073</td> <td> -304.619</td>\n",
       "</tr>\n",
       "<tr>\n",
       "  <th>Party</th>         <td> 3.985e+05</td> <td> 6.61e+04</td> <td>    6.025</td> <td> 0.000</td> <td> 2.68e+05</td> <td> 5.29e+05</td>\n",
       "</tr>\n",
       "<tr>\n",
       "  <th>DE</th>            <td> 3.158e+05</td> <td> 1.28e+05</td> <td>    2.464</td> <td> 0.014</td> <td> 6.36e+04</td> <td> 5.68e+05</td>\n",
       "</tr>\n",
       "</table>\n",
       "<table class=\"simpletable\">\n",
       "<tr>\n",
       "  <th>Omnibus:</th>       <td>278.830</td> <th>  Durbin-Watson:     </th> <td>   1.526</td>\n",
       "</tr>\n",
       "<tr>\n",
       "  <th>Prob(Omnibus):</th> <td> 0.000</td>  <th>  Jarque-Bera (JB):  </th> <td>6227.891</td>\n",
       "</tr>\n",
       "<tr>\n",
       "  <th>Skew:</th>          <td> 3.555</td>  <th>  Prob(JB):          </th> <td>    0.00</td>\n",
       "</tr>\n",
       "<tr>\n",
       "  <th>Kurtosis:</th>      <td>23.445</td>  <th>  Cond. No.          </th> <td>1.85e+06</td>\n",
       "</tr>\n",
       "</table><br/><br/>Notes:<br/>[1] Standard Errors assume that the covariance matrix of the errors is correctly specified.<br/>[2] The condition number is large, 1.85e+06. This might indicate that there are<br/>strong multicollinearity or other numerical problems."
      ],
      "text/plain": [
       "<class 'statsmodels.iolib.summary.Summary'>\n",
       "\"\"\"\n",
       "                            OLS Regression Results                            \n",
       "==============================================================================\n",
       "Dep. Variable:            usd_pledged   R-squared:                       0.173\n",
       "Model:                            OLS   Adj. R-squared:                  0.160\n",
       "Method:                 Least Squares   F-statistic:                     13.13\n",
       "Date:                Tue, 12 Jul 2022   Prob (F-statistic):           1.28e-11\n",
       "Time:                        19:52:24   Log-Likelihood:                -4419.5\n",
       "No. Observations:                 319   AIC:                             8851.\n",
       "Df Residuals:                     313   BIC:                             8873.\n",
       "Df Model:                           5                                         \n",
       "Covariance Type:            nonrobust                                         \n",
       "=================================================================================\n",
       "                    coef    std err          t      P>|t|      [0.025      0.975]\n",
       "---------------------------------------------------------------------------------\n",
       "const         -8.058e+04   4.92e+04     -1.637      0.103   -1.77e+05    1.63e+04\n",
       "averageweight  1.052e+05   2.24e+04      4.693      0.000    6.11e+04    1.49e+05\n",
       "usd_goal          0.1524      0.072      2.120      0.035       0.011       0.294\n",
       "min_playtime  -1208.8459    459.565     -2.630      0.009   -2113.073    -304.619\n",
       "Party          3.985e+05   6.61e+04      6.025      0.000    2.68e+05    5.29e+05\n",
       "DE             3.158e+05   1.28e+05      2.464      0.014    6.36e+04    5.68e+05\n",
       "==============================================================================\n",
       "Omnibus:                      278.830   Durbin-Watson:                   1.526\n",
       "Prob(Omnibus):                  0.000   Jarque-Bera (JB):             6227.891\n",
       "Skew:                           3.555   Prob(JB):                         0.00\n",
       "Kurtosis:                      23.445   Cond. No.                     1.85e+06\n",
       "==============================================================================\n",
       "\n",
       "Notes:\n",
       "[1] Standard Errors assume that the covariance matrix of the errors is correctly specified.\n",
       "[2] The condition number is large, 1.85e+06. This might indicate that there are\n",
       "strong multicollinearity or other numerical problems.\n",
       "\"\"\""
      ]
     },
     "execution_count": 84,
     "metadata": {},
     "output_type": "execute_result"
    }
   ],
   "source": [
    "# create an OLS model\n",
    "our_model = sm.OLS(y, X)\n",
    "#our_model = sm.MANOVA(y, X)\n",
    "\n",
    "# use the data to calculate the intercept and slope\n",
    "model_results = our_model.fit()\n",
    "\n",
    "# return the output of the model\n",
    "model_results.summary() # summary contains eg. 'const' (intercept) and 'slope' of the regression equation."
   ]
  },
  {
   "cell_type": "code",
   "execution_count": 78,
   "metadata": {},
   "outputs": [
    {
     "data": {
      "text/plain": [
       "LinearRegression()"
      ]
     },
     "execution_count": 78,
     "metadata": {},
     "output_type": "execute_result"
    }
   ],
   "source": [
    "regr = linear_model.LinearRegression()\n",
    "regr.fit(X, y)"
   ]
  },
  {
   "cell_type": "code",
   "execution_count": 80,
   "metadata": {},
   "outputs": [
    {
     "name": "stderr",
     "output_type": "stream",
     "text": [
      "/opt/homebrew/Caskroom/miniconda/base/envs/nf_sql/lib/python3.9/site-packages/sklearn/base.py:450: UserWarning: X does not have valid feature names, but LinearRegression was fitted with feature names\n",
      "  warnings.warn(\n"
     ]
    },
    {
     "data": {
      "text/plain": [
       "array([722197.26737772])"
      ]
     },
     "execution_count": 80,
     "metadata": {},
     "output_type": "execute_result"
    }
   ],
   "source": [
    "# X = df[['averageweight','usd_goal','min_playtime','Party', 'DE']]\n",
    "predicted_pledged_amount = regr.predict([[4, 50000, 20, 1, 0]])\n",
    "predicted_pledged_amount"
   ]
  }
 ],
 "metadata": {
  "kernelspec": {
   "display_name": "Python 3.9.12 ('nf_sql')",
   "language": "python",
   "name": "python3"
  },
  "language_info": {
   "codemirror_mode": {
    "name": "ipython",
    "version": 3
   },
   "file_extension": ".py",
   "mimetype": "text/x-python",
   "name": "python",
   "nbconvert_exporter": "python",
   "pygments_lexer": "ipython3",
   "version": "3.9.12"
  },
  "orig_nbformat": 4,
  "vscode": {
   "interpreter": {
    "hash": "a81d278bed5b5b59425dcb5a82ce505657686243c184b4a6b67e69d01c4d432e"
   }
  }
 },
 "nbformat": 4,
 "nbformat_minor": 2
}
