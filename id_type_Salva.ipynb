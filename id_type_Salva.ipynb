{
 "cells": [
  {
   "cell_type": "code",
   "execution_count": 5,
   "metadata": {},
   "outputs": [],
   "source": [
    "import pandas as pd\n",
    "from lxml import etree\n",
    "import Capstone_functions as cf\n",
    "import os\n",
    "import sql_functions as sf"
   ]
  },
  {
   "cell_type": "markdown",
   "metadata": {},
   "source": [
    "#### Global variables"
   ]
  },
  {
   "cell_type": "code",
   "execution_count": 6,
   "metadata": {},
   "outputs": [],
   "source": [
    "parser = etree.XMLParser(recover=True)\n",
    "engine = sf.get_engine()\n",
    "schema = \"BGG_Data\"\n",
    "xtree = etree.parse(\"data/old_API_id_260200.xml\", parser= parser).getroot()\n",
    "subnodes = [\n",
    "    'boardgamecategory',\n",
    "    'boardgamesubdomain',\n",
    "    'boardgamemechanic',\n",
    "    'boardgamefamily',\n",
    "    'boardgameexpansion',\n",
    "    'boardgamehonor',\n",
    "    'boardgamedesigner',\n",
    "    'boardgameartist',\n",
    "    'boardgamepublisher',\n",
    "    'boardgamepodcastepisode',\n",
    "    'boardgameimplementation',\n",
    "    'videogamebg',\n",
    "    'statistics',\n",
    "    'marketplacelistings'\n",
    "]"
   ]
  },
  {
   "cell_type": "markdown",
   "metadata": {},
   "source": [
    "#### Build df_main"
   ]
  },
  {
   "cell_type": "code",
   "execution_count": 7,
   "metadata": {},
   "outputs": [],
   "source": [
    "df_main = pd.DataFrame()\n",
    "directory = os.fsencode(\"data/\")\n",
    "\n",
    "for file in os.listdir(directory):\n",
    "    filename = os.fsdecode(file)\n",
    "    if filename.endswith(\".xml\"): \n",
    "        file_path = os.path.join(str(directory)[2:].replace(\"'\",\"\"), filename)\n",
    "        xtree_temp = etree.parse(file_path, parser= parser).getroot()\n",
    "        df_main = pd.concat([df_main,cf.df_main(xtree_temp)])\n"
   ]
  },
  {
   "cell_type": "code",
   "execution_count": 8,
   "metadata": {},
   "outputs": [
    {
     "name": "stdout",
     "output_type": "stream",
     "text": [
      "<class 'pandas.core.frame.DataFrame'>\n",
      "Int64Index: 333317 entries, 0 to 185\n",
      "Data columns (total 9 columns):\n",
      " #   Column         Non-Null Count   Dtype \n",
      "---  ------         --------------   ----- \n",
      " 0   id             333317 non-null  object\n",
      " 1   description    333317 non-null  object\n",
      " 2   yearpublished  137153 non-null  object\n",
      " 3   min_players    137153 non-null  object\n",
      " 4   max_players    137153 non-null  object\n",
      " 5   playtime       137153 non-null  object\n",
      " 6   min_playtime   137153 non-null  object\n",
      " 7   max_playtime   137153 non-null  object\n",
      " 8   min_age        137153 non-null  object\n",
      "dtypes: object(9)\n",
      "memory usage: 25.4+ MB\n"
     ]
    }
   ],
   "source": [
    "df_main.info()"
   ]
  },
  {
   "cell_type": "markdown",
   "metadata": {},
   "source": [
    "#### Loop over subnodes and add dataframes to dictionary"
   ]
  },
  {
   "cell_type": "code",
   "execution_count": 9,
   "metadata": {},
   "outputs": [],
   "source": [
    "df_dict = dict()\n",
    "directory = os.fsencode(\"data/\")\n",
    "for entrypoint in subnodes:\n",
    "    df_temp = pd.DataFrame()\n",
    "    for file in os.listdir(directory):\n",
    "        filename = os.fsdecode(file)\n",
    "        if filename.endswith(\".xml\"): \n",
    "            file_path = os.path.join(str(directory)[2:].replace(\"'\",\"\"), filename)\n",
    "            xtree_temp = etree.parse(file_path, parser= parser).getroot()\n",
    "            df_temp = pd.concat([df_temp,cf.df_subnodes(xtree_temp, entrypoint=entrypoint)])\n",
    "    df_dict[entrypoint] = df_temp"
   ]
  },
  {
   "cell_type": "code",
   "execution_count": null,
   "metadata": {},
   "outputs": [],
   "source": [
    "for node in subnodes:\n",
    "    print(node)\n",
    "    df_dict[node].info()"
   ]
  },
  {
   "cell_type": "code",
   "execution_count": 11,
   "metadata": {},
   "outputs": [
    {
     "name": "stdout",
     "output_type": "stream",
     "text": [
      "The df_main_dirty table was imported successfully.\n"
     ]
    }
   ],
   "source": [
    "sf.build_table(engine=engine,table_name=\"df_main_dirty\",dataframe=df_main,schema=schema)"
   ]
  },
  {
   "cell_type": "code",
   "execution_count": null,
   "metadata": {},
   "outputs": [],
   "source": [
    "for entrypoint in subnodes:\n",
    "    sf.build_table(engine=engine,table_name=entrypoint,dataframe=df_dict[entrypoint],schema=schema)"
   ]
  }
 ],
 "metadata": {
  "kernelspec": {
   "display_name": "Python 3.9.12 ('nf_sql')",
   "language": "python",
   "name": "python3"
  },
  "language_info": {
   "codemirror_mode": {
    "name": "ipython",
    "version": 3
   },
   "file_extension": ".py",
   "mimetype": "text/x-python",
   "name": "python",
   "nbconvert_exporter": "python",
   "pygments_lexer": "ipython3",
   "version": "3.9.12"
  },
  "orig_nbformat": 4,
  "vscode": {
   "interpreter": {
    "hash": "a81d278bed5b5b59425dcb5a82ce505657686243c184b4a6b67e69d01c4d432e"
   }
  }
 },
 "nbformat": 4,
 "nbformat_minor": 2
}
