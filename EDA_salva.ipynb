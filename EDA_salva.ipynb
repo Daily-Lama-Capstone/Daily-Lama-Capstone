{
 "cells": [
  {
   "cell_type": "code",
   "execution_count": null,
   "metadata": {},
   "outputs": [],
   "source": [
    "from lxml import etree as ET\n",
    "dict = {}\n",
    "tree = ET.parse('sample.xml')\n",
    "\n",
    "#df = pd.read_xml(tree)\n",
    "\n",
    "ET.tostring(tree)"
   ]
  },
  {
   "cell_type": "code",
   "execution_count": null,
   "metadata": {},
   "outputs": [],
   "source": [
    "root = tree.getroot()\n",
    "root.tag"
   ]
  },
  {
   "cell_type": "code",
   "execution_count": null,
   "metadata": {},
   "outputs": [],
   "source": [
    "def iter_docs(author):\n",
    "    author_attr = author.attrib\n",
    "    for doc in author.iter('document'):\n",
    "        doc_dict = author_attr.copy()\n",
    "        doc_dict.update(doc.attrib)\n",
    "        doc_dict['data'] = doc.text\n",
    "        yield doc_dict"
   ]
  },
  {
   "cell_type": "code",
   "execution_count": null,
   "metadata": {},
   "outputs": [],
   "source": [
    "doc_df = pd.DataFrame(list(iter_docs(etree.getroot())))"
   ]
  },
  {
   "cell_type": "code",
   "execution_count": null,
   "metadata": {},
   "outputs": [],
   "source": [
    "\n",
    "df_temp = pd.read_xml(f'https://boardgamegeek.com/xmlapi2/thing?id=23451&stats=1')\n",
    "\n",
    "df_temp"
   ]
  },
  {
   "cell_type": "code",
   "execution_count": null,
   "metadata": {},
   "outputs": [],
   "source": [
    "import xml.etree.ElementTree as ET\n",
    "import pandas as pd\n",
    "\n",
    "xml = '''<?xml version=\"1.0\" encoding=\"ISO-8859-1\" ?>\n",
    "<LocationList>\n",
    " <LocationData LocationId=\"Hamburg\" name=\"LocationName\">                       \n",
    "  <ChannelData channelId=\"1\" name=\"Temperature\"  >\n",
    "  <Values>\n",
    "   <VT t=\"2020-08-18T20:30:00\">3.2</VT>\n",
    "   <VT t=\"2020-08-18T21:30:00\">3.3</VT>\n",
    "   <VT t=\"2020-08-18T22:30:00\">3.2</VT>\n",
    "  </Values>\n",
    "  </ChannelData>\n",
    "  <ChannelData channelId=\"2\" name=\"Speed\" >\n",
    "  <Values>\n",
    "   <VT t=\"2020-08-18T20:30:00\">21.7</VT>\n",
    "   <VT t=\"2020-08-18T21:30:00\">21.8</VT>\n",
    "   <VT t=\"2020-08-18T22:30:00\">22.0</VT>\n",
    "  </Values>\n",
    "  </ChannelData>\n",
    " </LocationData>\n",
    "  <LocationData LocationId=\"Rome\" name=\"LocationName\">                       \n",
    "  <ChannelData channelId=\"3\" name=\"Temperature\"  >\n",
    "  <Values>\n",
    "   <VT t=\"2020-08-18T20:30:00\">3.2</VT>\n",
    "   <VT t=\"2020-08-18T21:30:00\">3.3</VT>\n",
    "   <VT t=\"2020-08-18T22:30:00\">3.2</VT>\n",
    "  </Values>\n",
    "  </ChannelData>\n",
    "  <ChannelData channelId=\"4\" name=\"Speed\" >\n",
    "  <Values>\n",
    "   <VT t=\"2020-08-18T20:30:00\">21.7</VT>\n",
    "   <VT t=\"2020-08-18T21:30:00\">21.8</VT>\n",
    "   <VT t=\"2020-08-18T22:30:00\">22.0</VT>\n",
    "  </Values>\n",
    "  </ChannelData>\n",
    " </LocationData>\n",
    "</LocationList>\n",
    "'''"
   ]
  },
  {
   "cell_type": "code",
   "execution_count": null,
   "metadata": {},
   "outputs": [],
   "source": [
    "data = []\n",
    "root = ET.fromstring(xml)\n",
    "for ld in root.findall('.//LocationData'):\n",
    "  location = ld.attrib['LocationId']\n",
    "  for cd in ld.findall('ChannelData'):\n",
    "    channel = cd.attrib['channelId']\n",
    "    for vt in cd.findall('.//VT'):\n",
    "      data.append({'t': vt.attrib['t'],'VT': vt.text,'channelId':channel,'LocationId':location})\n",
    "      \n",
    "df = pd.DataFrame(data)\n",
    "print(df)\n"
   ]
  },
  {
   "cell_type": "code",
   "execution_count": null,
   "metadata": {},
   "outputs": [],
   "source": [
    "ET.tostring(root)"
   ]
  },
  {
   "cell_type": "code",
   "execution_count": null,
   "metadata": {},
   "outputs": [],
   "source": [
    "xml_2 = '''<items termsofuse=\"https://boardgamegeek.com/xmlapi/termsofuse\">\n",
    "<item type=\"boardgame\" id=\"23451\">\n",
    "<thumbnail>https://cf.geekdo-images.com/0oURThe-6wuCft4vjJxYYw__thumb/img/dDJvmJ8RbsDjQVV3-LychjlNnb4=/fit-in/200x150/filters:strip_icc()/pic147924.jpg</thumbnail>\n",
    "<image>https://cf.geekdo-images.com/0oURThe-6wuCft4vjJxYYw__original/img/-oSX14SS-L-DsJ_eZhuDrdNULVg=/0x0/filters:format(jpeg)/pic147924.jpg</image>\n",
    "<name type=\"primary\" sortindex=\"1\" value=\"Space Dealer\"/>\n",
    "<name type=\"alternate\" sortindex=\"1\" value=\"Raumhändler\"/>\n",
    "<name type=\"alternate\" sortindex=\"1\" value=\"Space Time\"/>\n",
    "<name type=\"alternate\" sortindex=\"1\" value=\"SpaceDealer\"/></item></items>\n",
    "'''"
   ]
  },
  {
   "cell_type": "code",
   "execution_count": null,
   "metadata": {},
   "outputs": [],
   "source": [
    "import pandas as pd\n",
    "import xml.etree.ElementTree as et\n",
    "rows = []\n",
    "\n",
    "xtree = et.parse(\"sample.xml\").getroot()\n",
    "\n",
    "for node in xtree:\n",
    "    id = node.attrib.get(\"id\")\n",
    "    image = node.find(\"image\").text\n",
    "    thumb = node.find(\"thumbnail\").text\n",
    "    description = node.find(\"description\").text\n",
    "    yearpublished = node.find(\"yearpublished\").get(\"value\")\n",
    "    for node2 in node.findall('name'):\n",
    "        name = node2.attrib['value']\n",
    "        rows.append({\"id\": id ,\"description\": description, \"yearpublished\": yearpublished, \"image\": image, \n",
    "                 \"thumb\": thumb,\"name\": name})\n",
    "\n",
    "df = pd.DataFrame(rows)\n",
    "\n",
    "df"
   ]
  },
  {
   "cell_type": "code",
   "execution_count": null,
   "metadata": {},
   "outputs": [],
   "source": [
    "import pandas as pd\n",
    "import xml.etree.ElementTree as et\n",
    "main_d = []\n",
    "name_d = []\n",
    "\n",
    "xtree = et.parse(\"sample.xml\")\n",
    "xtree = xtree.getroot()\n",
    "\n",
    "\n",
    "\n",
    "for node in xtree:\n",
    "    id = node.attrib.get(\"id\")\n",
    "    type = node.attrib.get(\"type\")\n",
    "    description = node.find(\"description\").text\n",
    "    yearpublished = node.find(\"yearpublished\").get(\"value\")\n",
    "    minplayers = node.find(\"minplayers\").get(\"value\")\n",
    "    maxplayers = node.find(\"maxplayers\").get(\"value\")\n",
    "    for node2 in node.findall('name'):\n",
    "        name = node2.attrib['value']\n",
    "        name_d.append({\"id\": id ,\"name\": name})\n",
    "    main_d.append({\"id\": id ,\"type\": type ,\"description\": description, \"yearpublished\": yearpublished, \"min_players\": minplayers,\"max_players\": maxplayers})\n",
    "\n",
    "df_main = pd.DataFrame(main_d).set_index(\"id\")\n",
    "df_name = pd.DataFrame(name_d).set_index(\"id\")\n",
    "\n",
    "display(df_main)\n",
    "display(df_name)"
   ]
  },
  {
   "cell_type": "code",
   "execution_count": null,
   "metadata": {},
   "outputs": [],
   "source": [
    "df_main.join(df_name)"
   ]
  },
  {
   "cell_type": "code",
   "execution_count": null,
   "metadata": {},
   "outputs": [],
   "source": [
    "import pandas as pd\n",
    "import xml.etree.ElementTree as et\n",
    "main_d = []\n",
    "name_d = []\n",
    "\n",
    "xtree = et.parse(\"sample.xml\")\n",
    "xtree = xtree.getroot()"
   ]
  }
 ],
 "metadata": {
  "kernelspec": {
   "display_name": "Python 3.9.12 ('neesql')",
   "language": "python",
   "name": "python3"
  },
  "language_info": {
   "codemirror_mode": {
    "name": "ipython",
    "version": 3
   },
   "file_extension": ".py",
   "mimetype": "text/x-python",
   "name": "python",
   "nbconvert_exporter": "python",
   "pygments_lexer": "ipython3",
   "version": "3.9.12"
  },
  "orig_nbformat": 4,
  "vscode": {
   "interpreter": {
    "hash": "93d4e68d14dafe92e85b564fcffe2f10b012fa4b4f297d685e500cc70b9ea34f"
   }
  }
 },
 "nbformat": 4,
 "nbformat_minor": 2
}
