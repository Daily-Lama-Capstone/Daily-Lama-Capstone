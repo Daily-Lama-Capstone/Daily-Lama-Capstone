{
 "cells": [
  {
   "cell_type": "code",
   "execution_count": 40,
   "metadata": {},
   "outputs": [
    {
     "data": {
      "text/plain": [
       "b'<items termsofuse=\"https://boardgamegeek.com/xmlapi/termsofuse\">\\n<item type=\"boardgame\" id=\"23451\">\\n<thumbnail>https://cf.geekdo-images.com/0oURThe-6wuCft4vjJxYYw__thumb/img/dDJvmJ8RbsDjQVV3-LychjlNnb4=/fit-in/200x150/filters:strip_icc()/pic147924.jpg</thumbnail>\\n<image>https://cf.geekdo-images.com/0oURThe-6wuCft4vjJxYYw__original/img/-oSX14SS-L-DsJ_eZhuDrdNULVg=/0x0/filters:format(jpeg)/pic147924.jpg</image>\\n<name type=\"primary\" sortindex=\"1\" value=\"Space Dealer\"/>\\n<name type=\"alternate\" sortindex=\"1\" value=\"Raumh&#228;ndler\"/>\\n<name type=\"alternate\" sortindex=\"1\" value=\"Space Time\"/>\\n<name type=\"alternate\" sortindex=\"1\" value=\"SpaceDealer\"/>\\n<description>Space Dealer is played in real time to a 30-minute soundtrack (or timer) with all players playing simultaneously. Players start at their own planet with a power generator and a mine. They race to generate goods and deliver them to each other (earning victory points for both the player and the recipient) or to the neutral planets. They can also do research to improve their abilities and bring new cards into play. Everything from generating goods to moving ships,to playing new cards requires at least one flip of a sand timer; the catch is that each player has only two timers! At the start of the game it seems like you have all the time in the world. Very soon, though, the game becomes a frantic race to make as many deliveries as possible!A second copy of Space Dealer can be added to expand the game up to eight players.</description>\\n<yearpublished value=\"2006\"/>\\n<minplayers value=\"3\"/>\\n<maxplayers value=\"4\"/>\\n<poll name=\"suggested_numplayers\" title=\"User Suggested Number of Players\" totalvotes=\"17\">\\n<results numplayers=\"1\">\\n<result value=\"Best\" numvotes=\"0\"/>\\n<result value=\"Recommended\" numvotes=\"0\"/>\\n<result value=\"Not Recommended\" numvotes=\"13\"/>\\n</results>\\n<results numplayers=\"2\">\\n<result value=\"Best\" numvotes=\"0\"/>\\n<result value=\"Recommended\" numvotes=\"2\"/>\\n<result value=\"Not Recommended\" numvotes=\"11\"/>\\n</results>\\n<results numplayers=\"3\">\\n<result value=\"Best\" numvotes=\"3\"/>\\n<result value=\"Recommended\" numvotes=\"10\"/>\\n<result value=\"Not Recommended\" numvotes=\"3\"/>\\n</results>\\n<results numplayers=\"4\">\\n<result value=\"Best\" numvotes=\"15\"/>\\n<result value=\"Recommended\" numvotes=\"2\"/>\\n<result value=\"Not Recommended\" numvotes=\"0\"/>\\n</results>\\n<results numplayers=\"4+\">\\n<result value=\"Best\" numvotes=\"1\"/>\\n<result value=\"Recommended\" numvotes=\"4\"/>\\n<result value=\"Not Recommended\" numvotes=\"6\"/>\\n</results>\\n</poll>\\n<playingtime value=\"30\"/>\\n<minplaytime value=\"30\"/>\\n<maxplaytime value=\"30\"/>\\n<minage value=\"10\"/>\\n<poll name=\"suggested_playerage\" title=\"User Suggested Player Age\" totalvotes=\"4\">\\n<results>\\n<result value=\"2\" numvotes=\"0\"/>\\n<result value=\"3\" numvotes=\"0\"/>\\n<result value=\"4\" numvotes=\"0\"/>\\n<result value=\"5\" numvotes=\"0\"/>\\n<result value=\"6\" numvotes=\"0\"/>\\n<result value=\"8\" numvotes=\"0\"/>\\n<result value=\"10\" numvotes=\"1\"/>\\n<result value=\"12\" numvotes=\"3\"/>\\n<result value=\"14\" numvotes=\"0\"/>\\n<result value=\"16\" numvotes=\"0\"/>\\n<result value=\"18\" numvotes=\"0\"/>\\n<result value=\"21 and up\" numvotes=\"0\"/>\\n</results>\\n</poll>\\n<poll name=\"language_dependence\" title=\"Language Dependence\" totalvotes=\"9\">\\n<results>\\n<result level=\"16\" value=\"No necessary in-game text\" numvotes=\"8\"/>\\n<result level=\"17\" value=\"Some necessary text - easily memorized or small crib sheet\" numvotes=\"1\"/>\\n<result level=\"18\" value=\"Moderate in-game text - needs crib sheet or paste ups\" numvotes=\"0\"/>\\n<result level=\"19\" value=\"Extensive use of text - massive conversion needed to be playable\" numvotes=\"0\"/>\\n<result level=\"20\" value=\"Unplayable in another language\" numvotes=\"0\"/>\\n</results>\\n</poll>\\n<link type=\"boardgamecategory\" id=\"1029\" value=\"City Building\"/>\\n<link type=\"boardgamecategory\" id=\"1037\" value=\"Real-time\"/>\\n<link type=\"boardgamecategory\" id=\"1016\" value=\"Science Fiction\"/>\\n<link type=\"boardgamecategory\" id=\"1011\" value=\"Transportation\"/>\\n<link type=\"boardgamemechanic\" id=\"2834\" value=\"Action Timer\"/>\\n<link type=\"boardgamemechanic\" id=\"2882\" value=\"Elapsed Real Time Ending\"/>\\n<link type=\"boardgamemechanic\" id=\"2007\" value=\"Pick-up and Deliver\"/>\\n<link type=\"boardgamemechanic\" id=\"2078\" value=\"Point to Point Movement\"/>\\n<link type=\"boardgamemechanic\" id=\"2020\" value=\"Simultaneous Action Selection\"/>\\n<link type=\"boardgamemechanic\" id=\"2008\" value=\"Trading\"/>\\n<link type=\"boardgamefamily\" id=\"7475\" value=\"Components: Compact Discs (CDs)\"/>\\n<link type=\"boardgamefamily\" id=\"75031\" value=\"Components: Sand Timers\"/>\\n<link type=\"boardgameexpansion\" id=\"32342\" value=\"Space Dealer: All-Zeit\"/>\\n<link type=\"boardgameimplementation\" id=\"137238\" value=\"Time \\'n\\' Space\"/>\\n<link type=\"boardgamedesigner\" id=\"3989\" value=\"Tobias Stapelfeldt\"/>\\n<link type=\"boardgameartist\" id=\"11996\" value=\"Patrick Schoden\"/>\\n<link type=\"boardgamepublisher\" id=\"1015\" value=\"eggertspiele\"/>\\n<link type=\"boardgamepublisher\" id=\"2843\" value=\"JKLM Games\"/>\\n<link type=\"boardgamepublisher\" id=\"39\" value=\"Pegasus Spiele\"/>\\n<link type=\"boardgamepublisher\" id=\"3\" value=\"Rio Grande Games\"/>\\n<statistics page=\"1\">\\n<ratings>\\n<usersrated value=\"1648\"/>\\n<average value=\"6.52352\"/>\\n<bayesaverage value=\"5.99169\"/>\\n<ranks>\\n<rank type=\"subtype\" id=\"1\" name=\"boardgame\" friendlyname=\"Board Game Rank\" value=\"2660\" bayesaverage=\"5.99169\"/>\\n<rank type=\"family\" id=\"5497\" name=\"strategygames\" friendlyname=\"Strategy Game Rank\" value=\"1229\" bayesaverage=\"6.08146\"/>\\n</ranks>\\n<stddev value=\"1.37379\"/>\\n<median value=\"0\"/>\\n<owned value=\"1779\"/>\\n<trading value=\"142\"/>\\n<wanting value=\"83\"/>\\n<wishing value=\"342\"/>\\n<numcomments value=\"652\"/>\\n<numweights value=\"207\"/>\\n<averageweight value=\"2.4058\"/>\\n</ratings>\\n</statistics>\\n</item>\\n</items>'"
      ]
     },
     "execution_count": 40,
     "metadata": {},
     "output_type": "execute_result"
    }
   ],
   "source": [
    "from lxml import etree as ET\n",
    "dict = {}\n",
    "tree = ET.parse('sample.xml')\n",
    "\n",
    "#df = pd.read_xml(tree)\n",
    "\n",
    "ET.tostring(tree)"
   ]
  },
  {
   "cell_type": "code",
   "execution_count": 35,
   "metadata": {},
   "outputs": [
    {
     "data": {
      "text/plain": [
       "'items'"
      ]
     },
     "execution_count": 35,
     "metadata": {},
     "output_type": "execute_result"
    }
   ],
   "source": [
    "root = tree.getroot()\n",
    "root.tag"
   ]
  },
  {
   "cell_type": "code",
   "execution_count": null,
   "metadata": {},
   "outputs": [],
   "source": [
    "def iter_docs(author):\n",
    "    author_attr = author.attrib\n",
    "    for doc in author.iter('document'):\n",
    "        doc_dict = author_attr.copy()\n",
    "        doc_dict.update(doc.attrib)\n",
    "        doc_dict['data'] = doc.text\n",
    "        yield doc_dict"
   ]
  },
  {
   "cell_type": "code",
   "execution_count": null,
   "metadata": {},
   "outputs": [],
   "source": [
    "doc_df = pd.DataFrame(list(iter_docs(etree.getroot())))"
   ]
  },
  {
   "cell_type": "code",
   "execution_count": 138,
   "metadata": {},
   "outputs": [
    {
     "data": {
      "text/html": [
       "<div>\n",
       "<style scoped>\n",
       "    .dataframe tbody tr th:only-of-type {\n",
       "        vertical-align: middle;\n",
       "    }\n",
       "\n",
       "    .dataframe tbody tr th {\n",
       "        vertical-align: top;\n",
       "    }\n",
       "\n",
       "    .dataframe thead th {\n",
       "        text-align: right;\n",
       "    }\n",
       "</style>\n",
       "<table border=\"1\" class=\"dataframe\">\n",
       "  <thead>\n",
       "    <tr style=\"text-align: right;\">\n",
       "      <th></th>\n",
       "      <th>type</th>\n",
       "      <th>id</th>\n",
       "      <th>thumbnail</th>\n",
       "      <th>image</th>\n",
       "      <th>name</th>\n",
       "      <th>description</th>\n",
       "      <th>yearpublished</th>\n",
       "      <th>minplayers</th>\n",
       "      <th>maxplayers</th>\n",
       "      <th>poll</th>\n",
       "      <th>playingtime</th>\n",
       "      <th>minplaytime</th>\n",
       "      <th>maxplaytime</th>\n",
       "      <th>minage</th>\n",
       "      <th>link</th>\n",
       "      <th>statistics</th>\n",
       "    </tr>\n",
       "  </thead>\n",
       "  <tbody>\n",
       "    <tr>\n",
       "      <th>0</th>\n",
       "      <td>boardgame</td>\n",
       "      <td>23451</td>\n",
       "      <td>https://cf.geekdo-images.com/0oURThe-6wuCft4vj...</td>\n",
       "      <td>https://cf.geekdo-images.com/0oURThe-6wuCft4vj...</td>\n",
       "      <td>NaN</td>\n",
       "      <td>Space Dealer is played in real time to a 30-mi...</td>\n",
       "      <td>NaN</td>\n",
       "      <td>NaN</td>\n",
       "      <td>NaN</td>\n",
       "      <td>NaN</td>\n",
       "      <td>NaN</td>\n",
       "      <td>NaN</td>\n",
       "      <td>NaN</td>\n",
       "      <td>NaN</td>\n",
       "      <td>NaN</td>\n",
       "      <td>NaN</td>\n",
       "    </tr>\n",
       "  </tbody>\n",
       "</table>\n",
       "</div>"
      ],
      "text/plain": [
       "        type     id                                          thumbnail  \\\n",
       "0  boardgame  23451  https://cf.geekdo-images.com/0oURThe-6wuCft4vj...   \n",
       "\n",
       "                                               image  name  \\\n",
       "0  https://cf.geekdo-images.com/0oURThe-6wuCft4vj...   NaN   \n",
       "\n",
       "                                         description  yearpublished  \\\n",
       "0  Space Dealer is played in real time to a 30-mi...            NaN   \n",
       "\n",
       "   minplayers  maxplayers  poll  playingtime  minplaytime  maxplaytime  \\\n",
       "0         NaN         NaN   NaN          NaN          NaN          NaN   \n",
       "\n",
       "   minage  link  statistics  \n",
       "0     NaN   NaN         NaN  "
      ]
     },
     "execution_count": 138,
     "metadata": {},
     "output_type": "execute_result"
    }
   ],
   "source": [
    "\n",
    "df_temp = pd.read_xml(f'https://boardgamegeek.com/xmlapi2/thing?id=23451&stats=1')\n",
    "\n",
    "df_temp"
   ]
  },
  {
   "cell_type": "code",
   "execution_count": 81,
   "metadata": {},
   "outputs": [],
   "source": [
    "import xml.etree.ElementTree as ET\n",
    "import pandas as pd\n",
    "\n",
    "xml = '''<?xml version=\"1.0\" encoding=\"ISO-8859-1\" ?>\n",
    "<LocationList>\n",
    " <LocationData LocationId=\"Hamburg\" name=\"LocationName\">                       \n",
    "  <ChannelData channelId=\"1\" name=\"Temperature\"  >\n",
    "  <Values>\n",
    "   <VT t=\"2020-08-18T20:30:00\">3.2</VT>\n",
    "   <VT t=\"2020-08-18T21:30:00\">3.3</VT>\n",
    "   <VT t=\"2020-08-18T22:30:00\">3.2</VT>\n",
    "  </Values>\n",
    "  </ChannelData>\n",
    "  <ChannelData channelId=\"2\" name=\"Speed\" >\n",
    "  <Values>\n",
    "   <VT t=\"2020-08-18T20:30:00\">21.7</VT>\n",
    "   <VT t=\"2020-08-18T21:30:00\">21.8</VT>\n",
    "   <VT t=\"2020-08-18T22:30:00\">22.0</VT>\n",
    "  </Values>\n",
    "  </ChannelData>\n",
    " </LocationData>\n",
    "  <LocationData LocationId=\"Rome\" name=\"LocationName\">                       \n",
    "  <ChannelData channelId=\"3\" name=\"Temperature\"  >\n",
    "  <Values>\n",
    "   <VT t=\"2020-08-18T20:30:00\">3.2</VT>\n",
    "   <VT t=\"2020-08-18T21:30:00\">3.3</VT>\n",
    "   <VT t=\"2020-08-18T22:30:00\">3.2</VT>\n",
    "  </Values>\n",
    "  </ChannelData>\n",
    "  <ChannelData channelId=\"4\" name=\"Speed\" >\n",
    "  <Values>\n",
    "   <VT t=\"2020-08-18T20:30:00\">21.7</VT>\n",
    "   <VT t=\"2020-08-18T21:30:00\">21.8</VT>\n",
    "   <VT t=\"2020-08-18T22:30:00\">22.0</VT>\n",
    "  </Values>\n",
    "  </ChannelData>\n",
    " </LocationData>\n",
    "</LocationList>\n",
    "'''"
   ]
  },
  {
   "cell_type": "code",
   "execution_count": 86,
   "metadata": {},
   "outputs": [
    {
     "name": "stdout",
     "output_type": "stream",
     "text": [
      "                      t    VT channelId LocationId\n",
      "0   2020-08-18T20:30:00   3.2         1    Hamburg\n",
      "1   2020-08-18T21:30:00   3.3         1    Hamburg\n",
      "2   2020-08-18T22:30:00   3.2         1    Hamburg\n",
      "3   2020-08-18T20:30:00  21.7         2    Hamburg\n",
      "4   2020-08-18T21:30:00  21.8         2    Hamburg\n",
      "5   2020-08-18T22:30:00  22.0         2    Hamburg\n",
      "6   2020-08-18T20:30:00   3.2         3       Rome\n",
      "7   2020-08-18T21:30:00   3.3         3       Rome\n",
      "8   2020-08-18T22:30:00   3.2         3       Rome\n",
      "9   2020-08-18T20:30:00  21.7         4       Rome\n",
      "10  2020-08-18T21:30:00  21.8         4       Rome\n",
      "11  2020-08-18T22:30:00  22.0         4       Rome\n"
     ]
    }
   ],
   "source": [
    "data = []\n",
    "root = ET.fromstring(xml)\n",
    "for ld in root.findall('.//LocationData'):\n",
    "  location = ld.attrib['LocationId']\n",
    "  for cd in ld.findall('ChannelData'):\n",
    "    channel = cd.attrib['channelId']\n",
    "    for vt in cd.findall('.//VT'):\n",
    "      data.append({'t': vt.attrib['t'],'VT': vt.text,'channelId':channel,'LocationId':location})\n",
    "      \n",
    "df = pd.DataFrame(data)\n",
    "print(df)\n"
   ]
  },
  {
   "cell_type": "code",
   "execution_count": 90,
   "metadata": {},
   "outputs": [
    {
     "data": {
      "text/plain": [
       "b'<LocationList>\\n <LocationData LocationId=\"Hamburg\" name=\"LocationName\">                       \\n  <ChannelData channelId=\"1\" name=\"Temperature\">\\n  <Values>\\n   <VT t=\"2020-08-18T20:30:00\">3.2</VT>\\n   <VT t=\"2020-08-18T21:30:00\">3.3</VT>\\n   <VT t=\"2020-08-18T22:30:00\">3.2</VT>\\n  </Values>\\n  </ChannelData>\\n  <ChannelData channelId=\"2\" name=\"Speed\">\\n  <Values>\\n   <VT t=\"2020-08-18T20:30:00\">21.7</VT>\\n   <VT t=\"2020-08-18T21:30:00\">21.8</VT>\\n   <VT t=\"2020-08-18T22:30:00\">22.0</VT>\\n  </Values>\\n  </ChannelData>\\n </LocationData>\\n  <LocationData LocationId=\"Rome\" name=\"LocationName\">                       \\n  <ChannelData channelId=\"3\" name=\"Temperature\">\\n  <Values>\\n   <VT t=\"2020-08-18T20:30:00\">3.2</VT>\\n   <VT t=\"2020-08-18T21:30:00\">3.3</VT>\\n   <VT t=\"2020-08-18T22:30:00\">3.2</VT>\\n  </Values>\\n  </ChannelData>\\n  <ChannelData channelId=\"4\" name=\"Speed\">\\n  <Values>\\n   <VT t=\"2020-08-18T20:30:00\">21.7</VT>\\n   <VT t=\"2020-08-18T21:30:00\">21.8</VT>\\n   <VT t=\"2020-08-18T22:30:00\">22.0</VT>\\n  </Values>\\n  </ChannelData>\\n </LocationData>\\n</LocationList>'"
      ]
     },
     "execution_count": 90,
     "metadata": {},
     "output_type": "execute_result"
    }
   ],
   "source": [
    "ET.tostring(root)"
   ]
  },
  {
   "cell_type": "code",
   "execution_count": 92,
   "metadata": {},
   "outputs": [],
   "source": [
    "xml_2 = '''<items termsofuse=\"https://boardgamegeek.com/xmlapi/termsofuse\">\n",
    "<item type=\"boardgame\" id=\"23451\">\n",
    "<thumbnail>https://cf.geekdo-images.com/0oURThe-6wuCft4vjJxYYw__thumb/img/dDJvmJ8RbsDjQVV3-LychjlNnb4=/fit-in/200x150/filters:strip_icc()/pic147924.jpg</thumbnail>\n",
    "<image>https://cf.geekdo-images.com/0oURThe-6wuCft4vjJxYYw__original/img/-oSX14SS-L-DsJ_eZhuDrdNULVg=/0x0/filters:format(jpeg)/pic147924.jpg</image>\n",
    "<name type=\"primary\" sortindex=\"1\" value=\"Space Dealer\"/>\n",
    "<name type=\"alternate\" sortindex=\"1\" value=\"Raumhändler\"/>\n",
    "<name type=\"alternate\" sortindex=\"1\" value=\"Space Time\"/>\n",
    "<name type=\"alternate\" sortindex=\"1\" value=\"SpaceDealer\"/></item></items>\n",
    "'''"
   ]
  },
  {
   "cell_type": "code",
   "execution_count": 8,
   "metadata": {},
   "outputs": [
    {
     "data": {
      "text/html": [
       "<div>\n",
       "<style scoped>\n",
       "    .dataframe tbody tr th:only-of-type {\n",
       "        vertical-align: middle;\n",
       "    }\n",
       "\n",
       "    .dataframe tbody tr th {\n",
       "        vertical-align: top;\n",
       "    }\n",
       "\n",
       "    .dataframe thead th {\n",
       "        text-align: right;\n",
       "    }\n",
       "</style>\n",
       "<table border=\"1\" class=\"dataframe\">\n",
       "  <thead>\n",
       "    <tr style=\"text-align: right;\">\n",
       "      <th></th>\n",
       "      <th>id</th>\n",
       "      <th>description</th>\n",
       "      <th>yearpublished</th>\n",
       "      <th>image</th>\n",
       "      <th>thumb</th>\n",
       "      <th>name</th>\n",
       "    </tr>\n",
       "  </thead>\n",
       "  <tbody>\n",
       "    <tr>\n",
       "      <th>0</th>\n",
       "      <td>23451</td>\n",
       "      <td>Space Dealer is played in real time to a 30-mi...</td>\n",
       "      <td>2006</td>\n",
       "      <td>https://cf.geekdo-images.com/0oURThe-6wuCft4vj...</td>\n",
       "      <td>https://cf.geekdo-images.com/0oURThe-6wuCft4vj...</td>\n",
       "      <td>Space Dealer</td>\n",
       "    </tr>\n",
       "    <tr>\n",
       "      <th>1</th>\n",
       "      <td>23451</td>\n",
       "      <td>Space Dealer is played in real time to a 30-mi...</td>\n",
       "      <td>2006</td>\n",
       "      <td>https://cf.geekdo-images.com/0oURThe-6wuCft4vj...</td>\n",
       "      <td>https://cf.geekdo-images.com/0oURThe-6wuCft4vj...</td>\n",
       "      <td>Raumhändler</td>\n",
       "    </tr>\n",
       "    <tr>\n",
       "      <th>2</th>\n",
       "      <td>23451</td>\n",
       "      <td>Space Dealer is played in real time to a 30-mi...</td>\n",
       "      <td>2006</td>\n",
       "      <td>https://cf.geekdo-images.com/0oURThe-6wuCft4vj...</td>\n",
       "      <td>https://cf.geekdo-images.com/0oURThe-6wuCft4vj...</td>\n",
       "      <td>Space Time</td>\n",
       "    </tr>\n",
       "    <tr>\n",
       "      <th>3</th>\n",
       "      <td>23451</td>\n",
       "      <td>Space Dealer is played in real time to a 30-mi...</td>\n",
       "      <td>2006</td>\n",
       "      <td>https://cf.geekdo-images.com/0oURThe-6wuCft4vj...</td>\n",
       "      <td>https://cf.geekdo-images.com/0oURThe-6wuCft4vj...</td>\n",
       "      <td>SpaceDealer</td>\n",
       "    </tr>\n",
       "    <tr>\n",
       "      <th>4</th>\n",
       "      <td>23452</td>\n",
       "      <td>From the publisher's website ( www.rowdygames....</td>\n",
       "      <td>2002</td>\n",
       "      <td>https://cf.geekdo-images.com/UCYJ416JtuRCLgn8u...</td>\n",
       "      <td>https://cf.geekdo-images.com/UCYJ416JtuRCLgn8u...</td>\n",
       "      <td>Coup de Grâce</td>\n",
       "    </tr>\n",
       "    <tr>\n",
       "      <th>5</th>\n",
       "      <td>23453</td>\n",
       "      <td>This expansion for Havoc: the Hundred Years Wa...</td>\n",
       "      <td>2005</td>\n",
       "      <td>https://cf.geekdo-images.com/Pyt5KmI9x-2YxNT7g...</td>\n",
       "      <td>https://cf.geekdo-images.com/Pyt5KmI9x-2YxNT7g...</td>\n",
       "      <td>Havoc Expansion: The Character Cards</td>\n",
       "    </tr>\n",
       "  </tbody>\n",
       "</table>\n",
       "</div>"
      ],
      "text/plain": [
       "      id                                        description yearpublished  \\\n",
       "0  23451  Space Dealer is played in real time to a 30-mi...          2006   \n",
       "1  23451  Space Dealer is played in real time to a 30-mi...          2006   \n",
       "2  23451  Space Dealer is played in real time to a 30-mi...          2006   \n",
       "3  23451  Space Dealer is played in real time to a 30-mi...          2006   \n",
       "4  23452  From the publisher's website ( www.rowdygames....          2002   \n",
       "5  23453  This expansion for Havoc: the Hundred Years Wa...          2005   \n",
       "\n",
       "                                               image  \\\n",
       "0  https://cf.geekdo-images.com/0oURThe-6wuCft4vj...   \n",
       "1  https://cf.geekdo-images.com/0oURThe-6wuCft4vj...   \n",
       "2  https://cf.geekdo-images.com/0oURThe-6wuCft4vj...   \n",
       "3  https://cf.geekdo-images.com/0oURThe-6wuCft4vj...   \n",
       "4  https://cf.geekdo-images.com/UCYJ416JtuRCLgn8u...   \n",
       "5  https://cf.geekdo-images.com/Pyt5KmI9x-2YxNT7g...   \n",
       "\n",
       "                                               thumb  \\\n",
       "0  https://cf.geekdo-images.com/0oURThe-6wuCft4vj...   \n",
       "1  https://cf.geekdo-images.com/0oURThe-6wuCft4vj...   \n",
       "2  https://cf.geekdo-images.com/0oURThe-6wuCft4vj...   \n",
       "3  https://cf.geekdo-images.com/0oURThe-6wuCft4vj...   \n",
       "4  https://cf.geekdo-images.com/UCYJ416JtuRCLgn8u...   \n",
       "5  https://cf.geekdo-images.com/Pyt5KmI9x-2YxNT7g...   \n",
       "\n",
       "                                   name  \n",
       "0                          Space Dealer  \n",
       "1                           Raumhändler  \n",
       "2                            Space Time  \n",
       "3                           SpaceDealer  \n",
       "4                         Coup de Grâce  \n",
       "5  Havoc Expansion: The Character Cards  "
      ]
     },
     "execution_count": 8,
     "metadata": {},
     "output_type": "execute_result"
    }
   ],
   "source": [
    "import pandas as pd\n",
    "import xml.etree.ElementTree as et\n",
    "rows = []\n",
    "\n",
    "xtree = et.parse(\"sample.xml\").getroot()\n",
    "\n",
    "for node in xtree:\n",
    "    id = node.attrib.get(\"id\")\n",
    "    image = node.find(\"image\").text\n",
    "    thumb = node.find(\"thumbnail\").text\n",
    "    description = node.find(\"description\").text\n",
    "    yearpublished = node.find(\"yearpublished\").get(\"value\")\n",
    "    for node2 in node.findall('name'):\n",
    "        name = node2.attrib['value']\n",
    "        rows.append({\"id\": id ,\"description\": description, \"yearpublished\": yearpublished, \"image\": image, \n",
    "                 \"thumb\": thumb,\"name\": name})\n",
    "\n",
    "df = pd.DataFrame(rows)\n",
    "\n",
    "df"
   ]
  },
  {
   "cell_type": "code",
   "execution_count": 11,
   "metadata": {},
   "outputs": [
    {
     "ename": "TypeError",
     "evalue": "parse() got an unexpected keyword argument 'SyntaxError'",
     "output_type": "error",
     "traceback": [
      "\u001b[0;31m---------------------------------------------------------------------------\u001b[0m",
      "\u001b[0;31mTypeError\u001b[0m                                 Traceback (most recent call last)",
      "\u001b[1;32m/Users/salvatore/neuefische/capstone-project/EDA_salva.ipynb Cell 11'\u001b[0m in \u001b[0;36m<cell line: 6>\u001b[0;34m()\u001b[0m\n\u001b[1;32m      <a href='vscode-notebook-cell:/Users/salvatore/neuefische/capstone-project/EDA_salva.ipynb#ch0000010?line=2'>3</a>\u001b[0m main_d \u001b[39m=\u001b[39m []\n\u001b[1;32m      <a href='vscode-notebook-cell:/Users/salvatore/neuefische/capstone-project/EDA_salva.ipynb#ch0000010?line=3'>4</a>\u001b[0m name_d \u001b[39m=\u001b[39m []\n\u001b[0;32m----> <a href='vscode-notebook-cell:/Users/salvatore/neuefische/capstone-project/EDA_salva.ipynb#ch0000010?line=5'>6</a>\u001b[0m xtree \u001b[39m=\u001b[39m et\u001b[39m.\u001b[39;49mparse(\u001b[39m\"\u001b[39;49m\u001b[39msample.xml\u001b[39;49m\u001b[39m\"\u001b[39;49m, \u001b[39mSyntaxError\u001b[39;49;00m\u001b[39m=\u001b[39;49m\u001b[39m'\u001b[39;49m\u001b[39mignore\u001b[39;49m\u001b[39m'\u001b[39;49m)\n\u001b[1;32m      <a href='vscode-notebook-cell:/Users/salvatore/neuefische/capstone-project/EDA_salva.ipynb#ch0000010?line=6'>7</a>\u001b[0m xtree \u001b[39m=\u001b[39m xtree\u001b[39m.\u001b[39mgetroot()\n\u001b[1;32m     <a href='vscode-notebook-cell:/Users/salvatore/neuefische/capstone-project/EDA_salva.ipynb#ch0000010?line=10'>11</a>\u001b[0m \u001b[39mfor\u001b[39;00m node \u001b[39min\u001b[39;00m xtree:\n",
      "\u001b[0;31mTypeError\u001b[0m: parse() got an unexpected keyword argument 'SyntaxError'"
     ]
    }
   ],
   "source": [
    "import pandas as pd\n",
    "import xml.etree.ElementTree as et\n",
    "main_d = []\n",
    "name_d = []\n",
    "\n",
    "xtree = et.parse(\"sample.xml\")\n",
    "xtree = xtree.getroot()\n",
    "\n",
    "\n",
    "\n",
    "for node in xtree:\n",
    "    id = node.attrib.get(\"id\")\n",
    "    type = node.attrib.get(\"type\")\n",
    "    description = node.find(\"description\").text\n",
    "    yearpublished = node.find(\"yearpublished\").get(\"value\")\n",
    "    minplayers = node.find(\"minplayers\").get(\"value\")\n",
    "    maxplayers = node.find(\"maxplayers\").get(\"value\")\n",
    "    for node2 in node.findall('name'):\n",
    "        name = node2.attrib['value']\n",
    "        name_d.append({\"id\": id ,\"name\": name})\n",
    "    main_d.append({\"id\": id ,\"type\": type ,\"description\": description, \"yearpublished\": yearpublished, \"min_players\": minplayers,\"max_players\": maxplayers})\n",
    "\n",
    "df_main = pd.DataFrame(main_d).set_index(\"id\")\n",
    "df_name = pd.DataFrame(name_d).set_index(\"id\")\n",
    "\n",
    "display(df_main)\n",
    "display(df_name)"
   ]
  },
  {
   "cell_type": "code",
   "execution_count": 9,
   "metadata": {},
   "outputs": [
    {
     "data": {
      "text/html": [
       "<div>\n",
       "<style scoped>\n",
       "    .dataframe tbody tr th:only-of-type {\n",
       "        vertical-align: middle;\n",
       "    }\n",
       "\n",
       "    .dataframe tbody tr th {\n",
       "        vertical-align: top;\n",
       "    }\n",
       "\n",
       "    .dataframe thead th {\n",
       "        text-align: right;\n",
       "    }\n",
       "</style>\n",
       "<table border=\"1\" class=\"dataframe\">\n",
       "  <thead>\n",
       "    <tr style=\"text-align: right;\">\n",
       "      <th></th>\n",
       "      <th>type</th>\n",
       "      <th>description</th>\n",
       "      <th>yearpublished</th>\n",
       "      <th>min_players</th>\n",
       "      <th>max_players</th>\n",
       "      <th>name</th>\n",
       "    </tr>\n",
       "    <tr>\n",
       "      <th>id</th>\n",
       "      <th></th>\n",
       "      <th></th>\n",
       "      <th></th>\n",
       "      <th></th>\n",
       "      <th></th>\n",
       "      <th></th>\n",
       "    </tr>\n",
       "  </thead>\n",
       "  <tbody>\n",
       "    <tr>\n",
       "      <th>23451</th>\n",
       "      <td>boardgame</td>\n",
       "      <td>Space Dealer is played in real time to a 30-mi...</td>\n",
       "      <td>2006</td>\n",
       "      <td>3</td>\n",
       "      <td>4</td>\n",
       "      <td>Space Dealer</td>\n",
       "    </tr>\n",
       "    <tr>\n",
       "      <th>23451</th>\n",
       "      <td>boardgame</td>\n",
       "      <td>Space Dealer is played in real time to a 30-mi...</td>\n",
       "      <td>2006</td>\n",
       "      <td>3</td>\n",
       "      <td>4</td>\n",
       "      <td>Raumhändler</td>\n",
       "    </tr>\n",
       "    <tr>\n",
       "      <th>23451</th>\n",
       "      <td>boardgame</td>\n",
       "      <td>Space Dealer is played in real time to a 30-mi...</td>\n",
       "      <td>2006</td>\n",
       "      <td>3</td>\n",
       "      <td>4</td>\n",
       "      <td>Space Time</td>\n",
       "    </tr>\n",
       "    <tr>\n",
       "      <th>23451</th>\n",
       "      <td>boardgame</td>\n",
       "      <td>Space Dealer is played in real time to a 30-mi...</td>\n",
       "      <td>2006</td>\n",
       "      <td>3</td>\n",
       "      <td>4</td>\n",
       "      <td>SpaceDealer</td>\n",
       "    </tr>\n",
       "    <tr>\n",
       "      <th>23452</th>\n",
       "      <td>boardgame</td>\n",
       "      <td>From the publisher's website ( www.rowdygames....</td>\n",
       "      <td>2002</td>\n",
       "      <td>2</td>\n",
       "      <td>2</td>\n",
       "      <td>Coup de Grâce</td>\n",
       "    </tr>\n",
       "    <tr>\n",
       "      <th>23453</th>\n",
       "      <td>boardgameexpansion</td>\n",
       "      <td>This expansion for Havoc: the Hundred Years Wa...</td>\n",
       "      <td>2005</td>\n",
       "      <td>2</td>\n",
       "      <td>6</td>\n",
       "      <td>Havoc Expansion: The Character Cards</td>\n",
       "    </tr>\n",
       "  </tbody>\n",
       "</table>\n",
       "</div>"
      ],
      "text/plain": [
       "                     type                                        description  \\\n",
       "id                                                                             \n",
       "23451           boardgame  Space Dealer is played in real time to a 30-mi...   \n",
       "23451           boardgame  Space Dealer is played in real time to a 30-mi...   \n",
       "23451           boardgame  Space Dealer is played in real time to a 30-mi...   \n",
       "23451           boardgame  Space Dealer is played in real time to a 30-mi...   \n",
       "23452           boardgame  From the publisher's website ( www.rowdygames....   \n",
       "23453  boardgameexpansion  This expansion for Havoc: the Hundred Years Wa...   \n",
       "\n",
       "      yearpublished min_players max_players  \\\n",
       "id                                            \n",
       "23451          2006           3           4   \n",
       "23451          2006           3           4   \n",
       "23451          2006           3           4   \n",
       "23451          2006           3           4   \n",
       "23452          2002           2           2   \n",
       "23453          2005           2           6   \n",
       "\n",
       "                                       name  \n",
       "id                                           \n",
       "23451                          Space Dealer  \n",
       "23451                           Raumhändler  \n",
       "23451                            Space Time  \n",
       "23451                           SpaceDealer  \n",
       "23452                         Coup de Grâce  \n",
       "23453  Havoc Expansion: The Character Cards  "
      ]
     },
     "execution_count": 9,
     "metadata": {},
     "output_type": "execute_result"
    }
   ],
   "source": [
    "df_main.join(df_name)"
   ]
  },
  {
   "cell_type": "code",
   "execution_count": 12,
   "metadata": {},
   "outputs": [
    {
     "ename": "ParseError",
     "evalue": "not well-formed (invalid token): line 9, column 35 (<string>)",
     "output_type": "error",
     "traceback": [
      "Traceback \u001b[0;36m(most recent call last)\u001b[0m:\n",
      "  File \u001b[1;32m/opt/homebrew/Caskroom/miniconda/base/envs/neesql/lib/python3.9/site-packages/IPython/core/interactiveshell.py:3369\u001b[0m in \u001b[1;35mrun_code\u001b[0m\n    exec(code_obj, self.user_global_ns, self.user_ns)\n",
      "  Input \u001b[1;32mIn [12]\u001b[0m in \u001b[1;35m<cell line: 6>\u001b[0m\n    xtree = et.parse(\"sample.xml\")\n",
      "  File \u001b[1;32m/opt/homebrew/Caskroom/miniconda/base/envs/neesql/lib/python3.9/xml/etree/ElementTree.py:1229\u001b[0m in \u001b[1;35mparse\u001b[0m\n    tree.parse(source, parser)\n",
      "\u001b[0;36m  File \u001b[0;32m/opt/homebrew/Caskroom/miniconda/base/envs/neesql/lib/python3.9/xml/etree/ElementTree.py:580\u001b[0;36m in \u001b[0;35mparse\u001b[0;36m\u001b[0m\n\u001b[0;31m    self._root = parser._parse_whole(source)\u001b[0m\n",
      "\u001b[0;36m  File \u001b[0;32m<string>\u001b[0;36m\u001b[0m\n\u001b[0;31mParseError\u001b[0m\u001b[0;31m:\u001b[0m not well-formed (invalid token): line 9, column 35\n"
     ]
    }
   ],
   "source": [
    "import pandas as pd\n",
    "import xml.etree.ElementTree as et\n",
    "main_d = []\n",
    "name_d = []\n",
    "\n",
    "xtree = et.parse(\"sample.xml\")\n",
    "xtree = xtree.getroot()"
   ]
  }
 ],
 "metadata": {
  "kernelspec": {
   "display_name": "Python 3.9.12 ('neesql')",
   "language": "python",
   "name": "python3"
  },
  "language_info": {
   "codemirror_mode": {
    "name": "ipython",
    "version": 3
   },
   "file_extension": ".py",
   "mimetype": "text/x-python",
   "name": "python",
   "nbconvert_exporter": "python",
   "pygments_lexer": "ipython3",
   "version": "3.9.12"
  },
  "orig_nbformat": 4,
  "vscode": {
   "interpreter": {
    "hash": "93d4e68d14dafe92e85b564fcffe2f10b012fa4b4f297d685e500cc70b9ea34f"
   }
  }
 },
 "nbformat": 4,
 "nbformat_minor": 2
}
