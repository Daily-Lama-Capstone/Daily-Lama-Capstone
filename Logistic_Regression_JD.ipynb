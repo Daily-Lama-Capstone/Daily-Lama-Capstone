{
 "cells": [
  {
   "cell_type": "code",
   "execution_count": 13,
   "metadata": {},
   "outputs": [],
   "source": [
    "from sql_functions import get_dataframe\n",
    "import pandas as pd\n",
    "import numpy as np\n",
    "import seaborn as sns\n",
    "import matplotlib.pyplot as plt\n",
    "import sklearn\n",
    "\n",
    "from pylab import rcParams\n",
    "from sklearn.linear_model import LogisticRegression\n",
    "from sklearn.model_selection import train_test_split\n",
    "from sklearn.metrics import confusion_matrix, classification_report\n",
    "\n",
    "from sklearn.preprocessing import StandardScaler\n",
    "from sklearn.model_selection import train_test_split, cross_val_score\n",
    "from sklearn.model_selection import GridSearchCV, RandomizedSearchCV\n",
    "from sklearn.model_selection import StratifiedKFold\n",
    "from sklearn.metrics import confusion_matrix, accuracy_score, classification_report\n",
    "\n",
    "import warnings\n",
    "warnings.filterwarnings(\"ignore\")\n",
    "RSEED = 10"
   ]
  },
  {
   "cell_type": "code",
   "execution_count": 14,
   "metadata": {},
   "outputs": [],
   "source": [
    "schema = \"bgg_data\"\n",
    "main = \"main\"\n",
    "marketplace = \"marketplace_listings\"\n",
    "stats = \"statistics\"\n",
    "\n",
    "df_main = get_dataframe(f\"SELECT * FROM {schema}.{main}\")\n",
    "df_marketplace = get_dataframe(f\"SELECT * FROM {schema}.{marketplace}\")\n",
    "df_stats = get_dataframe(f\"SELECT * FROM {schema}.{stats}\")\n"
   ]
  },
  {
   "cell_type": "code",
   "execution_count": 15,
   "metadata": {},
   "outputs": [
    {
     "data": {
      "text/html": [
       "<div>\n",
       "<style scoped>\n",
       "    .dataframe tbody tr th:only-of-type {\n",
       "        vertical-align: middle;\n",
       "    }\n",
       "\n",
       "    .dataframe tbody tr th {\n",
       "        vertical-align: top;\n",
       "    }\n",
       "\n",
       "    .dataframe thead th {\n",
       "        text-align: right;\n",
       "    }\n",
       "</style>\n",
       "<table border=\"1\" class=\"dataframe\">\n",
       "  <thead>\n",
       "    <tr style=\"text-align: right;\">\n",
       "      <th></th>\n",
       "      <th>id</th>\n",
       "      <th>average</th>\n",
       "      <th>user_rated</th>\n",
       "      <th>num_owned</th>\n",
       "      <th>trading</th>\n",
       "      <th>wanting</th>\n",
       "      <th>wishing</th>\n",
       "      <th>numcomments</th>\n",
       "      <th>numweights</th>\n",
       "      <th>averageweight</th>\n",
       "    </tr>\n",
       "  </thead>\n",
       "  <tbody>\n",
       "    <tr>\n",
       "      <th>count</th>\n",
       "      <td>333291.000000</td>\n",
       "      <td>333291.000000</td>\n",
       "      <td>333291.000000</td>\n",
       "      <td>333291.000000</td>\n",
       "      <td>333291.000000</td>\n",
       "      <td>333291.000000</td>\n",
       "      <td>333291.000000</td>\n",
       "      <td>333291.000000</td>\n",
       "      <td>333291.000000</td>\n",
       "      <td>333291.000000</td>\n",
       "    </tr>\n",
       "    <tr>\n",
       "      <th>mean</th>\n",
       "      <td>183916.420017</td>\n",
       "      <td>3.161881</td>\n",
       "      <td>71.939248</td>\n",
       "      <td>155.410941</td>\n",
       "      <td>3.958355</td>\n",
       "      <td>4.233349</td>\n",
       "      <td>20.780045</td>\n",
       "      <td>18.239217</td>\n",
       "      <td>3.909737</td>\n",
       "      <td>0.456766</td>\n",
       "    </tr>\n",
       "    <tr>\n",
       "      <th>std</th>\n",
       "      <td>105796.233019</td>\n",
       "      <td>3.441298</td>\n",
       "      <td>1031.186407</td>\n",
       "      <td>1586.239315</td>\n",
       "      <td>29.820136</td>\n",
       "      <td>33.389891</td>\n",
       "      <td>224.978813</td>\n",
       "      <td>188.878053</td>\n",
       "      <td>55.968413</td>\n",
       "      <td>0.976645</td>\n",
       "    </tr>\n",
       "    <tr>\n",
       "      <th>min</th>\n",
       "      <td>1.000000</td>\n",
       "      <td>0.000000</td>\n",
       "      <td>0.000000</td>\n",
       "      <td>0.000000</td>\n",
       "      <td>0.000000</td>\n",
       "      <td>0.000000</td>\n",
       "      <td>0.000000</td>\n",
       "      <td>0.000000</td>\n",
       "      <td>0.000000</td>\n",
       "      <td>0.000000</td>\n",
       "    </tr>\n",
       "    <tr>\n",
       "      <th>25%</th>\n",
       "      <td>92592.500000</td>\n",
       "      <td>0.000000</td>\n",
       "      <td>0.000000</td>\n",
       "      <td>0.000000</td>\n",
       "      <td>0.000000</td>\n",
       "      <td>0.000000</td>\n",
       "      <td>0.000000</td>\n",
       "      <td>0.000000</td>\n",
       "      <td>0.000000</td>\n",
       "      <td>0.000000</td>\n",
       "    </tr>\n",
       "    <tr>\n",
       "      <th>50%</th>\n",
       "      <td>185086.000000</td>\n",
       "      <td>0.000000</td>\n",
       "      <td>0.000000</td>\n",
       "      <td>3.000000</td>\n",
       "      <td>0.000000</td>\n",
       "      <td>0.000000</td>\n",
       "      <td>0.000000</td>\n",
       "      <td>0.000000</td>\n",
       "      <td>0.000000</td>\n",
       "      <td>0.000000</td>\n",
       "    </tr>\n",
       "    <tr>\n",
       "      <th>75%</th>\n",
       "      <td>275956.500000</td>\n",
       "      <td>6.625000</td>\n",
       "      <td>4.000000</td>\n",
       "      <td>19.000000</td>\n",
       "      <td>0.000000</td>\n",
       "      <td>0.000000</td>\n",
       "      <td>2.000000</td>\n",
       "      <td>2.000000</td>\n",
       "      <td>0.000000</td>\n",
       "      <td>0.000000</td>\n",
       "    </tr>\n",
       "    <tr>\n",
       "      <th>max</th>\n",
       "      <td>365842.000000</td>\n",
       "      <td>10.000000</td>\n",
       "      <td>112718.000000</td>\n",
       "      <td>175618.000000</td>\n",
       "      <td>2655.000000</td>\n",
       "      <td>2008.000000</td>\n",
       "      <td>20091.000000</td>\n",
       "      <td>19916.000000</td>\n",
       "      <td>7809.000000</td>\n",
       "      <td>5.000000</td>\n",
       "    </tr>\n",
       "  </tbody>\n",
       "</table>\n",
       "</div>"
      ],
      "text/plain": [
       "                  id        average     user_rated      num_owned  \\\n",
       "count  333291.000000  333291.000000  333291.000000  333291.000000   \n",
       "mean   183916.420017       3.161881      71.939248     155.410941   \n",
       "std    105796.233019       3.441298    1031.186407    1586.239315   \n",
       "min         1.000000       0.000000       0.000000       0.000000   \n",
       "25%     92592.500000       0.000000       0.000000       0.000000   \n",
       "50%    185086.000000       0.000000       0.000000       3.000000   \n",
       "75%    275956.500000       6.625000       4.000000      19.000000   \n",
       "max    365842.000000      10.000000  112718.000000  175618.000000   \n",
       "\n",
       "             trading        wanting        wishing    numcomments  \\\n",
       "count  333291.000000  333291.000000  333291.000000  333291.000000   \n",
       "mean        3.958355       4.233349      20.780045      18.239217   \n",
       "std        29.820136      33.389891     224.978813     188.878053   \n",
       "min         0.000000       0.000000       0.000000       0.000000   \n",
       "25%         0.000000       0.000000       0.000000       0.000000   \n",
       "50%         0.000000       0.000000       0.000000       0.000000   \n",
       "75%         0.000000       0.000000       2.000000       2.000000   \n",
       "max      2655.000000    2008.000000   20091.000000   19916.000000   \n",
       "\n",
       "          numweights  averageweight  \n",
       "count  333291.000000  333291.000000  \n",
       "mean        3.909737       0.456766  \n",
       "std        55.968413       0.976645  \n",
       "min         0.000000       0.000000  \n",
       "25%         0.000000       0.000000  \n",
       "50%         0.000000       0.000000  \n",
       "75%         0.000000       0.000000  \n",
       "max      7809.000000       5.000000  "
      ]
     },
     "execution_count": 15,
     "metadata": {},
     "output_type": "execute_result"
    }
   ],
   "source": [
    "df_stats.describe()"
   ]
  },
  {
   "cell_type": "code",
   "execution_count": 16,
   "metadata": {},
   "outputs": [
    {
     "name": "stdout",
     "output_type": "stream",
     "text": [
      "<class 'pandas.core.frame.DataFrame'>\n",
      "RangeIndex: 137153 entries, 0 to 137152\n",
      "Data columns (total 8 columns):\n",
      " #   Column         Non-Null Count   Dtype\n",
      "---  ------         --------------   -----\n",
      " 0   id             137153 non-null  int64\n",
      " 1   yearpublished  137153 non-null  int64\n",
      " 2   min_players    137153 non-null  int64\n",
      " 3   max_players    137153 non-null  int64\n",
      " 4   playtime       137153 non-null  int64\n",
      " 5   min_playtime   137153 non-null  int64\n",
      " 6   max_playtime   137153 non-null  int64\n",
      " 7   min_age        137153 non-null  int64\n",
      "dtypes: int64(8)\n",
      "memory usage: 8.4 MB\n"
     ]
    }
   ],
   "source": [
    "df_main.info()"
   ]
  },
  {
   "cell_type": "code",
   "execution_count": 17,
   "metadata": {},
   "outputs": [],
   "source": [
    "df_log_reg = pd.merge(df_main, df_stats, how=\"inner\", on=\"id\")\n",
    "df_log_reg = pd.merge(df_log_reg, df_marketplace, how=\"inner\", on=\"id\")\n"
   ]
  },
  {
   "cell_type": "code",
   "execution_count": 18,
   "metadata": {},
   "outputs": [
    {
     "data": {
      "text/html": [
       "<div>\n",
       "<style scoped>\n",
       "    .dataframe tbody tr th:only-of-type {\n",
       "        vertical-align: middle;\n",
       "    }\n",
       "\n",
       "    .dataframe tbody tr th {\n",
       "        vertical-align: top;\n",
       "    }\n",
       "\n",
       "    .dataframe thead th {\n",
       "        text-align: right;\n",
       "    }\n",
       "</style>\n",
       "<table border=\"1\" class=\"dataframe\">\n",
       "  <thead>\n",
       "    <tr style=\"text-align: right;\">\n",
       "      <th></th>\n",
       "      <th>id</th>\n",
       "      <th>yearpublished</th>\n",
       "      <th>min_players</th>\n",
       "      <th>max_players</th>\n",
       "      <th>playtime</th>\n",
       "      <th>min_playtime</th>\n",
       "      <th>max_playtime</th>\n",
       "      <th>min_age</th>\n",
       "      <th>average</th>\n",
       "      <th>user_rated</th>\n",
       "      <th>...</th>\n",
       "      <th>wishing</th>\n",
       "      <th>numcomments</th>\n",
       "      <th>numweights</th>\n",
       "      <th>averageweight</th>\n",
       "      <th>listdate</th>\n",
       "      <th>price</th>\n",
       "      <th>currency</th>\n",
       "      <th>condition</th>\n",
       "      <th>conv_currency</th>\n",
       "      <th>price_in_dollars</th>\n",
       "    </tr>\n",
       "  </thead>\n",
       "  <tbody>\n",
       "    <tr>\n",
       "      <th>0</th>\n",
       "      <td>98443</td>\n",
       "      <td>2012</td>\n",
       "      <td>1</td>\n",
       "      <td>4</td>\n",
       "      <td>90</td>\n",
       "      <td>90</td>\n",
       "      <td>90</td>\n",
       "      <td>10</td>\n",
       "      <td>6.72745</td>\n",
       "      <td>286</td>\n",
       "      <td>...</td>\n",
       "      <td>177</td>\n",
       "      <td>137</td>\n",
       "      <td>21</td>\n",
       "      <td>2.6667</td>\n",
       "      <td>2018-08-27</td>\n",
       "      <td>50.00</td>\n",
       "      <td>GBP</td>\n",
       "      <td>verygood</td>\n",
       "      <td>1.21</td>\n",
       "      <td>60.5000</td>\n",
       "    </tr>\n",
       "    <tr>\n",
       "      <th>1</th>\n",
       "      <td>98443</td>\n",
       "      <td>2012</td>\n",
       "      <td>1</td>\n",
       "      <td>4</td>\n",
       "      <td>90</td>\n",
       "      <td>90</td>\n",
       "      <td>90</td>\n",
       "      <td>10</td>\n",
       "      <td>6.72745</td>\n",
       "      <td>286</td>\n",
       "      <td>...</td>\n",
       "      <td>177</td>\n",
       "      <td>137</td>\n",
       "      <td>21</td>\n",
       "      <td>2.6667</td>\n",
       "      <td>2019-03-25</td>\n",
       "      <td>115.00</td>\n",
       "      <td>EUR</td>\n",
       "      <td>likenew</td>\n",
       "      <td>1.03</td>\n",
       "      <td>118.4500</td>\n",
       "    </tr>\n",
       "    <tr>\n",
       "      <th>2</th>\n",
       "      <td>98443</td>\n",
       "      <td>2012</td>\n",
       "      <td>1</td>\n",
       "      <td>4</td>\n",
       "      <td>90</td>\n",
       "      <td>90</td>\n",
       "      <td>90</td>\n",
       "      <td>10</td>\n",
       "      <td>6.72745</td>\n",
       "      <td>286</td>\n",
       "      <td>...</td>\n",
       "      <td>177</td>\n",
       "      <td>137</td>\n",
       "      <td>21</td>\n",
       "      <td>2.6667</td>\n",
       "      <td>2019-08-25</td>\n",
       "      <td>110.00</td>\n",
       "      <td>EUR</td>\n",
       "      <td>likenew</td>\n",
       "      <td>1.03</td>\n",
       "      <td>113.3000</td>\n",
       "    </tr>\n",
       "    <tr>\n",
       "      <th>3</th>\n",
       "      <td>98443</td>\n",
       "      <td>2012</td>\n",
       "      <td>1</td>\n",
       "      <td>4</td>\n",
       "      <td>90</td>\n",
       "      <td>90</td>\n",
       "      <td>90</td>\n",
       "      <td>10</td>\n",
       "      <td>6.72745</td>\n",
       "      <td>286</td>\n",
       "      <td>...</td>\n",
       "      <td>177</td>\n",
       "      <td>137</td>\n",
       "      <td>21</td>\n",
       "      <td>2.6667</td>\n",
       "      <td>2020-03-06</td>\n",
       "      <td>150.00</td>\n",
       "      <td>USD</td>\n",
       "      <td>verygood</td>\n",
       "      <td>1.00</td>\n",
       "      <td>150.0000</td>\n",
       "    </tr>\n",
       "    <tr>\n",
       "      <th>4</th>\n",
       "      <td>98443</td>\n",
       "      <td>2012</td>\n",
       "      <td>1</td>\n",
       "      <td>4</td>\n",
       "      <td>90</td>\n",
       "      <td>90</td>\n",
       "      <td>90</td>\n",
       "      <td>10</td>\n",
       "      <td>6.72745</td>\n",
       "      <td>286</td>\n",
       "      <td>...</td>\n",
       "      <td>177</td>\n",
       "      <td>137</td>\n",
       "      <td>21</td>\n",
       "      <td>2.6667</td>\n",
       "      <td>2020-12-24</td>\n",
       "      <td>60.00</td>\n",
       "      <td>EUR</td>\n",
       "      <td>verygood</td>\n",
       "      <td>1.03</td>\n",
       "      <td>61.8000</td>\n",
       "    </tr>\n",
       "    <tr>\n",
       "      <th>...</th>\n",
       "      <td>...</td>\n",
       "      <td>...</td>\n",
       "      <td>...</td>\n",
       "      <td>...</td>\n",
       "      <td>...</td>\n",
       "      <td>...</td>\n",
       "      <td>...</td>\n",
       "      <td>...</td>\n",
       "      <td>...</td>\n",
       "      <td>...</td>\n",
       "      <td>...</td>\n",
       "      <td>...</td>\n",
       "      <td>...</td>\n",
       "      <td>...</td>\n",
       "      <td>...</td>\n",
       "      <td>...</td>\n",
       "      <td>...</td>\n",
       "      <td>...</td>\n",
       "      <td>...</td>\n",
       "      <td>...</td>\n",
       "      <td>...</td>\n",
       "    </tr>\n",
       "    <tr>\n",
       "      <th>234351</th>\n",
       "      <td>298166</td>\n",
       "      <td>2020</td>\n",
       "      <td>2</td>\n",
       "      <td>6</td>\n",
       "      <td>5</td>\n",
       "      <td>5</td>\n",
       "      <td>5</td>\n",
       "      <td>8</td>\n",
       "      <td>6.57194</td>\n",
       "      <td>134</td>\n",
       "      <td>...</td>\n",
       "      <td>23</td>\n",
       "      <td>29</td>\n",
       "      <td>8</td>\n",
       "      <td>1.1250</td>\n",
       "      <td>2021-08-07</td>\n",
       "      <td>10.00</td>\n",
       "      <td>USD</td>\n",
       "      <td>new</td>\n",
       "      <td>1.00</td>\n",
       "      <td>10.0000</td>\n",
       "    </tr>\n",
       "    <tr>\n",
       "      <th>234352</th>\n",
       "      <td>298173</td>\n",
       "      <td>2020</td>\n",
       "      <td>2</td>\n",
       "      <td>6</td>\n",
       "      <td>5</td>\n",
       "      <td>5</td>\n",
       "      <td>5</td>\n",
       "      <td>8</td>\n",
       "      <td>6.55657</td>\n",
       "      <td>99</td>\n",
       "      <td>...</td>\n",
       "      <td>24</td>\n",
       "      <td>22</td>\n",
       "      <td>4</td>\n",
       "      <td>1.0000</td>\n",
       "      <td>2022-01-30</td>\n",
       "      <td>5.00</td>\n",
       "      <td>EUR</td>\n",
       "      <td>verygood</td>\n",
       "      <td>1.03</td>\n",
       "      <td>5.1500</td>\n",
       "    </tr>\n",
       "    <tr>\n",
       "      <th>234353</th>\n",
       "      <td>298175</td>\n",
       "      <td>2020</td>\n",
       "      <td>2</td>\n",
       "      <td>6</td>\n",
       "      <td>180</td>\n",
       "      <td>60</td>\n",
       "      <td>180</td>\n",
       "      <td>13</td>\n",
       "      <td>7.37500</td>\n",
       "      <td>8</td>\n",
       "      <td>...</td>\n",
       "      <td>28</td>\n",
       "      <td>2</td>\n",
       "      <td>0</td>\n",
       "      <td>0.0000</td>\n",
       "      <td>2020-08-08</td>\n",
       "      <td>34.00</td>\n",
       "      <td>EUR</td>\n",
       "      <td>new</td>\n",
       "      <td>1.03</td>\n",
       "      <td>35.0200</td>\n",
       "    </tr>\n",
       "    <tr>\n",
       "      <th>234354</th>\n",
       "      <td>298175</td>\n",
       "      <td>2020</td>\n",
       "      <td>2</td>\n",
       "      <td>6</td>\n",
       "      <td>180</td>\n",
       "      <td>60</td>\n",
       "      <td>180</td>\n",
       "      <td>13</td>\n",
       "      <td>7.37500</td>\n",
       "      <td>8</td>\n",
       "      <td>...</td>\n",
       "      <td>28</td>\n",
       "      <td>2</td>\n",
       "      <td>0</td>\n",
       "      <td>0.0000</td>\n",
       "      <td>2020-11-03</td>\n",
       "      <td>33.99</td>\n",
       "      <td>EUR</td>\n",
       "      <td>new</td>\n",
       "      <td>1.03</td>\n",
       "      <td>35.0097</td>\n",
       "    </tr>\n",
       "    <tr>\n",
       "      <th>234355</th>\n",
       "      <td>298190</td>\n",
       "      <td>2020</td>\n",
       "      <td>3</td>\n",
       "      <td>6</td>\n",
       "      <td>30</td>\n",
       "      <td>30</td>\n",
       "      <td>30</td>\n",
       "      <td>12</td>\n",
       "      <td>6.66667</td>\n",
       "      <td>3</td>\n",
       "      <td>...</td>\n",
       "      <td>5</td>\n",
       "      <td>4</td>\n",
       "      <td>0</td>\n",
       "      <td>0.0000</td>\n",
       "      <td>2022-06-27</td>\n",
       "      <td>22.95</td>\n",
       "      <td>EUR</td>\n",
       "      <td>new</td>\n",
       "      <td>1.03</td>\n",
       "      <td>23.6385</td>\n",
       "    </tr>\n",
       "  </tbody>\n",
       "</table>\n",
       "<p>234356 rows × 23 columns</p>\n",
       "</div>"
      ],
      "text/plain": [
       "            id  yearpublished  min_players  max_players  playtime  \\\n",
       "0        98443           2012            1            4        90   \n",
       "1        98443           2012            1            4        90   \n",
       "2        98443           2012            1            4        90   \n",
       "3        98443           2012            1            4        90   \n",
       "4        98443           2012            1            4        90   \n",
       "...        ...            ...          ...          ...       ...   \n",
       "234351  298166           2020            2            6         5   \n",
       "234352  298173           2020            2            6         5   \n",
       "234353  298175           2020            2            6       180   \n",
       "234354  298175           2020            2            6       180   \n",
       "234355  298190           2020            3            6        30   \n",
       "\n",
       "        min_playtime  max_playtime  min_age  average  user_rated  ...  \\\n",
       "0                 90            90       10  6.72745         286  ...   \n",
       "1                 90            90       10  6.72745         286  ...   \n",
       "2                 90            90       10  6.72745         286  ...   \n",
       "3                 90            90       10  6.72745         286  ...   \n",
       "4                 90            90       10  6.72745         286  ...   \n",
       "...              ...           ...      ...      ...         ...  ...   \n",
       "234351             5             5        8  6.57194         134  ...   \n",
       "234352             5             5        8  6.55657          99  ...   \n",
       "234353            60           180       13  7.37500           8  ...   \n",
       "234354            60           180       13  7.37500           8  ...   \n",
       "234355            30            30       12  6.66667           3  ...   \n",
       "\n",
       "        wishing  numcomments  numweights  averageweight   listdate   price  \\\n",
       "0           177          137          21         2.6667 2018-08-27   50.00   \n",
       "1           177          137          21         2.6667 2019-03-25  115.00   \n",
       "2           177          137          21         2.6667 2019-08-25  110.00   \n",
       "3           177          137          21         2.6667 2020-03-06  150.00   \n",
       "4           177          137          21         2.6667 2020-12-24   60.00   \n",
       "...         ...          ...         ...            ...        ...     ...   \n",
       "234351       23           29           8         1.1250 2021-08-07   10.00   \n",
       "234352       24           22           4         1.0000 2022-01-30    5.00   \n",
       "234353       28            2           0         0.0000 2020-08-08   34.00   \n",
       "234354       28            2           0         0.0000 2020-11-03   33.99   \n",
       "234355        5            4           0         0.0000 2022-06-27   22.95   \n",
       "\n",
       "        currency condition  conv_currency price_in_dollars  \n",
       "0            GBP  verygood           1.21          60.5000  \n",
       "1            EUR   likenew           1.03         118.4500  \n",
       "2            EUR   likenew           1.03         113.3000  \n",
       "3            USD  verygood           1.00         150.0000  \n",
       "4            EUR  verygood           1.03          61.8000  \n",
       "...          ...       ...            ...              ...  \n",
       "234351       USD       new           1.00          10.0000  \n",
       "234352       EUR  verygood           1.03           5.1500  \n",
       "234353       EUR       new           1.03          35.0200  \n",
       "234354       EUR       new           1.03          35.0097  \n",
       "234355       EUR       new           1.03          23.6385  \n",
       "\n",
       "[234356 rows x 23 columns]"
      ]
     },
     "execution_count": 18,
     "metadata": {},
     "output_type": "execute_result"
    }
   ],
   "source": [
    "df_log_reg"
   ]
  },
  {
   "cell_type": "code",
   "execution_count": 19,
   "metadata": {},
   "outputs": [],
   "source": [
    "df_log_reg[\"sales\"] = df_log_reg[\"price\"] * df_log_reg[\"num_owned\"]"
   ]
  },
  {
   "cell_type": "code",
   "execution_count": 20,
   "metadata": {},
   "outputs": [],
   "source": [
    "sales_target = 5_000"
   ]
  },
  {
   "cell_type": "code",
   "execution_count": 21,
   "metadata": {},
   "outputs": [],
   "source": [
    "df_log_reg[\"target_reached\"] = pd.cut(df_log_reg[\"sales\"], bins= [0, sales_target, float('Inf')], labels= [0, 1])"
   ]
  },
  {
   "cell_type": "code",
   "execution_count": 22,
   "metadata": {},
   "outputs": [],
   "source": [
    "df_log_reg[\"target_reached\"] = df_log_reg[\"target_reached\"].fillna(0)"
   ]
  },
  {
   "cell_type": "code",
   "execution_count": 23,
   "metadata": {},
   "outputs": [
    {
     "data": {
      "text/html": [
       "<div>\n",
       "<style scoped>\n",
       "    .dataframe tbody tr th:only-of-type {\n",
       "        vertical-align: middle;\n",
       "    }\n",
       "\n",
       "    .dataframe tbody tr th {\n",
       "        vertical-align: top;\n",
       "    }\n",
       "\n",
       "    .dataframe thead th {\n",
       "        text-align: right;\n",
       "    }\n",
       "</style>\n",
       "<table border=\"1\" class=\"dataframe\">\n",
       "  <thead>\n",
       "    <tr style=\"text-align: right;\">\n",
       "      <th></th>\n",
       "      <th>id</th>\n",
       "      <th>yearpublished</th>\n",
       "      <th>min_players</th>\n",
       "      <th>max_players</th>\n",
       "      <th>playtime</th>\n",
       "      <th>min_playtime</th>\n",
       "      <th>max_playtime</th>\n",
       "      <th>min_age</th>\n",
       "      <th>average</th>\n",
       "      <th>user_rated</th>\n",
       "      <th>...</th>\n",
       "      <th>numweights</th>\n",
       "      <th>averageweight</th>\n",
       "      <th>listdate</th>\n",
       "      <th>price</th>\n",
       "      <th>currency</th>\n",
       "      <th>condition</th>\n",
       "      <th>conv_currency</th>\n",
       "      <th>price_in_dollars</th>\n",
       "      <th>sales</th>\n",
       "      <th>target_reached</th>\n",
       "    </tr>\n",
       "  </thead>\n",
       "  <tbody>\n",
       "    <tr>\n",
       "      <th>0</th>\n",
       "      <td>98443</td>\n",
       "      <td>2012</td>\n",
       "      <td>1</td>\n",
       "      <td>4</td>\n",
       "      <td>90</td>\n",
       "      <td>90</td>\n",
       "      <td>90</td>\n",
       "      <td>10</td>\n",
       "      <td>6.72745</td>\n",
       "      <td>286</td>\n",
       "      <td>...</td>\n",
       "      <td>21</td>\n",
       "      <td>2.6667</td>\n",
       "      <td>2018-08-27</td>\n",
       "      <td>50.00</td>\n",
       "      <td>GBP</td>\n",
       "      <td>verygood</td>\n",
       "      <td>1.21</td>\n",
       "      <td>60.5000</td>\n",
       "      <td>26400.00</td>\n",
       "      <td>1</td>\n",
       "    </tr>\n",
       "    <tr>\n",
       "      <th>1</th>\n",
       "      <td>98443</td>\n",
       "      <td>2012</td>\n",
       "      <td>1</td>\n",
       "      <td>4</td>\n",
       "      <td>90</td>\n",
       "      <td>90</td>\n",
       "      <td>90</td>\n",
       "      <td>10</td>\n",
       "      <td>6.72745</td>\n",
       "      <td>286</td>\n",
       "      <td>...</td>\n",
       "      <td>21</td>\n",
       "      <td>2.6667</td>\n",
       "      <td>2019-03-25</td>\n",
       "      <td>115.00</td>\n",
       "      <td>EUR</td>\n",
       "      <td>likenew</td>\n",
       "      <td>1.03</td>\n",
       "      <td>118.4500</td>\n",
       "      <td>60720.00</td>\n",
       "      <td>1</td>\n",
       "    </tr>\n",
       "    <tr>\n",
       "      <th>2</th>\n",
       "      <td>98443</td>\n",
       "      <td>2012</td>\n",
       "      <td>1</td>\n",
       "      <td>4</td>\n",
       "      <td>90</td>\n",
       "      <td>90</td>\n",
       "      <td>90</td>\n",
       "      <td>10</td>\n",
       "      <td>6.72745</td>\n",
       "      <td>286</td>\n",
       "      <td>...</td>\n",
       "      <td>21</td>\n",
       "      <td>2.6667</td>\n",
       "      <td>2019-08-25</td>\n",
       "      <td>110.00</td>\n",
       "      <td>EUR</td>\n",
       "      <td>likenew</td>\n",
       "      <td>1.03</td>\n",
       "      <td>113.3000</td>\n",
       "      <td>58080.00</td>\n",
       "      <td>1</td>\n",
       "    </tr>\n",
       "    <tr>\n",
       "      <th>3</th>\n",
       "      <td>98443</td>\n",
       "      <td>2012</td>\n",
       "      <td>1</td>\n",
       "      <td>4</td>\n",
       "      <td>90</td>\n",
       "      <td>90</td>\n",
       "      <td>90</td>\n",
       "      <td>10</td>\n",
       "      <td>6.72745</td>\n",
       "      <td>286</td>\n",
       "      <td>...</td>\n",
       "      <td>21</td>\n",
       "      <td>2.6667</td>\n",
       "      <td>2020-03-06</td>\n",
       "      <td>150.00</td>\n",
       "      <td>USD</td>\n",
       "      <td>verygood</td>\n",
       "      <td>1.00</td>\n",
       "      <td>150.0000</td>\n",
       "      <td>79200.00</td>\n",
       "      <td>1</td>\n",
       "    </tr>\n",
       "    <tr>\n",
       "      <th>4</th>\n",
       "      <td>98443</td>\n",
       "      <td>2012</td>\n",
       "      <td>1</td>\n",
       "      <td>4</td>\n",
       "      <td>90</td>\n",
       "      <td>90</td>\n",
       "      <td>90</td>\n",
       "      <td>10</td>\n",
       "      <td>6.72745</td>\n",
       "      <td>286</td>\n",
       "      <td>...</td>\n",
       "      <td>21</td>\n",
       "      <td>2.6667</td>\n",
       "      <td>2020-12-24</td>\n",
       "      <td>60.00</td>\n",
       "      <td>EUR</td>\n",
       "      <td>verygood</td>\n",
       "      <td>1.03</td>\n",
       "      <td>61.8000</td>\n",
       "      <td>31680.00</td>\n",
       "      <td>1</td>\n",
       "    </tr>\n",
       "    <tr>\n",
       "      <th>...</th>\n",
       "      <td>...</td>\n",
       "      <td>...</td>\n",
       "      <td>...</td>\n",
       "      <td>...</td>\n",
       "      <td>...</td>\n",
       "      <td>...</td>\n",
       "      <td>...</td>\n",
       "      <td>...</td>\n",
       "      <td>...</td>\n",
       "      <td>...</td>\n",
       "      <td>...</td>\n",
       "      <td>...</td>\n",
       "      <td>...</td>\n",
       "      <td>...</td>\n",
       "      <td>...</td>\n",
       "      <td>...</td>\n",
       "      <td>...</td>\n",
       "      <td>...</td>\n",
       "      <td>...</td>\n",
       "      <td>...</td>\n",
       "      <td>...</td>\n",
       "    </tr>\n",
       "    <tr>\n",
       "      <th>234351</th>\n",
       "      <td>298166</td>\n",
       "      <td>2020</td>\n",
       "      <td>2</td>\n",
       "      <td>6</td>\n",
       "      <td>5</td>\n",
       "      <td>5</td>\n",
       "      <td>5</td>\n",
       "      <td>8</td>\n",
       "      <td>6.57194</td>\n",
       "      <td>134</td>\n",
       "      <td>...</td>\n",
       "      <td>8</td>\n",
       "      <td>1.1250</td>\n",
       "      <td>2021-08-07</td>\n",
       "      <td>10.00</td>\n",
       "      <td>USD</td>\n",
       "      <td>new</td>\n",
       "      <td>1.00</td>\n",
       "      <td>10.0000</td>\n",
       "      <td>3790.00</td>\n",
       "      <td>0</td>\n",
       "    </tr>\n",
       "    <tr>\n",
       "      <th>234352</th>\n",
       "      <td>298173</td>\n",
       "      <td>2020</td>\n",
       "      <td>2</td>\n",
       "      <td>6</td>\n",
       "      <td>5</td>\n",
       "      <td>5</td>\n",
       "      <td>5</td>\n",
       "      <td>8</td>\n",
       "      <td>6.55657</td>\n",
       "      <td>99</td>\n",
       "      <td>...</td>\n",
       "      <td>4</td>\n",
       "      <td>1.0000</td>\n",
       "      <td>2022-01-30</td>\n",
       "      <td>5.00</td>\n",
       "      <td>EUR</td>\n",
       "      <td>verygood</td>\n",
       "      <td>1.03</td>\n",
       "      <td>5.1500</td>\n",
       "      <td>1355.00</td>\n",
       "      <td>0</td>\n",
       "    </tr>\n",
       "    <tr>\n",
       "      <th>234353</th>\n",
       "      <td>298175</td>\n",
       "      <td>2020</td>\n",
       "      <td>2</td>\n",
       "      <td>6</td>\n",
       "      <td>180</td>\n",
       "      <td>60</td>\n",
       "      <td>180</td>\n",
       "      <td>13</td>\n",
       "      <td>7.37500</td>\n",
       "      <td>8</td>\n",
       "      <td>...</td>\n",
       "      <td>0</td>\n",
       "      <td>0.0000</td>\n",
       "      <td>2020-08-08</td>\n",
       "      <td>34.00</td>\n",
       "      <td>EUR</td>\n",
       "      <td>new</td>\n",
       "      <td>1.03</td>\n",
       "      <td>35.0200</td>\n",
       "      <td>2720.00</td>\n",
       "      <td>0</td>\n",
       "    </tr>\n",
       "    <tr>\n",
       "      <th>234354</th>\n",
       "      <td>298175</td>\n",
       "      <td>2020</td>\n",
       "      <td>2</td>\n",
       "      <td>6</td>\n",
       "      <td>180</td>\n",
       "      <td>60</td>\n",
       "      <td>180</td>\n",
       "      <td>13</td>\n",
       "      <td>7.37500</td>\n",
       "      <td>8</td>\n",
       "      <td>...</td>\n",
       "      <td>0</td>\n",
       "      <td>0.0000</td>\n",
       "      <td>2020-11-03</td>\n",
       "      <td>33.99</td>\n",
       "      <td>EUR</td>\n",
       "      <td>new</td>\n",
       "      <td>1.03</td>\n",
       "      <td>35.0097</td>\n",
       "      <td>2719.20</td>\n",
       "      <td>0</td>\n",
       "    </tr>\n",
       "    <tr>\n",
       "      <th>234355</th>\n",
       "      <td>298190</td>\n",
       "      <td>2020</td>\n",
       "      <td>3</td>\n",
       "      <td>6</td>\n",
       "      <td>30</td>\n",
       "      <td>30</td>\n",
       "      <td>30</td>\n",
       "      <td>12</td>\n",
       "      <td>6.66667</td>\n",
       "      <td>3</td>\n",
       "      <td>...</td>\n",
       "      <td>0</td>\n",
       "      <td>0.0000</td>\n",
       "      <td>2022-06-27</td>\n",
       "      <td>22.95</td>\n",
       "      <td>EUR</td>\n",
       "      <td>new</td>\n",
       "      <td>1.03</td>\n",
       "      <td>23.6385</td>\n",
       "      <td>1078.65</td>\n",
       "      <td>0</td>\n",
       "    </tr>\n",
       "  </tbody>\n",
       "</table>\n",
       "<p>234356 rows × 25 columns</p>\n",
       "</div>"
      ],
      "text/plain": [
       "            id  yearpublished  min_players  max_players  playtime  \\\n",
       "0        98443           2012            1            4        90   \n",
       "1        98443           2012            1            4        90   \n",
       "2        98443           2012            1            4        90   \n",
       "3        98443           2012            1            4        90   \n",
       "4        98443           2012            1            4        90   \n",
       "...        ...            ...          ...          ...       ...   \n",
       "234351  298166           2020            2            6         5   \n",
       "234352  298173           2020            2            6         5   \n",
       "234353  298175           2020            2            6       180   \n",
       "234354  298175           2020            2            6       180   \n",
       "234355  298190           2020            3            6        30   \n",
       "\n",
       "        min_playtime  max_playtime  min_age  average  user_rated  ...  \\\n",
       "0                 90            90       10  6.72745         286  ...   \n",
       "1                 90            90       10  6.72745         286  ...   \n",
       "2                 90            90       10  6.72745         286  ...   \n",
       "3                 90            90       10  6.72745         286  ...   \n",
       "4                 90            90       10  6.72745         286  ...   \n",
       "...              ...           ...      ...      ...         ...  ...   \n",
       "234351             5             5        8  6.57194         134  ...   \n",
       "234352             5             5        8  6.55657          99  ...   \n",
       "234353            60           180       13  7.37500           8  ...   \n",
       "234354            60           180       13  7.37500           8  ...   \n",
       "234355            30            30       12  6.66667           3  ...   \n",
       "\n",
       "        numweights  averageweight   listdate   price  currency  condition  \\\n",
       "0               21         2.6667 2018-08-27   50.00       GBP   verygood   \n",
       "1               21         2.6667 2019-03-25  115.00       EUR    likenew   \n",
       "2               21         2.6667 2019-08-25  110.00       EUR    likenew   \n",
       "3               21         2.6667 2020-03-06  150.00       USD   verygood   \n",
       "4               21         2.6667 2020-12-24   60.00       EUR   verygood   \n",
       "...            ...            ...        ...     ...       ...        ...   \n",
       "234351           8         1.1250 2021-08-07   10.00       USD        new   \n",
       "234352           4         1.0000 2022-01-30    5.00       EUR   verygood   \n",
       "234353           0         0.0000 2020-08-08   34.00       EUR        new   \n",
       "234354           0         0.0000 2020-11-03   33.99       EUR        new   \n",
       "234355           0         0.0000 2022-06-27   22.95       EUR        new   \n",
       "\n",
       "        conv_currency price_in_dollars     sales target_reached  \n",
       "0                1.21          60.5000  26400.00              1  \n",
       "1                1.03         118.4500  60720.00              1  \n",
       "2                1.03         113.3000  58080.00              1  \n",
       "3                1.00         150.0000  79200.00              1  \n",
       "4                1.03          61.8000  31680.00              1  \n",
       "...               ...              ...       ...            ...  \n",
       "234351           1.00          10.0000   3790.00              0  \n",
       "234352           1.03           5.1500   1355.00              0  \n",
       "234353           1.03          35.0200   2720.00              0  \n",
       "234354           1.03          35.0097   2719.20              0  \n",
       "234355           1.03          23.6385   1078.65              0  \n",
       "\n",
       "[234356 rows x 25 columns]"
      ]
     },
     "execution_count": 23,
     "metadata": {},
     "output_type": "execute_result"
    }
   ],
   "source": [
    "df_log_reg"
   ]
  },
  {
   "cell_type": "code",
   "execution_count": 24,
   "metadata": {},
   "outputs": [],
   "source": [
    "df_log_reg = df_log_reg.drop([\"id\", \"yearpublished\", \"listdate\", \"user_rated\", \"num_owned\", \"trading\", \"wanting\", \"wishing\", \"numcomments\", \"numweights\"], axis=1)"
   ]
  },
  {
   "cell_type": "code",
   "execution_count": 25,
   "metadata": {},
   "outputs": [],
   "source": [
    "df_log_reg = df_log_reg.drop([\"condition\", \"average\", \"sales\", \"averageweight\", \"currency\", \"price\", \"conv_currency\"], axis=1)"
   ]
  },
  {
   "cell_type": "code",
   "execution_count": 26,
   "metadata": {},
   "outputs": [
    {
     "data": {
      "text/html": [
       "<div>\n",
       "<style scoped>\n",
       "    .dataframe tbody tr th:only-of-type {\n",
       "        vertical-align: middle;\n",
       "    }\n",
       "\n",
       "    .dataframe tbody tr th {\n",
       "        vertical-align: top;\n",
       "    }\n",
       "\n",
       "    .dataframe thead th {\n",
       "        text-align: right;\n",
       "    }\n",
       "</style>\n",
       "<table border=\"1\" class=\"dataframe\">\n",
       "  <thead>\n",
       "    <tr style=\"text-align: right;\">\n",
       "      <th></th>\n",
       "      <th>min_players</th>\n",
       "      <th>max_players</th>\n",
       "      <th>playtime</th>\n",
       "      <th>min_playtime</th>\n",
       "      <th>max_playtime</th>\n",
       "      <th>min_age</th>\n",
       "      <th>price_in_dollars</th>\n",
       "      <th>target_reached</th>\n",
       "    </tr>\n",
       "  </thead>\n",
       "  <tbody>\n",
       "    <tr>\n",
       "      <th>0</th>\n",
       "      <td>1</td>\n",
       "      <td>4</td>\n",
       "      <td>90</td>\n",
       "      <td>90</td>\n",
       "      <td>90</td>\n",
       "      <td>10</td>\n",
       "      <td>60.5000</td>\n",
       "      <td>1</td>\n",
       "    </tr>\n",
       "    <tr>\n",
       "      <th>1</th>\n",
       "      <td>1</td>\n",
       "      <td>4</td>\n",
       "      <td>90</td>\n",
       "      <td>90</td>\n",
       "      <td>90</td>\n",
       "      <td>10</td>\n",
       "      <td>118.4500</td>\n",
       "      <td>1</td>\n",
       "    </tr>\n",
       "    <tr>\n",
       "      <th>2</th>\n",
       "      <td>1</td>\n",
       "      <td>4</td>\n",
       "      <td>90</td>\n",
       "      <td>90</td>\n",
       "      <td>90</td>\n",
       "      <td>10</td>\n",
       "      <td>113.3000</td>\n",
       "      <td>1</td>\n",
       "    </tr>\n",
       "    <tr>\n",
       "      <th>3</th>\n",
       "      <td>1</td>\n",
       "      <td>4</td>\n",
       "      <td>90</td>\n",
       "      <td>90</td>\n",
       "      <td>90</td>\n",
       "      <td>10</td>\n",
       "      <td>150.0000</td>\n",
       "      <td>1</td>\n",
       "    </tr>\n",
       "    <tr>\n",
       "      <th>4</th>\n",
       "      <td>1</td>\n",
       "      <td>4</td>\n",
       "      <td>90</td>\n",
       "      <td>90</td>\n",
       "      <td>90</td>\n",
       "      <td>10</td>\n",
       "      <td>61.8000</td>\n",
       "      <td>1</td>\n",
       "    </tr>\n",
       "    <tr>\n",
       "      <th>...</th>\n",
       "      <td>...</td>\n",
       "      <td>...</td>\n",
       "      <td>...</td>\n",
       "      <td>...</td>\n",
       "      <td>...</td>\n",
       "      <td>...</td>\n",
       "      <td>...</td>\n",
       "      <td>...</td>\n",
       "    </tr>\n",
       "    <tr>\n",
       "      <th>234351</th>\n",
       "      <td>2</td>\n",
       "      <td>6</td>\n",
       "      <td>5</td>\n",
       "      <td>5</td>\n",
       "      <td>5</td>\n",
       "      <td>8</td>\n",
       "      <td>10.0000</td>\n",
       "      <td>0</td>\n",
       "    </tr>\n",
       "    <tr>\n",
       "      <th>234352</th>\n",
       "      <td>2</td>\n",
       "      <td>6</td>\n",
       "      <td>5</td>\n",
       "      <td>5</td>\n",
       "      <td>5</td>\n",
       "      <td>8</td>\n",
       "      <td>5.1500</td>\n",
       "      <td>0</td>\n",
       "    </tr>\n",
       "    <tr>\n",
       "      <th>234353</th>\n",
       "      <td>2</td>\n",
       "      <td>6</td>\n",
       "      <td>180</td>\n",
       "      <td>60</td>\n",
       "      <td>180</td>\n",
       "      <td>13</td>\n",
       "      <td>35.0200</td>\n",
       "      <td>0</td>\n",
       "    </tr>\n",
       "    <tr>\n",
       "      <th>234354</th>\n",
       "      <td>2</td>\n",
       "      <td>6</td>\n",
       "      <td>180</td>\n",
       "      <td>60</td>\n",
       "      <td>180</td>\n",
       "      <td>13</td>\n",
       "      <td>35.0097</td>\n",
       "      <td>0</td>\n",
       "    </tr>\n",
       "    <tr>\n",
       "      <th>234355</th>\n",
       "      <td>3</td>\n",
       "      <td>6</td>\n",
       "      <td>30</td>\n",
       "      <td>30</td>\n",
       "      <td>30</td>\n",
       "      <td>12</td>\n",
       "      <td>23.6385</td>\n",
       "      <td>0</td>\n",
       "    </tr>\n",
       "  </tbody>\n",
       "</table>\n",
       "<p>234356 rows × 8 columns</p>\n",
       "</div>"
      ],
      "text/plain": [
       "        min_players  max_players  playtime  min_playtime  max_playtime  \\\n",
       "0                 1            4        90            90            90   \n",
       "1                 1            4        90            90            90   \n",
       "2                 1            4        90            90            90   \n",
       "3                 1            4        90            90            90   \n",
       "4                 1            4        90            90            90   \n",
       "...             ...          ...       ...           ...           ...   \n",
       "234351            2            6         5             5             5   \n",
       "234352            2            6         5             5             5   \n",
       "234353            2            6       180            60           180   \n",
       "234354            2            6       180            60           180   \n",
       "234355            3            6        30            30            30   \n",
       "\n",
       "        min_age  price_in_dollars target_reached  \n",
       "0            10           60.5000              1  \n",
       "1            10          118.4500              1  \n",
       "2            10          113.3000              1  \n",
       "3            10          150.0000              1  \n",
       "4            10           61.8000              1  \n",
       "...         ...               ...            ...  \n",
       "234351        8           10.0000              0  \n",
       "234352        8            5.1500              0  \n",
       "234353       13           35.0200              0  \n",
       "234354       13           35.0097              0  \n",
       "234355       12           23.6385              0  \n",
       "\n",
       "[234356 rows x 8 columns]"
      ]
     },
     "execution_count": 26,
     "metadata": {},
     "output_type": "execute_result"
    }
   ],
   "source": [
    "df_log_reg"
   ]
  },
  {
   "cell_type": "code",
   "execution_count": 27,
   "metadata": {},
   "outputs": [],
   "source": [
    "# Define predictors and target\n",
    "y = df_log_reg.target_reached\n",
    "X = df_log_reg.drop('target_reached', axis=1)"
   ]
  },
  {
   "cell_type": "code",
   "execution_count": 28,
   "metadata": {},
   "outputs": [
    {
     "name": "stdout",
     "output_type": "stream",
     "text": [
      "<class 'pandas.core.series.Series'>\n",
      "Int64Index: 234356 entries, 0 to 234355\n",
      "Series name: target_reached\n",
      "Non-Null Count   Dtype   \n",
      "--------------   -----   \n",
      "234356 non-null  category\n",
      "dtypes: category(1)\n",
      "memory usage: 2.0 MB\n"
     ]
    }
   ],
   "source": [
    "y.info()"
   ]
  },
  {
   "cell_type": "code",
   "execution_count": 29,
   "metadata": {},
   "outputs": [
    {
     "name": "stdout",
     "output_type": "stream",
     "text": [
      "<class 'pandas.core.frame.DataFrame'>\n",
      "Int64Index: 234356 entries, 0 to 234355\n",
      "Data columns (total 7 columns):\n",
      " #   Column            Non-Null Count   Dtype  \n",
      "---  ------            --------------   -----  \n",
      " 0   min_players       234356 non-null  int64  \n",
      " 1   max_players       234356 non-null  int64  \n",
      " 2   playtime          234356 non-null  int64  \n",
      " 3   min_playtime      234356 non-null  int64  \n",
      " 4   max_playtime      234356 non-null  int64  \n",
      " 5   min_age           234356 non-null  int64  \n",
      " 6   price_in_dollars  234356 non-null  float64\n",
      "dtypes: float64(1), int64(6)\n",
      "memory usage: 14.3 MB\n"
     ]
    }
   ],
   "source": [
    "X.info()"
   ]
  },
  {
   "cell_type": "code",
   "execution_count": 30,
   "metadata": {},
   "outputs": [
    {
     "data": {
      "text/plain": [
       "min_players         0\n",
       "max_players         0\n",
       "playtime            0\n",
       "min_playtime        0\n",
       "max_playtime        0\n",
       "min_age             0\n",
       "price_in_dollars    0\n",
       "target_reached      0\n",
       "dtype: int64"
      ]
     },
     "execution_count": 30,
     "metadata": {},
     "output_type": "execute_result"
    }
   ],
   "source": [
    "# Check for missing data\n",
    "df_log_reg.isnull().sum()"
   ]
  },
  {
   "cell_type": "code",
   "execution_count": 31,
   "metadata": {},
   "outputs": [],
   "source": [
    "# Train-test-split\n",
    "X_train, X_test, y_train, y_test = train_test_split(X, y, test_size=0.2, random_state=42, stratify=y)"
   ]
  },
  {
   "cell_type": "code",
   "execution_count": 42,
   "metadata": {},
   "outputs": [
    {
     "data": {
      "text/plain": [
       "array([0, 1, 1, 1, 1, 1, 1, 1, 1, 1])"
      ]
     },
     "execution_count": 42,
     "metadata": {},
     "output_type": "execute_result"
    }
   ],
   "source": [
    "classifier = LogisticRegression() # instantiate a sklearn logistic regression class\n",
    "classifier.fit(X_train, y_train) # fit the classifier/model on our train data \n",
    "y_prediction = classifier.predict(X_test) # use the fit model to predict on our test data \n",
    "\n",
    "#have a look at the predicitons\n",
    "y_prediction[:10]"
   ]
  },
  {
   "cell_type": "code",
   "execution_count": 43,
   "metadata": {},
   "outputs": [
    {
     "name": "stdout",
     "output_type": "stream",
     "text": [
      "              precision    recall  f1-score   support\n",
      "\n",
      "           0       0.69      0.37      0.48     12298\n",
      "           1       0.81      0.94      0.87     34574\n",
      "\n",
      "    accuracy                           0.79     46872\n",
      "   macro avg       0.75      0.65      0.67     46872\n",
      "weighted avg       0.78      0.79      0.77     46872\n",
      "\n"
     ]
    }
   ],
   "source": [
    "print(classification_report(y_test, y_prediction))"
   ]
  },
  {
   "cell_type": "code",
   "execution_count": 44,
   "metadata": {},
   "outputs": [],
   "source": [
    "#import all the classifiers you want to evaluate\n",
    "from sklearn.linear_model import LogisticRegression, SGDClassifier\n",
    "from sklearn.tree import DecisionTreeClassifier\n",
    "from sklearn.neighbors import KNeighborsClassifier\n",
    "from sklearn.discriminant_analysis import LinearDiscriminantAnalysis\n",
    "from sklearn.naive_bayes import GaussianNB\n",
    "from sklearn.svm import SVC"
   ]
  },
  {
   "cell_type": "code",
   "execution_count": 45,
   "metadata": {},
   "outputs": [],
   "source": [
    "models = []\n",
    "models.append(('LR', LogisticRegression()))\n",
    "models.append(('LDA', LinearDiscriminantAnalysis()))\n",
    "models.append(('KNN', KNeighborsClassifier()))\n",
    "models.append(('NB', GaussianNB()))\n",
    "# models.append(('SVM', SVC(gamma='auto')))\n",
    "models.append(('SGD', SGDClassifier(random_state=RSEED)))"
   ]
  },
  {
   "cell_type": "code",
   "execution_count": 46,
   "metadata": {},
   "outputs": [
    {
     "name": "stdout",
     "output_type": "stream",
     "text": [
      "LR: 0.786120 (0.003496)\n",
      "LDA: 0.744149 (0.001093)\n",
      "KNN: 0.836034 (0.001413)\n",
      "NB: 0.330034 (0.037264)\n",
      "SGD: 0.746229 (0.013774)\n"
     ]
    }
   ],
   "source": [
    "# evaluate each model in turn\n",
    "results = []\n",
    "names = []\n",
    "for name, model in models:\n",
    "\tkfold = StratifiedKFold(n_splits=10, random_state=1, shuffle=True)\n",
    "\tcv_results = cross_val_score(model, X_train, y_train, cv=kfold, scoring='accuracy')\n",
    "\tresults.append(cv_results)\n",
    "\tnames.append(name)\n",
    "\tprint('%s: %f (%f)' % (name, cv_results.mean(), cv_results.std()))"
   ]
  },
  {
   "cell_type": "code",
   "execution_count": 49,
   "metadata": {},
   "outputs": [
    {
     "data": {
      "text/html": [
       "<div>\n",
       "<style scoped>\n",
       "    .dataframe tbody tr th:only-of-type {\n",
       "        vertical-align: middle;\n",
       "    }\n",
       "\n",
       "    .dataframe tbody tr th {\n",
       "        vertical-align: top;\n",
       "    }\n",
       "\n",
       "    .dataframe thead th {\n",
       "        text-align: right;\n",
       "    }\n",
       "</style>\n",
       "<table border=\"1\" class=\"dataframe\">\n",
       "  <thead>\n",
       "    <tr style=\"text-align: right;\">\n",
       "      <th></th>\n",
       "      <th>min_players</th>\n",
       "      <th>max_players</th>\n",
       "      <th>playtime</th>\n",
       "      <th>min_playtime</th>\n",
       "      <th>max_playtime</th>\n",
       "      <th>min_age</th>\n",
       "      <th>price_in_dollars</th>\n",
       "    </tr>\n",
       "  </thead>\n",
       "  <tbody>\n",
       "    <tr>\n",
       "      <th>count</th>\n",
       "      <td>234356.00</td>\n",
       "      <td>234356.00</td>\n",
       "      <td>234356.00</td>\n",
       "      <td>234356.00</td>\n",
       "      <td>234356.00</td>\n",
       "      <td>234356.00</td>\n",
       "      <td>2.343560e+05</td>\n",
       "    </tr>\n",
       "    <tr>\n",
       "      <th>mean</th>\n",
       "      <td>1.91</td>\n",
       "      <td>5.14</td>\n",
       "      <td>107.17</td>\n",
       "      <td>67.50</td>\n",
       "      <td>106.63</td>\n",
       "      <td>10.39</td>\n",
       "      <td>9.769300e+02</td>\n",
       "    </tr>\n",
       "    <tr>\n",
       "      <th>std</th>\n",
       "      <td>0.71</td>\n",
       "      <td>8.96</td>\n",
       "      <td>3275.94</td>\n",
       "      <td>244.93</td>\n",
       "      <td>3275.95</td>\n",
       "      <td>3.65</td>\n",
       "      <td>2.977323e+05</td>\n",
       "    </tr>\n",
       "    <tr>\n",
       "      <th>min</th>\n",
       "      <td>0.00</td>\n",
       "      <td>0.00</td>\n",
       "      <td>0.00</td>\n",
       "      <td>0.00</td>\n",
       "      <td>0.00</td>\n",
       "      <td>0.00</td>\n",
       "      <td>6.800000e-01</td>\n",
       "    </tr>\n",
       "    <tr>\n",
       "      <th>25%</th>\n",
       "      <td>2.00</td>\n",
       "      <td>4.00</td>\n",
       "      <td>30.00</td>\n",
       "      <td>30.00</td>\n",
       "      <td>30.00</td>\n",
       "      <td>8.00</td>\n",
       "      <td>1.210000e+01</td>\n",
       "    </tr>\n",
       "    <tr>\n",
       "      <th>50%</th>\n",
       "      <td>2.00</td>\n",
       "      <td>4.00</td>\n",
       "      <td>60.00</td>\n",
       "      <td>45.00</td>\n",
       "      <td>60.00</td>\n",
       "      <td>12.00</td>\n",
       "      <td>2.400000e+01</td>\n",
       "    </tr>\n",
       "    <tr>\n",
       "      <th>75%</th>\n",
       "      <td>2.00</td>\n",
       "      <td>6.00</td>\n",
       "      <td>120.00</td>\n",
       "      <td>75.00</td>\n",
       "      <td>120.00</td>\n",
       "      <td>13.00</td>\n",
       "      <td>4.235000e+01</td>\n",
       "    </tr>\n",
       "    <tr>\n",
       "      <th>max</th>\n",
       "      <td>10.00</td>\n",
       "      <td>999.00</td>\n",
       "      <td>1576800.00</td>\n",
       "      <td>60000.00</td>\n",
       "      <td>1576800.00</td>\n",
       "      <td>112.00</td>\n",
       "      <td>1.030000e+08</td>\n",
       "    </tr>\n",
       "  </tbody>\n",
       "</table>\n",
       "</div>"
      ],
      "text/plain": [
       "       min_players  max_players    playtime  min_playtime  max_playtime  \\\n",
       "count    234356.00    234356.00   234356.00     234356.00     234356.00   \n",
       "mean          1.91         5.14      107.17         67.50        106.63   \n",
       "std           0.71         8.96     3275.94        244.93       3275.95   \n",
       "min           0.00         0.00        0.00          0.00          0.00   \n",
       "25%           2.00         4.00       30.00         30.00         30.00   \n",
       "50%           2.00         4.00       60.00         45.00         60.00   \n",
       "75%           2.00         6.00      120.00         75.00        120.00   \n",
       "max          10.00       999.00  1576800.00      60000.00    1576800.00   \n",
       "\n",
       "         min_age  price_in_dollars  \n",
       "count  234356.00      2.343560e+05  \n",
       "mean       10.39      9.769300e+02  \n",
       "std         3.65      2.977323e+05  \n",
       "min         0.00      6.800000e-01  \n",
       "25%         8.00      1.210000e+01  \n",
       "50%        12.00      2.400000e+01  \n",
       "75%        13.00      4.235000e+01  \n",
       "max       112.00      1.030000e+08  "
      ]
     },
     "metadata": {},
     "output_type": "display_data"
    }
   ],
   "source": [
    "# Before we have a look at the different methods, \n",
    "# we have to define which columns we want to scale.\n",
    "display(df_log_reg.describe().round(2))\n",
    "col_scale = ['min_players', 'max_players', 'min_playtime', 'max_playtime', 'min_age', 'price_in_dollars']"
   ]
  },
  {
   "cell_type": "code",
   "execution_count": 50,
   "metadata": {},
   "outputs": [],
   "source": [
    "# Scaling with standard scaler\n",
    "# the fit part method is calculating the mean and the variance of the data\n",
    "# fit_transform applies this to transform all the features in respect to that values\n",
    "# transform applies this to new data in respect to that already learned values, not the new data\n",
    "scaler = StandardScaler()\n",
    "X_train_scaled = scaler.fit_transform(X_train[col_scale])\n",
    "X_test_scaled = scaler.transform(X_test[col_scale])\n",
    "\n",
    "# Concatenating scaled and dummy columns \n",
    "X_train_preprocessed = np.concatenate([X_train_scaled, X_train.drop(col_scale, axis=1)], axis=1)\n",
    "X_test_preprocessed = np.concatenate([X_test_scaled, X_test.drop(col_scale, axis=1)], axis=1)"
   ]
  },
  {
   "cell_type": "code",
   "execution_count": 51,
   "metadata": {},
   "outputs": [],
   "source": [
    "# Scaling with MinMaxScaler\n",
    "from sklearn.preprocessing import MinMaxScaler"
   ]
  },
  {
   "cell_type": "code",
   "execution_count": 52,
   "metadata": {},
   "outputs": [],
   "source": [
    "# Define predictors and target\n",
    "y2 = df_log_reg.target_reached\n",
    "X2 = df_log_reg.drop('target_reached', axis=1)"
   ]
  },
  {
   "cell_type": "code",
   "execution_count": 53,
   "metadata": {},
   "outputs": [],
   "source": [
    "# Train-test-split\n",
    "X2_train, X2_test, y2_train, y2_test = train_test_split(X2, y2, test_size=0.2, random_state=42, stratify=y2)"
   ]
  },
  {
   "cell_type": "code",
   "execution_count": 54,
   "metadata": {},
   "outputs": [],
   "source": [
    "# Scaling with minmax scaler\n",
    "mmscaler = MinMaxScaler()\n",
    "X2_train_scaled = mmscaler.fit_transform(X2_train[col_scale])\n",
    "X2_test_scaled = mmscaler.transform(X2_test[col_scale])"
   ]
  },
  {
   "cell_type": "code",
   "execution_count": 55,
   "metadata": {},
   "outputs": [],
   "source": [
    "# Concatenating scaled and dummy columns\n",
    "X2_train_preprocessed = np.concatenate([X2_train_scaled, X2_train.drop(col_scale, axis=1)], axis=1)\n",
    "X2_test_preprocessed = np.concatenate([X2_test_scaled, X2_test.drop(col_scale, axis=1)], axis=1)"
   ]
  },
  {
   "cell_type": "code",
   "execution_count": 56,
   "metadata": {},
   "outputs": [
    {
     "name": "stdout",
     "output_type": "stream",
     "text": [
      "test                    0              1              2              3  \\\n",
      "count  187484.000000  187484.000000  187484.000000  187484.000000   \n",
      "mean        0.190877       0.005135       0.001124       0.000069   \n",
      "std         0.071388       0.008719       0.004247       0.002321   \n",
      "min         0.000000       0.000000       0.000000       0.000000   \n",
      "25%         0.200000       0.004004       0.000500       0.000019   \n",
      "50%         0.200000       0.004004       0.000750       0.000038   \n",
      "75%         0.200000       0.006006       0.001250       0.000076   \n",
      "max         1.000000       1.000000       1.000000       1.000000   \n",
      "\n",
      "                   4             5             6  \n",
      "count  187484.000000  1.874840e+05  1.874840e+05  \n",
      "mean        0.092821  6.554407e-06  1.088504e+02  \n",
      "std         0.032617  2.328417e-03  3.659137e+03  \n",
      "min         0.000000  0.000000e+00  0.000000e+00  \n",
      "25%         0.071429  1.142000e-07  3.000000e+01  \n",
      "50%         0.107143  2.332000e-07  6.000000e+01  \n",
      "75%         0.116071  4.167000e-07  1.200000e+02  \n",
      "max         1.000000  1.000000e+00  1.576800e+06  \n",
      "---\n",
      "train                   0             1             2             3             4  \\\n",
      "count  46872.000000  46872.000000  46872.000000  46872.000000  46872.000000   \n",
      "mean       0.191624      0.005200      0.001130      0.000063      0.092743   \n",
      "std        0.071194      0.009885      0.003342      0.000203      0.032547   \n",
      "min        0.000000      0.000000      0.000000      0.000000      0.000000   \n",
      "25%        0.200000      0.004004      0.000500      0.000019      0.071429   \n",
      "50%        0.200000      0.004004      0.000750      0.000038      0.107143   \n",
      "75%        0.200000      0.006006      0.001250      0.000076      0.116071   \n",
      "max        1.000000      1.000000      0.288000      0.014269      0.187500   \n",
      "\n",
      "                  5             6  \n",
      "count  4.687200e+04  46872.000000  \n",
      "mean   2.259444e-05    100.462195  \n",
      "std    4.757740e-03    319.507948  \n",
      "min    0.000000e+00      0.000000  \n",
      "25%    1.142000e-07     30.000000  \n",
      "50%    2.332000e-07     60.000000  \n",
      "75%    4.231250e-07    120.000000  \n",
      "max    1.030000e+00  22500.000000  \n"
     ]
    }
   ],
   "source": [
    "print(\"test\", pd.DataFrame(X2_train_preprocessed).describe())\n",
    "print(\"---\")\n",
    "print(\"train\", pd.DataFrame(X2_test_preprocessed).describe())"
   ]
  },
  {
   "cell_type": "code",
   "execution_count": 76,
   "metadata": {},
   "outputs": [
    {
     "name": "stdout",
     "output_type": "stream",
     "text": [
      "Score (unscaled): 0.8346\n"
     ]
    }
   ],
   "source": [
    "# Fit and evaluate model without hyperparameter tuning using cross validation and unscaled data \n",
    "knn_classifier = KNeighborsClassifier()\n",
    "scores = cross_val_score(knn_classifier, X_train, y_train, cv=5, n_jobs=-1)\n",
    "\n",
    "# Evaluation \n",
    "print('Score (unscaled):', round(scores.mean(), 4))"
   ]
  },
  {
   "cell_type": "code",
   "execution_count": 107,
   "metadata": {},
   "outputs": [
    {
     "name": "stderr",
     "output_type": "stream",
     "text": [
      "/opt/homebrew/Caskroom/miniconda/base/envs/nf_sql/lib/python3.9/site-packages/sklearn/linear_model/_logistic.py:814: ConvergenceWarning: lbfgs failed to converge (status=1):\n",
      "STOP: TOTAL NO. of ITERATIONS REACHED LIMIT.\n",
      "\n",
      "Increase the number of iterations (max_iter) or scale the data as shown in:\n",
      "    https://scikit-learn.org/stable/modules/preprocessing.html\n",
      "Please also refer to the documentation for alternative solver options:\n",
      "    https://scikit-learn.org/stable/modules/linear_model.html#logistic-regression\n",
      "  n_iter_i = _check_optimize_result(\n",
      "/opt/homebrew/Caskroom/miniconda/base/envs/nf_sql/lib/python3.9/site-packages/sklearn/linear_model/_logistic.py:814: ConvergenceWarning: lbfgs failed to converge (status=1):\n",
      "STOP: TOTAL NO. of ITERATIONS REACHED LIMIT.\n",
      "\n",
      "Increase the number of iterations (max_iter) or scale the data as shown in:\n",
      "    https://scikit-learn.org/stable/modules/preprocessing.html\n",
      "Please also refer to the documentation for alternative solver options:\n",
      "    https://scikit-learn.org/stable/modules/linear_model.html#logistic-regression\n",
      "  n_iter_i = _check_optimize_result(\n"
     ]
    },
    {
     "name": "stdout",
     "output_type": "stream",
     "text": [
      "Score (unscaled): 0.7859\n"
     ]
    },
    {
     "name": "stderr",
     "output_type": "stream",
     "text": [
      "/opt/homebrew/Caskroom/miniconda/base/envs/nf_sql/lib/python3.9/site-packages/sklearn/linear_model/_logistic.py:814: ConvergenceWarning: lbfgs failed to converge (status=1):\n",
      "STOP: TOTAL NO. of ITERATIONS REACHED LIMIT.\n",
      "\n",
      "Increase the number of iterations (max_iter) or scale the data as shown in:\n",
      "    https://scikit-learn.org/stable/modules/preprocessing.html\n",
      "Please also refer to the documentation for alternative solver options:\n",
      "    https://scikit-learn.org/stable/modules/linear_model.html#logistic-regression\n",
      "  n_iter_i = _check_optimize_result(\n",
      "/opt/homebrew/Caskroom/miniconda/base/envs/nf_sql/lib/python3.9/site-packages/sklearn/linear_model/_logistic.py:814: ConvergenceWarning: lbfgs failed to converge (status=1):\n",
      "STOP: TOTAL NO. of ITERATIONS REACHED LIMIT.\n",
      "\n",
      "Increase the number of iterations (max_iter) or scale the data as shown in:\n",
      "    https://scikit-learn.org/stable/modules/preprocessing.html\n",
      "Please also refer to the documentation for alternative solver options:\n",
      "    https://scikit-learn.org/stable/modules/linear_model.html#logistic-regression\n",
      "  n_iter_i = _check_optimize_result(\n"
     ]
    }
   ],
   "source": [
    "# Fit and evaluate model without hyperparameter tuning using cross validation and unscaled data \n",
    "lr_classifier = LogisticRegression()\n",
    "lr_scores = cross_val_score(lr_classifier, X_train, y_train, cv=5, n_jobs=-1)\n",
    "\n",
    "# Evaluation \n",
    "print('Score (unscaled):', round(lr_scores.mean(), 4))"
   ]
  },
  {
   "cell_type": "code",
   "execution_count": 77,
   "metadata": {},
   "outputs": [
    {
     "data": {
      "image/png": "[encoded data removed]",
      "text/plain": [
       "<Figure size 432x288 with 1 Axes>"
      ]
     },
     "metadata": {
      "needs_background": "light"
     },
     "output_type": "display_data"
    }
   ],
   "source": [
    "# plotting the scores and average score\n",
    "plt.axhline(y=scores.mean(), color='y', linestyle='-')\n",
    "sns.barplot(x=[1,2,3,4,5],y=scores).set_title('Scores of the K-Folds Models - unscaled data');"
   ]
  },
  {
   "cell_type": "code",
   "execution_count": 78,
   "metadata": {},
   "outputs": [
    {
     "name": "stdout",
     "output_type": "stream",
     "text": [
      "Score (scaled): 0.8439\n"
     ]
    }
   ],
   "source": [
    "# Fit and evaluate model using cross validation and scaled data \n",
    "knn_scaled = KNeighborsClassifier()\n",
    "scores_scaled_std = cross_val_score(knn_scaled, X_train_preprocessed, y_train, cv=5, n_jobs=-1)\n",
    "\n",
    "# Evaluation\n",
    "print('Score (scaled):', round(scores_scaled_std.mean(), 4))"
   ]
  },
  {
   "cell_type": "code",
   "execution_count": 108,
   "metadata": {},
   "outputs": [
    {
     "name": "stdout",
     "output_type": "stream",
     "text": [
      "Score (scaled): 0.7484\n"
     ]
    }
   ],
   "source": [
    "# Fit and evaluate model using cross validation and scaled data \n",
    "lr_scaled = LogisticRegression()\n",
    "lr_scores_scaled_std = cross_val_score(lr_scaled, X_train_preprocessed, y_train, cv=5, n_jobs=-1)\n",
    "\n",
    "# Evaluation\n",
    "print('Score (scaled):', round(lr_scores_scaled_std.mean(), 4))"
   ]
  },
  {
   "cell_type": "code",
   "execution_count": 79,
   "metadata": {},
   "outputs": [
    {
     "data": {
      "image/png": "[encoded data removed]",
      "text/plain": [
       "<Figure size 432x288 with 1 Axes>"
      ]
     },
     "metadata": {
      "needs_background": "light"
     },
     "output_type": "display_data"
    }
   ],
   "source": [
    "plt.axhline(y=scores_scaled_std.mean(), color='y', linestyle='-')\n",
    "sns.barplot(x=[1,2,3,4,5],y=scores_scaled_std).set_title('Scores of the K-Folds Models - standardized data');"
   ]
  },
  {
   "cell_type": "code",
   "execution_count": 80,
   "metadata": {},
   "outputs": [
    {
     "name": "stdout",
     "output_type": "stream",
     "text": [
      "Score (scaled): 0.8443\n"
     ]
    },
    {
     "data": {
      "image/png": "[encoded data removed]",
      "text/plain": [
       "<Figure size 432x288 with 1 Axes>"
      ]
     },
     "metadata": {
      "needs_background": "light"
     },
     "output_type": "display_data"
    }
   ],
   "source": [
    "# Fit and evaluate model using cross validation and scaled data \n",
    "knn_scaled = KNeighborsClassifier()\n",
    "scores_scaled_norm = cross_val_score(knn_scaled, X2_train_preprocessed, y_train, cv=5, n_jobs=-1, scoring='accuracy')\n",
    "# If \"scoring\"=None, the estimator’s default scorer (if available) is used.\n",
    "\n",
    "# Evaluation\n",
    "print('Score (scaled):', round(scores_scaled_norm.mean(), 4))\n",
    "\n",
    "plt.axhline(y=scores_scaled_norm.mean(), color='y', linestyle='-')\n",
    "sns.barplot(x=[1,2,3,4, 5],y=scores_scaled_norm).set_title('Scores of the K-Folds Models - standardized data');"
   ]
  },
  {
   "cell_type": "code",
   "execution_count": 109,
   "metadata": {},
   "outputs": [
    {
     "name": "stdout",
     "output_type": "stream",
     "text": [
      "Score (scaled): 0.7413\n"
     ]
    },
    {
     "data": {
      "image/png": "[encoded data removed]",
      "text/plain": [
       "<Figure size 432x288 with 1 Axes>"
      ]
     },
     "metadata": {
      "needs_background": "light"
     },
     "output_type": "display_data"
    }
   ],
   "source": [
    "# Fit and evaluate model using cross validation and scaled data \n",
    "lr_scaled = LogisticRegression()\n",
    "lr_scores_scaled_norm = cross_val_score(lr_scaled, X2_train_preprocessed, y_train, cv=5, n_jobs=-1, scoring='accuracy')\n",
    "# If \"scoring\"=None, the estimator’s default scorer (if available) is used.\n",
    "\n",
    "# Evaluation\n",
    "print('Score (scaled):', round(lr_scores_scaled_norm.mean(), 4))\n",
    "\n",
    "plt.axhline(y=lr_scores_scaled_norm.mean(), color='y', linestyle='-')\n",
    "sns.barplot(x=[1,2,3,4, 5],y=lr_scores_scaled_norm).set_title('Scores of the K-Folds Models - standardized data');"
   ]
  },
  {
   "cell_type": "code",
   "execution_count": 81,
   "metadata": {},
   "outputs": [
    {
     "name": "stdout",
     "output_type": "stream",
     "text": [
      "Score (unscaled): 0.8346\n",
      "Score (scaled, standardized): 0.8439\n",
      "Score (scaled, normalized): 0.8443\n"
     ]
    }
   ],
   "source": [
    "print('Score (unscaled):', round(scores.mean(), 4))\n",
    "print('Score (scaled, standardized):', round(scores_scaled_std.mean(), 4))\n",
    "print('Score (scaled, normalized):', round(scores_scaled_norm.mean(), 4))"
   ]
  },
  {
   "cell_type": "code",
   "execution_count": 110,
   "metadata": {},
   "outputs": [
    {
     "name": "stdout",
     "output_type": "stream",
     "text": [
      "Score (unscaled): 0.7859\n",
      "Score (scaled, standardized): 0.7484\n",
      "Score (scaled, normalized): 0.7413\n"
     ]
    }
   ],
   "source": [
    "print('Score (unscaled):', round(lr_scores.mean(), 4))\n",
    "print('Score (scaled, standardized):', round(lr_scores_scaled_std.mean(), 4))\n",
    "print('Score (scaled, normalized):', round(lr_scores_scaled_norm.mean(), 4))"
   ]
  },
  {
   "cell_type": "code",
   "execution_count": 84,
   "metadata": {},
   "outputs": [
    {
     "data": {
      "text/plain": [
       "{'algorithm': 'auto',\n",
       " 'leaf_size': 30,\n",
       " 'metric': 'minkowski',\n",
       " 'metric_params': None,\n",
       " 'n_jobs': None,\n",
       " 'n_neighbors': 5,\n",
       " 'p': 2,\n",
       " 'weights': 'uniform'}"
      ]
     },
     "execution_count": 84,
     "metadata": {},
     "output_type": "execute_result"
    }
   ],
   "source": [
    "knn_classifier.get_params()#.keys()"
   ]
  },
  {
   "cell_type": "code",
   "execution_count": 112,
   "metadata": {},
   "outputs": [
    {
     "data": {
      "text/plain": [
       "{'C': 1.0,\n",
       " 'class_weight': None,\n",
       " 'dual': False,\n",
       " 'fit_intercept': True,\n",
       " 'intercept_scaling': 1,\n",
       " 'l1_ratio': None,\n",
       " 'max_iter': 100,\n",
       " 'multi_class': 'auto',\n",
       " 'n_jobs': None,\n",
       " 'penalty': 'l2',\n",
       " 'random_state': None,\n",
       " 'solver': 'lbfgs',\n",
       " 'tol': 0.0001,\n",
       " 'verbose': 0,\n",
       " 'warm_start': False}"
      ]
     },
     "execution_count": 112,
     "metadata": {},
     "output_type": "execute_result"
    }
   ],
   "source": [
    "lr_classifier.get_params()"
   ]
  },
  {
   "cell_type": "code",
   "execution_count": 86,
   "metadata": {},
   "outputs": [
    {
     "name": "stdout",
     "output_type": "stream",
     "text": [
      "Fitting 5 folds for each of 12 candidates, totalling 60 fits\n"
     ]
    }
   ],
   "source": [
    "from timeit import default_timer as timer\n",
    "# Defining parameter grid (as dictionary)\n",
    "param_grid = {\"algorithm\" : [\"auto\", \"ball_tree\", \"kd_tree\"],\n",
    "              \"weights\" : [\"uniform\", \"distance\"],\n",
    "              \"p\" : [1, 2]\n",
    "             }\n",
    "\n",
    "# Instantiate gridsearch and define the metric to optimize \n",
    "gs = GridSearchCV(knn_classifier, param_grid, scoring='accuracy',\n",
    "                  cv=5, verbose=1)\n",
    "\n",
    "# Fit gridsearch object to data. Also lets see how long it takes.\n",
    "start = timer()\n",
    "gs.fit(X_train, y_train)\n",
    "end = timer()\n",
    "gs_time = end-start"
   ]
  },
  {
   "cell_type": "code",
   "execution_count": 113,
   "metadata": {},
   "outputs": [
    {
     "name": "stdout",
     "output_type": "stream",
     "text": [
      "Fitting 5 folds for each of 30 candidates, totalling 150 fits\n"
     ]
    }
   ],
   "source": [
    "param_grid = {\"solver\" : [\"lbfgs\", \"liblinear\", \"newton-cg’\", \"sag\", \"saga\"],\n",
    "              \"penalty\" : [\"l2\", \"l1\", \"elasticnet\"],\n",
    "              \"fit_intercept\" : [True, False]\n",
    "             }\n",
    "\n",
    "# Instantiate gridsearch and define the metric to optimize \n",
    "lr_gs = GridSearchCV(lr_classifier, param_grid, scoring='accuracy',\n",
    "                  cv=5, verbose=1)\n",
    "\n",
    "# Fit gridsearch object to data. Also lets see how long it takes.\n",
    "start = timer()\n",
    "lr_gs.fit(X2_train_preprocessed, y_train)\n",
    "end = timer()\n",
    "gs_time = end-start"
   ]
  },
  {
   "cell_type": "code",
   "execution_count": 87,
   "metadata": {},
   "outputs": [
    {
     "name": "stdout",
     "output_type": "stream",
     "text": [
      "Best score: 0.837\n",
      "Score (unscaled): 0.835\n",
      "Best parameters: {'algorithm': 'auto', 'p': 1, 'weights': 'uniform'}\n"
     ]
    }
   ],
   "source": [
    "# Best score\n",
    "print('Best score:', round(gs.best_score_, 3))\n",
    "print('Score (unscaled):', round(scores.mean(), 3))\n",
    "\n",
    "# Best parameters\n",
    "print('Best parameters:', gs.best_params_)"
   ]
  },
  {
   "cell_type": "code",
   "execution_count": 114,
   "metadata": {},
   "outputs": [
    {
     "name": "stdout",
     "output_type": "stream",
     "text": [
      "Best score: 0.751\n",
      "Score (unscaled): 0.786\n",
      "Best parameters: {'fit_intercept': False, 'penalty': 'l1', 'solver': 'liblinear'}\n"
     ]
    }
   ],
   "source": [
    "# Best score\n",
    "print('Best score:', round(lr_gs.best_score_, 3))\n",
    "print('Score (unscaled):', round(lr_scores.mean(), 3))\n",
    "\n",
    "# Best parameters\n",
    "print('Best parameters:', lr_gs.best_params_)"
   ]
  },
  {
   "cell_type": "code",
   "execution_count": 89,
   "metadata": {},
   "outputs": [],
   "source": [
    "def print_pretty_summary(name, model, y_test, y_pred_test):\n",
    "    print(name)\n",
    "    print('=======================')\n",
    "    print('solver: {}'.format(model.solver))\n",
    "    print('fit_intercept: {}'.format(model.fit_intercept))\n",
    "    print('penalty: {}'.format(model.penalty))\n",
    "    accuracy = accuracy_score(y_test, y_pred_test)\n",
    "    print('Test accuracy: {:2f}'.format(accuracy))\n",
    "    return accuracy\n",
    "\n",
    "def print_pretty_summary_knn(name, model, y_test, y_pred_test):\n",
    "    print(name)\n",
    "    print('=======================')\n",
    "    print('algorithm: {}'.format(model.algorithm))\n",
    "    print('weights: {}'.format(model.weights))\n",
    "    print('p: {}'.format(model.p))\n",
    "    accuracy = accuracy_score(y_test, y_pred_test)\n",
    "    print('Test accuracy: {:2f}'.format(accuracy))\n",
    "    return accuracy"
   ]
  },
  {
   "cell_type": "code",
   "execution_count": 117,
   "metadata": {},
   "outputs": [
    {
     "name": "stdout",
     "output_type": "stream",
     "text": [
      "LR Classifier model\n",
      "=======================\n",
      "solver: liblinear\n",
      "fit_intercept: False\n",
      "penalty: l1\n",
      "Test accuracy: 0.747653\n"
     ]
    }
   ],
   "source": [
    "# Assigning the fitted KNNClassifier model with best parameter combination to a new variable knn_best\n",
    "knn_best = gs.best_estimator_\n",
    "\n",
    "lr_best = lr_gs.best_estimator_\n",
    "\n",
    "# Making predictions on the test set\n",
    "y_pred_test_gs_kn = knn_best.predict(X_test)\n",
    "y_pred_test_gs_lr = lr_best.predict(X_test)\n",
    "# Let us print out the performance of our model on the test set.\n",
    "lr_gs_accuracy = print_pretty_summary('LR Classifier model', lr_best, y_test, y_pred_test_gs_lr)"
   ]
  },
  {
   "cell_type": "code",
   "execution_count": 120,
   "metadata": {},
   "outputs": [
    {
     "data": {
      "text/plain": [
       "array([1, 0, 1, ..., 1, 1, 1])"
      ]
     },
     "execution_count": 120,
     "metadata": {},
     "output_type": "execute_result"
    }
   ],
   "source": [
    "y_pred_test_gs_lr"
   ]
  },
  {
   "cell_type": "code",
   "execution_count": 122,
   "metadata": {},
   "outputs": [
    {
     "data": {
      "text/plain": [
       "64530     0\n",
       "217257    1\n",
       "74090     1\n",
       "111755    1\n",
       "56266     0\n",
       "         ..\n",
       "89751     0\n",
       "196971    1\n",
       "140594    1\n",
       "233476    0\n",
       "213639    1\n",
       "Name: target_reached, Length: 46872, dtype: category\n",
       "Categories (2, int64): [0 < 1]"
      ]
     },
     "execution_count": 122,
     "metadata": {},
     "output_type": "execute_result"
    }
   ],
   "source": [
    "y_test"
   ]
  },
  {
   "cell_type": "code",
   "execution_count": 121,
   "metadata": {},
   "outputs": [
    {
     "ename": "TypeError",
     "evalue": "'DataFrame' object is not callable",
     "output_type": "error",
     "traceback": [
      "\u001b[0;31m---------------------------------------------------------------------------\u001b[0m",
      "\u001b[0;31mTypeError\u001b[0m                                 Traceback (most recent call last)",
      "\u001b[1;32m/Users/jannikduda/neuefische/Daily-Lama-Capstone/Logistic_Regression_JD.ipynb Cell 53'\u001b[0m in \u001b[0;36m<cell line: 2>\u001b[0;34m()\u001b[0m\n\u001b[1;32m      <a href='vscode-notebook-cell:/Users/jannikduda/neuefische/Daily-Lama-Capstone/Logistic_Regression_JD.ipynb#ch0000041?line=0'>1</a>\u001b[0m \u001b[39m#Have a look at the confusion matrix below\u001b[39;00m\n\u001b[0;32m----> <a href='vscode-notebook-cell:/Users/jannikduda/neuefische/Daily-Lama-Capstone/Logistic_Regression_JD.ipynb#ch0000041?line=1'>2</a>\u001b[0m confusion_matrix(y_test, y_pred_test_gs_kn)\n",
      "\u001b[0;31mTypeError\u001b[0m: 'DataFrame' object is not callable"
     ]
    }
   ],
   "source": [
    "#Have a look at the confusion matrix below\n",
    "confusion_matrix(y_test, y_pred_test_gs_kn)"
   ]
  },
  {
   "cell_type": "code",
   "execution_count": 123,
   "metadata": {},
   "outputs": [
    {
     "data": {
      "image/png": "[encoded data removed]",
      "text/plain": [
       "<Figure size 432x288 with 2 Axes>"
      ]
     },
     "metadata": {
      "needs_background": "light"
     },
     "output_type": "display_data"
    }
   ],
   "source": [
    "confusion_matrix = pd.crosstab(y_test, y_pred_test_gs_kn, rownames=['Actual'], colnames=['Predicted'])\n",
    "sns.heatmap(confusion_matrix, annot=True);"
   ]
  },
  {
   "cell_type": "code",
   "execution_count": 124,
   "metadata": {},
   "outputs": [
    {
     "data": {
      "image/png": "[encoded data removed]",
      "text/plain": [
       "<Figure size 432x288 with 2 Axes>"
      ]
     },
     "metadata": {
      "needs_background": "light"
     },
     "output_type": "display_data"
    }
   ],
   "source": [
    "confusion_matrix = pd.crosstab(y_test, y_pred_test_gs_lr, rownames=['Actual'], colnames=['Predicted'])\n",
    "sns.heatmap(confusion_matrix, annot=True);"
   ]
  }
 ],
 "metadata": {
  "interpreter": {
   "hash": "a81d278bed5b5b59425dcb5a82ce505657686243c184b4a6b67e69d01c4d432e"
  },
  "kernelspec": {
   "display_name": "Python 3.9.12 ('nf_sql')",
   "language": "python",
   "name": "python3"
  },
  "language_info": {
   "codemirror_mode": {
    "name": "ipython",
    "version": 3
   },
   "file_extension": ".py",
   "mimetype": "text/x-python",
   "name": "python",
   "nbconvert_exporter": "python",
   "pygments_lexer": "ipython3",
   "version": "3.9.12"
  },
  "orig_nbformat": 4
 },
 "nbformat": 4,
 "nbformat_minor": 2
}
